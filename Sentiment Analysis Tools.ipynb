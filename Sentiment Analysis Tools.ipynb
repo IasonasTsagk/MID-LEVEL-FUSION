{
 "cells": [
  {
   "cell_type": "markdown",
   "id": "e3b1482e",
   "metadata": {},
   "source": [
    "**This notebook file provides examples for sentiment classification from text using Sentiment Analysis Tools (TextBlob, VADER, NRCLEX)**"
   ]
  },
  {
   "cell_type": "code",
   "execution_count": 10,
   "id": "15045236",
   "metadata": {},
   "outputs": [
    {
     "name": "stderr",
     "output_type": "stream",
     "text": [
      "[nltk_data] Downloading package vader_lexicon to\n",
      "[nltk_data]     C:\\Users\\P70087271\\AppData\\Roaming\\nltk_data...\n"
     ]
    }
   ],
   "source": [
    "from textblob import TextBlob\n",
    "import nltk\n",
    "nltk.downloader.download('vader_lexicon')\n",
    "from nltk.sentiment.vader import SentimentIntensityAnalyzer\n",
    "from nrclex import NRCLex"
   ]
  },
  {
   "cell_type": "code",
   "execution_count": 3,
   "id": "3fb6953b",
   "metadata": {},
   "outputs": [],
   "source": [
    "texts = [\"The book was a perfect balance between wrtiting style and plot.\",\n",
    "         \"OK but my grade was not that good\",\n",
    "         \"Today is Sunny\",\n",
    "         \"The reports were not normal\",\n",
    "         \"I dislike like the new crime series\"] "
   ]
  },
  {
   "cell_type": "markdown",
   "id": "8916f042",
   "metadata": {},
   "source": [
    "# TextBlob\n",
    "\n",
    "TextBlob returns **polarity** and **subjectivity** of a sentence. Polarity lies between [-1,1], -1 defines a negative sentiment and 1 defines a positive sentiment. Negation words reverse the polarity. TextBlob has semantic labels that help with fine-grained analysis. For example — emoticons, exclamation mark, emojis, etc. \n",
    "\n",
    "Subjectivity lies between [0,1]. Subjectivity quantifies the amount of personal opinion and factual information contained in the text. The higher subjectivity means that the text contains personal opinion rather than factual information. [reference](https://towardsdatascience.com/my-absolute-go-to-for-sentiment-analysis-textblob-3ac3a11d524#:~:text=TextBlob%20is%20a%20simple%20library,classifying%20negative%20and%20positive%20words.) "
   ]
  },
  {
   "cell_type": "code",
   "execution_count": 4,
   "id": "4b1ca1ec",
   "metadata": {},
   "outputs": [
    {
     "name": "stdout",
     "output_type": "stream",
     "text": [
      "[1.0, 1.0]\n",
      "Text1 is a positive sentiment\n",
      "[0.6, 0.55]\n",
      "Text2 is a positive sentiment\n",
      "[0.0, 0.0]\n",
      "Text3 is a neutral sentiment\n",
      "[-0.075, 0.6499999999999999]\n",
      "Text4 is a negative sentiment\n",
      "[0.13636363636363635, 0.45454545454545453]\n",
      "Text5 is a positive sentiment\n"
     ]
    }
   ],
   "source": [
    "for i in range(len(texts)):\n",
    "    \n",
    "    tb = TextBlob(texts[i])\n",
    "    score = tb.sentiment.polarity\n",
    "    s = [tb.sentiment.polarity,tb.sentiment.subjectivity]\n",
    "    print(s)\n",
    "    if score > 0:\n",
    "        print(\"Text\"+str(i+1)+\" is a positive sentiment\")\n",
    "    elif score < 0:\n",
    "        print(\"Text\"+str(i+1)+\" is a negative sentiment\")\n",
    "    else:\n",
    "        print(\"Text\"+str(i+1)+\" is a neutral sentiment\")"
   ]
  },
  {
   "cell_type": "markdown",
   "id": "abf507db",
   "metadata": {},
   "source": [
    "# VADER\n",
    "VADER (Valence Aware Dictionary and sentiment Reasoner) is a lexicon and rule-based sentiment analysis tool that is specifically attuned to sentiments expressed in social media. VADER uses a combination of A sentiment lexicon is a list of lexical features (e.g., words) which are generally labeled according to their semantic orientation as either positive or negative. VADER not only tells about the Positivity and Negativity score but also tells us about how positive or negative a sentiment is. [reference](https://towardsdatascience.com/social-media-sentiment-analysis-in-python-with-vader-no-training-required-4bc6a21e87b8)"
   ]
  },
  {
   "cell_type": "code",
   "execution_count": 11,
   "id": "d4dafc03",
   "metadata": {},
   "outputs": [
    {
     "name": "stdout",
     "output_type": "stream",
     "text": [
      "Overall sentiment dictionary is :  {'neg': 0.0, 'neu': 0.709, 'pos': 0.291, 'compound': 0.5719}\n",
      "Text1 was overall rated as Positive\n",
      "\n",
      "\n",
      "Overall sentiment dictionary is :  {'neg': 0.281, 'neu': 0.542, 'pos': 0.178, 'compound': -0.2829}\n",
      "Text2 was overall rated as Negative\n",
      "\n",
      "\n",
      "Overall sentiment dictionary is :  {'neg': 0.0, 'neu': 0.417, 'pos': 0.583, 'compound': 0.4215}\n",
      "Text3 was overall rated as Positive\n",
      "\n",
      "\n",
      "Overall sentiment dictionary is :  {'neg': 0.0, 'neu': 1.0, 'pos': 0.0, 'compound': 0.0}\n",
      "Text4 was overall rated as Neutral\n",
      "\n",
      "\n",
      "Overall sentiment dictionary is :  {'neg': 0.526, 'neu': 0.259, 'pos': 0.216, 'compound': -0.5574}\n",
      "Text5 was overall rated as Negative\n",
      "\n",
      "\n"
     ]
    }
   ],
   "source": [
    "sid_obj = SentimentIntensityAnalyzer()\n",
    "\n",
    "for i in range(len(texts)):\n",
    "    \n",
    "    sentiment_dict = sid_obj.polarity_scores(texts[i])\n",
    "    print(\"Overall sentiment dictionary is : \", sentiment_dict)\n",
    "    print(\"Text\"+str(i+1)+\" was overall rated as\", end = \" \")\n",
    "\n",
    "    # decide sentiment as positive, negative and neutral\n",
    "    if sentiment_dict['compound'] >= 0.05 :\n",
    "        print(\"Positive\")\n",
    "\n",
    "    elif sentiment_dict['compound'] <= - 0.05 :\n",
    "        print(\"Negative\")\n",
    "\n",
    "    else :\n",
    "        print(\"Neutral\")\n",
    "        \n",
    "    print(\"\\n\")"
   ]
  },
  {
   "cell_type": "markdown",
   "id": "8fd6dca9",
   "metadata": {},
   "source": [
    "# NRCLEX (also EmoLex)\n",
    "NRCLexicon is an MIT-approved pypi project which predicts the sentiments and emotion of a given text. The package contains approximately 27,000 words and is based on the National Research Council Canada (NRC) affect lexicon and the NLTK library’s WordNet synonym sets.\n",
    "\n",
    "Emotional affects measured include the following:\n",
    "1. fear\n",
    "2. anger\n",
    "3. anticipation\n",
    "4. trust\n",
    "5. surprise\n",
    "6. positive\n",
    "7. negative\n",
    "8. sadness\n",
    "9. disgust\n",
    "10. joy\n",
    "\n",
    "[reference](https://pypi.org/project/NRCLex/)"
   ]
  },
  {
   "cell_type": "code",
   "execution_count": 7,
   "id": "75a16bb5",
   "metadata": {},
   "outputs": [
    {
     "name": "stderr",
     "output_type": "stream",
     "text": [
      "[nltk_data] Downloading package punkt to\n",
      "[nltk_data]     C:\\Users\\P70087271\\AppData\\Roaming\\nltk_data...\n",
      "[nltk_data]   Unzipping tokenizers\\punkt.zip.\n"
     ]
    },
    {
     "name": "stdout",
     "output_type": "stream",
     "text": [
      "Top emotions for text1\n",
      "[('positive', 0.4)]\n",
      "\n",
      "\n",
      "Top emotions for text2\n",
      "[('trust', 0.2), ('surprise', 0.2), ('positive', 0.2), ('joy', 0.2), ('anticipation', 0.2)]\n",
      "\n",
      "\n",
      "Top emotions for text3\n",
      "[('fear', 0.0), ('anger', 0.0), ('anticip', 0.0), ('trust', 0.0), ('surprise', 0.0), ('positive', 0.0), ('negative', 0.0), ('sadness', 0.0), ('disgust', 0.0), ('joy', 0.0)]\n",
      "\n",
      "\n",
      "Top emotions for text4\n",
      "[('fear', 0.0), ('anger', 0.0), ('anticip', 0.0), ('trust', 0.0), ('surprise', 0.0), ('positive', 0.0), ('negative', 0.0), ('sadness', 0.0), ('disgust', 0.0), ('joy', 0.0)]\n",
      "\n",
      "\n",
      "Top emotions for text5\n",
      "[('anger', 0.3333333333333333), ('negative', 0.3333333333333333)]\n",
      "\n",
      "\n"
     ]
    }
   ],
   "source": [
    "nltk.download('punkt')\n",
    "\n",
    "for i in range(len(texts)):\n",
    "    \n",
    "    emotion = NRCLex(texts[i])\n",
    "    print(\"Top emotions for text\"+str(i+1))\n",
    "    print(emotion.top_emotions)\n",
    "    print(\"\\n\")"
   ]
  }
 ],
 "metadata": {
  "kernelspec": {
   "display_name": "Python 3 (ipykernel)",
   "language": "python",
   "name": "python3"
  },
  "language_info": {
   "codemirror_mode": {
    "name": "ipython",
    "version": 3
   },
   "file_extension": ".py",
   "mimetype": "text/x-python",
   "name": "python",
   "nbconvert_exporter": "python",
   "pygments_lexer": "ipython3",
   "version": "3.9.13"
  }
 },
 "nbformat": 4,
 "nbformat_minor": 5
}
