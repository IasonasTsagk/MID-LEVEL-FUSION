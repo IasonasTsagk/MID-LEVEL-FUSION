{
 "cells": [
  {
   "cell_type": "code",
   "execution_count": 1,
   "metadata": {
    "ExecuteTime": {
     "end_time": "2023-03-27T18:53:13.169640Z",
     "start_time": "2023-03-27T18:53:11.710383Z"
    }
   },
   "outputs": [],
   "source": [
    "import pandas as pd\n",
    "import numpy as np\n",
    "from sklearn.model_selection import train_test_split\n",
    "from sklearn.ensemble import RandomForestClassifier, AdaBoostClassifier\n",
    "from sklearn.linear_model import LogisticRegression\n",
    "from sklearn.neural_network import MLPClassifier\n",
    "\n",
    "\n",
    "from sklearn.metrics import confusion_matrix\n",
    "from sklearn.metrics import accuracy_score,f1_score,roc_auc_score\n",
    "\n",
    "import warnings\n",
    "warnings.filterwarnings(\"ignore\")\n"
   ]
  },
  {
   "cell_type": "code",
   "execution_count": 2,
   "metadata": {
    "ExecuteTime": {
     "end_time": "2023-03-27T18:53:13.231652Z",
     "start_time": "2023-03-27T18:53:13.171140Z"
    }
   },
   "outputs": [
    {
     "data": {
      "text/plain": "     Expert 1  Expert 2  Expert 3  Expert 4   nir_mean  nir_median  nir_stdev  \\\n0           4         4         4         4  37.554685        34.0  13.459041   \n1           1         1         1         1  60.327510        46.0  36.801379   \n2           1         1         1         1  58.813832        44.0  37.958030   \n3           4         4         3         3  84.551197        46.0  68.811036   \n4           3         1         1         1  62.046977        45.0  42.304119   \n..        ...       ...       ...       ...        ...         ...        ...   \n989         1         1         1         1  60.908476        37.0  49.117656   \n990         1         1         1         1  65.389568        44.0  47.992251   \n991         1         1         1         1  68.491876        43.0  51.960883   \n992         2         3         3         3  73.719007        47.0  52.950624   \n993         3         3         3         3  64.519922        45.0  45.232740   \n\n        area  convex_hull_area  solidity  ...  nir_frequencies210  \\\n0     3191.0            4068.0  0.784415  ...                   0   \n1    45052.0          178591.0  0.252264  ...                   0   \n2    47715.0          148611.0  0.321073  ...                   0   \n3     5303.0            5899.5  0.898890  ...                   0   \n4    62094.0          203417.0  0.305255  ...                   0   \n..       ...               ...       ...  ...                 ...   \n989  95538.0          245156.5  0.389702  ...                   0   \n990  80217.0          206081.5  0.389249  ...                   0   \n991  75767.0          139274.5  0.544012  ...                   0   \n992  31620.0           77629.5  0.407319  ...                   0   \n993  19878.0           57668.0  0.344697  ...                   0   \n\n     nir_frequencies211  nir_frequencies212  nir_frequencies213  \\\n0                     0                   0                   0   \n1                     0                   0                   0   \n2                     0                   0                   0   \n3                     0                   0                   0   \n4                     0                   0                   0   \n..                  ...                 ...                 ...   \n989                   0                   0                   0   \n990                   0                   0                   0   \n991                   0                   0                   0   \n992                   0                   0                   0   \n993                   0                   0                   0   \n\n     nir_frequencies214  nir_frequencies216  center_of_mass0  center_of_mass1  \\\n0                     0                   0       661.206518       716.185208   \n1                     0                   0       707.989257       478.745161   \n2                     0                   0       658.262161       444.421042   \n3                     0                   0       684.715067       715.408637   \n4                     0                   0       820.912020       431.798499   \n..                  ...                 ...              ...              ...   \n989                   0                   0       917.996043       424.606649   \n990                   0                   0       878.042958       358.853310   \n991                   0                   0       710.262291       451.283791   \n992                   0                   0       741.120936       529.499273   \n993                   0                   0       776.597394       597.696800   \n\n     ellipse_center0  ellipse_center1  \n0         672.862244       714.586426  \n1         714.550110       528.597351  \n2         576.378296       500.127045  \n3         682.368225       714.712585  \n4         815.368896       505.041443  \n..               ...              ...  \n989       854.520020       449.581421  \n990       848.194763       429.562134  \n991       719.425110       465.478058  \n992       724.179016       539.669312  \n993       773.558167       609.145569  \n\n[988 rows x 228 columns]",
      "text/html": "<div>\n<style scoped>\n    .dataframe tbody tr th:only-of-type {\n        vertical-align: middle;\n    }\n\n    .dataframe tbody tr th {\n        vertical-align: top;\n    }\n\n    .dataframe thead th {\n        text-align: right;\n    }\n</style>\n<table border=\"1\" class=\"dataframe\">\n  <thead>\n    <tr style=\"text-align: right;\">\n      <th></th>\n      <th>Expert 1</th>\n      <th>Expert 2</th>\n      <th>Expert 3</th>\n      <th>Expert 4</th>\n      <th>nir_mean</th>\n      <th>nir_median</th>\n      <th>nir_stdev</th>\n      <th>area</th>\n      <th>convex_hull_area</th>\n      <th>solidity</th>\n      <th>...</th>\n      <th>nir_frequencies210</th>\n      <th>nir_frequencies211</th>\n      <th>nir_frequencies212</th>\n      <th>nir_frequencies213</th>\n      <th>nir_frequencies214</th>\n      <th>nir_frequencies216</th>\n      <th>center_of_mass0</th>\n      <th>center_of_mass1</th>\n      <th>ellipse_center0</th>\n      <th>ellipse_center1</th>\n    </tr>\n  </thead>\n  <tbody>\n    <tr>\n      <th>0</th>\n      <td>4</td>\n      <td>4</td>\n      <td>4</td>\n      <td>4</td>\n      <td>37.554685</td>\n      <td>34.0</td>\n      <td>13.459041</td>\n      <td>3191.0</td>\n      <td>4068.0</td>\n      <td>0.784415</td>\n      <td>...</td>\n      <td>0</td>\n      <td>0</td>\n      <td>0</td>\n      <td>0</td>\n      <td>0</td>\n      <td>0</td>\n      <td>661.206518</td>\n      <td>716.185208</td>\n      <td>672.862244</td>\n      <td>714.586426</td>\n    </tr>\n    <tr>\n      <th>1</th>\n      <td>1</td>\n      <td>1</td>\n      <td>1</td>\n      <td>1</td>\n      <td>60.327510</td>\n      <td>46.0</td>\n      <td>36.801379</td>\n      <td>45052.0</td>\n      <td>178591.0</td>\n      <td>0.252264</td>\n      <td>...</td>\n      <td>0</td>\n      <td>0</td>\n      <td>0</td>\n      <td>0</td>\n      <td>0</td>\n      <td>0</td>\n      <td>707.989257</td>\n      <td>478.745161</td>\n      <td>714.550110</td>\n      <td>528.597351</td>\n    </tr>\n    <tr>\n      <th>2</th>\n      <td>1</td>\n      <td>1</td>\n      <td>1</td>\n      <td>1</td>\n      <td>58.813832</td>\n      <td>44.0</td>\n      <td>37.958030</td>\n      <td>47715.0</td>\n      <td>148611.0</td>\n      <td>0.321073</td>\n      <td>...</td>\n      <td>0</td>\n      <td>0</td>\n      <td>0</td>\n      <td>0</td>\n      <td>0</td>\n      <td>0</td>\n      <td>658.262161</td>\n      <td>444.421042</td>\n      <td>576.378296</td>\n      <td>500.127045</td>\n    </tr>\n    <tr>\n      <th>3</th>\n      <td>4</td>\n      <td>4</td>\n      <td>3</td>\n      <td>3</td>\n      <td>84.551197</td>\n      <td>46.0</td>\n      <td>68.811036</td>\n      <td>5303.0</td>\n      <td>5899.5</td>\n      <td>0.898890</td>\n      <td>...</td>\n      <td>0</td>\n      <td>0</td>\n      <td>0</td>\n      <td>0</td>\n      <td>0</td>\n      <td>0</td>\n      <td>684.715067</td>\n      <td>715.408637</td>\n      <td>682.368225</td>\n      <td>714.712585</td>\n    </tr>\n    <tr>\n      <th>4</th>\n      <td>3</td>\n      <td>1</td>\n      <td>1</td>\n      <td>1</td>\n      <td>62.046977</td>\n      <td>45.0</td>\n      <td>42.304119</td>\n      <td>62094.0</td>\n      <td>203417.0</td>\n      <td>0.305255</td>\n      <td>...</td>\n      <td>0</td>\n      <td>0</td>\n      <td>0</td>\n      <td>0</td>\n      <td>0</td>\n      <td>0</td>\n      <td>820.912020</td>\n      <td>431.798499</td>\n      <td>815.368896</td>\n      <td>505.041443</td>\n    </tr>\n    <tr>\n      <th>...</th>\n      <td>...</td>\n      <td>...</td>\n      <td>...</td>\n      <td>...</td>\n      <td>...</td>\n      <td>...</td>\n      <td>...</td>\n      <td>...</td>\n      <td>...</td>\n      <td>...</td>\n      <td>...</td>\n      <td>...</td>\n      <td>...</td>\n      <td>...</td>\n      <td>...</td>\n      <td>...</td>\n      <td>...</td>\n      <td>...</td>\n      <td>...</td>\n      <td>...</td>\n      <td>...</td>\n    </tr>\n    <tr>\n      <th>989</th>\n      <td>1</td>\n      <td>1</td>\n      <td>1</td>\n      <td>1</td>\n      <td>60.908476</td>\n      <td>37.0</td>\n      <td>49.117656</td>\n      <td>95538.0</td>\n      <td>245156.5</td>\n      <td>0.389702</td>\n      <td>...</td>\n      <td>0</td>\n      <td>0</td>\n      <td>0</td>\n      <td>0</td>\n      <td>0</td>\n      <td>0</td>\n      <td>917.996043</td>\n      <td>424.606649</td>\n      <td>854.520020</td>\n      <td>449.581421</td>\n    </tr>\n    <tr>\n      <th>990</th>\n      <td>1</td>\n      <td>1</td>\n      <td>1</td>\n      <td>1</td>\n      <td>65.389568</td>\n      <td>44.0</td>\n      <td>47.992251</td>\n      <td>80217.0</td>\n      <td>206081.5</td>\n      <td>0.389249</td>\n      <td>...</td>\n      <td>0</td>\n      <td>0</td>\n      <td>0</td>\n      <td>0</td>\n      <td>0</td>\n      <td>0</td>\n      <td>878.042958</td>\n      <td>358.853310</td>\n      <td>848.194763</td>\n      <td>429.562134</td>\n    </tr>\n    <tr>\n      <th>991</th>\n      <td>1</td>\n      <td>1</td>\n      <td>1</td>\n      <td>1</td>\n      <td>68.491876</td>\n      <td>43.0</td>\n      <td>51.960883</td>\n      <td>75767.0</td>\n      <td>139274.5</td>\n      <td>0.544012</td>\n      <td>...</td>\n      <td>0</td>\n      <td>0</td>\n      <td>0</td>\n      <td>0</td>\n      <td>0</td>\n      <td>0</td>\n      <td>710.262291</td>\n      <td>451.283791</td>\n      <td>719.425110</td>\n      <td>465.478058</td>\n    </tr>\n    <tr>\n      <th>992</th>\n      <td>2</td>\n      <td>3</td>\n      <td>3</td>\n      <td>3</td>\n      <td>73.719007</td>\n      <td>47.0</td>\n      <td>52.950624</td>\n      <td>31620.0</td>\n      <td>77629.5</td>\n      <td>0.407319</td>\n      <td>...</td>\n      <td>0</td>\n      <td>0</td>\n      <td>0</td>\n      <td>0</td>\n      <td>0</td>\n      <td>0</td>\n      <td>741.120936</td>\n      <td>529.499273</td>\n      <td>724.179016</td>\n      <td>539.669312</td>\n    </tr>\n    <tr>\n      <th>993</th>\n      <td>3</td>\n      <td>3</td>\n      <td>3</td>\n      <td>3</td>\n      <td>64.519922</td>\n      <td>45.0</td>\n      <td>45.232740</td>\n      <td>19878.0</td>\n      <td>57668.0</td>\n      <td>0.344697</td>\n      <td>...</td>\n      <td>0</td>\n      <td>0</td>\n      <td>0</td>\n      <td>0</td>\n      <td>0</td>\n      <td>0</td>\n      <td>776.597394</td>\n      <td>597.696800</td>\n      <td>773.558167</td>\n      <td>609.145569</td>\n    </tr>\n  </tbody>\n</table>\n<p>988 rows × 228 columns</p>\n</div>"
     },
     "execution_count": 2,
     "metadata": {},
     "output_type": "execute_result"
    }
   ],
   "source": [
    "df_bw = pd.read_csv('Grayscale_Features_Cleaned.csv',index_col = 0)\n",
    "df_bw"
   ]
  },
  {
   "cell_type": "code",
   "execution_count": 3,
   "metadata": {
    "ExecuteTime": {
     "end_time": "2023-03-27T18:53:13.262656Z",
     "start_time": "2023-03-27T18:53:13.236654Z"
    }
   },
   "outputs": [
    {
     "data": {
      "text/plain": "     Expert 1  Expert 2  Expert 3  Expert 4   nir_mean  nir_median  nir_stdev  \\\n0           4         4         4         4  37.554685        34.0  13.459041   \n1           1         1         1         1  60.327510        46.0  36.801379   \n2           1         1         1         1  58.813832        44.0  37.958030   \n3           4         4         3         3  84.551197        46.0  68.811036   \n4           3         1         1         1  62.046977        45.0  42.304119   \n..        ...       ...       ...       ...        ...         ...        ...   \n983         1         1         1         1  60.908476        37.0  49.117656   \n984         1         1         1         1  65.389568        44.0  47.992251   \n985         1         1         1         1  68.491876        43.0  51.960883   \n986         2         3         3         3  73.719007        47.0  52.950624   \n987         3         3         3         3  64.519922        45.0  45.232740   \n\n        area  convex_hull_area  solidity  ...  nir_frequencies210  \\\n0     3191.0            4068.0  0.784415  ...                   0   \n1    45052.0          178591.0  0.252264  ...                   0   \n2    47715.0          148611.0  0.321073  ...                   0   \n3     5303.0            5899.5  0.898890  ...                   0   \n4    62094.0          203417.0  0.305255  ...                   0   \n..       ...               ...       ...  ...                 ...   \n983  95538.0          245156.5  0.389702  ...                   0   \n984  80217.0          206081.5  0.389249  ...                   0   \n985  75767.0          139274.5  0.544012  ...                   0   \n986  31620.0           77629.5  0.407319  ...                   0   \n987  19878.0           57668.0  0.344697  ...                   0   \n\n     nir_frequencies211  nir_frequencies212  nir_frequencies213  \\\n0                     0                   0                   0   \n1                     0                   0                   0   \n2                     0                   0                   0   \n3                     0                   0                   0   \n4                     0                   0                   0   \n..                  ...                 ...                 ...   \n983                   0                   0                   0   \n984                   0                   0                   0   \n985                   0                   0                   0   \n986                   0                   0                   0   \n987                   0                   0                   0   \n\n     nir_frequencies214  nir_frequencies216  center_of_mass0  center_of_mass1  \\\n0                     0                   0       661.206518       716.185208   \n1                     0                   0       707.989257       478.745161   \n2                     0                   0       658.262161       444.421042   \n3                     0                   0       684.715067       715.408637   \n4                     0                   0       820.912020       431.798499   \n..                  ...                 ...              ...              ...   \n983                   0                   0       917.996043       424.606649   \n984                   0                   0       878.042958       358.853310   \n985                   0                   0       710.262291       451.283791   \n986                   0                   0       741.120936       529.499273   \n987                   0                   0       776.597394       597.696800   \n\n     ellipse_center0  ellipse_center1  \n0         672.862244       714.586426  \n1         714.550110       528.597351  \n2         576.378296       500.127045  \n3         682.368225       714.712585  \n4         815.368896       505.041443  \n..               ...              ...  \n983       854.520020       449.581421  \n984       848.194763       429.562134  \n985       719.425110       465.478058  \n986       724.179016       539.669312  \n987       773.558167       609.145569  \n\n[988 rows x 228 columns]",
      "text/html": "<div>\n<style scoped>\n    .dataframe tbody tr th:only-of-type {\n        vertical-align: middle;\n    }\n\n    .dataframe tbody tr th {\n        vertical-align: top;\n    }\n\n    .dataframe thead th {\n        text-align: right;\n    }\n</style>\n<table border=\"1\" class=\"dataframe\">\n  <thead>\n    <tr style=\"text-align: right;\">\n      <th></th>\n      <th>Expert 1</th>\n      <th>Expert 2</th>\n      <th>Expert 3</th>\n      <th>Expert 4</th>\n      <th>nir_mean</th>\n      <th>nir_median</th>\n      <th>nir_stdev</th>\n      <th>area</th>\n      <th>convex_hull_area</th>\n      <th>solidity</th>\n      <th>...</th>\n      <th>nir_frequencies210</th>\n      <th>nir_frequencies211</th>\n      <th>nir_frequencies212</th>\n      <th>nir_frequencies213</th>\n      <th>nir_frequencies214</th>\n      <th>nir_frequencies216</th>\n      <th>center_of_mass0</th>\n      <th>center_of_mass1</th>\n      <th>ellipse_center0</th>\n      <th>ellipse_center1</th>\n    </tr>\n  </thead>\n  <tbody>\n    <tr>\n      <th>0</th>\n      <td>4</td>\n      <td>4</td>\n      <td>4</td>\n      <td>4</td>\n      <td>37.554685</td>\n      <td>34.0</td>\n      <td>13.459041</td>\n      <td>3191.0</td>\n      <td>4068.0</td>\n      <td>0.784415</td>\n      <td>...</td>\n      <td>0</td>\n      <td>0</td>\n      <td>0</td>\n      <td>0</td>\n      <td>0</td>\n      <td>0</td>\n      <td>661.206518</td>\n      <td>716.185208</td>\n      <td>672.862244</td>\n      <td>714.586426</td>\n    </tr>\n    <tr>\n      <th>1</th>\n      <td>1</td>\n      <td>1</td>\n      <td>1</td>\n      <td>1</td>\n      <td>60.327510</td>\n      <td>46.0</td>\n      <td>36.801379</td>\n      <td>45052.0</td>\n      <td>178591.0</td>\n      <td>0.252264</td>\n      <td>...</td>\n      <td>0</td>\n      <td>0</td>\n      <td>0</td>\n      <td>0</td>\n      <td>0</td>\n      <td>0</td>\n      <td>707.989257</td>\n      <td>478.745161</td>\n      <td>714.550110</td>\n      <td>528.597351</td>\n    </tr>\n    <tr>\n      <th>2</th>\n      <td>1</td>\n      <td>1</td>\n      <td>1</td>\n      <td>1</td>\n      <td>58.813832</td>\n      <td>44.0</td>\n      <td>37.958030</td>\n      <td>47715.0</td>\n      <td>148611.0</td>\n      <td>0.321073</td>\n      <td>...</td>\n      <td>0</td>\n      <td>0</td>\n      <td>0</td>\n      <td>0</td>\n      <td>0</td>\n      <td>0</td>\n      <td>658.262161</td>\n      <td>444.421042</td>\n      <td>576.378296</td>\n      <td>500.127045</td>\n    </tr>\n    <tr>\n      <th>3</th>\n      <td>4</td>\n      <td>4</td>\n      <td>3</td>\n      <td>3</td>\n      <td>84.551197</td>\n      <td>46.0</td>\n      <td>68.811036</td>\n      <td>5303.0</td>\n      <td>5899.5</td>\n      <td>0.898890</td>\n      <td>...</td>\n      <td>0</td>\n      <td>0</td>\n      <td>0</td>\n      <td>0</td>\n      <td>0</td>\n      <td>0</td>\n      <td>684.715067</td>\n      <td>715.408637</td>\n      <td>682.368225</td>\n      <td>714.712585</td>\n    </tr>\n    <tr>\n      <th>4</th>\n      <td>3</td>\n      <td>1</td>\n      <td>1</td>\n      <td>1</td>\n      <td>62.046977</td>\n      <td>45.0</td>\n      <td>42.304119</td>\n      <td>62094.0</td>\n      <td>203417.0</td>\n      <td>0.305255</td>\n      <td>...</td>\n      <td>0</td>\n      <td>0</td>\n      <td>0</td>\n      <td>0</td>\n      <td>0</td>\n      <td>0</td>\n      <td>820.912020</td>\n      <td>431.798499</td>\n      <td>815.368896</td>\n      <td>505.041443</td>\n    </tr>\n    <tr>\n      <th>...</th>\n      <td>...</td>\n      <td>...</td>\n      <td>...</td>\n      <td>...</td>\n      <td>...</td>\n      <td>...</td>\n      <td>...</td>\n      <td>...</td>\n      <td>...</td>\n      <td>...</td>\n      <td>...</td>\n      <td>...</td>\n      <td>...</td>\n      <td>...</td>\n      <td>...</td>\n      <td>...</td>\n      <td>...</td>\n      <td>...</td>\n      <td>...</td>\n      <td>...</td>\n      <td>...</td>\n    </tr>\n    <tr>\n      <th>983</th>\n      <td>1</td>\n      <td>1</td>\n      <td>1</td>\n      <td>1</td>\n      <td>60.908476</td>\n      <td>37.0</td>\n      <td>49.117656</td>\n      <td>95538.0</td>\n      <td>245156.5</td>\n      <td>0.389702</td>\n      <td>...</td>\n      <td>0</td>\n      <td>0</td>\n      <td>0</td>\n      <td>0</td>\n      <td>0</td>\n      <td>0</td>\n      <td>917.996043</td>\n      <td>424.606649</td>\n      <td>854.520020</td>\n      <td>449.581421</td>\n    </tr>\n    <tr>\n      <th>984</th>\n      <td>1</td>\n      <td>1</td>\n      <td>1</td>\n      <td>1</td>\n      <td>65.389568</td>\n      <td>44.0</td>\n      <td>47.992251</td>\n      <td>80217.0</td>\n      <td>206081.5</td>\n      <td>0.389249</td>\n      <td>...</td>\n      <td>0</td>\n      <td>0</td>\n      <td>0</td>\n      <td>0</td>\n      <td>0</td>\n      <td>0</td>\n      <td>878.042958</td>\n      <td>358.853310</td>\n      <td>848.194763</td>\n      <td>429.562134</td>\n    </tr>\n    <tr>\n      <th>985</th>\n      <td>1</td>\n      <td>1</td>\n      <td>1</td>\n      <td>1</td>\n      <td>68.491876</td>\n      <td>43.0</td>\n      <td>51.960883</td>\n      <td>75767.0</td>\n      <td>139274.5</td>\n      <td>0.544012</td>\n      <td>...</td>\n      <td>0</td>\n      <td>0</td>\n      <td>0</td>\n      <td>0</td>\n      <td>0</td>\n      <td>0</td>\n      <td>710.262291</td>\n      <td>451.283791</td>\n      <td>719.425110</td>\n      <td>465.478058</td>\n    </tr>\n    <tr>\n      <th>986</th>\n      <td>2</td>\n      <td>3</td>\n      <td>3</td>\n      <td>3</td>\n      <td>73.719007</td>\n      <td>47.0</td>\n      <td>52.950624</td>\n      <td>31620.0</td>\n      <td>77629.5</td>\n      <td>0.407319</td>\n      <td>...</td>\n      <td>0</td>\n      <td>0</td>\n      <td>0</td>\n      <td>0</td>\n      <td>0</td>\n      <td>0</td>\n      <td>741.120936</td>\n      <td>529.499273</td>\n      <td>724.179016</td>\n      <td>539.669312</td>\n    </tr>\n    <tr>\n      <th>987</th>\n      <td>3</td>\n      <td>3</td>\n      <td>3</td>\n      <td>3</td>\n      <td>64.519922</td>\n      <td>45.0</td>\n      <td>45.232740</td>\n      <td>19878.0</td>\n      <td>57668.0</td>\n      <td>0.344697</td>\n      <td>...</td>\n      <td>0</td>\n      <td>0</td>\n      <td>0</td>\n      <td>0</td>\n      <td>0</td>\n      <td>0</td>\n      <td>776.597394</td>\n      <td>597.696800</td>\n      <td>773.558167</td>\n      <td>609.145569</td>\n    </tr>\n  </tbody>\n</table>\n<p>988 rows × 228 columns</p>\n</div>"
     },
     "execution_count": 3,
     "metadata": {},
     "output_type": "execute_result"
    }
   ],
   "source": [
    "df_bw = df_bw.reset_index(drop=True)\n",
    "df_bw"
   ]
  },
  {
   "cell_type": "code",
   "execution_count": 4,
   "metadata": {
    "ExecuteTime": {
     "end_time": "2023-03-27T18:53:13.526202Z",
     "start_time": "2023-03-27T18:53:13.265657Z"
    }
   },
   "outputs": [
    {
     "data": {
      "text/plain": "     Expert 1  Expert 2  Expert 3  Expert 4  in_bounds    area  \\\n0           4         4         4         4       True    4122   \n1           1         1         1         1       True  106815   \n2           1         1         1         1      False   95816   \n3           4         4         3         3       True    7352   \n4           3         1         1         1      False  112481   \n..        ...       ...       ...       ...        ...     ...   \n989         1         1         1         1       True   38105   \n990         1         1         1         1      False   54355   \n991         1         1         1         1       True   96430   \n992         2         3         3         3       True   43339   \n993         3         3         3         3       True   13149   \n\n     convex_hull_area  solidity    perimeter  width  ...  right_lmk10_0  \\\n0              7526.5  0.547665   855.376759     58  ...            656   \n1            238795.0  0.447308  7549.374280    657  ...            855   \n2            250929.5  0.381844  5987.102579    499  ...            860   \n3             15247.5  0.482177   961.702660    129  ...            679   \n4            274431.5  0.409869  8987.696288    792  ...           1163   \n..                ...       ...          ...    ...  ...            ...   \n989          292126.5  0.130440  6934.326290    651  ...           1052   \n990          293035.0  0.185490  9396.734771    622  ...           1211   \n991          283814.5  0.339764  8379.704644    612  ...            673   \n992          137721.5  0.314686  5023.535268    548  ...            987   \n993           71605.5  0.183631  2837.979535    415  ...            683   \n\n     right_lmk10_1  right_lmk12_0  right_lmk12_1  right_lmk14_0  \\\n0              450            674            466            670   \n1              386            889            440            794   \n2              564            921            638            938   \n3              471            684            491            690   \n4              360           1182            412           1278   \n..             ...            ...            ...            ...   \n989            430           1119            496           1168   \n990            304           1106            362           1111   \n991            395           1061            459           1103   \n992            334           1038            376           1068   \n993            368            657            408            652   \n\n     right_lmk14_1  right_lmk16_0  right_lmk16_1  right_lmk18_0  right_lmk18_1  \n0              482            665            498            671            514  \n1              494            731            548            702            602  \n2              712            924            786            881            860  \n3              511            688            531            726            551  \n4              464           1279            516           1046            568  \n..             ...            ...            ...            ...            ...  \n989            562           1178            628           1144            694  \n990            420           1144            478           1108            536  \n991            523           1121            587           1122            651  \n992            418            644            460            662            502  \n993            448            657            488            666            528  \n\n[994 rows x 1154 columns]",
      "text/html": "<div>\n<style scoped>\n    .dataframe tbody tr th:only-of-type {\n        vertical-align: middle;\n    }\n\n    .dataframe tbody tr th {\n        vertical-align: top;\n    }\n\n    .dataframe thead th {\n        text-align: right;\n    }\n</style>\n<table border=\"1\" class=\"dataframe\">\n  <thead>\n    <tr style=\"text-align: right;\">\n      <th></th>\n      <th>Expert 1</th>\n      <th>Expert 2</th>\n      <th>Expert 3</th>\n      <th>Expert 4</th>\n      <th>in_bounds</th>\n      <th>area</th>\n      <th>convex_hull_area</th>\n      <th>solidity</th>\n      <th>perimeter</th>\n      <th>width</th>\n      <th>...</th>\n      <th>right_lmk10_0</th>\n      <th>right_lmk10_1</th>\n      <th>right_lmk12_0</th>\n      <th>right_lmk12_1</th>\n      <th>right_lmk14_0</th>\n      <th>right_lmk14_1</th>\n      <th>right_lmk16_0</th>\n      <th>right_lmk16_1</th>\n      <th>right_lmk18_0</th>\n      <th>right_lmk18_1</th>\n    </tr>\n  </thead>\n  <tbody>\n    <tr>\n      <th>0</th>\n      <td>4</td>\n      <td>4</td>\n      <td>4</td>\n      <td>4</td>\n      <td>True</td>\n      <td>4122</td>\n      <td>7526.5</td>\n      <td>0.547665</td>\n      <td>855.376759</td>\n      <td>58</td>\n      <td>...</td>\n      <td>656</td>\n      <td>450</td>\n      <td>674</td>\n      <td>466</td>\n      <td>670</td>\n      <td>482</td>\n      <td>665</td>\n      <td>498</td>\n      <td>671</td>\n      <td>514</td>\n    </tr>\n    <tr>\n      <th>1</th>\n      <td>1</td>\n      <td>1</td>\n      <td>1</td>\n      <td>1</td>\n      <td>True</td>\n      <td>106815</td>\n      <td>238795.0</td>\n      <td>0.447308</td>\n      <td>7549.374280</td>\n      <td>657</td>\n      <td>...</td>\n      <td>855</td>\n      <td>386</td>\n      <td>889</td>\n      <td>440</td>\n      <td>794</td>\n      <td>494</td>\n      <td>731</td>\n      <td>548</td>\n      <td>702</td>\n      <td>602</td>\n    </tr>\n    <tr>\n      <th>2</th>\n      <td>1</td>\n      <td>1</td>\n      <td>1</td>\n      <td>1</td>\n      <td>False</td>\n      <td>95816</td>\n      <td>250929.5</td>\n      <td>0.381844</td>\n      <td>5987.102579</td>\n      <td>499</td>\n      <td>...</td>\n      <td>860</td>\n      <td>564</td>\n      <td>921</td>\n      <td>638</td>\n      <td>938</td>\n      <td>712</td>\n      <td>924</td>\n      <td>786</td>\n      <td>881</td>\n      <td>860</td>\n    </tr>\n    <tr>\n      <th>3</th>\n      <td>4</td>\n      <td>4</td>\n      <td>3</td>\n      <td>3</td>\n      <td>True</td>\n      <td>7352</td>\n      <td>15247.5</td>\n      <td>0.482177</td>\n      <td>961.702660</td>\n      <td>129</td>\n      <td>...</td>\n      <td>679</td>\n      <td>471</td>\n      <td>684</td>\n      <td>491</td>\n      <td>690</td>\n      <td>511</td>\n      <td>688</td>\n      <td>531</td>\n      <td>726</td>\n      <td>551</td>\n    </tr>\n    <tr>\n      <th>4</th>\n      <td>3</td>\n      <td>1</td>\n      <td>1</td>\n      <td>1</td>\n      <td>False</td>\n      <td>112481</td>\n      <td>274431.5</td>\n      <td>0.409869</td>\n      <td>8987.696288</td>\n      <td>792</td>\n      <td>...</td>\n      <td>1163</td>\n      <td>360</td>\n      <td>1182</td>\n      <td>412</td>\n      <td>1278</td>\n      <td>464</td>\n      <td>1279</td>\n      <td>516</td>\n      <td>1046</td>\n      <td>568</td>\n    </tr>\n    <tr>\n      <th>...</th>\n      <td>...</td>\n      <td>...</td>\n      <td>...</td>\n      <td>...</td>\n      <td>...</td>\n      <td>...</td>\n      <td>...</td>\n      <td>...</td>\n      <td>...</td>\n      <td>...</td>\n      <td>...</td>\n      <td>...</td>\n      <td>...</td>\n      <td>...</td>\n      <td>...</td>\n      <td>...</td>\n      <td>...</td>\n      <td>...</td>\n      <td>...</td>\n      <td>...</td>\n      <td>...</td>\n    </tr>\n    <tr>\n      <th>989</th>\n      <td>1</td>\n      <td>1</td>\n      <td>1</td>\n      <td>1</td>\n      <td>True</td>\n      <td>38105</td>\n      <td>292126.5</td>\n      <td>0.130440</td>\n      <td>6934.326290</td>\n      <td>651</td>\n      <td>...</td>\n      <td>1052</td>\n      <td>430</td>\n      <td>1119</td>\n      <td>496</td>\n      <td>1168</td>\n      <td>562</td>\n      <td>1178</td>\n      <td>628</td>\n      <td>1144</td>\n      <td>694</td>\n    </tr>\n    <tr>\n      <th>990</th>\n      <td>1</td>\n      <td>1</td>\n      <td>1</td>\n      <td>1</td>\n      <td>False</td>\n      <td>54355</td>\n      <td>293035.0</td>\n      <td>0.185490</td>\n      <td>9396.734771</td>\n      <td>622</td>\n      <td>...</td>\n      <td>1211</td>\n      <td>304</td>\n      <td>1106</td>\n      <td>362</td>\n      <td>1111</td>\n      <td>420</td>\n      <td>1144</td>\n      <td>478</td>\n      <td>1108</td>\n      <td>536</td>\n    </tr>\n    <tr>\n      <th>991</th>\n      <td>1</td>\n      <td>1</td>\n      <td>1</td>\n      <td>1</td>\n      <td>True</td>\n      <td>96430</td>\n      <td>283814.5</td>\n      <td>0.339764</td>\n      <td>8379.704644</td>\n      <td>612</td>\n      <td>...</td>\n      <td>673</td>\n      <td>395</td>\n      <td>1061</td>\n      <td>459</td>\n      <td>1103</td>\n      <td>523</td>\n      <td>1121</td>\n      <td>587</td>\n      <td>1122</td>\n      <td>651</td>\n    </tr>\n    <tr>\n      <th>992</th>\n      <td>2</td>\n      <td>3</td>\n      <td>3</td>\n      <td>3</td>\n      <td>True</td>\n      <td>43339</td>\n      <td>137721.5</td>\n      <td>0.314686</td>\n      <td>5023.535268</td>\n      <td>548</td>\n      <td>...</td>\n      <td>987</td>\n      <td>334</td>\n      <td>1038</td>\n      <td>376</td>\n      <td>1068</td>\n      <td>418</td>\n      <td>644</td>\n      <td>460</td>\n      <td>662</td>\n      <td>502</td>\n    </tr>\n    <tr>\n      <th>993</th>\n      <td>3</td>\n      <td>3</td>\n      <td>3</td>\n      <td>3</td>\n      <td>True</td>\n      <td>13149</td>\n      <td>71605.5</td>\n      <td>0.183631</td>\n      <td>2837.979535</td>\n      <td>415</td>\n      <td>...</td>\n      <td>683</td>\n      <td>368</td>\n      <td>657</td>\n      <td>408</td>\n      <td>652</td>\n      <td>448</td>\n      <td>657</td>\n      <td>488</td>\n      <td>666</td>\n      <td>528</td>\n    </tr>\n  </tbody>\n</table>\n<p>994 rows × 1154 columns</p>\n</div>"
     },
     "execution_count": 4,
     "metadata": {},
     "output_type": "execute_result"
    }
   ],
   "source": [
    "df_col = pd.read_csv('Colored_Features_Cleaned.csv',index_col = 0)\n",
    "df_col"
   ]
  },
  {
   "cell_type": "code",
   "execution_count": 5,
   "metadata": {
    "ExecuteTime": {
     "end_time": "2023-03-27T18:53:13.541705Z",
     "start_time": "2023-03-27T18:53:13.527703Z"
    }
   },
   "outputs": [],
   "source": [
    "# We need to make the two datasets have equal size, so we remove the rows of data_col that we removed from data_bw on the \n",
    "# preprocessing stage because the plant was out of bounds"
   ]
  },
  {
   "cell_type": "code",
   "execution_count": 6,
   "metadata": {
    "ExecuteTime": {
     "end_time": "2023-03-27T18:53:13.572711Z",
     "start_time": "2023-03-27T18:53:13.543206Z"
    }
   },
   "outputs": [
    {
     "data": {
      "text/plain": "     Expert 1  Expert 2  Expert 3  Expert 4  in_bounds    area  \\\n0           4         4         4         4       True    4122   \n1           1         1         1         1       True  106815   \n2           1         1         1         1      False   95816   \n3           4         4         3         3       True    7352   \n4           3         1         1         1      False  112481   \n..        ...       ...       ...       ...        ...     ...   \n989         1         1         1         1       True   38105   \n990         1         1         1         1      False   54355   \n991         1         1         1         1       True   96430   \n992         2         3         3         3       True   43339   \n993         3         3         3         3       True   13149   \n\n     convex_hull_area  solidity    perimeter  width  ...  right_lmk10_0  \\\n0              7526.5  0.547665   855.376759     58  ...            656   \n1            238795.0  0.447308  7549.374280    657  ...            855   \n2            250929.5  0.381844  5987.102579    499  ...            860   \n3             15247.5  0.482177   961.702660    129  ...            679   \n4            274431.5  0.409869  8987.696288    792  ...           1163   \n..                ...       ...          ...    ...  ...            ...   \n989          292126.5  0.130440  6934.326290    651  ...           1052   \n990          293035.0  0.185490  9396.734771    622  ...           1211   \n991          283814.5  0.339764  8379.704644    612  ...            673   \n992          137721.5  0.314686  5023.535268    548  ...            987   \n993           71605.5  0.183631  2837.979535    415  ...            683   \n\n     right_lmk10_1  right_lmk12_0  right_lmk12_1  right_lmk14_0  \\\n0              450            674            466            670   \n1              386            889            440            794   \n2              564            921            638            938   \n3              471            684            491            690   \n4              360           1182            412           1278   \n..             ...            ...            ...            ...   \n989            430           1119            496           1168   \n990            304           1106            362           1111   \n991            395           1061            459           1103   \n992            334           1038            376           1068   \n993            368            657            408            652   \n\n     right_lmk14_1  right_lmk16_0  right_lmk16_1  right_lmk18_0  right_lmk18_1  \n0              482            665            498            671            514  \n1              494            731            548            702            602  \n2              712            924            786            881            860  \n3              511            688            531            726            551  \n4              464           1279            516           1046            568  \n..             ...            ...            ...            ...            ...  \n989            562           1178            628           1144            694  \n990            420           1144            478           1108            536  \n991            523           1121            587           1122            651  \n992            418            644            460            662            502  \n993            448            657            488            666            528  \n\n[988 rows x 1154 columns]",
      "text/html": "<div>\n<style scoped>\n    .dataframe tbody tr th:only-of-type {\n        vertical-align: middle;\n    }\n\n    .dataframe tbody tr th {\n        vertical-align: top;\n    }\n\n    .dataframe thead th {\n        text-align: right;\n    }\n</style>\n<table border=\"1\" class=\"dataframe\">\n  <thead>\n    <tr style=\"text-align: right;\">\n      <th></th>\n      <th>Expert 1</th>\n      <th>Expert 2</th>\n      <th>Expert 3</th>\n      <th>Expert 4</th>\n      <th>in_bounds</th>\n      <th>area</th>\n      <th>convex_hull_area</th>\n      <th>solidity</th>\n      <th>perimeter</th>\n      <th>width</th>\n      <th>...</th>\n      <th>right_lmk10_0</th>\n      <th>right_lmk10_1</th>\n      <th>right_lmk12_0</th>\n      <th>right_lmk12_1</th>\n      <th>right_lmk14_0</th>\n      <th>right_lmk14_1</th>\n      <th>right_lmk16_0</th>\n      <th>right_lmk16_1</th>\n      <th>right_lmk18_0</th>\n      <th>right_lmk18_1</th>\n    </tr>\n  </thead>\n  <tbody>\n    <tr>\n      <th>0</th>\n      <td>4</td>\n      <td>4</td>\n      <td>4</td>\n      <td>4</td>\n      <td>True</td>\n      <td>4122</td>\n      <td>7526.5</td>\n      <td>0.547665</td>\n      <td>855.376759</td>\n      <td>58</td>\n      <td>...</td>\n      <td>656</td>\n      <td>450</td>\n      <td>674</td>\n      <td>466</td>\n      <td>670</td>\n      <td>482</td>\n      <td>665</td>\n      <td>498</td>\n      <td>671</td>\n      <td>514</td>\n    </tr>\n    <tr>\n      <th>1</th>\n      <td>1</td>\n      <td>1</td>\n      <td>1</td>\n      <td>1</td>\n      <td>True</td>\n      <td>106815</td>\n      <td>238795.0</td>\n      <td>0.447308</td>\n      <td>7549.374280</td>\n      <td>657</td>\n      <td>...</td>\n      <td>855</td>\n      <td>386</td>\n      <td>889</td>\n      <td>440</td>\n      <td>794</td>\n      <td>494</td>\n      <td>731</td>\n      <td>548</td>\n      <td>702</td>\n      <td>602</td>\n    </tr>\n    <tr>\n      <th>2</th>\n      <td>1</td>\n      <td>1</td>\n      <td>1</td>\n      <td>1</td>\n      <td>False</td>\n      <td>95816</td>\n      <td>250929.5</td>\n      <td>0.381844</td>\n      <td>5987.102579</td>\n      <td>499</td>\n      <td>...</td>\n      <td>860</td>\n      <td>564</td>\n      <td>921</td>\n      <td>638</td>\n      <td>938</td>\n      <td>712</td>\n      <td>924</td>\n      <td>786</td>\n      <td>881</td>\n      <td>860</td>\n    </tr>\n    <tr>\n      <th>3</th>\n      <td>4</td>\n      <td>4</td>\n      <td>3</td>\n      <td>3</td>\n      <td>True</td>\n      <td>7352</td>\n      <td>15247.5</td>\n      <td>0.482177</td>\n      <td>961.702660</td>\n      <td>129</td>\n      <td>...</td>\n      <td>679</td>\n      <td>471</td>\n      <td>684</td>\n      <td>491</td>\n      <td>690</td>\n      <td>511</td>\n      <td>688</td>\n      <td>531</td>\n      <td>726</td>\n      <td>551</td>\n    </tr>\n    <tr>\n      <th>4</th>\n      <td>3</td>\n      <td>1</td>\n      <td>1</td>\n      <td>1</td>\n      <td>False</td>\n      <td>112481</td>\n      <td>274431.5</td>\n      <td>0.409869</td>\n      <td>8987.696288</td>\n      <td>792</td>\n      <td>...</td>\n      <td>1163</td>\n      <td>360</td>\n      <td>1182</td>\n      <td>412</td>\n      <td>1278</td>\n      <td>464</td>\n      <td>1279</td>\n      <td>516</td>\n      <td>1046</td>\n      <td>568</td>\n    </tr>\n    <tr>\n      <th>...</th>\n      <td>...</td>\n      <td>...</td>\n      <td>...</td>\n      <td>...</td>\n      <td>...</td>\n      <td>...</td>\n      <td>...</td>\n      <td>...</td>\n      <td>...</td>\n      <td>...</td>\n      <td>...</td>\n      <td>...</td>\n      <td>...</td>\n      <td>...</td>\n      <td>...</td>\n      <td>...</td>\n      <td>...</td>\n      <td>...</td>\n      <td>...</td>\n      <td>...</td>\n      <td>...</td>\n    </tr>\n    <tr>\n      <th>989</th>\n      <td>1</td>\n      <td>1</td>\n      <td>1</td>\n      <td>1</td>\n      <td>True</td>\n      <td>38105</td>\n      <td>292126.5</td>\n      <td>0.130440</td>\n      <td>6934.326290</td>\n      <td>651</td>\n      <td>...</td>\n      <td>1052</td>\n      <td>430</td>\n      <td>1119</td>\n      <td>496</td>\n      <td>1168</td>\n      <td>562</td>\n      <td>1178</td>\n      <td>628</td>\n      <td>1144</td>\n      <td>694</td>\n    </tr>\n    <tr>\n      <th>990</th>\n      <td>1</td>\n      <td>1</td>\n      <td>1</td>\n      <td>1</td>\n      <td>False</td>\n      <td>54355</td>\n      <td>293035.0</td>\n      <td>0.185490</td>\n      <td>9396.734771</td>\n      <td>622</td>\n      <td>...</td>\n      <td>1211</td>\n      <td>304</td>\n      <td>1106</td>\n      <td>362</td>\n      <td>1111</td>\n      <td>420</td>\n      <td>1144</td>\n      <td>478</td>\n      <td>1108</td>\n      <td>536</td>\n    </tr>\n    <tr>\n      <th>991</th>\n      <td>1</td>\n      <td>1</td>\n      <td>1</td>\n      <td>1</td>\n      <td>True</td>\n      <td>96430</td>\n      <td>283814.5</td>\n      <td>0.339764</td>\n      <td>8379.704644</td>\n      <td>612</td>\n      <td>...</td>\n      <td>673</td>\n      <td>395</td>\n      <td>1061</td>\n      <td>459</td>\n      <td>1103</td>\n      <td>523</td>\n      <td>1121</td>\n      <td>587</td>\n      <td>1122</td>\n      <td>651</td>\n    </tr>\n    <tr>\n      <th>992</th>\n      <td>2</td>\n      <td>3</td>\n      <td>3</td>\n      <td>3</td>\n      <td>True</td>\n      <td>43339</td>\n      <td>137721.5</td>\n      <td>0.314686</td>\n      <td>5023.535268</td>\n      <td>548</td>\n      <td>...</td>\n      <td>987</td>\n      <td>334</td>\n      <td>1038</td>\n      <td>376</td>\n      <td>1068</td>\n      <td>418</td>\n      <td>644</td>\n      <td>460</td>\n      <td>662</td>\n      <td>502</td>\n    </tr>\n    <tr>\n      <th>993</th>\n      <td>3</td>\n      <td>3</td>\n      <td>3</td>\n      <td>3</td>\n      <td>True</td>\n      <td>13149</td>\n      <td>71605.5</td>\n      <td>0.183631</td>\n      <td>2837.979535</td>\n      <td>415</td>\n      <td>...</td>\n      <td>683</td>\n      <td>368</td>\n      <td>657</td>\n      <td>408</td>\n      <td>652</td>\n      <td>448</td>\n      <td>657</td>\n      <td>488</td>\n      <td>666</td>\n      <td>528</td>\n    </tr>\n  </tbody>\n</table>\n<p>988 rows × 1154 columns</p>\n</div>"
     },
     "execution_count": 6,
     "metadata": {},
     "output_type": "execute_result"
    }
   ],
   "source": [
    "df_col.drop([719, 826, 836, 919, 962, 982], axis=0, inplace=True)\n",
    "df_col"
   ]
  },
  {
   "cell_type": "code",
   "execution_count": 7,
   "metadata": {
    "ExecuteTime": {
     "end_time": "2023-03-27T18:53:13.603716Z",
     "start_time": "2023-03-27T18:53:13.574711Z"
    }
   },
   "outputs": [
    {
     "data": {
      "text/plain": "     Expert 1  Expert 2  Expert 3  Expert 4  in_bounds    area  \\\n0           4         4         4         4       True    4122   \n1           1         1         1         1       True  106815   \n2           1         1         1         1      False   95816   \n3           4         4         3         3       True    7352   \n4           3         1         1         1      False  112481   \n..        ...       ...       ...       ...        ...     ...   \n983         1         1         1         1       True   38105   \n984         1         1         1         1      False   54355   \n985         1         1         1         1       True   96430   \n986         2         3         3         3       True   43339   \n987         3         3         3         3       True   13149   \n\n     convex_hull_area  solidity    perimeter  width  ...  right_lmk10_0  \\\n0              7526.5  0.547665   855.376759     58  ...            656   \n1            238795.0  0.447308  7549.374280    657  ...            855   \n2            250929.5  0.381844  5987.102579    499  ...            860   \n3             15247.5  0.482177   961.702660    129  ...            679   \n4            274431.5  0.409869  8987.696288    792  ...           1163   \n..                ...       ...          ...    ...  ...            ...   \n983          292126.5  0.130440  6934.326290    651  ...           1052   \n984          293035.0  0.185490  9396.734771    622  ...           1211   \n985          283814.5  0.339764  8379.704644    612  ...            673   \n986          137721.5  0.314686  5023.535268    548  ...            987   \n987           71605.5  0.183631  2837.979535    415  ...            683   \n\n     right_lmk10_1  right_lmk12_0  right_lmk12_1  right_lmk14_0  \\\n0              450            674            466            670   \n1              386            889            440            794   \n2              564            921            638            938   \n3              471            684            491            690   \n4              360           1182            412           1278   \n..             ...            ...            ...            ...   \n983            430           1119            496           1168   \n984            304           1106            362           1111   \n985            395           1061            459           1103   \n986            334           1038            376           1068   \n987            368            657            408            652   \n\n     right_lmk14_1  right_lmk16_0  right_lmk16_1  right_lmk18_0  right_lmk18_1  \n0              482            665            498            671            514  \n1              494            731            548            702            602  \n2              712            924            786            881            860  \n3              511            688            531            726            551  \n4              464           1279            516           1046            568  \n..             ...            ...            ...            ...            ...  \n983            562           1178            628           1144            694  \n984            420           1144            478           1108            536  \n985            523           1121            587           1122            651  \n986            418            644            460            662            502  \n987            448            657            488            666            528  \n\n[988 rows x 1154 columns]",
      "text/html": "<div>\n<style scoped>\n    .dataframe tbody tr th:only-of-type {\n        vertical-align: middle;\n    }\n\n    .dataframe tbody tr th {\n        vertical-align: top;\n    }\n\n    .dataframe thead th {\n        text-align: right;\n    }\n</style>\n<table border=\"1\" class=\"dataframe\">\n  <thead>\n    <tr style=\"text-align: right;\">\n      <th></th>\n      <th>Expert 1</th>\n      <th>Expert 2</th>\n      <th>Expert 3</th>\n      <th>Expert 4</th>\n      <th>in_bounds</th>\n      <th>area</th>\n      <th>convex_hull_area</th>\n      <th>solidity</th>\n      <th>perimeter</th>\n      <th>width</th>\n      <th>...</th>\n      <th>right_lmk10_0</th>\n      <th>right_lmk10_1</th>\n      <th>right_lmk12_0</th>\n      <th>right_lmk12_1</th>\n      <th>right_lmk14_0</th>\n      <th>right_lmk14_1</th>\n      <th>right_lmk16_0</th>\n      <th>right_lmk16_1</th>\n      <th>right_lmk18_0</th>\n      <th>right_lmk18_1</th>\n    </tr>\n  </thead>\n  <tbody>\n    <tr>\n      <th>0</th>\n      <td>4</td>\n      <td>4</td>\n      <td>4</td>\n      <td>4</td>\n      <td>True</td>\n      <td>4122</td>\n      <td>7526.5</td>\n      <td>0.547665</td>\n      <td>855.376759</td>\n      <td>58</td>\n      <td>...</td>\n      <td>656</td>\n      <td>450</td>\n      <td>674</td>\n      <td>466</td>\n      <td>670</td>\n      <td>482</td>\n      <td>665</td>\n      <td>498</td>\n      <td>671</td>\n      <td>514</td>\n    </tr>\n    <tr>\n      <th>1</th>\n      <td>1</td>\n      <td>1</td>\n      <td>1</td>\n      <td>1</td>\n      <td>True</td>\n      <td>106815</td>\n      <td>238795.0</td>\n      <td>0.447308</td>\n      <td>7549.374280</td>\n      <td>657</td>\n      <td>...</td>\n      <td>855</td>\n      <td>386</td>\n      <td>889</td>\n      <td>440</td>\n      <td>794</td>\n      <td>494</td>\n      <td>731</td>\n      <td>548</td>\n      <td>702</td>\n      <td>602</td>\n    </tr>\n    <tr>\n      <th>2</th>\n      <td>1</td>\n      <td>1</td>\n      <td>1</td>\n      <td>1</td>\n      <td>False</td>\n      <td>95816</td>\n      <td>250929.5</td>\n      <td>0.381844</td>\n      <td>5987.102579</td>\n      <td>499</td>\n      <td>...</td>\n      <td>860</td>\n      <td>564</td>\n      <td>921</td>\n      <td>638</td>\n      <td>938</td>\n      <td>712</td>\n      <td>924</td>\n      <td>786</td>\n      <td>881</td>\n      <td>860</td>\n    </tr>\n    <tr>\n      <th>3</th>\n      <td>4</td>\n      <td>4</td>\n      <td>3</td>\n      <td>3</td>\n      <td>True</td>\n      <td>7352</td>\n      <td>15247.5</td>\n      <td>0.482177</td>\n      <td>961.702660</td>\n      <td>129</td>\n      <td>...</td>\n      <td>679</td>\n      <td>471</td>\n      <td>684</td>\n      <td>491</td>\n      <td>690</td>\n      <td>511</td>\n      <td>688</td>\n      <td>531</td>\n      <td>726</td>\n      <td>551</td>\n    </tr>\n    <tr>\n      <th>4</th>\n      <td>3</td>\n      <td>1</td>\n      <td>1</td>\n      <td>1</td>\n      <td>False</td>\n      <td>112481</td>\n      <td>274431.5</td>\n      <td>0.409869</td>\n      <td>8987.696288</td>\n      <td>792</td>\n      <td>...</td>\n      <td>1163</td>\n      <td>360</td>\n      <td>1182</td>\n      <td>412</td>\n      <td>1278</td>\n      <td>464</td>\n      <td>1279</td>\n      <td>516</td>\n      <td>1046</td>\n      <td>568</td>\n    </tr>\n    <tr>\n      <th>...</th>\n      <td>...</td>\n      <td>...</td>\n      <td>...</td>\n      <td>...</td>\n      <td>...</td>\n      <td>...</td>\n      <td>...</td>\n      <td>...</td>\n      <td>...</td>\n      <td>...</td>\n      <td>...</td>\n      <td>...</td>\n      <td>...</td>\n      <td>...</td>\n      <td>...</td>\n      <td>...</td>\n      <td>...</td>\n      <td>...</td>\n      <td>...</td>\n      <td>...</td>\n      <td>...</td>\n    </tr>\n    <tr>\n      <th>983</th>\n      <td>1</td>\n      <td>1</td>\n      <td>1</td>\n      <td>1</td>\n      <td>True</td>\n      <td>38105</td>\n      <td>292126.5</td>\n      <td>0.130440</td>\n      <td>6934.326290</td>\n      <td>651</td>\n      <td>...</td>\n      <td>1052</td>\n      <td>430</td>\n      <td>1119</td>\n      <td>496</td>\n      <td>1168</td>\n      <td>562</td>\n      <td>1178</td>\n      <td>628</td>\n      <td>1144</td>\n      <td>694</td>\n    </tr>\n    <tr>\n      <th>984</th>\n      <td>1</td>\n      <td>1</td>\n      <td>1</td>\n      <td>1</td>\n      <td>False</td>\n      <td>54355</td>\n      <td>293035.0</td>\n      <td>0.185490</td>\n      <td>9396.734771</td>\n      <td>622</td>\n      <td>...</td>\n      <td>1211</td>\n      <td>304</td>\n      <td>1106</td>\n      <td>362</td>\n      <td>1111</td>\n      <td>420</td>\n      <td>1144</td>\n      <td>478</td>\n      <td>1108</td>\n      <td>536</td>\n    </tr>\n    <tr>\n      <th>985</th>\n      <td>1</td>\n      <td>1</td>\n      <td>1</td>\n      <td>1</td>\n      <td>True</td>\n      <td>96430</td>\n      <td>283814.5</td>\n      <td>0.339764</td>\n      <td>8379.704644</td>\n      <td>612</td>\n      <td>...</td>\n      <td>673</td>\n      <td>395</td>\n      <td>1061</td>\n      <td>459</td>\n      <td>1103</td>\n      <td>523</td>\n      <td>1121</td>\n      <td>587</td>\n      <td>1122</td>\n      <td>651</td>\n    </tr>\n    <tr>\n      <th>986</th>\n      <td>2</td>\n      <td>3</td>\n      <td>3</td>\n      <td>3</td>\n      <td>True</td>\n      <td>43339</td>\n      <td>137721.5</td>\n      <td>0.314686</td>\n      <td>5023.535268</td>\n      <td>548</td>\n      <td>...</td>\n      <td>987</td>\n      <td>334</td>\n      <td>1038</td>\n      <td>376</td>\n      <td>1068</td>\n      <td>418</td>\n      <td>644</td>\n      <td>460</td>\n      <td>662</td>\n      <td>502</td>\n    </tr>\n    <tr>\n      <th>987</th>\n      <td>3</td>\n      <td>3</td>\n      <td>3</td>\n      <td>3</td>\n      <td>True</td>\n      <td>13149</td>\n      <td>71605.5</td>\n      <td>0.183631</td>\n      <td>2837.979535</td>\n      <td>415</td>\n      <td>...</td>\n      <td>683</td>\n      <td>368</td>\n      <td>657</td>\n      <td>408</td>\n      <td>652</td>\n      <td>448</td>\n      <td>657</td>\n      <td>488</td>\n      <td>666</td>\n      <td>528</td>\n    </tr>\n  </tbody>\n</table>\n<p>988 rows × 1154 columns</p>\n</div>"
     },
     "execution_count": 7,
     "metadata": {},
     "output_type": "execute_result"
    }
   ],
   "source": [
    "df_col = df_col.reset_index(drop=True)\n",
    "df_col"
   ]
  },
  {
   "cell_type": "code",
   "execution_count": null,
   "metadata": {
    "ExecuteTime": {
     "end_time": "2023-03-27T18:53:13.634722Z",
     "start_time": "2023-03-27T18:53:13.605717Z"
    },
    "pycharm": {
     "is_executing": true
    }
   },
   "outputs": [],
   "source": [
    "feature_data = pd.concat([df_bw, df_col], axis = 1, ignore_index = False)\n",
    "feature_data"
   ]
  },
  {
   "cell_type": "code",
   "execution_count": 9,
   "metadata": {
    "ExecuteTime": {
     "end_time": "2023-03-27T18:53:13.650224Z",
     "start_time": "2023-03-27T18:53:13.636222Z"
    }
   },
   "outputs": [],
   "source": [
    "# Get our features and our labels that we want to predict\n",
    "X = feature_data.iloc[:,19:]\n",
    "y1 = feature_data.iloc[:,0]\n",
    "y2 = feature_data.iloc[:,1]\n",
    "y3 = feature_data.iloc[:,2]\n",
    "y4 = feature_data.iloc[:,3]"
   ]
  },
  {
   "cell_type": "code",
   "execution_count": 10,
   "metadata": {
    "ExecuteTime": {
     "end_time": "2023-03-27T18:53:13.665728Z",
     "start_time": "2023-03-27T18:53:13.651725Z"
    }
   },
   "outputs": [],
   "source": [
    "# 1 is normal and 0 is abnormal\n",
    "y1 = y1.apply(lambda x: 0 if x >= 3 else 1)\n",
    "y2 = y2.apply(lambda x: 0 if x >= 3 else 1)\n",
    "y3 = y3.apply(lambda x: 0 if x >= 3 else 1)\n",
    "y4 = y4.apply(lambda x: 0 if x >= 3 else 1)\n"
   ]
  },
  {
   "cell_type": "code",
   "execution_count": 11,
   "metadata": {
    "ExecuteTime": {
     "end_time": "2023-03-27T18:53:13.758743Z",
     "start_time": "2023-03-27T18:53:13.667227Z"
    }
   },
   "outputs": [],
   "source": [
    "# Train - Test - Validate Split\n",
    "X_train1, X_test1, y_train1, y_test1 = train_test_split(X, y1, test_size=0.15, random_state=42)\n",
    "X_train2, X_test2, y_train2, y_test2 = train_test_split(X, y2, test_size=0.15, random_state=42)\n",
    "X_train3, X_test3, y_train3, y_test3 = train_test_split(X, y3, test_size=0.15, random_state=42)\n",
    "X_train4, X_test4, y_train4, y_test4 = train_test_split(X, y4, test_size=0.15, random_state=42)\n",
    "X_train1, X_val1, y_train1, y_val1 = train_test_split(X_train1, y_train1, test_size=0.15, random_state=42)\n",
    "X_train2, X_val2, y_train2, y_val2 = train_test_split(X_train2, y_train2, test_size=0.15, random_state=42)\n",
    "X_train3, X_val3, y_train3, y_val3 = train_test_split(X_train3, y_train3, test_size=0.15, random_state=42)\n",
    "X_train4, X_val4, y_train4, y_val4 = train_test_split(X_train4, y_train4, test_size=0.15, random_state=42)"
   ]
  },
  {
   "cell_type": "code",
   "execution_count": 16,
   "metadata": {
    "ExecuteTime": {
     "end_time": "2023-03-27T18:53:13.774247Z",
     "start_time": "2023-03-27T18:53:13.760244Z"
    }
   },
   "outputs": [],
   "source": [
    "# Majority fusion function that returns the most frequent label\n",
    "def majority_voting(model, data):\n",
    "    predictions = [clf.predict(data) for clf in models]\n",
    "    result = np.mean(predictions, axis=0)\n",
    "    return np.round(result)\n",
    "\n",
    "# Weighted Majority Voting Function\n",
    "\n",
    "\n",
    "def weighted_voting(model, data):\n",
    "    # Find probabilities of outputs labels\n",
    "    proba_matrices = np.array([clf.predict_proba(data) for clf in model])\n",
    "    \n",
    "    # Find confidence for the most probable label\n",
    "    confidence = np.max(proba_matrices, axis=2)\n",
    "    \n",
    "    # Calculate Predicted Labels\n",
    "    y_preds = np.argmax(proba_matrices, axis=2)\n",
    "    \n",
    "    # Calculate weighted majority vote \n",
    "    weighted_voting = np.round(np.average(y_preds, axis=0, weights=confidence)).astype(int)\n",
    "    \n",
    "    return weighted_voting\n",
    "\n",
    "\n",
    "# Function to create the confusion matrices\n",
    "def confusion_matrices(model, test_data):\n",
    "    confusion_matrices = []\n",
    "    for clf, (X_test, y_test) in zip(model, test_data):\n",
    "        y_pred = clf.predict(X_test)\n",
    "        cm = confusion_matrix(y_test, y_pred)\n",
    "        confusion_matrices.append(cm)\n",
    "    return confusion_matrices\n",
    "\n",
    "\n",
    "# Function to run bayesian fusion, with the help of the below functions to calculate conditional probabilities\n",
    "def bayesian_fusion_predict(model, datapoints, conf_mat):\n",
    "    final_predictions = []\n",
    "    for datapoint in datapoints.values:\n",
    "        # we are assuming the prior probabilities are both 0.5\n",
    "        p_h0 = p_h1 = 0.5 \n",
    "        for clf, conf in zip(model, conf_mat):\n",
    "            prediction = clf.predict(datapoint.reshape(1, -1))[0]\n",
    "            p_0_h0, p_1_h0, p_1_h1, p_0_h1 = get_conditional_probabilities(conf)\n",
    "            p_h0, p_h1 = get_posterior_probabilities(prediction, p_0_h0, p_1_h0, p_1_h1, p_0_h1, p_h0, p_h1)\n",
    "        final_predictions.append(0 if p_h0 > p_h1 else 1)\n",
    "    return np.array(final_predictions)\n",
    "\n",
    "def get_conditional_probabilities(conf_mat):\n",
    "    p_0_h0 = conf_mat[0][0] / (conf_mat[0][0] + conf_mat[0][1])\n",
    "    p_1_h0 = 1 - p_0_h0\n",
    "    p_1_h1 = conf_mat[1][1] / (conf_mat[1][0] + conf_mat[1][1])\n",
    "    p_0_h1 = 1 - p_1_h1\n",
    "    return p_0_h0, p_1_h0, p_1_h1, p_0_h1\n",
    "\n",
    "def get_posterior_probabilities(prediction, p_0_h0, p_1_h0, p_1_h1, p_0_h1, p_h0, p_h1):\n",
    "    if prediction == 0:\n",
    "        p_h0_0 = (p_0_h0 * p_h0) / (p_0_h0 * p_h0 + p_0_h1 * p_h1)\n",
    "        p_h1_0 = 1 - p_h0_0 \n",
    "        p_h0, p_h1 = p_h0_0, p_h1_0\n",
    "    else:\n",
    "        p_h0_1 = (p_1_h0 * p_h0) / (p_1_h0 * p_h0 + p_1_h1 * p_h1)\n",
    "        p_h1_1 = 1 - p_h0_1 \n",
    "        p_h0, p_h1 = p_h0_1, p_h1_1\n",
    "    return p_h0, p_h1"
   ]
  },
  {
   "cell_type": "code",
   "execution_count": 17,
   "metadata": {
    "ExecuteTime": {
     "end_time": "2023-03-27T18:53:13.805252Z",
     "start_time": "2023-03-27T18:53:13.775747Z"
    }
   },
   "outputs": [],
   "source": [
    "def expert_fusion(model):\n",
    "    \n",
    "    # Train the classifier (each one represents one expert)\n",
    "    clfr1 = model[0].fit(X_train1, y_train1)\n",
    "    clfr2 = model[1].fit(X_train2, y_train2)\n",
    "    clfr3 = model[2].fit(X_train3, y_train3)\n",
    "    clfr4 = model[3].fit(X_train4, y_train4)\n",
    "    \n",
    "    # Validate the results\n",
    "    y_val_pred1 = clfr1.predict(X_val1)\n",
    "    y_val_pred2 = clfr2.predict(X_val2)\n",
    "    y_val_pred3 = clfr3.predict(X_val3)\n",
    "    y_val_pred4 = clfr4.predict(X_val4)\n",
    "    \n",
    "    # Measure the performance\n",
    "\n",
    "    # accuracy score\n",
    "    accuracy_scores = [\n",
    "        accuracy_score(y_val_pred1, y_val1),\n",
    "        accuracy_score(y_val_pred2, y_val2),\n",
    "        accuracy_score(y_val_pred3, y_val3),\n",
    "        accuracy_score(y_val_pred4, y_val4),\n",
    "    ]\n",
    "    average_accuracy_score = sum(accuracy_scores) / len(accuracy_scores)\n",
    "\n",
    "    # f1 score\n",
    "    f1_scores = [\n",
    "        f1_score(y_val_pred1, y_val1, average='macro'),\n",
    "        f1_score(y_val_pred2, y_val2, average='macro'),\n",
    "        f1_score(y_val_pred3, y_val3, average='macro'),\n",
    "        f1_score(y_val_pred4, y_val4, average='macro'),\n",
    "    ]\n",
    "    average_f1_score = sum(f1_scores) / len(f1_scores)\n",
    "\n",
    "    # Print results\n",
    "    print(\"\\nModel Individual: {}\\n\".format(model[0]))\n",
    "    print(\"\\nAccuracy Scores:\")\n",
    "    for i, score in enumerate(accuracy_scores, start=1):\n",
    "        print(\"  Model {} accuracy score: {:.4f}\".format(i, score))\n",
    "    print(\"Average accuracy score: {:.4f}\\n\".format(average_accuracy_score))\n",
    "\n",
    "    print(\"F1 Scores:\")\n",
    "    for i, score in enumerate(f1_scores, start=1):\n",
    "        print(\"  Model {} F1 score: {:.4f}\".format(i, score))\n",
    "    print(\"Average F1 score: {:.4f}\\n\".format(average_f1_score))\n",
    "\n",
    "    print(\"~~~~~~~~~~~~~~~~~~~~~~~~~~~~~~~~~~~~~~~~~~~~~~~~~~~~~~~~~~~~~~~~~~~~~~~~~~~~~~~~~~~~~~~~~~~~~~~~~~~\\n\")\n",
    "\n",
    "    \n",
    "  \n",
    "\n",
    "    # Validate the Majority Voting Fusion results\n",
    "    y_val_pred1 = majority_voting(model, X_val1)\n",
    "    y_val_pred2 = majority_voting(model, X_val2)\n",
    "    y_val_pred3 = majority_voting(model, X_val3)\n",
    "    y_val_pred4 = majority_voting(model, X_val4)\n",
    "    \n",
    "    # accuracy score\n",
    "    accuracy_scores = [\n",
    "        accuracy_score(y_val_pred1, y_val1),\n",
    "        accuracy_score(y_val_pred2, y_val2),\n",
    "        accuracy_score(y_val_pred3, y_val3),\n",
    "        accuracy_score(y_val_pred4, y_val4),\n",
    "    ]\n",
    "    average_accuracy_score = sum(accuracy_scores) / len(accuracy_scores)\n",
    "\n",
    "    # f1 score\n",
    "    f1_scores = [\n",
    "        f1_score(y_val_pred1, y_val1, average='macro'),\n",
    "        f1_score(y_val_pred2, y_val2, average='macro'),\n",
    "        f1_score(y_val_pred3, y_val3, average='macro'),\n",
    "        f1_score(y_val_pred4, y_val4, average='macro'),\n",
    "    ]\n",
    "    average_f1_score = sum(f1_scores) / len(f1_scores)\n",
    "\n",
    "    # Print results\n",
    "    print(\"\\nMajority Voting Model: {}\\n\".format(model[0]))\n",
    "    print(\"\\nAccuracy Scores:\")\n",
    "    for i, score in enumerate(accuracy_scores, start=1):\n",
    "        print(\"  Model {} accuracy score: {:.4f}\".format(i, score))\n",
    "    print(\"Average accuracy score: {:.4f}\\n\".format(average_accuracy_score))\n",
    "\n",
    "    print(\"F1 Scores:\")\n",
    "    for i, score in enumerate(f1_scores, start=1):\n",
    "        print(\"  Model {} F1 score: {:.4f}\".format(i, score))\n",
    "    print(\"Average F1 score: {:.4f}\\n\".format(average_f1_score))\n",
    "\n",
    "    print(\"~~~~~~~~~~~~~~~~~~~~~~~~~~~~~~~~~~~~~~~~~~~~~~~~~~~~~~~~~~~~~~~~~~~~~~~~~~~~~~~~~~~~~~~~~~~~~~~~~~~\\n\")\n",
    "    \n",
    "    # Validate the Weighted Majority Voting Fusion results\n",
    "    y_val_pred1 = weighted_voting(model, X_val1)\n",
    "    y_val_pred2 = weighted_voting(model, X_val2)\n",
    "    y_val_pred3 = weighted_voting(model, X_val3)\n",
    "    y_val_pred4 = weighted_voting(model, X_val4)\n",
    "    \n",
    "    # accuracy score\n",
    "    accuracy_scores = [\n",
    "        accuracy_score(y_val_pred1, y_val1),\n",
    "        accuracy_score(y_val_pred2, y_val2),\n",
    "        accuracy_score(y_val_pred3, y_val3),\n",
    "        accuracy_score(y_val_pred4, y_val4),\n",
    "    ]\n",
    "    average_accuracy_score = sum(accuracy_scores) / len(accuracy_scores)\n",
    "\n",
    "    # f1 score\n",
    "    f1_scores = [\n",
    "        f1_score(y_val_pred1, y_val1, average='macro'),\n",
    "        f1_score(y_val_pred2, y_val2, average='macro'),\n",
    "        f1_score(y_val_pred3, y_val3, average='macro'),\n",
    "        f1_score(y_val_pred4, y_val4, average='macro'),\n",
    "    ]\n",
    "    average_f1_score = sum(f1_scores) / len(f1_scores)\n",
    "\n",
    "    # Print results\n",
    "    print(\"\\nWeighted Majority Voting Model: {}\\n\".format(model[0]))\n",
    "    print(\"\\nAccuracy Scores:\")\n",
    "    for i, score in enumerate(accuracy_scores, start=1):\n",
    "        print(\"  Model {} accuracy score: {:.4f}\".format(i, score))\n",
    "    print(\"Average accuracy score: {:.4f}\\n\".format(average_accuracy_score))\n",
    "\n",
    "    print(\"F1 Scores:\")\n",
    "    for i, score in enumerate(f1_scores, start=1):\n",
    "        print(\"  Model {} F1 score: {:.4f}\".format(i, score))\n",
    "    print(\"Average F1 score: {:.4f}\\n\".format(average_f1_score))\n",
    "\n",
    "    print(\"~~~~~~~~~~~~~~~~~~~~~~~~~~~~~~~~~~~~~~~~~~~~~~~~~~~~~~~~~~~~~~~~~~~~~~~~~~~~~~~~~~~~~~~~~~~~~~~~~~~\\n\")\n",
    "    \n",
    "    #create the data for testing \n",
    "    test_data = ((X_test1, y_test1), (X_test2, y_test2), (X_test3, y_test3), (X_test4, y_test4))\n",
    "    conf_matrices = confusion_matrices(models, test_data)\n",
    "    \n",
    "    y_val_pred1 = bayesian_fusion_predict(models, X_val1, conf_matrices)\n",
    "    y_val_pred2 = bayesian_fusion_predict(models, X_val2, conf_matrices)\n",
    "    y_val_pred3 = bayesian_fusion_predict(models, X_val3, conf_matrices)\n",
    "    y_val_pred4 = bayesian_fusion_predict(models, X_val4, conf_matrices)\n",
    "\n",
    "    # accuracy score\n",
    "    accuracy_scores = [\n",
    "        accuracy_score(y_val_pred1, y_val1),\n",
    "        accuracy_score(y_val_pred2, y_val2),\n",
    "        accuracy_score(y_val_pred3, y_val3),\n",
    "        accuracy_score(y_val_pred4, y_val4),\n",
    "    ]\n",
    "    average_accuracy_score = sum(accuracy_scores) / len(accuracy_scores)\n",
    "\n",
    "    # f1 score\n",
    "    f1_scores = [\n",
    "        f1_score(y_val_pred1, y_val1, average='macro'),\n",
    "        f1_score(y_val_pred2, y_val2, average='macro'),\n",
    "        f1_score(y_val_pred3, y_val3, average='macro'),\n",
    "        f1_score(y_val_pred4, y_val4, average='macro'),\n",
    "    ]\n",
    "    average_f1_score = sum(f1_scores) / len(f1_scores)\n",
    "\n",
    "    # Print results\n",
    "    print(\"\\nBayesian Fusion: {}\\n\".format(model[0]))\n",
    "    print(\"\\nAccuracy Scores:\")\n",
    "    for i, score in enumerate(accuracy_scores, start=1):\n",
    "        print(\"  Model {} accuracy score: {:.4f}\".format(i, score))\n",
    "    print(\"Average accuracy score: {:.4f}\\n\".format(average_accuracy_score))\n",
    "\n",
    "    print(\"F1 Scores:\")\n",
    "    for i, score in enumerate(f1_scores, start=1):\n",
    "        print(\"  Model {} F1 score: {:.4f}\".format(i, score))\n",
    "    print(\"Average F1 score: {:.4f}\\n\".format(average_f1_score))\n",
    "\n",
    "    print(\"~~~~~~~~~~~~~~~~~~~~~~~~~~~~~~~~~~~~~~~~~~~~~~~~~~~~~~~~~~~~~~~~~~~~~~~~~~~~~~~~~~~~~~~~~~~~~~~~~~~\\n\")"
   ]
  },
  {
   "cell_type": "code",
   "execution_count": 18,
   "metadata": {
    "ExecuteTime": {
     "end_time": "2023-03-27T18:53:34.299852Z",
     "start_time": "2023-03-27T18:53:13.806752Z"
    },
    "scrolled": false
   },
   "outputs": [
    {
     "name": "stdout",
     "output_type": "stream",
     "text": [
      "\n",
      "Model Individual: RandomForestClassifier(random_state=42)\n",
      "\n",
      "\n",
      "Accuracy Scores:\n",
      "  Model 1 accuracy score: 0.9524\n",
      "  Model 2 accuracy score: 0.9683\n",
      "  Model 3 accuracy score: 0.9683\n",
      "  Model 4 accuracy score: 0.9683\n",
      "Average accuracy score: 0.9643\n",
      "\n",
      "F1 Scores:\n",
      "  Model 1 F1 score: 0.9426\n",
      "  Model 2 F1 score: 0.9611\n",
      "  Model 3 F1 score: 0.9611\n",
      "  Model 4 F1 score: 0.9634\n",
      "Average F1 score: 0.9570\n",
      "\n",
      "~~~~~~~~~~~~~~~~~~~~~~~~~~~~~~~~~~~~~~~~~~~~~~~~~~~~~~~~~~~~~~~~~~~~~~~~~~~~~~~~~~~~~~~~~~~~~~~~~~~\n",
      "\n",
      "\n",
      "Majority Voting Model: RandomForestClassifier(random_state=42)\n",
      "\n",
      "\n",
      "Accuracy Scores:\n",
      "  Model 1 accuracy score: 0.9444\n",
      "  Model 2 accuracy score: 0.9762\n",
      "  Model 3 accuracy score: 0.9762\n",
      "  Model 4 accuracy score: 0.9524\n",
      "Average accuracy score: 0.9623\n",
      "\n",
      "F1 Scores:\n",
      "  Model 1 F1 score: 0.9336\n",
      "  Model 2 F1 score: 0.9711\n",
      "  Model 3 F1 score: 0.9711\n",
      "  Model 4 F1 score: 0.9443\n",
      "Average F1 score: 0.9550\n",
      "\n",
      "~~~~~~~~~~~~~~~~~~~~~~~~~~~~~~~~~~~~~~~~~~~~~~~~~~~~~~~~~~~~~~~~~~~~~~~~~~~~~~~~~~~~~~~~~~~~~~~~~~~\n",
      "\n",
      "\n",
      "Weighted Majority Voting Model: RandomForestClassifier(random_state=42)\n",
      "\n",
      "\n",
      "Accuracy Scores:\n",
      "  Model 1 accuracy score: 0.9365\n",
      "  Model 2 accuracy score: 0.9683\n",
      "  Model 3 accuracy score: 0.9683\n",
      "  Model 4 accuracy score: 0.9444\n",
      "Average accuracy score: 0.9544\n",
      "\n",
      "F1 Scores:\n",
      "  Model 1 F1 score: 0.9235\n",
      "  Model 2 F1 score: 0.9611\n",
      "  Model 3 F1 score: 0.9611\n",
      "  Model 4 F1 score: 0.9345\n",
      "Average F1 score: 0.9451\n",
      "\n",
      "~~~~~~~~~~~~~~~~~~~~~~~~~~~~~~~~~~~~~~~~~~~~~~~~~~~~~~~~~~~~~~~~~~~~~~~~~~~~~~~~~~~~~~~~~~~~~~~~~~~\n",
      "\n",
      "\n",
      "Bayesian Fusion: RandomForestClassifier(random_state=42)\n",
      "\n",
      "\n",
      "Accuracy Scores:\n",
      "  Model 1 accuracy score: 0.9444\n",
      "  Model 2 accuracy score: 0.9762\n",
      "  Model 3 accuracy score: 0.9762\n",
      "  Model 4 accuracy score: 0.9524\n",
      "Average accuracy score: 0.9623\n",
      "\n",
      "F1 Scores:\n",
      "  Model 1 F1 score: 0.9336\n",
      "  Model 2 F1 score: 0.9711\n",
      "  Model 3 F1 score: 0.9711\n",
      "  Model 4 F1 score: 0.9443\n",
      "Average F1 score: 0.9550\n",
      "\n",
      "~~~~~~~~~~~~~~~~~~~~~~~~~~~~~~~~~~~~~~~~~~~~~~~~~~~~~~~~~~~~~~~~~~~~~~~~~~~~~~~~~~~~~~~~~~~~~~~~~~~\n",
      "\n"
     ]
    }
   ],
   "source": [
    "models = [RandomForestClassifier(random_state=42),RandomForestClassifier(random_state=42),RandomForestClassifier(random_state=42),RandomForestClassifier(random_state=42)]\n",
    "expert_fusion(models)"
   ]
  },
  {
   "cell_type": "code",
   "execution_count": 19,
   "metadata": {
    "ExecuteTime": {
     "end_time": "2023-03-27T18:54:30.404209Z",
     "start_time": "2023-03-27T18:53:34.301353Z"
    },
    "scrolled": false
   },
   "outputs": [
    {
     "name": "stdout",
     "output_type": "stream",
     "text": [
      "\n",
      "Model Individual: MLPClassifier(activation='logistic', hidden_layer_sizes=(1000,))\n",
      "\n",
      "\n",
      "Accuracy Scores:\n",
      "  Model 1 accuracy score: 0.9286\n",
      "  Model 2 accuracy score: 0.9603\n",
      "  Model 3 accuracy score: 0.9603\n",
      "  Model 4 accuracy score: 0.9206\n",
      "Average accuracy score: 0.9425\n",
      "\n",
      "F1 Scores:\n",
      "  Model 1 F1 score: 0.9102\n",
      "  Model 2 F1 score: 0.9492\n",
      "  Model 3 F1 score: 0.9501\n",
      "  Model 4 F1 score: 0.9028\n",
      "Average F1 score: 0.9281\n",
      "\n",
      "~~~~~~~~~~~~~~~~~~~~~~~~~~~~~~~~~~~~~~~~~~~~~~~~~~~~~~~~~~~~~~~~~~~~~~~~~~~~~~~~~~~~~~~~~~~~~~~~~~~\n",
      "\n",
      "\n",
      "Majority Voting Model: MLPClassifier(activation='logistic', hidden_layer_sizes=(1000,))\n",
      "\n",
      "\n",
      "Accuracy Scores:\n",
      "  Model 1 accuracy score: 0.9286\n",
      "  Model 2 accuracy score: 0.9603\n",
      "  Model 3 accuracy score: 0.9603\n",
      "  Model 4 accuracy score: 0.9206\n",
      "Average accuracy score: 0.9425\n",
      "\n",
      "F1 Scores:\n",
      "  Model 1 F1 score: 0.9102\n",
      "  Model 2 F1 score: 0.9492\n",
      "  Model 3 F1 score: 0.9492\n",
      "  Model 4 F1 score: 0.9028\n",
      "Average F1 score: 0.9278\n",
      "\n",
      "~~~~~~~~~~~~~~~~~~~~~~~~~~~~~~~~~~~~~~~~~~~~~~~~~~~~~~~~~~~~~~~~~~~~~~~~~~~~~~~~~~~~~~~~~~~~~~~~~~~\n",
      "\n",
      "\n",
      "Weighted Majority Voting Model: MLPClassifier(activation='logistic', hidden_layer_sizes=(1000,))\n",
      "\n",
      "\n",
      "Accuracy Scores:\n",
      "  Model 1 accuracy score: 0.9286\n",
      "  Model 2 accuracy score: 0.9603\n",
      "  Model 3 accuracy score: 0.9603\n",
      "  Model 4 accuracy score: 0.9206\n",
      "Average accuracy score: 0.9425\n",
      "\n",
      "F1 Scores:\n",
      "  Model 1 F1 score: 0.9102\n",
      "  Model 2 F1 score: 0.9492\n",
      "  Model 3 F1 score: 0.9492\n",
      "  Model 4 F1 score: 0.9028\n",
      "Average F1 score: 0.9278\n",
      "\n",
      "~~~~~~~~~~~~~~~~~~~~~~~~~~~~~~~~~~~~~~~~~~~~~~~~~~~~~~~~~~~~~~~~~~~~~~~~~~~~~~~~~~~~~~~~~~~~~~~~~~~\n",
      "\n",
      "\n",
      "Bayesian Fusion: MLPClassifier(activation='logistic', hidden_layer_sizes=(1000,))\n",
      "\n",
      "\n",
      "Accuracy Scores:\n",
      "  Model 1 accuracy score: 0.9444\n",
      "  Model 2 accuracy score: 0.9603\n",
      "  Model 3 accuracy score: 0.9603\n",
      "  Model 4 accuracy score: 0.9206\n",
      "Average accuracy score: 0.9464\n",
      "\n",
      "F1 Scores:\n",
      "  Model 1 F1 score: 0.9314\n",
      "  Model 2 F1 score: 0.9501\n",
      "  Model 3 F1 score: 0.9501\n",
      "  Model 4 F1 score: 0.9043\n",
      "Average F1 score: 0.9340\n",
      "\n",
      "~~~~~~~~~~~~~~~~~~~~~~~~~~~~~~~~~~~~~~~~~~~~~~~~~~~~~~~~~~~~~~~~~~~~~~~~~~~~~~~~~~~~~~~~~~~~~~~~~~~\n",
      "\n"
     ]
    }
   ],
   "source": [
    "models =  [MLPClassifier(hidden_layer_sizes=(1000,), activation=\"logistic\"),MLPClassifier(hidden_layer_sizes=(1000,), activation=\"logistic\"),MLPClassifier(hidden_layer_sizes=(1000,), activation=\"logistic\"),MLPClassifier(hidden_layer_sizes=(1000,), activation=\"logistic\")]\n",
    "expert_fusion(models)\n"
   ]
  },
  {
   "cell_type": "code",
   "execution_count": 20,
   "metadata": {
    "ExecuteTime": {
     "end_time": "2023-03-27T18:54:32.187021Z",
     "start_time": "2023-03-27T18:54:30.405708Z"
    }
   },
   "outputs": [
    {
     "name": "stdout",
     "output_type": "stream",
     "text": [
      "\n",
      "Model Individual: LogisticRegression(random_state=42)\n",
      "\n",
      "\n",
      "Accuracy Scores:\n",
      "  Model 1 accuracy score: 0.9048\n",
      "  Model 2 accuracy score: 0.9683\n",
      "  Model 3 accuracy score: 0.9603\n",
      "  Model 4 accuracy score: 0.9048\n",
      "Average accuracy score: 0.9345\n",
      "\n",
      "F1 Scores:\n",
      "  Model 1 F1 score: 0.8870\n",
      "  Model 2 F1 score: 0.9604\n",
      "  Model 3 F1 score: 0.9510\n",
      "  Model 4 F1 score: 0.8915\n",
      "Average F1 score: 0.9225\n",
      "\n",
      "~~~~~~~~~~~~~~~~~~~~~~~~~~~~~~~~~~~~~~~~~~~~~~~~~~~~~~~~~~~~~~~~~~~~~~~~~~~~~~~~~~~~~~~~~~~~~~~~~~~\n",
      "\n",
      "\n",
      "Majority Voting Model: LogisticRegression(random_state=42)\n",
      "\n",
      "\n",
      "Accuracy Scores:\n",
      "  Model 1 accuracy score: 0.9127\n",
      "  Model 2 accuracy score: 0.9444\n",
      "  Model 3 accuracy score: 0.9444\n",
      "  Model 4 accuracy score: 0.9206\n",
      "Average accuracy score: 0.9306\n",
      "\n",
      "F1 Scores:\n",
      "  Model 1 F1 score: 0.8956\n",
      "  Model 2 F1 score: 0.9325\n",
      "  Model 3 F1 score: 0.9325\n",
      "  Model 4 F1 score: 0.9072\n",
      "Average F1 score: 0.9169\n",
      "\n",
      "~~~~~~~~~~~~~~~~~~~~~~~~~~~~~~~~~~~~~~~~~~~~~~~~~~~~~~~~~~~~~~~~~~~~~~~~~~~~~~~~~~~~~~~~~~~~~~~~~~~\n",
      "\n",
      "\n",
      "Weighted Majority Voting Model: LogisticRegression(random_state=42)\n",
      "\n",
      "\n",
      "Accuracy Scores:\n",
      "  Model 1 accuracy score: 0.9365\n",
      "  Model 2 accuracy score: 0.9683\n",
      "  Model 3 accuracy score: 0.9683\n",
      "  Model 4 accuracy score: 0.9286\n",
      "Average accuracy score: 0.9504\n",
      "\n",
      "F1 Scores:\n",
      "  Model 1 F1 score: 0.9222\n",
      "  Model 2 F1 score: 0.9604\n",
      "  Model 3 F1 score: 0.9604\n",
      "  Model 4 F1 score: 0.9146\n",
      "Average F1 score: 0.9394\n",
      "\n",
      "~~~~~~~~~~~~~~~~~~~~~~~~~~~~~~~~~~~~~~~~~~~~~~~~~~~~~~~~~~~~~~~~~~~~~~~~~~~~~~~~~~~~~~~~~~~~~~~~~~~\n",
      "\n",
      "\n",
      "Bayesian Fusion: LogisticRegression(random_state=42)\n",
      "\n",
      "\n",
      "Accuracy Scores:\n",
      "  Model 1 accuracy score: 0.9127\n",
      "  Model 2 accuracy score: 0.9444\n",
      "  Model 3 accuracy score: 0.9444\n",
      "  Model 4 accuracy score: 0.9206\n",
      "Average accuracy score: 0.9306\n",
      "\n",
      "F1 Scores:\n",
      "  Model 1 F1 score: 0.8956\n",
      "  Model 2 F1 score: 0.9325\n",
      "  Model 3 F1 score: 0.9325\n",
      "  Model 4 F1 score: 0.9072\n",
      "Average F1 score: 0.9169\n",
      "\n",
      "~~~~~~~~~~~~~~~~~~~~~~~~~~~~~~~~~~~~~~~~~~~~~~~~~~~~~~~~~~~~~~~~~~~~~~~~~~~~~~~~~~~~~~~~~~~~~~~~~~~\n",
      "\n"
     ]
    }
   ],
   "source": [
    "models =  [LogisticRegression(penalty='l2', C=1.0, fit_intercept=True, solver='lbfgs', max_iter=100,random_state=42),LogisticRegression(penalty='l2', C=1.0, fit_intercept=True, solver='lbfgs', max_iter=100,random_state=42),LogisticRegression(penalty='l2', C=1.0, fit_intercept=True, solver='lbfgs', max_iter=100,random_state=42),LogisticRegression(penalty='l2', C=1.0, fit_intercept=True, solver='lbfgs', max_iter=100,random_state=42)]\n",
    "expert_fusion(models)\n"
   ]
  },
  {
   "cell_type": "code",
   "execution_count": 21,
   "metadata": {
    "ExecuteTime": {
     "end_time": "2023-03-27T18:54:34.388408Z",
     "start_time": "2023-03-27T18:54:32.188521Z"
    }
   },
   "outputs": [
    {
     "name": "stdout",
     "output_type": "stream",
     "text": [
      "\n",
      "Model Individual: AdaBoostClassifier(random_state=42)\n",
      "\n",
      "\n",
      "Accuracy Scores:\n",
      "  Model 1 accuracy score: 1.0000\n",
      "  Model 2 accuracy score: 1.0000\n",
      "  Model 3 accuracy score: 1.0000\n",
      "  Model 4 accuracy score: 1.0000\n",
      "Average accuracy score: 1.0000\n",
      "\n",
      "F1 Scores:\n",
      "  Model 1 F1 score: 1.0000\n",
      "  Model 2 F1 score: 1.0000\n",
      "  Model 3 F1 score: 1.0000\n",
      "  Model 4 F1 score: 1.0000\n",
      "Average F1 score: 1.0000\n",
      "\n",
      "~~~~~~~~~~~~~~~~~~~~~~~~~~~~~~~~~~~~~~~~~~~~~~~~~~~~~~~~~~~~~~~~~~~~~~~~~~~~~~~~~~~~~~~~~~~~~~~~~~~\n",
      "\n",
      "\n",
      "Majority Voting Model: AdaBoostClassifier(random_state=42)\n",
      "\n",
      "\n",
      "Accuracy Scores:\n",
      "  Model 1 accuracy score: 0.9603\n",
      "  Model 2 accuracy score: 0.9762\n",
      "  Model 3 accuracy score: 0.9921\n",
      "  Model 4 accuracy score: 0.9683\n",
      "Average accuracy score: 0.9742\n",
      "\n",
      "F1 Scores:\n",
      "  Model 1 F1 score: 0.9525\n",
      "  Model 2 F1 score: 0.9711\n",
      "  Model 3 F1 score: 0.9904\n",
      "  Model 4 F1 score: 0.9629\n",
      "Average F1 score: 0.9692\n",
      "\n",
      "~~~~~~~~~~~~~~~~~~~~~~~~~~~~~~~~~~~~~~~~~~~~~~~~~~~~~~~~~~~~~~~~~~~~~~~~~~~~~~~~~~~~~~~~~~~~~~~~~~~\n",
      "\n",
      "\n",
      "Weighted Majority Voting Model: AdaBoostClassifier(random_state=42)\n",
      "\n",
      "\n",
      "Accuracy Scores:\n",
      "  Model 1 accuracy score: 0.9603\n",
      "  Model 2 accuracy score: 0.9762\n",
      "  Model 3 accuracy score: 0.9921\n",
      "  Model 4 accuracy score: 0.9683\n",
      "Average accuracy score: 0.9742\n",
      "\n",
      "F1 Scores:\n",
      "  Model 1 F1 score: 0.9525\n",
      "  Model 2 F1 score: 0.9711\n",
      "  Model 3 F1 score: 0.9904\n",
      "  Model 4 F1 score: 0.9629\n",
      "Average F1 score: 0.9692\n",
      "\n",
      "~~~~~~~~~~~~~~~~~~~~~~~~~~~~~~~~~~~~~~~~~~~~~~~~~~~~~~~~~~~~~~~~~~~~~~~~~~~~~~~~~~~~~~~~~~~~~~~~~~~\n",
      "\n",
      "\n",
      "Bayesian Fusion: AdaBoostClassifier(random_state=42)\n",
      "\n",
      "\n",
      "Accuracy Scores:\n",
      "  Model 1 accuracy score: 0.9683\n",
      "  Model 2 accuracy score: 0.9841\n",
      "  Model 3 accuracy score: 0.9841\n",
      "  Model 4 accuracy score: 0.9444\n",
      "Average accuracy score: 0.9702\n",
      "\n",
      "F1 Scores:\n",
      "  Model 1 F1 score: 0.9611\n",
      "  Model 2 F1 score: 0.9802\n",
      "  Model 3 F1 score: 0.9802\n",
      "  Model 4 F1 score: 0.9336\n",
      "Average F1 score: 0.9638\n",
      "\n",
      "~~~~~~~~~~~~~~~~~~~~~~~~~~~~~~~~~~~~~~~~~~~~~~~~~~~~~~~~~~~~~~~~~~~~~~~~~~~~~~~~~~~~~~~~~~~~~~~~~~~\n",
      "\n"
     ]
    }
   ],
   "source": [
    "models = [AdaBoostClassifier(n_estimators=50, learning_rate=1.0, random_state=42),AdaBoostClassifier(n_estimators=50, learning_rate=1.0, random_state=42),AdaBoostClassifier(n_estimators=50, learning_rate=1.0, random_state=42),AdaBoostClassifier(n_estimators=50, learning_rate=1.0, random_state=42)]\n",
    "expert_fusion(models)"
   ]
  },
  {
   "cell_type": "code",
   "execution_count": null,
   "outputs": [],
   "source": [],
   "metadata": {
    "collapsed": false
   }
  }
 ],
 "metadata": {
  "kernelspec": {
   "display_name": "Python 3",
   "language": "python",
   "name": "python3"
  },
  "language_info": {
   "codemirror_mode": {
    "name": "ipython",
    "version": 3
   },
   "file_extension": ".py",
   "mimetype": "text/x-python",
   "name": "python",
   "nbconvert_exporter": "python",
   "pygments_lexer": "ipython3",
   "version": "3.8.5"
  },
  "toc": {
   "base_numbering": 1,
   "nav_menu": {},
   "number_sections": true,
   "sideBar": true,
   "skip_h1_title": false,
   "title_cell": "Table of Contents",
   "title_sidebar": "Contents",
   "toc_cell": false,
   "toc_position": {},
   "toc_section_display": true,
   "toc_window_display": false
  },
  "varInspector": {
   "cols": {
    "lenName": 16,
    "lenType": 16,
    "lenVar": 40
   },
   "kernels_config": {
    "python": {
     "delete_cmd_postfix": "",
     "delete_cmd_prefix": "del ",
     "library": "var_list.py",
     "varRefreshCmd": "print(var_dic_list())"
    },
    "r": {
     "delete_cmd_postfix": ") ",
     "delete_cmd_prefix": "rm(",
     "library": "var_list.r",
     "varRefreshCmd": "cat(var_dic_list()) "
    }
   },
   "types_to_exclude": [
    "module",
    "function",
    "builtin_function_or_method",
    "instance",
    "_Feature"
   ],
   "window_display": false
  }
 },
 "nbformat": 4,
 "nbformat_minor": 4
}
