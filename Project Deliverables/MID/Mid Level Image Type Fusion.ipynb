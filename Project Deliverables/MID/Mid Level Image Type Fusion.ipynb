{
 "cells": [
  {
   "cell_type": "code",
   "execution_count": 18,
   "outputs": [
    {
     "name": "stdout",
     "output_type": "stream",
     "text": [
      "Classification Results:\n",
      "            Classifier  Accuracy       F1   Recall      AUC\n",
      "    LogisticRegression  0.949495 0.897959 0.916667 0.938333\n",
      "RandomForestClassifier  0.959596 0.916667 0.956522 0.958524\n",
      "         MLPClassifier  0.954545 0.901099 1.000000 0.971338\n",
      "    AdaBoostClassifier  0.964646 0.927835 0.957447 0.962167\n"
     ]
    }
   ],
   "source": [
    "import pandas as pd\n",
    "import numpy as np\n",
    "from sklearn.model_selection import train_test_split\n",
    "from sklearn.linear_model import LogisticRegression\n",
    "from sklearn.ensemble import RandomForestClassifier, AdaBoostClassifier\n",
    "from sklearn.neural_network import MLPClassifier\n",
    "from sklearn.metrics import f1_score, roc_auc_score, accuracy_score, recall_score\n",
    "import warnings\n",
    "\n",
    "warnings.filterwarnings(\"ignore\")\n",
    "\n",
    "\n",
    "def load_data():\n",
    "    # Load Color Data\n",
    "    data_col = pd.read_csv(\"Colored_Features_cleaned.csv\")\n",
    "    data_col.drop(labels=[\"Unnamed: 0\", \"Expert 1\", \"Expert 2\", \"Expert 3\", \"Expert 4\"], axis=1, inplace=True)\n",
    "\n",
    "    # Load Greyscale data\n",
    "    data_gray = pd.read_csv(\"Grayscale_Features_Cleaned.csv\")\n",
    "    data_gray.drop(labels=[\"Unnamed: 0\"], axis=1, inplace=True)\n",
    "\n",
    "    return data_col, data_gray\n",
    "\n",
    "\n",
    "def preprocess_data(data_col, data_gray):\n",
    "    features = pd.concat([data_gray, data_col], axis=1, ignore_index=False)\n",
    "    features = features.dropna()\n",
    "\n",
    "    X = features.iloc[:, 4:]\n",
    "    y = features.iloc[:, :4]\n",
    "\n",
    "    y = np.round((y[\"Expert 1\"] + y[\"Expert 2\"] + y[\"Expert 3\"] + y[\"Expert 4\"]) / 4, 0)\n",
    "\n",
    "    y = y.apply(lambda x: 1 if x >= 3 else 0)\n",
    "\n",
    "    return X, y\n",
    "\n",
    "\n",
    "def train_classifiers(classifiers, X_train, y_train, X_test, y_test):\n",
    "    # Initialize lists for storing metrics\n",
    "    classifier_names = []\n",
    "    accuracy_scores = []\n",
    "    f1_scores = []\n",
    "    auc_scores = []\n",
    "    recall_scores = []\n",
    "\n",
    "    # Iterate through classifiers and collect metrics\n",
    "    for clf in classifiers:\n",
    "        clf.fit(X_train, y_train)\n",
    "        y_pred = clf.predict(X_test)\n",
    "        classifier_names.append(clf.__class__.__name__)\n",
    "        accuracy_scores.append(accuracy_score(y_pred, y_test))\n",
    "        f1_scores.append(f1_score(y_pred, y_test))\n",
    "        auc_scores.append(roc_auc_score(y_pred, y_test))\n",
    "        recall_scores.append(recall_score(y_pred, y_test))\n",
    "\n",
    "    # Create a DataFrame with the results\n",
    "    results_df = pd.DataFrame({\n",
    "        'Classifier': classifier_names,\n",
    "        'Accuracy': accuracy_scores,\n",
    "        'F1': f1_scores,\n",
    "        'Recall': recall_scores,\n",
    "        'AUC': auc_scores\n",
    "    })\n",
    "\n",
    "    # Print the results\n",
    "    print(\"Classification Results:\")\n",
    "    print(results_df.to_string(index=False))\n",
    "\n",
    "\n",
    "def main():\n",
    "    data_col, data_gray = load_data()\n",
    "    X, y = preprocess_data(data_col, data_gray)\n",
    "\n",
    "    X_train, X_test, y_train, y_test = train_test_split(X, y, test_size=0.2, random_state=42)\n",
    "\n",
    "    classifiers = [\n",
    "        LogisticRegression(penalty='l2', C=1.0, fit_intercept=True, solver='lbfgs', max_iter=100,random_state=0),\n",
    "        RandomForestClassifier(n_estimators=100, criterion='gini', max_depth=6, min_samples_split=2),\n",
    "        MLPClassifier(hidden_layer_sizes=(1000,), activation=\"logistic\"),\n",
    "        AdaBoostClassifier(n_estimators=50, learning_rate=1.0, random_state=0)\n",
    "    ]\n",
    "\n",
    "    train_classifiers(classifiers, X_train, y_train, X_test, y_test)\n",
    "\n",
    "\n",
    "if __name__ == \"__main__\":\n",
    "    main()"
   ],
   "metadata": {
    "collapsed": false
   }
  },
  {
   "cell_type": "code",
   "execution_count": null,
   "outputs": [],
   "source": [],
   "metadata": {
    "collapsed": false
   }
  }
 ],
 "metadata": {
  "kernelspec": {
   "display_name": "Python 3",
   "language": "python",
   "name": "python3"
  },
  "language_info": {
   "codemirror_mode": {
    "name": "ipython",
    "version": 3
   },
   "file_extension": ".py",
   "mimetype": "text/x-python",
   "name": "python",
   "nbconvert_exporter": "python",
   "pygments_lexer": "ipython3",
   "version": "3.8.8"
  }
 },
 "nbformat": 4,
 "nbformat_minor": 4
}
