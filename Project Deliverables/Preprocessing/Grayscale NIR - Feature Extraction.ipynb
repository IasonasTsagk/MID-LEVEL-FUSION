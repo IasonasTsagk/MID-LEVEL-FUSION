{
 "cells": [
  {
   "cell_type": "code",
   "execution_count": 1,
   "metadata": {
    "ExecuteTime": {
     "end_time": "2023-03-23T09:46:40.902387Z",
     "start_time": "2023-03-23T09:46:38.068569Z"
    }
   },
   "outputs": [],
   "source": [
    "import pandas as pd\n",
    "import os\n",
    "from plantcv import plantcv as pcv"
   ]
  },
  {
   "cell_type": "code",
   "execution_count": 2,
   "metadata": {
    "ExecuteTime": {
     "end_time": "2023-03-23T09:46:40.917899Z",
     "start_time": "2023-03-23T09:46:40.903888Z"
    }
   },
   "outputs": [],
   "source": [
    "# Enter path to the data_fusion_guest_lecture file\n",
    "image_folder_path = r\"C:\\Users\\Fivos\\Desktop\\Data Fusion\\Project\\data\""
   ]
  },
  {
   "cell_type": "code",
   "execution_count": 3,
   "metadata": {
    "ExecuteTime": {
     "end_time": "2023-03-23T09:46:40.933402Z",
     "start_time": "2023-03-23T09:46:40.923401Z"
    }
   },
   "outputs": [],
   "source": [
    "# Loads labels\n",
    "df = pd.read_csv(os.path.join(image_folder_path, \"seedling_labels.csv\"))"
   ]
  },
  {
   "cell_type": "code",
   "execution_count": 4,
   "metadata": {
    "ExecuteTime": {
     "end_time": "2023-03-23T09:46:40.964407Z",
     "start_time": "2023-03-23T09:46:40.934403Z"
    }
   },
   "outputs": [
    {
     "data": {
      "text/html": [
       "<div>\n",
       "<style scoped>\n",
       "    .dataframe tbody tr th:only-of-type {\n",
       "        vertical-align: middle;\n",
       "    }\n",
       "\n",
       "    .dataframe tbody tr th {\n",
       "        vertical-align: top;\n",
       "    }\n",
       "\n",
       "    .dataframe thead th {\n",
       "        text-align: right;\n",
       "    }\n",
       "</style>\n",
       "<table border=\"1\" class=\"dataframe\">\n",
       "  <thead>\n",
       "    <tr style=\"text-align: right;\">\n",
       "      <th></th>\n",
       "      <th>Expert 1</th>\n",
       "      <th>Expert 2</th>\n",
       "      <th>Expert 3</th>\n",
       "      <th>Expert 4</th>\n",
       "      <th>color_cam_path</th>\n",
       "      <th>side_cam_path</th>\n",
       "      <th>Rfid</th>\n",
       "      <th>Pos</th>\n",
       "    </tr>\n",
       "  </thead>\n",
       "  <tbody>\n",
       "    <tr>\n",
       "      <th>0</th>\n",
       "      <td>4</td>\n",
       "      <td>4</td>\n",
       "      <td>4</td>\n",
       "      <td>4</td>\n",
       "      <td>A1/00387 Plant 0000 Plant 0000/18-02-2019 -- 1...</td>\n",
       "      <td>A1/00387 Plant 0000 Plant 0000/18-02-2019 -- 1...</td>\n",
       "      <td>A1</td>\n",
       "      <td>Plant 0000</td>\n",
       "    </tr>\n",
       "    <tr>\n",
       "      <th>1</th>\n",
       "      <td>1</td>\n",
       "      <td>1</td>\n",
       "      <td>1</td>\n",
       "      <td>1</td>\n",
       "      <td>A1/00388 Plant 0001 Plant 0001/18-02-2019 -- 1...</td>\n",
       "      <td>A1/00388 Plant 0001 Plant 0001/18-02-2019 -- 1...</td>\n",
       "      <td>A1</td>\n",
       "      <td>Plant 0001</td>\n",
       "    </tr>\n",
       "    <tr>\n",
       "      <th>2</th>\n",
       "      <td>1</td>\n",
       "      <td>1</td>\n",
       "      <td>1</td>\n",
       "      <td>1</td>\n",
       "      <td>A1/00389 Plant 0002 Plant 0002/18-02-2019 -- 1...</td>\n",
       "      <td>A1/00389 Plant 0002 Plant 0002/18-02-2019 -- 1...</td>\n",
       "      <td>A1</td>\n",
       "      <td>Plant 0002</td>\n",
       "    </tr>\n",
       "    <tr>\n",
       "      <th>3</th>\n",
       "      <td>4</td>\n",
       "      <td>4</td>\n",
       "      <td>3</td>\n",
       "      <td>3</td>\n",
       "      <td>A1/00390 Plant 0003 Plant 0003/18-02-2019 -- 1...</td>\n",
       "      <td>A1/00390 Plant 0003 Plant 0003/18-02-2019 -- 1...</td>\n",
       "      <td>A1</td>\n",
       "      <td>Plant 0003</td>\n",
       "    </tr>\n",
       "    <tr>\n",
       "      <th>4</th>\n",
       "      <td>3</td>\n",
       "      <td>1</td>\n",
       "      <td>1</td>\n",
       "      <td>1</td>\n",
       "      <td>A1/00391 Plant 0004 Plant 0004/18-02-2019 -- 1...</td>\n",
       "      <td>A1/00391 Plant 0004 Plant 0004/18-02-2019 -- 1...</td>\n",
       "      <td>A1</td>\n",
       "      <td>Plant 0004</td>\n",
       "    </tr>\n",
       "    <tr>\n",
       "      <th>...</th>\n",
       "      <td>...</td>\n",
       "      <td>...</td>\n",
       "      <td>...</td>\n",
       "      <td>...</td>\n",
       "      <td>...</td>\n",
       "      <td>...</td>\n",
       "      <td>...</td>\n",
       "      <td>...</td>\n",
       "    </tr>\n",
       "    <tr>\n",
       "      <th>989</th>\n",
       "      <td>1</td>\n",
       "      <td>1</td>\n",
       "      <td>1</td>\n",
       "      <td>1</td>\n",
       "      <td>B4/01019 Plant 0122 Plant 0122/18-02-2019 -- 1...</td>\n",
       "      <td>B4/01019 Plant 0122 Plant 0122/18-02-2019 -- 1...</td>\n",
       "      <td>B4</td>\n",
       "      <td>Plant 0122</td>\n",
       "    </tr>\n",
       "    <tr>\n",
       "      <th>990</th>\n",
       "      <td>1</td>\n",
       "      <td>1</td>\n",
       "      <td>1</td>\n",
       "      <td>1</td>\n",
       "      <td>B4/01020 Plant 0123 Plant 0123/18-02-2019 -- 1...</td>\n",
       "      <td>B4/01020 Plant 0123 Plant 0123/18-02-2019 -- 1...</td>\n",
       "      <td>B4</td>\n",
       "      <td>Plant 0123</td>\n",
       "    </tr>\n",
       "    <tr>\n",
       "      <th>991</th>\n",
       "      <td>1</td>\n",
       "      <td>1</td>\n",
       "      <td>1</td>\n",
       "      <td>1</td>\n",
       "      <td>B4/01021 Plant 0124 Plant 0124/18-02-2019 -- 1...</td>\n",
       "      <td>B4/01021 Plant 0124 Plant 0124/18-02-2019 -- 1...</td>\n",
       "      <td>B4</td>\n",
       "      <td>Plant 0124</td>\n",
       "    </tr>\n",
       "    <tr>\n",
       "      <th>992</th>\n",
       "      <td>2</td>\n",
       "      <td>3</td>\n",
       "      <td>3</td>\n",
       "      <td>3</td>\n",
       "      <td>B4/01022 Plant 0125 Plant 0125/18-02-2019 -- 1...</td>\n",
       "      <td>B4/01022 Plant 0125 Plant 0125/18-02-2019 -- 1...</td>\n",
       "      <td>B4</td>\n",
       "      <td>Plant 0125</td>\n",
       "    </tr>\n",
       "    <tr>\n",
       "      <th>993</th>\n",
       "      <td>3</td>\n",
       "      <td>3</td>\n",
       "      <td>3</td>\n",
       "      <td>3</td>\n",
       "      <td>B4/01023 Plant 0126 Plant 0126/18-02-2019 -- 1...</td>\n",
       "      <td>B4/01023 Plant 0126 Plant 0126/18-02-2019 -- 1...</td>\n",
       "      <td>B4</td>\n",
       "      <td>Plant 0126</td>\n",
       "    </tr>\n",
       "  </tbody>\n",
       "</table>\n",
       "<p>994 rows × 8 columns</p>\n",
       "</div>"
      ],
      "text/plain": [
       "     Expert 1  Expert 2  Expert 3  Expert 4  \\\n",
       "0           4         4         4         4   \n",
       "1           1         1         1         1   \n",
       "2           1         1         1         1   \n",
       "3           4         4         3         3   \n",
       "4           3         1         1         1   \n",
       "..        ...       ...       ...       ...   \n",
       "989         1         1         1         1   \n",
       "990         1         1         1         1   \n",
       "991         1         1         1         1   \n",
       "992         2         3         3         3   \n",
       "993         3         3         3         3   \n",
       "\n",
       "                                        color_cam_path  \\\n",
       "0    A1/00387 Plant 0000 Plant 0000/18-02-2019 -- 1...   \n",
       "1    A1/00388 Plant 0001 Plant 0001/18-02-2019 -- 1...   \n",
       "2    A1/00389 Plant 0002 Plant 0002/18-02-2019 -- 1...   \n",
       "3    A1/00390 Plant 0003 Plant 0003/18-02-2019 -- 1...   \n",
       "4    A1/00391 Plant 0004 Plant 0004/18-02-2019 -- 1...   \n",
       "..                                                 ...   \n",
       "989  B4/01019 Plant 0122 Plant 0122/18-02-2019 -- 1...   \n",
       "990  B4/01020 Plant 0123 Plant 0123/18-02-2019 -- 1...   \n",
       "991  B4/01021 Plant 0124 Plant 0124/18-02-2019 -- 1...   \n",
       "992  B4/01022 Plant 0125 Plant 0125/18-02-2019 -- 1...   \n",
       "993  B4/01023 Plant 0126 Plant 0126/18-02-2019 -- 1...   \n",
       "\n",
       "                                         side_cam_path Rfid         Pos  \n",
       "0    A1/00387 Plant 0000 Plant 0000/18-02-2019 -- 1...   A1  Plant 0000  \n",
       "1    A1/00388 Plant 0001 Plant 0001/18-02-2019 -- 1...   A1  Plant 0001  \n",
       "2    A1/00389 Plant 0002 Plant 0002/18-02-2019 -- 1...   A1  Plant 0002  \n",
       "3    A1/00390 Plant 0003 Plant 0003/18-02-2019 -- 1...   A1  Plant 0003  \n",
       "4    A1/00391 Plant 0004 Plant 0004/18-02-2019 -- 1...   A1  Plant 0004  \n",
       "..                                                 ...  ...         ...  \n",
       "989  B4/01019 Plant 0122 Plant 0122/18-02-2019 -- 1...   B4  Plant 0122  \n",
       "990  B4/01020 Plant 0123 Plant 0123/18-02-2019 -- 1...   B4  Plant 0123  \n",
       "991  B4/01021 Plant 0124 Plant 0124/18-02-2019 -- 1...   B4  Plant 0124  \n",
       "992  B4/01022 Plant 0125 Plant 0125/18-02-2019 -- 1...   B4  Plant 0125  \n",
       "993  B4/01023 Plant 0126 Plant 0126/18-02-2019 -- 1...   B4  Plant 0126  \n",
       "\n",
       "[994 rows x 8 columns]"
      ]
     },
     "execution_count": 4,
     "metadata": {},
     "output_type": "execute_result"
    }
   ],
   "source": [
    "df"
   ]
  },
  {
   "cell_type": "code",
   "execution_count": 5,
   "metadata": {
    "ExecuteTime": {
     "end_time": "2023-03-23T09:46:40.995413Z",
     "start_time": "2023-03-23T09:46:40.965908Z"
    }
   },
   "outputs": [
    {
     "data": {
      "text/html": [
       "<div>\n",
       "<style scoped>\n",
       "    .dataframe tbody tr th:only-of-type {\n",
       "        vertical-align: middle;\n",
       "    }\n",
       "\n",
       "    .dataframe tbody tr th {\n",
       "        vertical-align: top;\n",
       "    }\n",
       "\n",
       "    .dataframe thead th {\n",
       "        text-align: right;\n",
       "    }\n",
       "</style>\n",
       "<table border=\"1\" class=\"dataframe\">\n",
       "  <thead>\n",
       "    <tr style=\"text-align: right;\">\n",
       "      <th></th>\n",
       "      <th>Expert 1</th>\n",
       "      <th>Expert 2</th>\n",
       "      <th>Expert 3</th>\n",
       "      <th>Expert 4</th>\n",
       "      <th>color_cam_path</th>\n",
       "      <th>side_cam_path</th>\n",
       "      <th>Rfid</th>\n",
       "      <th>Pos</th>\n",
       "      <th>average_expert</th>\n",
       "    </tr>\n",
       "  </thead>\n",
       "  <tbody>\n",
       "    <tr>\n",
       "      <th>0</th>\n",
       "      <td>4</td>\n",
       "      <td>4</td>\n",
       "      <td>4</td>\n",
       "      <td>4</td>\n",
       "      <td>C:\\Users\\Fivos\\Desktop\\Data Fusion\\Project\\dat...</td>\n",
       "      <td>C:\\Users\\Fivos\\Desktop\\Data Fusion\\Project\\dat...</td>\n",
       "      <td>A1</td>\n",
       "      <td>Plant 0000</td>\n",
       "      <td>4.00</td>\n",
       "    </tr>\n",
       "    <tr>\n",
       "      <th>1</th>\n",
       "      <td>1</td>\n",
       "      <td>1</td>\n",
       "      <td>1</td>\n",
       "      <td>1</td>\n",
       "      <td>C:\\Users\\Fivos\\Desktop\\Data Fusion\\Project\\dat...</td>\n",
       "      <td>C:\\Users\\Fivos\\Desktop\\Data Fusion\\Project\\dat...</td>\n",
       "      <td>A1</td>\n",
       "      <td>Plant 0001</td>\n",
       "      <td>1.00</td>\n",
       "    </tr>\n",
       "    <tr>\n",
       "      <th>2</th>\n",
       "      <td>1</td>\n",
       "      <td>1</td>\n",
       "      <td>1</td>\n",
       "      <td>1</td>\n",
       "      <td>C:\\Users\\Fivos\\Desktop\\Data Fusion\\Project\\dat...</td>\n",
       "      <td>C:\\Users\\Fivos\\Desktop\\Data Fusion\\Project\\dat...</td>\n",
       "      <td>A1</td>\n",
       "      <td>Plant 0002</td>\n",
       "      <td>1.00</td>\n",
       "    </tr>\n",
       "    <tr>\n",
       "      <th>3</th>\n",
       "      <td>4</td>\n",
       "      <td>4</td>\n",
       "      <td>3</td>\n",
       "      <td>3</td>\n",
       "      <td>C:\\Users\\Fivos\\Desktop\\Data Fusion\\Project\\dat...</td>\n",
       "      <td>C:\\Users\\Fivos\\Desktop\\Data Fusion\\Project\\dat...</td>\n",
       "      <td>A1</td>\n",
       "      <td>Plant 0003</td>\n",
       "      <td>3.50</td>\n",
       "    </tr>\n",
       "    <tr>\n",
       "      <th>4</th>\n",
       "      <td>3</td>\n",
       "      <td>1</td>\n",
       "      <td>1</td>\n",
       "      <td>1</td>\n",
       "      <td>C:\\Users\\Fivos\\Desktop\\Data Fusion\\Project\\dat...</td>\n",
       "      <td>C:\\Users\\Fivos\\Desktop\\Data Fusion\\Project\\dat...</td>\n",
       "      <td>A1</td>\n",
       "      <td>Plant 0004</td>\n",
       "      <td>1.50</td>\n",
       "    </tr>\n",
       "    <tr>\n",
       "      <th>...</th>\n",
       "      <td>...</td>\n",
       "      <td>...</td>\n",
       "      <td>...</td>\n",
       "      <td>...</td>\n",
       "      <td>...</td>\n",
       "      <td>...</td>\n",
       "      <td>...</td>\n",
       "      <td>...</td>\n",
       "      <td>...</td>\n",
       "    </tr>\n",
       "    <tr>\n",
       "      <th>989</th>\n",
       "      <td>1</td>\n",
       "      <td>1</td>\n",
       "      <td>1</td>\n",
       "      <td>1</td>\n",
       "      <td>C:\\Users\\Fivos\\Desktop\\Data Fusion\\Project\\dat...</td>\n",
       "      <td>C:\\Users\\Fivos\\Desktop\\Data Fusion\\Project\\dat...</td>\n",
       "      <td>B4</td>\n",
       "      <td>Plant 0122</td>\n",
       "      <td>1.00</td>\n",
       "    </tr>\n",
       "    <tr>\n",
       "      <th>990</th>\n",
       "      <td>1</td>\n",
       "      <td>1</td>\n",
       "      <td>1</td>\n",
       "      <td>1</td>\n",
       "      <td>C:\\Users\\Fivos\\Desktop\\Data Fusion\\Project\\dat...</td>\n",
       "      <td>C:\\Users\\Fivos\\Desktop\\Data Fusion\\Project\\dat...</td>\n",
       "      <td>B4</td>\n",
       "      <td>Plant 0123</td>\n",
       "      <td>1.00</td>\n",
       "    </tr>\n",
       "    <tr>\n",
       "      <th>991</th>\n",
       "      <td>1</td>\n",
       "      <td>1</td>\n",
       "      <td>1</td>\n",
       "      <td>1</td>\n",
       "      <td>C:\\Users\\Fivos\\Desktop\\Data Fusion\\Project\\dat...</td>\n",
       "      <td>C:\\Users\\Fivos\\Desktop\\Data Fusion\\Project\\dat...</td>\n",
       "      <td>B4</td>\n",
       "      <td>Plant 0124</td>\n",
       "      <td>1.00</td>\n",
       "    </tr>\n",
       "    <tr>\n",
       "      <th>992</th>\n",
       "      <td>2</td>\n",
       "      <td>3</td>\n",
       "      <td>3</td>\n",
       "      <td>3</td>\n",
       "      <td>C:\\Users\\Fivos\\Desktop\\Data Fusion\\Project\\dat...</td>\n",
       "      <td>C:\\Users\\Fivos\\Desktop\\Data Fusion\\Project\\dat...</td>\n",
       "      <td>B4</td>\n",
       "      <td>Plant 0125</td>\n",
       "      <td>2.75</td>\n",
       "    </tr>\n",
       "    <tr>\n",
       "      <th>993</th>\n",
       "      <td>3</td>\n",
       "      <td>3</td>\n",
       "      <td>3</td>\n",
       "      <td>3</td>\n",
       "      <td>C:\\Users\\Fivos\\Desktop\\Data Fusion\\Project\\dat...</td>\n",
       "      <td>C:\\Users\\Fivos\\Desktop\\Data Fusion\\Project\\dat...</td>\n",
       "      <td>B4</td>\n",
       "      <td>Plant 0126</td>\n",
       "      <td>3.00</td>\n",
       "    </tr>\n",
       "  </tbody>\n",
       "</table>\n",
       "<p>994 rows × 9 columns</p>\n",
       "</div>"
      ],
      "text/plain": [
       "     Expert 1  Expert 2  Expert 3  Expert 4  \\\n",
       "0           4         4         4         4   \n",
       "1           1         1         1         1   \n",
       "2           1         1         1         1   \n",
       "3           4         4         3         3   \n",
       "4           3         1         1         1   \n",
       "..        ...       ...       ...       ...   \n",
       "989         1         1         1         1   \n",
       "990         1         1         1         1   \n",
       "991         1         1         1         1   \n",
       "992         2         3         3         3   \n",
       "993         3         3         3         3   \n",
       "\n",
       "                                        color_cam_path  \\\n",
       "0    C:\\Users\\Fivos\\Desktop\\Data Fusion\\Project\\dat...   \n",
       "1    C:\\Users\\Fivos\\Desktop\\Data Fusion\\Project\\dat...   \n",
       "2    C:\\Users\\Fivos\\Desktop\\Data Fusion\\Project\\dat...   \n",
       "3    C:\\Users\\Fivos\\Desktop\\Data Fusion\\Project\\dat...   \n",
       "4    C:\\Users\\Fivos\\Desktop\\Data Fusion\\Project\\dat...   \n",
       "..                                                 ...   \n",
       "989  C:\\Users\\Fivos\\Desktop\\Data Fusion\\Project\\dat...   \n",
       "990  C:\\Users\\Fivos\\Desktop\\Data Fusion\\Project\\dat...   \n",
       "991  C:\\Users\\Fivos\\Desktop\\Data Fusion\\Project\\dat...   \n",
       "992  C:\\Users\\Fivos\\Desktop\\Data Fusion\\Project\\dat...   \n",
       "993  C:\\Users\\Fivos\\Desktop\\Data Fusion\\Project\\dat...   \n",
       "\n",
       "                                         side_cam_path Rfid         Pos  \\\n",
       "0    C:\\Users\\Fivos\\Desktop\\Data Fusion\\Project\\dat...   A1  Plant 0000   \n",
       "1    C:\\Users\\Fivos\\Desktop\\Data Fusion\\Project\\dat...   A1  Plant 0001   \n",
       "2    C:\\Users\\Fivos\\Desktop\\Data Fusion\\Project\\dat...   A1  Plant 0002   \n",
       "3    C:\\Users\\Fivos\\Desktop\\Data Fusion\\Project\\dat...   A1  Plant 0003   \n",
       "4    C:\\Users\\Fivos\\Desktop\\Data Fusion\\Project\\dat...   A1  Plant 0004   \n",
       "..                                                 ...  ...         ...   \n",
       "989  C:\\Users\\Fivos\\Desktop\\Data Fusion\\Project\\dat...   B4  Plant 0122   \n",
       "990  C:\\Users\\Fivos\\Desktop\\Data Fusion\\Project\\dat...   B4  Plant 0123   \n",
       "991  C:\\Users\\Fivos\\Desktop\\Data Fusion\\Project\\dat...   B4  Plant 0124   \n",
       "992  C:\\Users\\Fivos\\Desktop\\Data Fusion\\Project\\dat...   B4  Plant 0125   \n",
       "993  C:\\Users\\Fivos\\Desktop\\Data Fusion\\Project\\dat...   B4  Plant 0126   \n",
       "\n",
       "     average_expert  \n",
       "0              4.00  \n",
       "1              1.00  \n",
       "2              1.00  \n",
       "3              3.50  \n",
       "4              1.50  \n",
       "..              ...  \n",
       "989            1.00  \n",
       "990            1.00  \n",
       "991            1.00  \n",
       "992            2.75  \n",
       "993            3.00  \n",
       "\n",
       "[994 rows x 9 columns]"
      ]
     },
     "execution_count": 5,
     "metadata": {},
     "output_type": "execute_result"
    }
   ],
   "source": [
    "# Creates path to top view\n",
    "df[\"side_cam_path\"] = image_folder_path + \"/\" + df[\"side_cam_path\"]\n",
    "\n",
    "# Gives average expert label as a starting point\n",
    "df[\"average_expert\"] = (df[\"Expert 1\"] + df[\"Expert 2\"]  + df[\"Expert 3\"] + df[\"Expert 4\"]) / 4\n",
    "df"
   ]
  },
  {
   "cell_type": "code",
   "execution_count": 6,
   "metadata": {
    "ExecuteTime": {
     "end_time": "2023-03-23T09:54:33.172663Z",
     "start_time": "2023-03-23T09:46:40.996413Z"
    },
    "scrolled": true
   },
   "outputs": [
    {
     "name": "stderr",
     "output_type": "stream",
     "text": [
      "DeprecationWarning: 'histplot' will be deprecated in a future version of PlantCV. This function creates a histogram by default. Current PlantCV version: 3.14.1 released on 2022-07-07T11:45:30-0500\n"
     ]
    },
    {
     "name": "stdout",
     "output_type": "stream",
     "text": [
      "Count is 0\n"
     ]
    },
    {
     "name": "stderr",
     "output_type": "stream",
     "text": [
      "DeprecationWarning: 'histplot' will be deprecated in a future version of PlantCV. This function creates a histogram by default. Current PlantCV version: 3.14.1 released on 2022-07-07T11:45:30-0500\n"
     ]
    },
    {
     "name": "stdout",
     "output_type": "stream",
     "text": [
      "Count is 1\n"
     ]
    },
    {
     "name": "stderr",
     "output_type": "stream",
     "text": [
      "DeprecationWarning: 'histplot' will be deprecated in a future version of PlantCV. This function creates a histogram by default. Current PlantCV version: 3.14.1 released on 2022-07-07T11:45:30-0500\n"
     ]
    },
    {
     "name": "stdout",
     "output_type": "stream",
     "text": [
      "Count is 2\n"
     ]
    },
    {
     "name": "stderr",
     "output_type": "stream",
     "text": [
      "DeprecationWarning: 'histplot' will be deprecated in a future version of PlantCV. This function creates a histogram by default. Current PlantCV version: 3.14.1 released on 2022-07-07T11:45:30-0500\n"
     ]
    },
    {
     "name": "stdout",
     "output_type": "stream",
     "text": [
      "Count is 3\n"
     ]
    },
    {
     "name": "stderr",
     "output_type": "stream",
     "text": [
      "DeprecationWarning: 'histplot' will be deprecated in a future version of PlantCV. This function creates a histogram by default. Current PlantCV version: 3.14.1 released on 2022-07-07T11:45:30-0500\n"
     ]
    },
    {
     "name": "stdout",
     "output_type": "stream",
     "text": [
      "Count is 4\n"
     ]
    },
    {
     "name": "stderr",
     "output_type": "stream",
     "text": [
      "DeprecationWarning: 'histplot' will be deprecated in a future version of PlantCV. This function creates a histogram by default. Current PlantCV version: 3.14.1 released on 2022-07-07T11:45:30-0500\n"
     ]
    },
    {
     "name": "stdout",
     "output_type": "stream",
     "text": [
      "Count is 5\n"
     ]
    },
    {
     "name": "stderr",
     "output_type": "stream",
     "text": [
      "DeprecationWarning: 'histplot' will be deprecated in a future version of PlantCV. This function creates a histogram by default. Current PlantCV version: 3.14.1 released on 2022-07-07T11:45:30-0500\n"
     ]
    },
    {
     "name": "stdout",
     "output_type": "stream",
     "text": [
      "Count is 6\n"
     ]
    },
    {
     "name": "stderr",
     "output_type": "stream",
     "text": [
      "DeprecationWarning: 'histplot' will be deprecated in a future version of PlantCV. This function creates a histogram by default. Current PlantCV version: 3.14.1 released on 2022-07-07T11:45:30-0500\n"
     ]
    },
    {
     "name": "stdout",
     "output_type": "stream",
     "text": [
      "Count is 7\n"
     ]
    },
    {
     "name": "stderr",
     "output_type": "stream",
     "text": [
      "DeprecationWarning: 'histplot' will be deprecated in a future version of PlantCV. This function creates a histogram by default. Current PlantCV version: 3.14.1 released on 2022-07-07T11:45:30-0500\n"
     ]
    },
    {
     "name": "stdout",
     "output_type": "stream",
     "text": [
      "Count is 8\n"
     ]
    },
    {
     "name": "stderr",
     "output_type": "stream",
     "text": [
      "DeprecationWarning: 'histplot' will be deprecated in a future version of PlantCV. This function creates a histogram by default. Current PlantCV version: 3.14.1 released on 2022-07-07T11:45:30-0500\n"
     ]
    },
    {
     "name": "stdout",
     "output_type": "stream",
     "text": [
      "Count is 9\n"
     ]
    },
    {
     "name": "stderr",
     "output_type": "stream",
     "text": [
      "DeprecationWarning: 'histplot' will be deprecated in a future version of PlantCV. This function creates a histogram by default. Current PlantCV version: 3.14.1 released on 2022-07-07T11:45:30-0500\n"
     ]
    },
    {
     "name": "stdout",
     "output_type": "stream",
     "text": [
      "Count is 10\n"
     ]
    },
    {
     "name": "stderr",
     "output_type": "stream",
     "text": [
      "DeprecationWarning: 'histplot' will be deprecated in a future version of PlantCV. This function creates a histogram by default. Current PlantCV version: 3.14.1 released on 2022-07-07T11:45:30-0500\n"
     ]
    },
    {
     "name": "stdout",
     "output_type": "stream",
     "text": [
      "Count is 11\n"
     ]
    },
    {
     "name": "stderr",
     "output_type": "stream",
     "text": [
      "DeprecationWarning: 'histplot' will be deprecated in a future version of PlantCV. This function creates a histogram by default. Current PlantCV version: 3.14.1 released on 2022-07-07T11:45:30-0500\n"
     ]
    },
    {
     "name": "stdout",
     "output_type": "stream",
     "text": [
      "Count is 12\n"
     ]
    },
    {
     "name": "stderr",
     "output_type": "stream",
     "text": [
      "DeprecationWarning: 'histplot' will be deprecated in a future version of PlantCV. This function creates a histogram by default. Current PlantCV version: 3.14.1 released on 2022-07-07T11:45:30-0500\n"
     ]
    },
    {
     "name": "stdout",
     "output_type": "stream",
     "text": [
      "Count is 13\n"
     ]
    },
    {
     "name": "stderr",
     "output_type": "stream",
     "text": [
      "DeprecationWarning: 'histplot' will be deprecated in a future version of PlantCV. This function creates a histogram by default. Current PlantCV version: 3.14.1 released on 2022-07-07T11:45:30-0500\n"
     ]
    },
    {
     "name": "stdout",
     "output_type": "stream",
     "text": [
      "Count is 14\n"
     ]
    },
    {
     "name": "stderr",
     "output_type": "stream",
     "text": [
      "DeprecationWarning: 'histplot' will be deprecated in a future version of PlantCV. This function creates a histogram by default. Current PlantCV version: 3.14.1 released on 2022-07-07T11:45:30-0500\n"
     ]
    },
    {
     "name": "stdout",
     "output_type": "stream",
     "text": [
      "Count is 15\n"
     ]
    },
    {
     "name": "stderr",
     "output_type": "stream",
     "text": [
      "DeprecationWarning: 'histplot' will be deprecated in a future version of PlantCV. This function creates a histogram by default. Current PlantCV version: 3.14.1 released on 2022-07-07T11:45:30-0500\n"
     ]
    },
    {
     "name": "stdout",
     "output_type": "stream",
     "text": [
      "Count is 16\n"
     ]
    },
    {
     "name": "stderr",
     "output_type": "stream",
     "text": [
      "DeprecationWarning: 'histplot' will be deprecated in a future version of PlantCV. This function creates a histogram by default. Current PlantCV version: 3.14.1 released on 2022-07-07T11:45:30-0500\n"
     ]
    },
    {
     "name": "stdout",
     "output_type": "stream",
     "text": [
      "Count is 17\n"
     ]
    },
    {
     "name": "stderr",
     "output_type": "stream",
     "text": [
      "DeprecationWarning: 'histplot' will be deprecated in a future version of PlantCV. This function creates a histogram by default. Current PlantCV version: 3.14.1 released on 2022-07-07T11:45:30-0500\n"
     ]
    },
    {
     "name": "stdout",
     "output_type": "stream",
     "text": [
      "Count is 18\n"
     ]
    },
    {
     "name": "stderr",
     "output_type": "stream",
     "text": [
      "DeprecationWarning: 'histplot' will be deprecated in a future version of PlantCV. This function creates a histogram by default. Current PlantCV version: 3.14.1 released on 2022-07-07T11:45:30-0500\n"
     ]
    },
    {
     "name": "stdout",
     "output_type": "stream",
     "text": [
      "Count is 19\n"
     ]
    },
    {
     "name": "stderr",
     "output_type": "stream",
     "text": [
      "DeprecationWarning: 'histplot' will be deprecated in a future version of PlantCV. This function creates a histogram by default. Current PlantCV version: 3.14.1 released on 2022-07-07T11:45:30-0500\n"
     ]
    },
    {
     "name": "stdout",
     "output_type": "stream",
     "text": [
      "Count is 20\n"
     ]
    },
    {
     "name": "stderr",
     "output_type": "stream",
     "text": [
      "DeprecationWarning: 'histplot' will be deprecated in a future version of PlantCV. This function creates a histogram by default. Current PlantCV version: 3.14.1 released on 2022-07-07T11:45:30-0500\n"
     ]
    },
    {
     "name": "stdout",
     "output_type": "stream",
     "text": [
      "Count is 21\n"
     ]
    },
    {
     "name": "stderr",
     "output_type": "stream",
     "text": [
      "DeprecationWarning: 'histplot' will be deprecated in a future version of PlantCV. This function creates a histogram by default. Current PlantCV version: 3.14.1 released on 2022-07-07T11:45:30-0500\n"
     ]
    },
    {
     "name": "stdout",
     "output_type": "stream",
     "text": [
      "Count is 22\n"
     ]
    },
    {
     "name": "stderr",
     "output_type": "stream",
     "text": [
      "DeprecationWarning: 'histplot' will be deprecated in a future version of PlantCV. This function creates a histogram by default. Current PlantCV version: 3.14.1 released on 2022-07-07T11:45:30-0500\n"
     ]
    },
    {
     "name": "stdout",
     "output_type": "stream",
     "text": [
      "Count is 23\n"
     ]
    },
    {
     "name": "stderr",
     "output_type": "stream",
     "text": [
      "DeprecationWarning: 'histplot' will be deprecated in a future version of PlantCV. This function creates a histogram by default. Current PlantCV version: 3.14.1 released on 2022-07-07T11:45:30-0500\n"
     ]
    },
    {
     "name": "stdout",
     "output_type": "stream",
     "text": [
      "Count is 24\n"
     ]
    },
    {
     "name": "stderr",
     "output_type": "stream",
     "text": [
      "DeprecationWarning: 'histplot' will be deprecated in a future version of PlantCV. This function creates a histogram by default. Current PlantCV version: 3.14.1 released on 2022-07-07T11:45:30-0500\n"
     ]
    },
    {
     "name": "stdout",
     "output_type": "stream",
     "text": [
      "Count is 25\n"
     ]
    },
    {
     "name": "stderr",
     "output_type": "stream",
     "text": [
      "DeprecationWarning: 'histplot' will be deprecated in a future version of PlantCV. This function creates a histogram by default. Current PlantCV version: 3.14.1 released on 2022-07-07T11:45:30-0500\n"
     ]
    },
    {
     "name": "stdout",
     "output_type": "stream",
     "text": [
      "Count is 26\n"
     ]
    },
    {
     "name": "stderr",
     "output_type": "stream",
     "text": [
      "DeprecationWarning: 'histplot' will be deprecated in a future version of PlantCV. This function creates a histogram by default. Current PlantCV version: 3.14.1 released on 2022-07-07T11:45:30-0500\n"
     ]
    },
    {
     "name": "stdout",
     "output_type": "stream",
     "text": [
      "Count is 27\n"
     ]
    },
    {
     "name": "stderr",
     "output_type": "stream",
     "text": [
      "DeprecationWarning: 'histplot' will be deprecated in a future version of PlantCV. This function creates a histogram by default. Current PlantCV version: 3.14.1 released on 2022-07-07T11:45:30-0500\n"
     ]
    },
    {
     "name": "stdout",
     "output_type": "stream",
     "text": [
      "Count is 28\n"
     ]
    },
    {
     "name": "stderr",
     "output_type": "stream",
     "text": [
      "DeprecationWarning: 'histplot' will be deprecated in a future version of PlantCV. This function creates a histogram by default. Current PlantCV version: 3.14.1 released on 2022-07-07T11:45:30-0500\n"
     ]
    },
    {
     "name": "stdout",
     "output_type": "stream",
     "text": [
      "Count is 29\n"
     ]
    },
    {
     "name": "stderr",
     "output_type": "stream",
     "text": [
      "DeprecationWarning: 'histplot' will be deprecated in a future version of PlantCV. This function creates a histogram by default. Current PlantCV version: 3.14.1 released on 2022-07-07T11:45:30-0500\n"
     ]
    },
    {
     "name": "stdout",
     "output_type": "stream",
     "text": [
      "Count is 30\n"
     ]
    },
    {
     "name": "stderr",
     "output_type": "stream",
     "text": [
      "DeprecationWarning: 'histplot' will be deprecated in a future version of PlantCV. This function creates a histogram by default. Current PlantCV version: 3.14.1 released on 2022-07-07T11:45:30-0500\n"
     ]
    },
    {
     "name": "stdout",
     "output_type": "stream",
     "text": [
      "Count is 31\n"
     ]
    },
    {
     "name": "stderr",
     "output_type": "stream",
     "text": [
      "DeprecationWarning: 'histplot' will be deprecated in a future version of PlantCV. This function creates a histogram by default. Current PlantCV version: 3.14.1 released on 2022-07-07T11:45:30-0500\n"
     ]
    },
    {
     "name": "stdout",
     "output_type": "stream",
     "text": [
      "Count is 32\n"
     ]
    },
    {
     "name": "stderr",
     "output_type": "stream",
     "text": [
      "DeprecationWarning: 'histplot' will be deprecated in a future version of PlantCV. This function creates a histogram by default. Current PlantCV version: 3.14.1 released on 2022-07-07T11:45:30-0500\n"
     ]
    },
    {
     "name": "stdout",
     "output_type": "stream",
     "text": [
      "Count is 33\n"
     ]
    },
    {
     "name": "stderr",
     "output_type": "stream",
     "text": [
      "DeprecationWarning: 'histplot' will be deprecated in a future version of PlantCV. This function creates a histogram by default. Current PlantCV version: 3.14.1 released on 2022-07-07T11:45:30-0500\n"
     ]
    },
    {
     "name": "stdout",
     "output_type": "stream",
     "text": [
      "Count is 34\n"
     ]
    },
    {
     "name": "stderr",
     "output_type": "stream",
     "text": [
      "DeprecationWarning: 'histplot' will be deprecated in a future version of PlantCV. This function creates a histogram by default. Current PlantCV version: 3.14.1 released on 2022-07-07T11:45:30-0500\n"
     ]
    },
    {
     "name": "stdout",
     "output_type": "stream",
     "text": [
      "Count is 35\n"
     ]
    },
    {
     "name": "stderr",
     "output_type": "stream",
     "text": [
      "DeprecationWarning: 'histplot' will be deprecated in a future version of PlantCV. This function creates a histogram by default. Current PlantCV version: 3.14.1 released on 2022-07-07T11:45:30-0500\n"
     ]
    },
    {
     "name": "stdout",
     "output_type": "stream",
     "text": [
      "Count is 36\n"
     ]
    },
    {
     "name": "stderr",
     "output_type": "stream",
     "text": [
      "DeprecationWarning: 'histplot' will be deprecated in a future version of PlantCV. This function creates a histogram by default. Current PlantCV version: 3.14.1 released on 2022-07-07T11:45:30-0500\n"
     ]
    },
    {
     "name": "stdout",
     "output_type": "stream",
     "text": [
      "Count is 37\n"
     ]
    },
    {
     "name": "stderr",
     "output_type": "stream",
     "text": [
      "DeprecationWarning: 'histplot' will be deprecated in a future version of PlantCV. This function creates a histogram by default. Current PlantCV version: 3.14.1 released on 2022-07-07T11:45:30-0500\n"
     ]
    },
    {
     "name": "stdout",
     "output_type": "stream",
     "text": [
      "Count is 38\n"
     ]
    },
    {
     "name": "stderr",
     "output_type": "stream",
     "text": [
      "DeprecationWarning: 'histplot' will be deprecated in a future version of PlantCV. This function creates a histogram by default. Current PlantCV version: 3.14.1 released on 2022-07-07T11:45:30-0500\n"
     ]
    },
    {
     "name": "stdout",
     "output_type": "stream",
     "text": [
      "Count is 39\n"
     ]
    },
    {
     "name": "stderr",
     "output_type": "stream",
     "text": [
      "DeprecationWarning: 'histplot' will be deprecated in a future version of PlantCV. This function creates a histogram by default. Current PlantCV version: 3.14.1 released on 2022-07-07T11:45:30-0500\n"
     ]
    },
    {
     "name": "stdout",
     "output_type": "stream",
     "text": [
      "Count is 40\n"
     ]
    },
    {
     "name": "stderr",
     "output_type": "stream",
     "text": [
      "DeprecationWarning: 'histplot' will be deprecated in a future version of PlantCV. This function creates a histogram by default. Current PlantCV version: 3.14.1 released on 2022-07-07T11:45:30-0500\n"
     ]
    },
    {
     "name": "stdout",
     "output_type": "stream",
     "text": [
      "Count is 41\n"
     ]
    },
    {
     "name": "stderr",
     "output_type": "stream",
     "text": [
      "DeprecationWarning: 'histplot' will be deprecated in a future version of PlantCV. This function creates a histogram by default. Current PlantCV version: 3.14.1 released on 2022-07-07T11:45:30-0500\n"
     ]
    },
    {
     "name": "stdout",
     "output_type": "stream",
     "text": [
      "Count is 42\n"
     ]
    },
    {
     "name": "stderr",
     "output_type": "stream",
     "text": [
      "DeprecationWarning: 'histplot' will be deprecated in a future version of PlantCV. This function creates a histogram by default. Current PlantCV version: 3.14.1 released on 2022-07-07T11:45:30-0500\n"
     ]
    },
    {
     "name": "stdout",
     "output_type": "stream",
     "text": [
      "Count is 43\n"
     ]
    },
    {
     "name": "stderr",
     "output_type": "stream",
     "text": [
      "DeprecationWarning: 'histplot' will be deprecated in a future version of PlantCV. This function creates a histogram by default. Current PlantCV version: 3.14.1 released on 2022-07-07T11:45:30-0500\n"
     ]
    },
    {
     "name": "stdout",
     "output_type": "stream",
     "text": [
      "Count is 44\n"
     ]
    },
    {
     "name": "stderr",
     "output_type": "stream",
     "text": [
      "DeprecationWarning: 'histplot' will be deprecated in a future version of PlantCV. This function creates a histogram by default. Current PlantCV version: 3.14.1 released on 2022-07-07T11:45:30-0500\n"
     ]
    },
    {
     "name": "stdout",
     "output_type": "stream",
     "text": [
      "Count is 45\n"
     ]
    },
    {
     "name": "stderr",
     "output_type": "stream",
     "text": [
      "DeprecationWarning: 'histplot' will be deprecated in a future version of PlantCV. This function creates a histogram by default. Current PlantCV version: 3.14.1 released on 2022-07-07T11:45:30-0500\n"
     ]
    },
    {
     "name": "stdout",
     "output_type": "stream",
     "text": [
      "Count is 46\n"
     ]
    },
    {
     "name": "stderr",
     "output_type": "stream",
     "text": [
      "DeprecationWarning: 'histplot' will be deprecated in a future version of PlantCV. This function creates a histogram by default. Current PlantCV version: 3.14.1 released on 2022-07-07T11:45:30-0500\n"
     ]
    },
    {
     "name": "stdout",
     "output_type": "stream",
     "text": [
      "Count is 47\n"
     ]
    },
    {
     "name": "stderr",
     "output_type": "stream",
     "text": [
      "DeprecationWarning: 'histplot' will be deprecated in a future version of PlantCV. This function creates a histogram by default. Current PlantCV version: 3.14.1 released on 2022-07-07T11:45:30-0500\n"
     ]
    },
    {
     "name": "stdout",
     "output_type": "stream",
     "text": [
      "Count is 48\n"
     ]
    },
    {
     "name": "stderr",
     "output_type": "stream",
     "text": [
      "DeprecationWarning: 'histplot' will be deprecated in a future version of PlantCV. This function creates a histogram by default. Current PlantCV version: 3.14.1 released on 2022-07-07T11:45:30-0500\n"
     ]
    },
    {
     "name": "stdout",
     "output_type": "stream",
     "text": [
      "Count is 49\n"
     ]
    },
    {
     "name": "stderr",
     "output_type": "stream",
     "text": [
      "DeprecationWarning: 'histplot' will be deprecated in a future version of PlantCV. This function creates a histogram by default. Current PlantCV version: 3.14.1 released on 2022-07-07T11:45:30-0500\n"
     ]
    },
    {
     "name": "stdout",
     "output_type": "stream",
     "text": [
      "Count is 50\n"
     ]
    },
    {
     "name": "stderr",
     "output_type": "stream",
     "text": [
      "DeprecationWarning: 'histplot' will be deprecated in a future version of PlantCV. This function creates a histogram by default. Current PlantCV version: 3.14.1 released on 2022-07-07T11:45:30-0500\n"
     ]
    },
    {
     "name": "stdout",
     "output_type": "stream",
     "text": [
      "Count is 51\n"
     ]
    },
    {
     "name": "stderr",
     "output_type": "stream",
     "text": [
      "DeprecationWarning: 'histplot' will be deprecated in a future version of PlantCV. This function creates a histogram by default. Current PlantCV version: 3.14.1 released on 2022-07-07T11:45:30-0500\n"
     ]
    },
    {
     "name": "stdout",
     "output_type": "stream",
     "text": [
      "Count is 52\n"
     ]
    },
    {
     "name": "stderr",
     "output_type": "stream",
     "text": [
      "DeprecationWarning: 'histplot' will be deprecated in a future version of PlantCV. This function creates a histogram by default. Current PlantCV version: 3.14.1 released on 2022-07-07T11:45:30-0500\n"
     ]
    },
    {
     "name": "stdout",
     "output_type": "stream",
     "text": [
      "Count is 53\n"
     ]
    },
    {
     "name": "stderr",
     "output_type": "stream",
     "text": [
      "DeprecationWarning: 'histplot' will be deprecated in a future version of PlantCV. This function creates a histogram by default. Current PlantCV version: 3.14.1 released on 2022-07-07T11:45:30-0500\n"
     ]
    },
    {
     "name": "stdout",
     "output_type": "stream",
     "text": [
      "Count is 54\n"
     ]
    },
    {
     "name": "stderr",
     "output_type": "stream",
     "text": [
      "DeprecationWarning: 'histplot' will be deprecated in a future version of PlantCV. This function creates a histogram by default. Current PlantCV version: 3.14.1 released on 2022-07-07T11:45:30-0500\n"
     ]
    },
    {
     "name": "stdout",
     "output_type": "stream",
     "text": [
      "Count is 55\n"
     ]
    },
    {
     "name": "stderr",
     "output_type": "stream",
     "text": [
      "DeprecationWarning: 'histplot' will be deprecated in a future version of PlantCV. This function creates a histogram by default. Current PlantCV version: 3.14.1 released on 2022-07-07T11:45:30-0500\n"
     ]
    },
    {
     "name": "stdout",
     "output_type": "stream",
     "text": [
      "Count is 56\n"
     ]
    },
    {
     "name": "stderr",
     "output_type": "stream",
     "text": [
      "DeprecationWarning: 'histplot' will be deprecated in a future version of PlantCV. This function creates a histogram by default. Current PlantCV version: 3.14.1 released on 2022-07-07T11:45:30-0500\n"
     ]
    },
    {
     "name": "stdout",
     "output_type": "stream",
     "text": [
      "Count is 57\n"
     ]
    },
    {
     "name": "stderr",
     "output_type": "stream",
     "text": [
      "DeprecationWarning: 'histplot' will be deprecated in a future version of PlantCV. This function creates a histogram by default. Current PlantCV version: 3.14.1 released on 2022-07-07T11:45:30-0500\n"
     ]
    },
    {
     "name": "stdout",
     "output_type": "stream",
     "text": [
      "Count is 58\n"
     ]
    },
    {
     "name": "stderr",
     "output_type": "stream",
     "text": [
      "DeprecationWarning: 'histplot' will be deprecated in a future version of PlantCV. This function creates a histogram by default. Current PlantCV version: 3.14.1 released on 2022-07-07T11:45:30-0500\n"
     ]
    },
    {
     "name": "stdout",
     "output_type": "stream",
     "text": [
      "Count is 59\n"
     ]
    },
    {
     "name": "stderr",
     "output_type": "stream",
     "text": [
      "DeprecationWarning: 'histplot' will be deprecated in a future version of PlantCV. This function creates a histogram by default. Current PlantCV version: 3.14.1 released on 2022-07-07T11:45:30-0500\n"
     ]
    },
    {
     "name": "stdout",
     "output_type": "stream",
     "text": [
      "Count is 60\n"
     ]
    },
    {
     "name": "stderr",
     "output_type": "stream",
     "text": [
      "DeprecationWarning: 'histplot' will be deprecated in a future version of PlantCV. This function creates a histogram by default. Current PlantCV version: 3.14.1 released on 2022-07-07T11:45:30-0500\n"
     ]
    },
    {
     "name": "stdout",
     "output_type": "stream",
     "text": [
      "Count is 61\n"
     ]
    },
    {
     "name": "stderr",
     "output_type": "stream",
     "text": [
      "DeprecationWarning: 'histplot' will be deprecated in a future version of PlantCV. This function creates a histogram by default. Current PlantCV version: 3.14.1 released on 2022-07-07T11:45:30-0500\n"
     ]
    },
    {
     "name": "stdout",
     "output_type": "stream",
     "text": [
      "Count is 62\n"
     ]
    },
    {
     "name": "stderr",
     "output_type": "stream",
     "text": [
      "DeprecationWarning: 'histplot' will be deprecated in a future version of PlantCV. This function creates a histogram by default. Current PlantCV version: 3.14.1 released on 2022-07-07T11:45:30-0500\n"
     ]
    },
    {
     "name": "stdout",
     "output_type": "stream",
     "text": [
      "Count is 63\n"
     ]
    },
    {
     "name": "stderr",
     "output_type": "stream",
     "text": [
      "DeprecationWarning: 'histplot' will be deprecated in a future version of PlantCV. This function creates a histogram by default. Current PlantCV version: 3.14.1 released on 2022-07-07T11:45:30-0500\n"
     ]
    },
    {
     "name": "stdout",
     "output_type": "stream",
     "text": [
      "Count is 64\n"
     ]
    },
    {
     "name": "stderr",
     "output_type": "stream",
     "text": [
      "DeprecationWarning: 'histplot' will be deprecated in a future version of PlantCV. This function creates a histogram by default. Current PlantCV version: 3.14.1 released on 2022-07-07T11:45:30-0500\n"
     ]
    },
    {
     "name": "stdout",
     "output_type": "stream",
     "text": [
      "Count is 65\n"
     ]
    },
    {
     "name": "stderr",
     "output_type": "stream",
     "text": [
      "DeprecationWarning: 'histplot' will be deprecated in a future version of PlantCV. This function creates a histogram by default. Current PlantCV version: 3.14.1 released on 2022-07-07T11:45:30-0500\n"
     ]
    },
    {
     "name": "stdout",
     "output_type": "stream",
     "text": [
      "Count is 66\n"
     ]
    },
    {
     "name": "stderr",
     "output_type": "stream",
     "text": [
      "DeprecationWarning: 'histplot' will be deprecated in a future version of PlantCV. This function creates a histogram by default. Current PlantCV version: 3.14.1 released on 2022-07-07T11:45:30-0500\n"
     ]
    },
    {
     "name": "stdout",
     "output_type": "stream",
     "text": [
      "Count is 67\n"
     ]
    },
    {
     "name": "stderr",
     "output_type": "stream",
     "text": [
      "DeprecationWarning: 'histplot' will be deprecated in a future version of PlantCV. This function creates a histogram by default. Current PlantCV version: 3.14.1 released on 2022-07-07T11:45:30-0500\n"
     ]
    },
    {
     "name": "stdout",
     "output_type": "stream",
     "text": [
      "Count is 68\n"
     ]
    },
    {
     "name": "stderr",
     "output_type": "stream",
     "text": [
      "DeprecationWarning: 'histplot' will be deprecated in a future version of PlantCV. This function creates a histogram by default. Current PlantCV version: 3.14.1 released on 2022-07-07T11:45:30-0500\n"
     ]
    },
    {
     "name": "stdout",
     "output_type": "stream",
     "text": [
      "Count is 69\n"
     ]
    },
    {
     "name": "stderr",
     "output_type": "stream",
     "text": [
      "DeprecationWarning: 'histplot' will be deprecated in a future version of PlantCV. This function creates a histogram by default. Current PlantCV version: 3.14.1 released on 2022-07-07T11:45:30-0500\n"
     ]
    },
    {
     "name": "stdout",
     "output_type": "stream",
     "text": [
      "Count is 70\n"
     ]
    },
    {
     "name": "stderr",
     "output_type": "stream",
     "text": [
      "DeprecationWarning: 'histplot' will be deprecated in a future version of PlantCV. This function creates a histogram by default. Current PlantCV version: 3.14.1 released on 2022-07-07T11:45:30-0500\n"
     ]
    },
    {
     "name": "stdout",
     "output_type": "stream",
     "text": [
      "Count is 71\n"
     ]
    },
    {
     "name": "stderr",
     "output_type": "stream",
     "text": [
      "DeprecationWarning: 'histplot' will be deprecated in a future version of PlantCV. This function creates a histogram by default. Current PlantCV version: 3.14.1 released on 2022-07-07T11:45:30-0500\n"
     ]
    },
    {
     "name": "stdout",
     "output_type": "stream",
     "text": [
      "Count is 72\n"
     ]
    },
    {
     "name": "stderr",
     "output_type": "stream",
     "text": [
      "DeprecationWarning: 'histplot' will be deprecated in a future version of PlantCV. This function creates a histogram by default. Current PlantCV version: 3.14.1 released on 2022-07-07T11:45:30-0500\n"
     ]
    },
    {
     "name": "stdout",
     "output_type": "stream",
     "text": [
      "Count is 73\n"
     ]
    },
    {
     "name": "stderr",
     "output_type": "stream",
     "text": [
      "DeprecationWarning: 'histplot' will be deprecated in a future version of PlantCV. This function creates a histogram by default. Current PlantCV version: 3.14.1 released on 2022-07-07T11:45:30-0500\n"
     ]
    },
    {
     "name": "stdout",
     "output_type": "stream",
     "text": [
      "Count is 74\n"
     ]
    },
    {
     "name": "stderr",
     "output_type": "stream",
     "text": [
      "DeprecationWarning: 'histplot' will be deprecated in a future version of PlantCV. This function creates a histogram by default. Current PlantCV version: 3.14.1 released on 2022-07-07T11:45:30-0500\n"
     ]
    },
    {
     "name": "stdout",
     "output_type": "stream",
     "text": [
      "Count is 75\n"
     ]
    },
    {
     "name": "stderr",
     "output_type": "stream",
     "text": [
      "DeprecationWarning: 'histplot' will be deprecated in a future version of PlantCV. This function creates a histogram by default. Current PlantCV version: 3.14.1 released on 2022-07-07T11:45:30-0500\n"
     ]
    },
    {
     "name": "stdout",
     "output_type": "stream",
     "text": [
      "Count is 76\n"
     ]
    },
    {
     "name": "stderr",
     "output_type": "stream",
     "text": [
      "DeprecationWarning: 'histplot' will be deprecated in a future version of PlantCV. This function creates a histogram by default. Current PlantCV version: 3.14.1 released on 2022-07-07T11:45:30-0500\n"
     ]
    },
    {
     "name": "stdout",
     "output_type": "stream",
     "text": [
      "Count is 77\n"
     ]
    },
    {
     "name": "stderr",
     "output_type": "stream",
     "text": [
      "DeprecationWarning: 'histplot' will be deprecated in a future version of PlantCV. This function creates a histogram by default. Current PlantCV version: 3.14.1 released on 2022-07-07T11:45:30-0500\n"
     ]
    },
    {
     "name": "stdout",
     "output_type": "stream",
     "text": [
      "Count is 78\n"
     ]
    },
    {
     "name": "stderr",
     "output_type": "stream",
     "text": [
      "DeprecationWarning: 'histplot' will be deprecated in a future version of PlantCV. This function creates a histogram by default. Current PlantCV version: 3.14.1 released on 2022-07-07T11:45:30-0500\n"
     ]
    },
    {
     "name": "stdout",
     "output_type": "stream",
     "text": [
      "Count is 79\n"
     ]
    },
    {
     "name": "stderr",
     "output_type": "stream",
     "text": [
      "DeprecationWarning: 'histplot' will be deprecated in a future version of PlantCV. This function creates a histogram by default. Current PlantCV version: 3.14.1 released on 2022-07-07T11:45:30-0500\n"
     ]
    },
    {
     "name": "stdout",
     "output_type": "stream",
     "text": [
      "Count is 80\n"
     ]
    },
    {
     "name": "stderr",
     "output_type": "stream",
     "text": [
      "DeprecationWarning: 'histplot' will be deprecated in a future version of PlantCV. This function creates a histogram by default. Current PlantCV version: 3.14.1 released on 2022-07-07T11:45:30-0500\n"
     ]
    },
    {
     "name": "stdout",
     "output_type": "stream",
     "text": [
      "Count is 81\n"
     ]
    },
    {
     "name": "stderr",
     "output_type": "stream",
     "text": [
      "DeprecationWarning: 'histplot' will be deprecated in a future version of PlantCV. This function creates a histogram by default. Current PlantCV version: 3.14.1 released on 2022-07-07T11:45:30-0500\n"
     ]
    },
    {
     "name": "stdout",
     "output_type": "stream",
     "text": [
      "Count is 82\n"
     ]
    },
    {
     "name": "stderr",
     "output_type": "stream",
     "text": [
      "DeprecationWarning: 'histplot' will be deprecated in a future version of PlantCV. This function creates a histogram by default. Current PlantCV version: 3.14.1 released on 2022-07-07T11:45:30-0500\n"
     ]
    },
    {
     "name": "stdout",
     "output_type": "stream",
     "text": [
      "Count is 83\n"
     ]
    },
    {
     "name": "stderr",
     "output_type": "stream",
     "text": [
      "DeprecationWarning: 'histplot' will be deprecated in a future version of PlantCV. This function creates a histogram by default. Current PlantCV version: 3.14.1 released on 2022-07-07T11:45:30-0500\n"
     ]
    },
    {
     "name": "stdout",
     "output_type": "stream",
     "text": [
      "Count is 84\n"
     ]
    },
    {
     "name": "stderr",
     "output_type": "stream",
     "text": [
      "DeprecationWarning: 'histplot' will be deprecated in a future version of PlantCV. This function creates a histogram by default. Current PlantCV version: 3.14.1 released on 2022-07-07T11:45:30-0500\n"
     ]
    },
    {
     "name": "stdout",
     "output_type": "stream",
     "text": [
      "Count is 85\n"
     ]
    },
    {
     "name": "stderr",
     "output_type": "stream",
     "text": [
      "DeprecationWarning: 'histplot' will be deprecated in a future version of PlantCV. This function creates a histogram by default. Current PlantCV version: 3.14.1 released on 2022-07-07T11:45:30-0500\n"
     ]
    },
    {
     "name": "stdout",
     "output_type": "stream",
     "text": [
      "Count is 86\n"
     ]
    },
    {
     "name": "stderr",
     "output_type": "stream",
     "text": [
      "DeprecationWarning: 'histplot' will be deprecated in a future version of PlantCV. This function creates a histogram by default. Current PlantCV version: 3.14.1 released on 2022-07-07T11:45:30-0500\n"
     ]
    },
    {
     "name": "stdout",
     "output_type": "stream",
     "text": [
      "Count is 87\n"
     ]
    },
    {
     "name": "stderr",
     "output_type": "stream",
     "text": [
      "DeprecationWarning: 'histplot' will be deprecated in a future version of PlantCV. This function creates a histogram by default. Current PlantCV version: 3.14.1 released on 2022-07-07T11:45:30-0500\n"
     ]
    },
    {
     "name": "stdout",
     "output_type": "stream",
     "text": [
      "Count is 88\n"
     ]
    },
    {
     "name": "stderr",
     "output_type": "stream",
     "text": [
      "DeprecationWarning: 'histplot' will be deprecated in a future version of PlantCV. This function creates a histogram by default. Current PlantCV version: 3.14.1 released on 2022-07-07T11:45:30-0500\n"
     ]
    },
    {
     "name": "stdout",
     "output_type": "stream",
     "text": [
      "Count is 89\n"
     ]
    },
    {
     "name": "stderr",
     "output_type": "stream",
     "text": [
      "DeprecationWarning: 'histplot' will be deprecated in a future version of PlantCV. This function creates a histogram by default. Current PlantCV version: 3.14.1 released on 2022-07-07T11:45:30-0500\n"
     ]
    },
    {
     "name": "stdout",
     "output_type": "stream",
     "text": [
      "Count is 90\n"
     ]
    },
    {
     "name": "stderr",
     "output_type": "stream",
     "text": [
      "DeprecationWarning: 'histplot' will be deprecated in a future version of PlantCV. This function creates a histogram by default. Current PlantCV version: 3.14.1 released on 2022-07-07T11:45:30-0500\n"
     ]
    },
    {
     "name": "stdout",
     "output_type": "stream",
     "text": [
      "Count is 91\n"
     ]
    },
    {
     "name": "stderr",
     "output_type": "stream",
     "text": [
      "DeprecationWarning: 'histplot' will be deprecated in a future version of PlantCV. This function creates a histogram by default. Current PlantCV version: 3.14.1 released on 2022-07-07T11:45:30-0500\n"
     ]
    },
    {
     "name": "stdout",
     "output_type": "stream",
     "text": [
      "Count is 92\n"
     ]
    },
    {
     "name": "stderr",
     "output_type": "stream",
     "text": [
      "DeprecationWarning: 'histplot' will be deprecated in a future version of PlantCV. This function creates a histogram by default. Current PlantCV version: 3.14.1 released on 2022-07-07T11:45:30-0500\n"
     ]
    },
    {
     "name": "stdout",
     "output_type": "stream",
     "text": [
      "Count is 93\n"
     ]
    },
    {
     "name": "stderr",
     "output_type": "stream",
     "text": [
      "DeprecationWarning: 'histplot' will be deprecated in a future version of PlantCV. This function creates a histogram by default. Current PlantCV version: 3.14.1 released on 2022-07-07T11:45:30-0500\n"
     ]
    },
    {
     "name": "stdout",
     "output_type": "stream",
     "text": [
      "Count is 94\n"
     ]
    },
    {
     "name": "stderr",
     "output_type": "stream",
     "text": [
      "DeprecationWarning: 'histplot' will be deprecated in a future version of PlantCV. This function creates a histogram by default. Current PlantCV version: 3.14.1 released on 2022-07-07T11:45:30-0500\n"
     ]
    },
    {
     "name": "stdout",
     "output_type": "stream",
     "text": [
      "Count is 95\n"
     ]
    },
    {
     "name": "stderr",
     "output_type": "stream",
     "text": [
      "DeprecationWarning: 'histplot' will be deprecated in a future version of PlantCV. This function creates a histogram by default. Current PlantCV version: 3.14.1 released on 2022-07-07T11:45:30-0500\n"
     ]
    },
    {
     "name": "stdout",
     "output_type": "stream",
     "text": [
      "Count is 96\n"
     ]
    },
    {
     "name": "stderr",
     "output_type": "stream",
     "text": [
      "DeprecationWarning: 'histplot' will be deprecated in a future version of PlantCV. This function creates a histogram by default. Current PlantCV version: 3.14.1 released on 2022-07-07T11:45:30-0500\n"
     ]
    },
    {
     "name": "stdout",
     "output_type": "stream",
     "text": [
      "Count is 97\n"
     ]
    },
    {
     "name": "stderr",
     "output_type": "stream",
     "text": [
      "DeprecationWarning: 'histplot' will be deprecated in a future version of PlantCV. This function creates a histogram by default. Current PlantCV version: 3.14.1 released on 2022-07-07T11:45:30-0500\n"
     ]
    },
    {
     "name": "stdout",
     "output_type": "stream",
     "text": [
      "Count is 98\n"
     ]
    },
    {
     "name": "stderr",
     "output_type": "stream",
     "text": [
      "DeprecationWarning: 'histplot' will be deprecated in a future version of PlantCV. This function creates a histogram by default. Current PlantCV version: 3.14.1 released on 2022-07-07T11:45:30-0500\n"
     ]
    },
    {
     "name": "stdout",
     "output_type": "stream",
     "text": [
      "Count is 99\n"
     ]
    },
    {
     "name": "stderr",
     "output_type": "stream",
     "text": [
      "DeprecationWarning: 'histplot' will be deprecated in a future version of PlantCV. This function creates a histogram by default. Current PlantCV version: 3.14.1 released on 2022-07-07T11:45:30-0500\n"
     ]
    },
    {
     "name": "stdout",
     "output_type": "stream",
     "text": [
      "Count is 100\n"
     ]
    },
    {
     "name": "stderr",
     "output_type": "stream",
     "text": [
      "DeprecationWarning: 'histplot' will be deprecated in a future version of PlantCV. This function creates a histogram by default. Current PlantCV version: 3.14.1 released on 2022-07-07T11:45:30-0500\n"
     ]
    },
    {
     "name": "stdout",
     "output_type": "stream",
     "text": [
      "Count is 101\n"
     ]
    },
    {
     "name": "stderr",
     "output_type": "stream",
     "text": [
      "DeprecationWarning: 'histplot' will be deprecated in a future version of PlantCV. This function creates a histogram by default. Current PlantCV version: 3.14.1 released on 2022-07-07T11:45:30-0500\n"
     ]
    },
    {
     "name": "stdout",
     "output_type": "stream",
     "text": [
      "Count is 102\n"
     ]
    },
    {
     "name": "stderr",
     "output_type": "stream",
     "text": [
      "DeprecationWarning: 'histplot' will be deprecated in a future version of PlantCV. This function creates a histogram by default. Current PlantCV version: 3.14.1 released on 2022-07-07T11:45:30-0500\n"
     ]
    },
    {
     "name": "stdout",
     "output_type": "stream",
     "text": [
      "Count is 103\n"
     ]
    },
    {
     "name": "stderr",
     "output_type": "stream",
     "text": [
      "DeprecationWarning: 'histplot' will be deprecated in a future version of PlantCV. This function creates a histogram by default. Current PlantCV version: 3.14.1 released on 2022-07-07T11:45:30-0500\n"
     ]
    },
    {
     "name": "stdout",
     "output_type": "stream",
     "text": [
      "Count is 104\n"
     ]
    },
    {
     "name": "stderr",
     "output_type": "stream",
     "text": [
      "DeprecationWarning: 'histplot' will be deprecated in a future version of PlantCV. This function creates a histogram by default. Current PlantCV version: 3.14.1 released on 2022-07-07T11:45:30-0500\n"
     ]
    },
    {
     "name": "stdout",
     "output_type": "stream",
     "text": [
      "Count is 105\n"
     ]
    },
    {
     "name": "stderr",
     "output_type": "stream",
     "text": [
      "DeprecationWarning: 'histplot' will be deprecated in a future version of PlantCV. This function creates a histogram by default. Current PlantCV version: 3.14.1 released on 2022-07-07T11:45:30-0500\n"
     ]
    },
    {
     "name": "stdout",
     "output_type": "stream",
     "text": [
      "Count is 106\n"
     ]
    },
    {
     "name": "stderr",
     "output_type": "stream",
     "text": [
      "DeprecationWarning: 'histplot' will be deprecated in a future version of PlantCV. This function creates a histogram by default. Current PlantCV version: 3.14.1 released on 2022-07-07T11:45:30-0500\n"
     ]
    },
    {
     "name": "stdout",
     "output_type": "stream",
     "text": [
      "Count is 107\n"
     ]
    },
    {
     "name": "stderr",
     "output_type": "stream",
     "text": [
      "DeprecationWarning: 'histplot' will be deprecated in a future version of PlantCV. This function creates a histogram by default. Current PlantCV version: 3.14.1 released on 2022-07-07T11:45:30-0500\n"
     ]
    },
    {
     "name": "stdout",
     "output_type": "stream",
     "text": [
      "Count is 108\n"
     ]
    },
    {
     "name": "stderr",
     "output_type": "stream",
     "text": [
      "DeprecationWarning: 'histplot' will be deprecated in a future version of PlantCV. This function creates a histogram by default. Current PlantCV version: 3.14.1 released on 2022-07-07T11:45:30-0500\n"
     ]
    },
    {
     "name": "stdout",
     "output_type": "stream",
     "text": [
      "Count is 109\n"
     ]
    },
    {
     "name": "stderr",
     "output_type": "stream",
     "text": [
      "DeprecationWarning: 'histplot' will be deprecated in a future version of PlantCV. This function creates a histogram by default. Current PlantCV version: 3.14.1 released on 2022-07-07T11:45:30-0500\n"
     ]
    },
    {
     "name": "stdout",
     "output_type": "stream",
     "text": [
      "Count is 110\n"
     ]
    },
    {
     "name": "stderr",
     "output_type": "stream",
     "text": [
      "DeprecationWarning: 'histplot' will be deprecated in a future version of PlantCV. This function creates a histogram by default. Current PlantCV version: 3.14.1 released on 2022-07-07T11:45:30-0500\n"
     ]
    },
    {
     "name": "stdout",
     "output_type": "stream",
     "text": [
      "Count is 111\n"
     ]
    },
    {
     "name": "stderr",
     "output_type": "stream",
     "text": [
      "DeprecationWarning: 'histplot' will be deprecated in a future version of PlantCV. This function creates a histogram by default. Current PlantCV version: 3.14.1 released on 2022-07-07T11:45:30-0500\n"
     ]
    },
    {
     "name": "stdout",
     "output_type": "stream",
     "text": [
      "Count is 112\n"
     ]
    },
    {
     "name": "stderr",
     "output_type": "stream",
     "text": [
      "DeprecationWarning: 'histplot' will be deprecated in a future version of PlantCV. This function creates a histogram by default. Current PlantCV version: 3.14.1 released on 2022-07-07T11:45:30-0500\n"
     ]
    },
    {
     "name": "stdout",
     "output_type": "stream",
     "text": [
      "Count is 113\n"
     ]
    },
    {
     "name": "stderr",
     "output_type": "stream",
     "text": [
      "DeprecationWarning: 'histplot' will be deprecated in a future version of PlantCV. This function creates a histogram by default. Current PlantCV version: 3.14.1 released on 2022-07-07T11:45:30-0500\n"
     ]
    },
    {
     "name": "stdout",
     "output_type": "stream",
     "text": [
      "Count is 114\n"
     ]
    },
    {
     "name": "stderr",
     "output_type": "stream",
     "text": [
      "DeprecationWarning: 'histplot' will be deprecated in a future version of PlantCV. This function creates a histogram by default. Current PlantCV version: 3.14.1 released on 2022-07-07T11:45:30-0500\n"
     ]
    },
    {
     "name": "stdout",
     "output_type": "stream",
     "text": [
      "Count is 115\n"
     ]
    },
    {
     "name": "stderr",
     "output_type": "stream",
     "text": [
      "DeprecationWarning: 'histplot' will be deprecated in a future version of PlantCV. This function creates a histogram by default. Current PlantCV version: 3.14.1 released on 2022-07-07T11:45:30-0500\n"
     ]
    },
    {
     "name": "stdout",
     "output_type": "stream",
     "text": [
      "Count is 116\n"
     ]
    },
    {
     "name": "stderr",
     "output_type": "stream",
     "text": [
      "DeprecationWarning: 'histplot' will be deprecated in a future version of PlantCV. This function creates a histogram by default. Current PlantCV version: 3.14.1 released on 2022-07-07T11:45:30-0500\n"
     ]
    },
    {
     "name": "stdout",
     "output_type": "stream",
     "text": [
      "Count is 117\n"
     ]
    },
    {
     "name": "stderr",
     "output_type": "stream",
     "text": [
      "DeprecationWarning: 'histplot' will be deprecated in a future version of PlantCV. This function creates a histogram by default. Current PlantCV version: 3.14.1 released on 2022-07-07T11:45:30-0500\n"
     ]
    },
    {
     "name": "stdout",
     "output_type": "stream",
     "text": [
      "Count is 118\n"
     ]
    },
    {
     "name": "stderr",
     "output_type": "stream",
     "text": [
      "DeprecationWarning: 'histplot' will be deprecated in a future version of PlantCV. This function creates a histogram by default. Current PlantCV version: 3.14.1 released on 2022-07-07T11:45:30-0500\n"
     ]
    },
    {
     "name": "stdout",
     "output_type": "stream",
     "text": [
      "Count is 119\n"
     ]
    },
    {
     "name": "stderr",
     "output_type": "stream",
     "text": [
      "DeprecationWarning: 'histplot' will be deprecated in a future version of PlantCV. This function creates a histogram by default. Current PlantCV version: 3.14.1 released on 2022-07-07T11:45:30-0500\n"
     ]
    },
    {
     "name": "stdout",
     "output_type": "stream",
     "text": [
      "Count is 120\n"
     ]
    },
    {
     "name": "stderr",
     "output_type": "stream",
     "text": [
      "DeprecationWarning: 'histplot' will be deprecated in a future version of PlantCV. This function creates a histogram by default. Current PlantCV version: 3.14.1 released on 2022-07-07T11:45:30-0500\n"
     ]
    },
    {
     "name": "stdout",
     "output_type": "stream",
     "text": [
      "Count is 121\n"
     ]
    },
    {
     "name": "stderr",
     "output_type": "stream",
     "text": [
      "DeprecationWarning: 'histplot' will be deprecated in a future version of PlantCV. This function creates a histogram by default. Current PlantCV version: 3.14.1 released on 2022-07-07T11:45:30-0500\n"
     ]
    },
    {
     "name": "stdout",
     "output_type": "stream",
     "text": [
      "Count is 122\n"
     ]
    },
    {
     "name": "stderr",
     "output_type": "stream",
     "text": [
      "DeprecationWarning: 'histplot' will be deprecated in a future version of PlantCV. This function creates a histogram by default. Current PlantCV version: 3.14.1 released on 2022-07-07T11:45:30-0500\n"
     ]
    },
    {
     "name": "stdout",
     "output_type": "stream",
     "text": [
      "Count is 123\n"
     ]
    },
    {
     "name": "stderr",
     "output_type": "stream",
     "text": [
      "DeprecationWarning: 'histplot' will be deprecated in a future version of PlantCV. This function creates a histogram by default. Current PlantCV version: 3.14.1 released on 2022-07-07T11:45:30-0500\n"
     ]
    },
    {
     "name": "stdout",
     "output_type": "stream",
     "text": [
      "Count is 124\n"
     ]
    },
    {
     "name": "stderr",
     "output_type": "stream",
     "text": [
      "DeprecationWarning: 'histplot' will be deprecated in a future version of PlantCV. This function creates a histogram by default. Current PlantCV version: 3.14.1 released on 2022-07-07T11:45:30-0500\n"
     ]
    },
    {
     "name": "stdout",
     "output_type": "stream",
     "text": [
      "Count is 125\n"
     ]
    },
    {
     "name": "stderr",
     "output_type": "stream",
     "text": [
      "DeprecationWarning: 'histplot' will be deprecated in a future version of PlantCV. This function creates a histogram by default. Current PlantCV version: 3.14.1 released on 2022-07-07T11:45:30-0500\n"
     ]
    },
    {
     "name": "stdout",
     "output_type": "stream",
     "text": [
      "Count is 126\n"
     ]
    },
    {
     "name": "stderr",
     "output_type": "stream",
     "text": [
      "DeprecationWarning: 'histplot' will be deprecated in a future version of PlantCV. This function creates a histogram by default. Current PlantCV version: 3.14.1 released on 2022-07-07T11:45:30-0500\n"
     ]
    },
    {
     "name": "stdout",
     "output_type": "stream",
     "text": [
      "Count is 127\n"
     ]
    },
    {
     "name": "stderr",
     "output_type": "stream",
     "text": [
      "DeprecationWarning: 'histplot' will be deprecated in a future version of PlantCV. This function creates a histogram by default. Current PlantCV version: 3.14.1 released on 2022-07-07T11:45:30-0500\n"
     ]
    },
    {
     "name": "stdout",
     "output_type": "stream",
     "text": [
      "Count is 128\n"
     ]
    },
    {
     "name": "stderr",
     "output_type": "stream",
     "text": [
      "DeprecationWarning: 'histplot' will be deprecated in a future version of PlantCV. This function creates a histogram by default. Current PlantCV version: 3.14.1 released on 2022-07-07T11:45:30-0500\n"
     ]
    },
    {
     "name": "stdout",
     "output_type": "stream",
     "text": [
      "Count is 129\n"
     ]
    },
    {
     "name": "stderr",
     "output_type": "stream",
     "text": [
      "DeprecationWarning: 'histplot' will be deprecated in a future version of PlantCV. This function creates a histogram by default. Current PlantCV version: 3.14.1 released on 2022-07-07T11:45:30-0500\n"
     ]
    },
    {
     "name": "stdout",
     "output_type": "stream",
     "text": [
      "Count is 130\n"
     ]
    },
    {
     "name": "stderr",
     "output_type": "stream",
     "text": [
      "DeprecationWarning: 'histplot' will be deprecated in a future version of PlantCV. This function creates a histogram by default. Current PlantCV version: 3.14.1 released on 2022-07-07T11:45:30-0500\n"
     ]
    },
    {
     "name": "stdout",
     "output_type": "stream",
     "text": [
      "Count is 131\n"
     ]
    },
    {
     "name": "stderr",
     "output_type": "stream",
     "text": [
      "DeprecationWarning: 'histplot' will be deprecated in a future version of PlantCV. This function creates a histogram by default. Current PlantCV version: 3.14.1 released on 2022-07-07T11:45:30-0500\n"
     ]
    },
    {
     "name": "stdout",
     "output_type": "stream",
     "text": [
      "Count is 132\n"
     ]
    },
    {
     "name": "stderr",
     "output_type": "stream",
     "text": [
      "DeprecationWarning: 'histplot' will be deprecated in a future version of PlantCV. This function creates a histogram by default. Current PlantCV version: 3.14.1 released on 2022-07-07T11:45:30-0500\n"
     ]
    },
    {
     "name": "stdout",
     "output_type": "stream",
     "text": [
      "Count is 133\n"
     ]
    },
    {
     "name": "stderr",
     "output_type": "stream",
     "text": [
      "DeprecationWarning: 'histplot' will be deprecated in a future version of PlantCV. This function creates a histogram by default. Current PlantCV version: 3.14.1 released on 2022-07-07T11:45:30-0500\n"
     ]
    },
    {
     "name": "stdout",
     "output_type": "stream",
     "text": [
      "Count is 134\n"
     ]
    },
    {
     "name": "stderr",
     "output_type": "stream",
     "text": [
      "DeprecationWarning: 'histplot' will be deprecated in a future version of PlantCV. This function creates a histogram by default. Current PlantCV version: 3.14.1 released on 2022-07-07T11:45:30-0500\n"
     ]
    },
    {
     "name": "stdout",
     "output_type": "stream",
     "text": [
      "Count is 135\n"
     ]
    },
    {
     "name": "stderr",
     "output_type": "stream",
     "text": [
      "DeprecationWarning: 'histplot' will be deprecated in a future version of PlantCV. This function creates a histogram by default. Current PlantCV version: 3.14.1 released on 2022-07-07T11:45:30-0500\n"
     ]
    },
    {
     "name": "stdout",
     "output_type": "stream",
     "text": [
      "Count is 136\n"
     ]
    },
    {
     "name": "stderr",
     "output_type": "stream",
     "text": [
      "DeprecationWarning: 'histplot' will be deprecated in a future version of PlantCV. This function creates a histogram by default. Current PlantCV version: 3.14.1 released on 2022-07-07T11:45:30-0500\n"
     ]
    },
    {
     "name": "stdout",
     "output_type": "stream",
     "text": [
      "Count is 137\n"
     ]
    },
    {
     "name": "stderr",
     "output_type": "stream",
     "text": [
      "DeprecationWarning: 'histplot' will be deprecated in a future version of PlantCV. This function creates a histogram by default. Current PlantCV version: 3.14.1 released on 2022-07-07T11:45:30-0500\n"
     ]
    },
    {
     "name": "stdout",
     "output_type": "stream",
     "text": [
      "Count is 138\n"
     ]
    },
    {
     "name": "stderr",
     "output_type": "stream",
     "text": [
      "DeprecationWarning: 'histplot' will be deprecated in a future version of PlantCV. This function creates a histogram by default. Current PlantCV version: 3.14.1 released on 2022-07-07T11:45:30-0500\n"
     ]
    },
    {
     "name": "stdout",
     "output_type": "stream",
     "text": [
      "Count is 139\n"
     ]
    },
    {
     "name": "stderr",
     "output_type": "stream",
     "text": [
      "DeprecationWarning: 'histplot' will be deprecated in a future version of PlantCV. This function creates a histogram by default. Current PlantCV version: 3.14.1 released on 2022-07-07T11:45:30-0500\n"
     ]
    },
    {
     "name": "stdout",
     "output_type": "stream",
     "text": [
      "Count is 140\n"
     ]
    },
    {
     "name": "stderr",
     "output_type": "stream",
     "text": [
      "DeprecationWarning: 'histplot' will be deprecated in a future version of PlantCV. This function creates a histogram by default. Current PlantCV version: 3.14.1 released on 2022-07-07T11:45:30-0500\n"
     ]
    },
    {
     "name": "stdout",
     "output_type": "stream",
     "text": [
      "Count is 141\n"
     ]
    },
    {
     "name": "stderr",
     "output_type": "stream",
     "text": [
      "DeprecationWarning: 'histplot' will be deprecated in a future version of PlantCV. This function creates a histogram by default. Current PlantCV version: 3.14.1 released on 2022-07-07T11:45:30-0500\n"
     ]
    },
    {
     "name": "stdout",
     "output_type": "stream",
     "text": [
      "Count is 142\n"
     ]
    },
    {
     "name": "stderr",
     "output_type": "stream",
     "text": [
      "DeprecationWarning: 'histplot' will be deprecated in a future version of PlantCV. This function creates a histogram by default. Current PlantCV version: 3.14.1 released on 2022-07-07T11:45:30-0500\n"
     ]
    },
    {
     "name": "stdout",
     "output_type": "stream",
     "text": [
      "Count is 143\n"
     ]
    },
    {
     "name": "stderr",
     "output_type": "stream",
     "text": [
      "DeprecationWarning: 'histplot' will be deprecated in a future version of PlantCV. This function creates a histogram by default. Current PlantCV version: 3.14.1 released on 2022-07-07T11:45:30-0500\n"
     ]
    },
    {
     "name": "stdout",
     "output_type": "stream",
     "text": [
      "Count is 144\n"
     ]
    },
    {
     "name": "stderr",
     "output_type": "stream",
     "text": [
      "DeprecationWarning: 'histplot' will be deprecated in a future version of PlantCV. This function creates a histogram by default. Current PlantCV version: 3.14.1 released on 2022-07-07T11:45:30-0500\n"
     ]
    },
    {
     "name": "stdout",
     "output_type": "stream",
     "text": [
      "Count is 145\n"
     ]
    },
    {
     "name": "stderr",
     "output_type": "stream",
     "text": [
      "DeprecationWarning: 'histplot' will be deprecated in a future version of PlantCV. This function creates a histogram by default. Current PlantCV version: 3.14.1 released on 2022-07-07T11:45:30-0500\n"
     ]
    },
    {
     "name": "stdout",
     "output_type": "stream",
     "text": [
      "Count is 146\n"
     ]
    },
    {
     "name": "stderr",
     "output_type": "stream",
     "text": [
      "DeprecationWarning: 'histplot' will be deprecated in a future version of PlantCV. This function creates a histogram by default. Current PlantCV version: 3.14.1 released on 2022-07-07T11:45:30-0500\n"
     ]
    },
    {
     "name": "stdout",
     "output_type": "stream",
     "text": [
      "Count is 147\n"
     ]
    },
    {
     "name": "stderr",
     "output_type": "stream",
     "text": [
      "DeprecationWarning: 'histplot' will be deprecated in a future version of PlantCV. This function creates a histogram by default. Current PlantCV version: 3.14.1 released on 2022-07-07T11:45:30-0500\n"
     ]
    },
    {
     "name": "stdout",
     "output_type": "stream",
     "text": [
      "Count is 148\n"
     ]
    },
    {
     "name": "stderr",
     "output_type": "stream",
     "text": [
      "DeprecationWarning: 'histplot' will be deprecated in a future version of PlantCV. This function creates a histogram by default. Current PlantCV version: 3.14.1 released on 2022-07-07T11:45:30-0500\n"
     ]
    },
    {
     "name": "stdout",
     "output_type": "stream",
     "text": [
      "Count is 149\n"
     ]
    },
    {
     "name": "stderr",
     "output_type": "stream",
     "text": [
      "DeprecationWarning: 'histplot' will be deprecated in a future version of PlantCV. This function creates a histogram by default. Current PlantCV version: 3.14.1 released on 2022-07-07T11:45:30-0500\n"
     ]
    },
    {
     "name": "stdout",
     "output_type": "stream",
     "text": [
      "Count is 150\n"
     ]
    },
    {
     "name": "stderr",
     "output_type": "stream",
     "text": [
      "DeprecationWarning: 'histplot' will be deprecated in a future version of PlantCV. This function creates a histogram by default. Current PlantCV version: 3.14.1 released on 2022-07-07T11:45:30-0500\n"
     ]
    },
    {
     "name": "stdout",
     "output_type": "stream",
     "text": [
      "Count is 151\n"
     ]
    },
    {
     "name": "stderr",
     "output_type": "stream",
     "text": [
      "DeprecationWarning: 'histplot' will be deprecated in a future version of PlantCV. This function creates a histogram by default. Current PlantCV version: 3.14.1 released on 2022-07-07T11:45:30-0500\n"
     ]
    },
    {
     "name": "stdout",
     "output_type": "stream",
     "text": [
      "Count is 152\n"
     ]
    },
    {
     "name": "stderr",
     "output_type": "stream",
     "text": [
      "DeprecationWarning: 'histplot' will be deprecated in a future version of PlantCV. This function creates a histogram by default. Current PlantCV version: 3.14.1 released on 2022-07-07T11:45:30-0500\n"
     ]
    },
    {
     "name": "stdout",
     "output_type": "stream",
     "text": [
      "Count is 153\n"
     ]
    },
    {
     "name": "stderr",
     "output_type": "stream",
     "text": [
      "DeprecationWarning: 'histplot' will be deprecated in a future version of PlantCV. This function creates a histogram by default. Current PlantCV version: 3.14.1 released on 2022-07-07T11:45:30-0500\n"
     ]
    },
    {
     "name": "stdout",
     "output_type": "stream",
     "text": [
      "Count is 154\n"
     ]
    },
    {
     "name": "stderr",
     "output_type": "stream",
     "text": [
      "DeprecationWarning: 'histplot' will be deprecated in a future version of PlantCV. This function creates a histogram by default. Current PlantCV version: 3.14.1 released on 2022-07-07T11:45:30-0500\n"
     ]
    },
    {
     "name": "stdout",
     "output_type": "stream",
     "text": [
      "Count is 155\n"
     ]
    },
    {
     "name": "stderr",
     "output_type": "stream",
     "text": [
      "DeprecationWarning: 'histplot' will be deprecated in a future version of PlantCV. This function creates a histogram by default. Current PlantCV version: 3.14.1 released on 2022-07-07T11:45:30-0500\n"
     ]
    },
    {
     "name": "stdout",
     "output_type": "stream",
     "text": [
      "Count is 156\n"
     ]
    },
    {
     "name": "stderr",
     "output_type": "stream",
     "text": [
      "DeprecationWarning: 'histplot' will be deprecated in a future version of PlantCV. This function creates a histogram by default. Current PlantCV version: 3.14.1 released on 2022-07-07T11:45:30-0500\n"
     ]
    },
    {
     "name": "stdout",
     "output_type": "stream",
     "text": [
      "Count is 157\n"
     ]
    },
    {
     "name": "stderr",
     "output_type": "stream",
     "text": [
      "DeprecationWarning: 'histplot' will be deprecated in a future version of PlantCV. This function creates a histogram by default. Current PlantCV version: 3.14.1 released on 2022-07-07T11:45:30-0500\n"
     ]
    },
    {
     "name": "stdout",
     "output_type": "stream",
     "text": [
      "Count is 158\n"
     ]
    },
    {
     "name": "stderr",
     "output_type": "stream",
     "text": [
      "DeprecationWarning: 'histplot' will be deprecated in a future version of PlantCV. This function creates a histogram by default. Current PlantCV version: 3.14.1 released on 2022-07-07T11:45:30-0500\n"
     ]
    },
    {
     "name": "stdout",
     "output_type": "stream",
     "text": [
      "Count is 159\n"
     ]
    },
    {
     "name": "stderr",
     "output_type": "stream",
     "text": [
      "DeprecationWarning: 'histplot' will be deprecated in a future version of PlantCV. This function creates a histogram by default. Current PlantCV version: 3.14.1 released on 2022-07-07T11:45:30-0500\n"
     ]
    },
    {
     "name": "stdout",
     "output_type": "stream",
     "text": [
      "Count is 160\n"
     ]
    },
    {
     "name": "stderr",
     "output_type": "stream",
     "text": [
      "DeprecationWarning: 'histplot' will be deprecated in a future version of PlantCV. This function creates a histogram by default. Current PlantCV version: 3.14.1 released on 2022-07-07T11:45:30-0500\n"
     ]
    },
    {
     "name": "stdout",
     "output_type": "stream",
     "text": [
      "Count is 161\n"
     ]
    },
    {
     "name": "stderr",
     "output_type": "stream",
     "text": [
      "DeprecationWarning: 'histplot' will be deprecated in a future version of PlantCV. This function creates a histogram by default. Current PlantCV version: 3.14.1 released on 2022-07-07T11:45:30-0500\n"
     ]
    },
    {
     "name": "stdout",
     "output_type": "stream",
     "text": [
      "Count is 162\n"
     ]
    },
    {
     "name": "stderr",
     "output_type": "stream",
     "text": [
      "DeprecationWarning: 'histplot' will be deprecated in a future version of PlantCV. This function creates a histogram by default. Current PlantCV version: 3.14.1 released on 2022-07-07T11:45:30-0500\n"
     ]
    },
    {
     "name": "stdout",
     "output_type": "stream",
     "text": [
      "Count is 163\n"
     ]
    },
    {
     "name": "stderr",
     "output_type": "stream",
     "text": [
      "DeprecationWarning: 'histplot' will be deprecated in a future version of PlantCV. This function creates a histogram by default. Current PlantCV version: 3.14.1 released on 2022-07-07T11:45:30-0500\n"
     ]
    },
    {
     "name": "stdout",
     "output_type": "stream",
     "text": [
      "Count is 164\n"
     ]
    },
    {
     "name": "stderr",
     "output_type": "stream",
     "text": [
      "DeprecationWarning: 'histplot' will be deprecated in a future version of PlantCV. This function creates a histogram by default. Current PlantCV version: 3.14.1 released on 2022-07-07T11:45:30-0500\n"
     ]
    },
    {
     "name": "stdout",
     "output_type": "stream",
     "text": [
      "Count is 165\n"
     ]
    },
    {
     "name": "stderr",
     "output_type": "stream",
     "text": [
      "DeprecationWarning: 'histplot' will be deprecated in a future version of PlantCV. This function creates a histogram by default. Current PlantCV version: 3.14.1 released on 2022-07-07T11:45:30-0500\n"
     ]
    },
    {
     "name": "stdout",
     "output_type": "stream",
     "text": [
      "Count is 166\n"
     ]
    },
    {
     "name": "stderr",
     "output_type": "stream",
     "text": [
      "DeprecationWarning: 'histplot' will be deprecated in a future version of PlantCV. This function creates a histogram by default. Current PlantCV version: 3.14.1 released on 2022-07-07T11:45:30-0500\n"
     ]
    },
    {
     "name": "stdout",
     "output_type": "stream",
     "text": [
      "Count is 167\n"
     ]
    },
    {
     "name": "stderr",
     "output_type": "stream",
     "text": [
      "DeprecationWarning: 'histplot' will be deprecated in a future version of PlantCV. This function creates a histogram by default. Current PlantCV version: 3.14.1 released on 2022-07-07T11:45:30-0500\n"
     ]
    },
    {
     "name": "stdout",
     "output_type": "stream",
     "text": [
      "Count is 168\n"
     ]
    },
    {
     "name": "stderr",
     "output_type": "stream",
     "text": [
      "DeprecationWarning: 'histplot' will be deprecated in a future version of PlantCV. This function creates a histogram by default. Current PlantCV version: 3.14.1 released on 2022-07-07T11:45:30-0500\n"
     ]
    },
    {
     "name": "stdout",
     "output_type": "stream",
     "text": [
      "Count is 169\n"
     ]
    },
    {
     "name": "stderr",
     "output_type": "stream",
     "text": [
      "DeprecationWarning: 'histplot' will be deprecated in a future version of PlantCV. This function creates a histogram by default. Current PlantCV version: 3.14.1 released on 2022-07-07T11:45:30-0500\n"
     ]
    },
    {
     "name": "stdout",
     "output_type": "stream",
     "text": [
      "Count is 170\n"
     ]
    },
    {
     "name": "stderr",
     "output_type": "stream",
     "text": [
      "DeprecationWarning: 'histplot' will be deprecated in a future version of PlantCV. This function creates a histogram by default. Current PlantCV version: 3.14.1 released on 2022-07-07T11:45:30-0500\n"
     ]
    },
    {
     "name": "stdout",
     "output_type": "stream",
     "text": [
      "Count is 171\n"
     ]
    },
    {
     "name": "stderr",
     "output_type": "stream",
     "text": [
      "DeprecationWarning: 'histplot' will be deprecated in a future version of PlantCV. This function creates a histogram by default. Current PlantCV version: 3.14.1 released on 2022-07-07T11:45:30-0500\n"
     ]
    },
    {
     "name": "stdout",
     "output_type": "stream",
     "text": [
      "Count is 172\n"
     ]
    },
    {
     "name": "stderr",
     "output_type": "stream",
     "text": [
      "DeprecationWarning: 'histplot' will be deprecated in a future version of PlantCV. This function creates a histogram by default. Current PlantCV version: 3.14.1 released on 2022-07-07T11:45:30-0500\n"
     ]
    },
    {
     "name": "stdout",
     "output_type": "stream",
     "text": [
      "Count is 173\n"
     ]
    },
    {
     "name": "stderr",
     "output_type": "stream",
     "text": [
      "DeprecationWarning: 'histplot' will be deprecated in a future version of PlantCV. This function creates a histogram by default. Current PlantCV version: 3.14.1 released on 2022-07-07T11:45:30-0500\n"
     ]
    },
    {
     "name": "stdout",
     "output_type": "stream",
     "text": [
      "Count is 174\n"
     ]
    },
    {
     "name": "stderr",
     "output_type": "stream",
     "text": [
      "DeprecationWarning: 'histplot' will be deprecated in a future version of PlantCV. This function creates a histogram by default. Current PlantCV version: 3.14.1 released on 2022-07-07T11:45:30-0500\n"
     ]
    },
    {
     "name": "stdout",
     "output_type": "stream",
     "text": [
      "Count is 175\n"
     ]
    },
    {
     "name": "stderr",
     "output_type": "stream",
     "text": [
      "DeprecationWarning: 'histplot' will be deprecated in a future version of PlantCV. This function creates a histogram by default. Current PlantCV version: 3.14.1 released on 2022-07-07T11:45:30-0500\n"
     ]
    },
    {
     "name": "stdout",
     "output_type": "stream",
     "text": [
      "Count is 176\n"
     ]
    },
    {
     "name": "stderr",
     "output_type": "stream",
     "text": [
      "DeprecationWarning: 'histplot' will be deprecated in a future version of PlantCV. This function creates a histogram by default. Current PlantCV version: 3.14.1 released on 2022-07-07T11:45:30-0500\n"
     ]
    },
    {
     "name": "stdout",
     "output_type": "stream",
     "text": [
      "Count is 177\n"
     ]
    },
    {
     "name": "stderr",
     "output_type": "stream",
     "text": [
      "DeprecationWarning: 'histplot' will be deprecated in a future version of PlantCV. This function creates a histogram by default. Current PlantCV version: 3.14.1 released on 2022-07-07T11:45:30-0500\n"
     ]
    },
    {
     "name": "stdout",
     "output_type": "stream",
     "text": [
      "Count is 178\n"
     ]
    },
    {
     "name": "stderr",
     "output_type": "stream",
     "text": [
      "DeprecationWarning: 'histplot' will be deprecated in a future version of PlantCV. This function creates a histogram by default. Current PlantCV version: 3.14.1 released on 2022-07-07T11:45:30-0500\n"
     ]
    },
    {
     "name": "stdout",
     "output_type": "stream",
     "text": [
      "Count is 179\n"
     ]
    },
    {
     "name": "stderr",
     "output_type": "stream",
     "text": [
      "DeprecationWarning: 'histplot' will be deprecated in a future version of PlantCV. This function creates a histogram by default. Current PlantCV version: 3.14.1 released on 2022-07-07T11:45:30-0500\n"
     ]
    },
    {
     "name": "stdout",
     "output_type": "stream",
     "text": [
      "Count is 180\n"
     ]
    },
    {
     "name": "stderr",
     "output_type": "stream",
     "text": [
      "DeprecationWarning: 'histplot' will be deprecated in a future version of PlantCV. This function creates a histogram by default. Current PlantCV version: 3.14.1 released on 2022-07-07T11:45:30-0500\n"
     ]
    },
    {
     "name": "stdout",
     "output_type": "stream",
     "text": [
      "Count is 181\n"
     ]
    },
    {
     "name": "stderr",
     "output_type": "stream",
     "text": [
      "DeprecationWarning: 'histplot' will be deprecated in a future version of PlantCV. This function creates a histogram by default. Current PlantCV version: 3.14.1 released on 2022-07-07T11:45:30-0500\n"
     ]
    },
    {
     "name": "stdout",
     "output_type": "stream",
     "text": [
      "Count is 182\n"
     ]
    },
    {
     "name": "stderr",
     "output_type": "stream",
     "text": [
      "DeprecationWarning: 'histplot' will be deprecated in a future version of PlantCV. This function creates a histogram by default. Current PlantCV version: 3.14.1 released on 2022-07-07T11:45:30-0500\n"
     ]
    },
    {
     "name": "stdout",
     "output_type": "stream",
     "text": [
      "Count is 183\n"
     ]
    },
    {
     "name": "stderr",
     "output_type": "stream",
     "text": [
      "DeprecationWarning: 'histplot' will be deprecated in a future version of PlantCV. This function creates a histogram by default. Current PlantCV version: 3.14.1 released on 2022-07-07T11:45:30-0500\n"
     ]
    },
    {
     "name": "stdout",
     "output_type": "stream",
     "text": [
      "Count is 184\n"
     ]
    },
    {
     "name": "stderr",
     "output_type": "stream",
     "text": [
      "DeprecationWarning: 'histplot' will be deprecated in a future version of PlantCV. This function creates a histogram by default. Current PlantCV version: 3.14.1 released on 2022-07-07T11:45:30-0500\n"
     ]
    },
    {
     "name": "stdout",
     "output_type": "stream",
     "text": [
      "Count is 185\n"
     ]
    },
    {
     "name": "stderr",
     "output_type": "stream",
     "text": [
      "DeprecationWarning: 'histplot' will be deprecated in a future version of PlantCV. This function creates a histogram by default. Current PlantCV version: 3.14.1 released on 2022-07-07T11:45:30-0500\n"
     ]
    },
    {
     "name": "stdout",
     "output_type": "stream",
     "text": [
      "Count is 186\n"
     ]
    },
    {
     "name": "stderr",
     "output_type": "stream",
     "text": [
      "DeprecationWarning: 'histplot' will be deprecated in a future version of PlantCV. This function creates a histogram by default. Current PlantCV version: 3.14.1 released on 2022-07-07T11:45:30-0500\n"
     ]
    },
    {
     "name": "stdout",
     "output_type": "stream",
     "text": [
      "Count is 187\n"
     ]
    },
    {
     "name": "stderr",
     "output_type": "stream",
     "text": [
      "DeprecationWarning: 'histplot' will be deprecated in a future version of PlantCV. This function creates a histogram by default. Current PlantCV version: 3.14.1 released on 2022-07-07T11:45:30-0500\n"
     ]
    },
    {
     "name": "stdout",
     "output_type": "stream",
     "text": [
      "Count is 188\n"
     ]
    },
    {
     "name": "stderr",
     "output_type": "stream",
     "text": [
      "DeprecationWarning: 'histplot' will be deprecated in a future version of PlantCV. This function creates a histogram by default. Current PlantCV version: 3.14.1 released on 2022-07-07T11:45:30-0500\n"
     ]
    },
    {
     "name": "stdout",
     "output_type": "stream",
     "text": [
      "Count is 189\n"
     ]
    },
    {
     "name": "stderr",
     "output_type": "stream",
     "text": [
      "DeprecationWarning: 'histplot' will be deprecated in a future version of PlantCV. This function creates a histogram by default. Current PlantCV version: 3.14.1 released on 2022-07-07T11:45:30-0500\n"
     ]
    },
    {
     "name": "stdout",
     "output_type": "stream",
     "text": [
      "Count is 190\n"
     ]
    },
    {
     "name": "stderr",
     "output_type": "stream",
     "text": [
      "DeprecationWarning: 'histplot' will be deprecated in a future version of PlantCV. This function creates a histogram by default. Current PlantCV version: 3.14.1 released on 2022-07-07T11:45:30-0500\n"
     ]
    },
    {
     "name": "stdout",
     "output_type": "stream",
     "text": [
      "Count is 191\n"
     ]
    },
    {
     "name": "stderr",
     "output_type": "stream",
     "text": [
      "DeprecationWarning: 'histplot' will be deprecated in a future version of PlantCV. This function creates a histogram by default. Current PlantCV version: 3.14.1 released on 2022-07-07T11:45:30-0500\n"
     ]
    },
    {
     "name": "stdout",
     "output_type": "stream",
     "text": [
      "Count is 192\n"
     ]
    },
    {
     "name": "stderr",
     "output_type": "stream",
     "text": [
      "DeprecationWarning: 'histplot' will be deprecated in a future version of PlantCV. This function creates a histogram by default. Current PlantCV version: 3.14.1 released on 2022-07-07T11:45:30-0500\n"
     ]
    },
    {
     "name": "stdout",
     "output_type": "stream",
     "text": [
      "Count is 193\n"
     ]
    },
    {
     "name": "stderr",
     "output_type": "stream",
     "text": [
      "DeprecationWarning: 'histplot' will be deprecated in a future version of PlantCV. This function creates a histogram by default. Current PlantCV version: 3.14.1 released on 2022-07-07T11:45:30-0500\n"
     ]
    },
    {
     "name": "stdout",
     "output_type": "stream",
     "text": [
      "Count is 194\n"
     ]
    },
    {
     "name": "stderr",
     "output_type": "stream",
     "text": [
      "DeprecationWarning: 'histplot' will be deprecated in a future version of PlantCV. This function creates a histogram by default. Current PlantCV version: 3.14.1 released on 2022-07-07T11:45:30-0500\n"
     ]
    },
    {
     "name": "stdout",
     "output_type": "stream",
     "text": [
      "Count is 195\n"
     ]
    },
    {
     "name": "stderr",
     "output_type": "stream",
     "text": [
      "DeprecationWarning: 'histplot' will be deprecated in a future version of PlantCV. This function creates a histogram by default. Current PlantCV version: 3.14.1 released on 2022-07-07T11:45:30-0500\n"
     ]
    },
    {
     "name": "stdout",
     "output_type": "stream",
     "text": [
      "Count is 196\n"
     ]
    },
    {
     "name": "stderr",
     "output_type": "stream",
     "text": [
      "DeprecationWarning: 'histplot' will be deprecated in a future version of PlantCV. This function creates a histogram by default. Current PlantCV version: 3.14.1 released on 2022-07-07T11:45:30-0500\n"
     ]
    },
    {
     "name": "stdout",
     "output_type": "stream",
     "text": [
      "Count is 197\n"
     ]
    },
    {
     "name": "stderr",
     "output_type": "stream",
     "text": [
      "DeprecationWarning: 'histplot' will be deprecated in a future version of PlantCV. This function creates a histogram by default. Current PlantCV version: 3.14.1 released on 2022-07-07T11:45:30-0500\n"
     ]
    },
    {
     "name": "stdout",
     "output_type": "stream",
     "text": [
      "Count is 198\n"
     ]
    },
    {
     "name": "stderr",
     "output_type": "stream",
     "text": [
      "DeprecationWarning: 'histplot' will be deprecated in a future version of PlantCV. This function creates a histogram by default. Current PlantCV version: 3.14.1 released on 2022-07-07T11:45:30-0500\n"
     ]
    },
    {
     "name": "stdout",
     "output_type": "stream",
     "text": [
      "Count is 199\n"
     ]
    },
    {
     "name": "stderr",
     "output_type": "stream",
     "text": [
      "DeprecationWarning: 'histplot' will be deprecated in a future version of PlantCV. This function creates a histogram by default. Current PlantCV version: 3.14.1 released on 2022-07-07T11:45:30-0500\n"
     ]
    },
    {
     "name": "stdout",
     "output_type": "stream",
     "text": [
      "Count is 200\n"
     ]
    },
    {
     "name": "stderr",
     "output_type": "stream",
     "text": [
      "DeprecationWarning: 'histplot' will be deprecated in a future version of PlantCV. This function creates a histogram by default. Current PlantCV version: 3.14.1 released on 2022-07-07T11:45:30-0500\n"
     ]
    },
    {
     "name": "stdout",
     "output_type": "stream",
     "text": [
      "Count is 201\n"
     ]
    },
    {
     "name": "stderr",
     "output_type": "stream",
     "text": [
      "DeprecationWarning: 'histplot' will be deprecated in a future version of PlantCV. This function creates a histogram by default. Current PlantCV version: 3.14.1 released on 2022-07-07T11:45:30-0500\n"
     ]
    },
    {
     "name": "stdout",
     "output_type": "stream",
     "text": [
      "Count is 202\n"
     ]
    },
    {
     "name": "stderr",
     "output_type": "stream",
     "text": [
      "DeprecationWarning: 'histplot' will be deprecated in a future version of PlantCV. This function creates a histogram by default. Current PlantCV version: 3.14.1 released on 2022-07-07T11:45:30-0500\n"
     ]
    },
    {
     "name": "stdout",
     "output_type": "stream",
     "text": [
      "Count is 203\n"
     ]
    },
    {
     "name": "stderr",
     "output_type": "stream",
     "text": [
      "DeprecationWarning: 'histplot' will be deprecated in a future version of PlantCV. This function creates a histogram by default. Current PlantCV version: 3.14.1 released on 2022-07-07T11:45:30-0500\n"
     ]
    },
    {
     "name": "stdout",
     "output_type": "stream",
     "text": [
      "Count is 204\n"
     ]
    },
    {
     "name": "stderr",
     "output_type": "stream",
     "text": [
      "DeprecationWarning: 'histplot' will be deprecated in a future version of PlantCV. This function creates a histogram by default. Current PlantCV version: 3.14.1 released on 2022-07-07T11:45:30-0500\n"
     ]
    },
    {
     "name": "stdout",
     "output_type": "stream",
     "text": [
      "Count is 205\n"
     ]
    },
    {
     "name": "stderr",
     "output_type": "stream",
     "text": [
      "DeprecationWarning: 'histplot' will be deprecated in a future version of PlantCV. This function creates a histogram by default. Current PlantCV version: 3.14.1 released on 2022-07-07T11:45:30-0500\n"
     ]
    },
    {
     "name": "stdout",
     "output_type": "stream",
     "text": [
      "Count is 206\n"
     ]
    },
    {
     "name": "stderr",
     "output_type": "stream",
     "text": [
      "DeprecationWarning: 'histplot' will be deprecated in a future version of PlantCV. This function creates a histogram by default. Current PlantCV version: 3.14.1 released on 2022-07-07T11:45:30-0500\n"
     ]
    },
    {
     "name": "stdout",
     "output_type": "stream",
     "text": [
      "Count is 207\n"
     ]
    },
    {
     "name": "stderr",
     "output_type": "stream",
     "text": [
      "DeprecationWarning: 'histplot' will be deprecated in a future version of PlantCV. This function creates a histogram by default. Current PlantCV version: 3.14.1 released on 2022-07-07T11:45:30-0500\n"
     ]
    },
    {
     "name": "stdout",
     "output_type": "stream",
     "text": [
      "Count is 208\n"
     ]
    },
    {
     "name": "stderr",
     "output_type": "stream",
     "text": [
      "DeprecationWarning: 'histplot' will be deprecated in a future version of PlantCV. This function creates a histogram by default. Current PlantCV version: 3.14.1 released on 2022-07-07T11:45:30-0500\n"
     ]
    },
    {
     "name": "stdout",
     "output_type": "stream",
     "text": [
      "Count is 209\n"
     ]
    },
    {
     "name": "stderr",
     "output_type": "stream",
     "text": [
      "DeprecationWarning: 'histplot' will be deprecated in a future version of PlantCV. This function creates a histogram by default. Current PlantCV version: 3.14.1 released on 2022-07-07T11:45:30-0500\n"
     ]
    },
    {
     "name": "stdout",
     "output_type": "stream",
     "text": [
      "Count is 210\n"
     ]
    },
    {
     "name": "stderr",
     "output_type": "stream",
     "text": [
      "DeprecationWarning: 'histplot' will be deprecated in a future version of PlantCV. This function creates a histogram by default. Current PlantCV version: 3.14.1 released on 2022-07-07T11:45:30-0500\n"
     ]
    },
    {
     "name": "stdout",
     "output_type": "stream",
     "text": [
      "Count is 211\n"
     ]
    },
    {
     "name": "stderr",
     "output_type": "stream",
     "text": [
      "DeprecationWarning: 'histplot' will be deprecated in a future version of PlantCV. This function creates a histogram by default. Current PlantCV version: 3.14.1 released on 2022-07-07T11:45:30-0500\n"
     ]
    },
    {
     "name": "stdout",
     "output_type": "stream",
     "text": [
      "Count is 212\n"
     ]
    },
    {
     "name": "stderr",
     "output_type": "stream",
     "text": [
      "DeprecationWarning: 'histplot' will be deprecated in a future version of PlantCV. This function creates a histogram by default. Current PlantCV version: 3.14.1 released on 2022-07-07T11:45:30-0500\n"
     ]
    },
    {
     "name": "stdout",
     "output_type": "stream",
     "text": [
      "Count is 213\n"
     ]
    },
    {
     "name": "stderr",
     "output_type": "stream",
     "text": [
      "DeprecationWarning: 'histplot' will be deprecated in a future version of PlantCV. This function creates a histogram by default. Current PlantCV version: 3.14.1 released on 2022-07-07T11:45:30-0500\n"
     ]
    },
    {
     "name": "stdout",
     "output_type": "stream",
     "text": [
      "Count is 214\n"
     ]
    },
    {
     "name": "stderr",
     "output_type": "stream",
     "text": [
      "DeprecationWarning: 'histplot' will be deprecated in a future version of PlantCV. This function creates a histogram by default. Current PlantCV version: 3.14.1 released on 2022-07-07T11:45:30-0500\n"
     ]
    },
    {
     "name": "stdout",
     "output_type": "stream",
     "text": [
      "Count is 215\n"
     ]
    },
    {
     "name": "stderr",
     "output_type": "stream",
     "text": [
      "DeprecationWarning: 'histplot' will be deprecated in a future version of PlantCV. This function creates a histogram by default. Current PlantCV version: 3.14.1 released on 2022-07-07T11:45:30-0500\n"
     ]
    },
    {
     "name": "stdout",
     "output_type": "stream",
     "text": [
      "Count is 216\n"
     ]
    },
    {
     "name": "stderr",
     "output_type": "stream",
     "text": [
      "DeprecationWarning: 'histplot' will be deprecated in a future version of PlantCV. This function creates a histogram by default. Current PlantCV version: 3.14.1 released on 2022-07-07T11:45:30-0500\n"
     ]
    },
    {
     "name": "stdout",
     "output_type": "stream",
     "text": [
      "Count is 217\n"
     ]
    },
    {
     "name": "stderr",
     "output_type": "stream",
     "text": [
      "DeprecationWarning: 'histplot' will be deprecated in a future version of PlantCV. This function creates a histogram by default. Current PlantCV version: 3.14.1 released on 2022-07-07T11:45:30-0500\n"
     ]
    },
    {
     "name": "stdout",
     "output_type": "stream",
     "text": [
      "Count is 218\n"
     ]
    },
    {
     "name": "stderr",
     "output_type": "stream",
     "text": [
      "DeprecationWarning: 'histplot' will be deprecated in a future version of PlantCV. This function creates a histogram by default. Current PlantCV version: 3.14.1 released on 2022-07-07T11:45:30-0500\n"
     ]
    },
    {
     "name": "stdout",
     "output_type": "stream",
     "text": [
      "Count is 219\n"
     ]
    },
    {
     "name": "stderr",
     "output_type": "stream",
     "text": [
      "DeprecationWarning: 'histplot' will be deprecated in a future version of PlantCV. This function creates a histogram by default. Current PlantCV version: 3.14.1 released on 2022-07-07T11:45:30-0500\n"
     ]
    },
    {
     "name": "stdout",
     "output_type": "stream",
     "text": [
      "Count is 220\n"
     ]
    },
    {
     "name": "stderr",
     "output_type": "stream",
     "text": [
      "DeprecationWarning: 'histplot' will be deprecated in a future version of PlantCV. This function creates a histogram by default. Current PlantCV version: 3.14.1 released on 2022-07-07T11:45:30-0500\n"
     ]
    },
    {
     "name": "stdout",
     "output_type": "stream",
     "text": [
      "Count is 221\n"
     ]
    },
    {
     "name": "stderr",
     "output_type": "stream",
     "text": [
      "DeprecationWarning: 'histplot' will be deprecated in a future version of PlantCV. This function creates a histogram by default. Current PlantCV version: 3.14.1 released on 2022-07-07T11:45:30-0500\n"
     ]
    },
    {
     "name": "stdout",
     "output_type": "stream",
     "text": [
      "Count is 222\n"
     ]
    },
    {
     "name": "stderr",
     "output_type": "stream",
     "text": [
      "DeprecationWarning: 'histplot' will be deprecated in a future version of PlantCV. This function creates a histogram by default. Current PlantCV version: 3.14.1 released on 2022-07-07T11:45:30-0500\n"
     ]
    },
    {
     "name": "stdout",
     "output_type": "stream",
     "text": [
      "Count is 223\n"
     ]
    },
    {
     "name": "stderr",
     "output_type": "stream",
     "text": [
      "DeprecationWarning: 'histplot' will be deprecated in a future version of PlantCV. This function creates a histogram by default. Current PlantCV version: 3.14.1 released on 2022-07-07T11:45:30-0500\n"
     ]
    },
    {
     "name": "stdout",
     "output_type": "stream",
     "text": [
      "Count is 224\n"
     ]
    },
    {
     "name": "stderr",
     "output_type": "stream",
     "text": [
      "DeprecationWarning: 'histplot' will be deprecated in a future version of PlantCV. This function creates a histogram by default. Current PlantCV version: 3.14.1 released on 2022-07-07T11:45:30-0500\n"
     ]
    },
    {
     "name": "stdout",
     "output_type": "stream",
     "text": [
      "Count is 225\n"
     ]
    },
    {
     "name": "stderr",
     "output_type": "stream",
     "text": [
      "DeprecationWarning: 'histplot' will be deprecated in a future version of PlantCV. This function creates a histogram by default. Current PlantCV version: 3.14.1 released on 2022-07-07T11:45:30-0500\n"
     ]
    },
    {
     "name": "stdout",
     "output_type": "stream",
     "text": [
      "Count is 226\n"
     ]
    },
    {
     "name": "stderr",
     "output_type": "stream",
     "text": [
      "DeprecationWarning: 'histplot' will be deprecated in a future version of PlantCV. This function creates a histogram by default. Current PlantCV version: 3.14.1 released on 2022-07-07T11:45:30-0500\n"
     ]
    },
    {
     "name": "stdout",
     "output_type": "stream",
     "text": [
      "Count is 227\n"
     ]
    },
    {
     "name": "stderr",
     "output_type": "stream",
     "text": [
      "DeprecationWarning: 'histplot' will be deprecated in a future version of PlantCV. This function creates a histogram by default. Current PlantCV version: 3.14.1 released on 2022-07-07T11:45:30-0500\n"
     ]
    },
    {
     "name": "stdout",
     "output_type": "stream",
     "text": [
      "Count is 228\n"
     ]
    },
    {
     "name": "stderr",
     "output_type": "stream",
     "text": [
      "DeprecationWarning: 'histplot' will be deprecated in a future version of PlantCV. This function creates a histogram by default. Current PlantCV version: 3.14.1 released on 2022-07-07T11:45:30-0500\n"
     ]
    },
    {
     "name": "stdout",
     "output_type": "stream",
     "text": [
      "Count is 229\n"
     ]
    },
    {
     "name": "stderr",
     "output_type": "stream",
     "text": [
      "DeprecationWarning: 'histplot' will be deprecated in a future version of PlantCV. This function creates a histogram by default. Current PlantCV version: 3.14.1 released on 2022-07-07T11:45:30-0500\n"
     ]
    },
    {
     "name": "stdout",
     "output_type": "stream",
     "text": [
      "Count is 230\n"
     ]
    },
    {
     "name": "stderr",
     "output_type": "stream",
     "text": [
      "DeprecationWarning: 'histplot' will be deprecated in a future version of PlantCV. This function creates a histogram by default. Current PlantCV version: 3.14.1 released on 2022-07-07T11:45:30-0500\n"
     ]
    },
    {
     "name": "stdout",
     "output_type": "stream",
     "text": [
      "Count is 231\n"
     ]
    },
    {
     "name": "stderr",
     "output_type": "stream",
     "text": [
      "DeprecationWarning: 'histplot' will be deprecated in a future version of PlantCV. This function creates a histogram by default. Current PlantCV version: 3.14.1 released on 2022-07-07T11:45:30-0500\n"
     ]
    },
    {
     "name": "stdout",
     "output_type": "stream",
     "text": [
      "Count is 232\n"
     ]
    },
    {
     "name": "stderr",
     "output_type": "stream",
     "text": [
      "DeprecationWarning: 'histplot' will be deprecated in a future version of PlantCV. This function creates a histogram by default. Current PlantCV version: 3.14.1 released on 2022-07-07T11:45:30-0500\n"
     ]
    },
    {
     "name": "stdout",
     "output_type": "stream",
     "text": [
      "Count is 233\n"
     ]
    },
    {
     "name": "stderr",
     "output_type": "stream",
     "text": [
      "DeprecationWarning: 'histplot' will be deprecated in a future version of PlantCV. This function creates a histogram by default. Current PlantCV version: 3.14.1 released on 2022-07-07T11:45:30-0500\n"
     ]
    },
    {
     "name": "stdout",
     "output_type": "stream",
     "text": [
      "Count is 234\n"
     ]
    },
    {
     "name": "stderr",
     "output_type": "stream",
     "text": [
      "DeprecationWarning: 'histplot' will be deprecated in a future version of PlantCV. This function creates a histogram by default. Current PlantCV version: 3.14.1 released on 2022-07-07T11:45:30-0500\n"
     ]
    },
    {
     "name": "stdout",
     "output_type": "stream",
     "text": [
      "Count is 235\n"
     ]
    },
    {
     "name": "stderr",
     "output_type": "stream",
     "text": [
      "DeprecationWarning: 'histplot' will be deprecated in a future version of PlantCV. This function creates a histogram by default. Current PlantCV version: 3.14.1 released on 2022-07-07T11:45:30-0500\n"
     ]
    },
    {
     "name": "stdout",
     "output_type": "stream",
     "text": [
      "Count is 236\n"
     ]
    },
    {
     "name": "stderr",
     "output_type": "stream",
     "text": [
      "DeprecationWarning: 'histplot' will be deprecated in a future version of PlantCV. This function creates a histogram by default. Current PlantCV version: 3.14.1 released on 2022-07-07T11:45:30-0500\n"
     ]
    },
    {
     "name": "stdout",
     "output_type": "stream",
     "text": [
      "Count is 237\n"
     ]
    },
    {
     "name": "stderr",
     "output_type": "stream",
     "text": [
      "DeprecationWarning: 'histplot' will be deprecated in a future version of PlantCV. This function creates a histogram by default. Current PlantCV version: 3.14.1 released on 2022-07-07T11:45:30-0500\n"
     ]
    },
    {
     "name": "stdout",
     "output_type": "stream",
     "text": [
      "Count is 238\n"
     ]
    },
    {
     "name": "stderr",
     "output_type": "stream",
     "text": [
      "DeprecationWarning: 'histplot' will be deprecated in a future version of PlantCV. This function creates a histogram by default. Current PlantCV version: 3.14.1 released on 2022-07-07T11:45:30-0500\n"
     ]
    },
    {
     "name": "stdout",
     "output_type": "stream",
     "text": [
      "Count is 239\n"
     ]
    },
    {
     "name": "stderr",
     "output_type": "stream",
     "text": [
      "DeprecationWarning: 'histplot' will be deprecated in a future version of PlantCV. This function creates a histogram by default. Current PlantCV version: 3.14.1 released on 2022-07-07T11:45:30-0500\n"
     ]
    },
    {
     "name": "stdout",
     "output_type": "stream",
     "text": [
      "Count is 240\n"
     ]
    },
    {
     "name": "stderr",
     "output_type": "stream",
     "text": [
      "DeprecationWarning: 'histplot' will be deprecated in a future version of PlantCV. This function creates a histogram by default. Current PlantCV version: 3.14.1 released on 2022-07-07T11:45:30-0500\n"
     ]
    },
    {
     "name": "stdout",
     "output_type": "stream",
     "text": [
      "Count is 241\n"
     ]
    },
    {
     "name": "stderr",
     "output_type": "stream",
     "text": [
      "DeprecationWarning: 'histplot' will be deprecated in a future version of PlantCV. This function creates a histogram by default. Current PlantCV version: 3.14.1 released on 2022-07-07T11:45:30-0500\n"
     ]
    },
    {
     "name": "stdout",
     "output_type": "stream",
     "text": [
      "Count is 242\n"
     ]
    },
    {
     "name": "stderr",
     "output_type": "stream",
     "text": [
      "DeprecationWarning: 'histplot' will be deprecated in a future version of PlantCV. This function creates a histogram by default. Current PlantCV version: 3.14.1 released on 2022-07-07T11:45:30-0500\n"
     ]
    },
    {
     "name": "stdout",
     "output_type": "stream",
     "text": [
      "Count is 243\n"
     ]
    },
    {
     "name": "stderr",
     "output_type": "stream",
     "text": [
      "DeprecationWarning: 'histplot' will be deprecated in a future version of PlantCV. This function creates a histogram by default. Current PlantCV version: 3.14.1 released on 2022-07-07T11:45:30-0500\n"
     ]
    },
    {
     "name": "stdout",
     "output_type": "stream",
     "text": [
      "Count is 244\n"
     ]
    },
    {
     "name": "stderr",
     "output_type": "stream",
     "text": [
      "DeprecationWarning: 'histplot' will be deprecated in a future version of PlantCV. This function creates a histogram by default. Current PlantCV version: 3.14.1 released on 2022-07-07T11:45:30-0500\n"
     ]
    },
    {
     "name": "stdout",
     "output_type": "stream",
     "text": [
      "Count is 245\n"
     ]
    },
    {
     "name": "stderr",
     "output_type": "stream",
     "text": [
      "DeprecationWarning: 'histplot' will be deprecated in a future version of PlantCV. This function creates a histogram by default. Current PlantCV version: 3.14.1 released on 2022-07-07T11:45:30-0500\n"
     ]
    },
    {
     "name": "stdout",
     "output_type": "stream",
     "text": [
      "Count is 246\n"
     ]
    },
    {
     "name": "stderr",
     "output_type": "stream",
     "text": [
      "DeprecationWarning: 'histplot' will be deprecated in a future version of PlantCV. This function creates a histogram by default. Current PlantCV version: 3.14.1 released on 2022-07-07T11:45:30-0500\n"
     ]
    },
    {
     "name": "stdout",
     "output_type": "stream",
     "text": [
      "Count is 247\n"
     ]
    },
    {
     "name": "stderr",
     "output_type": "stream",
     "text": [
      "DeprecationWarning: 'histplot' will be deprecated in a future version of PlantCV. This function creates a histogram by default. Current PlantCV version: 3.14.1 released on 2022-07-07T11:45:30-0500\n"
     ]
    },
    {
     "name": "stdout",
     "output_type": "stream",
     "text": [
      "Count is 248\n"
     ]
    },
    {
     "name": "stderr",
     "output_type": "stream",
     "text": [
      "DeprecationWarning: 'histplot' will be deprecated in a future version of PlantCV. This function creates a histogram by default. Current PlantCV version: 3.14.1 released on 2022-07-07T11:45:30-0500\n"
     ]
    },
    {
     "name": "stdout",
     "output_type": "stream",
     "text": [
      "Count is 249\n"
     ]
    },
    {
     "name": "stderr",
     "output_type": "stream",
     "text": [
      "DeprecationWarning: 'histplot' will be deprecated in a future version of PlantCV. This function creates a histogram by default. Current PlantCV version: 3.14.1 released on 2022-07-07T11:45:30-0500\n"
     ]
    },
    {
     "name": "stdout",
     "output_type": "stream",
     "text": [
      "Count is 250\n"
     ]
    },
    {
     "name": "stderr",
     "output_type": "stream",
     "text": [
      "DeprecationWarning: 'histplot' will be deprecated in a future version of PlantCV. This function creates a histogram by default. Current PlantCV version: 3.14.1 released on 2022-07-07T11:45:30-0500\n"
     ]
    },
    {
     "name": "stdout",
     "output_type": "stream",
     "text": [
      "Count is 251\n"
     ]
    },
    {
     "name": "stderr",
     "output_type": "stream",
     "text": [
      "DeprecationWarning: 'histplot' will be deprecated in a future version of PlantCV. This function creates a histogram by default. Current PlantCV version: 3.14.1 released on 2022-07-07T11:45:30-0500\n"
     ]
    },
    {
     "name": "stdout",
     "output_type": "stream",
     "text": [
      "Count is 252\n"
     ]
    },
    {
     "name": "stderr",
     "output_type": "stream",
     "text": [
      "DeprecationWarning: 'histplot' will be deprecated in a future version of PlantCV. This function creates a histogram by default. Current PlantCV version: 3.14.1 released on 2022-07-07T11:45:30-0500\n"
     ]
    },
    {
     "name": "stdout",
     "output_type": "stream",
     "text": [
      "Count is 253\n"
     ]
    },
    {
     "name": "stderr",
     "output_type": "stream",
     "text": [
      "DeprecationWarning: 'histplot' will be deprecated in a future version of PlantCV. This function creates a histogram by default. Current PlantCV version: 3.14.1 released on 2022-07-07T11:45:30-0500\n"
     ]
    },
    {
     "name": "stdout",
     "output_type": "stream",
     "text": [
      "Count is 254\n"
     ]
    },
    {
     "name": "stderr",
     "output_type": "stream",
     "text": [
      "DeprecationWarning: 'histplot' will be deprecated in a future version of PlantCV. This function creates a histogram by default. Current PlantCV version: 3.14.1 released on 2022-07-07T11:45:30-0500\n"
     ]
    },
    {
     "name": "stdout",
     "output_type": "stream",
     "text": [
      "Count is 255\n"
     ]
    },
    {
     "name": "stderr",
     "output_type": "stream",
     "text": [
      "DeprecationWarning: 'histplot' will be deprecated in a future version of PlantCV. This function creates a histogram by default. Current PlantCV version: 3.14.1 released on 2022-07-07T11:45:30-0500\n"
     ]
    },
    {
     "name": "stdout",
     "output_type": "stream",
     "text": [
      "Count is 256\n"
     ]
    },
    {
     "name": "stderr",
     "output_type": "stream",
     "text": [
      "DeprecationWarning: 'histplot' will be deprecated in a future version of PlantCV. This function creates a histogram by default. Current PlantCV version: 3.14.1 released on 2022-07-07T11:45:30-0500\n"
     ]
    },
    {
     "name": "stdout",
     "output_type": "stream",
     "text": [
      "Count is 257\n"
     ]
    },
    {
     "name": "stderr",
     "output_type": "stream",
     "text": [
      "DeprecationWarning: 'histplot' will be deprecated in a future version of PlantCV. This function creates a histogram by default. Current PlantCV version: 3.14.1 released on 2022-07-07T11:45:30-0500\n"
     ]
    },
    {
     "name": "stdout",
     "output_type": "stream",
     "text": [
      "Count is 258\n"
     ]
    },
    {
     "name": "stderr",
     "output_type": "stream",
     "text": [
      "DeprecationWarning: 'histplot' will be deprecated in a future version of PlantCV. This function creates a histogram by default. Current PlantCV version: 3.14.1 released on 2022-07-07T11:45:30-0500\n"
     ]
    },
    {
     "name": "stdout",
     "output_type": "stream",
     "text": [
      "Count is 259\n"
     ]
    },
    {
     "name": "stderr",
     "output_type": "stream",
     "text": [
      "DeprecationWarning: 'histplot' will be deprecated in a future version of PlantCV. This function creates a histogram by default. Current PlantCV version: 3.14.1 released on 2022-07-07T11:45:30-0500\n"
     ]
    },
    {
     "name": "stdout",
     "output_type": "stream",
     "text": [
      "Count is 260\n"
     ]
    },
    {
     "name": "stderr",
     "output_type": "stream",
     "text": [
      "DeprecationWarning: 'histplot' will be deprecated in a future version of PlantCV. This function creates a histogram by default. Current PlantCV version: 3.14.1 released on 2022-07-07T11:45:30-0500\n"
     ]
    },
    {
     "name": "stdout",
     "output_type": "stream",
     "text": [
      "Count is 261\n"
     ]
    },
    {
     "name": "stderr",
     "output_type": "stream",
     "text": [
      "DeprecationWarning: 'histplot' will be deprecated in a future version of PlantCV. This function creates a histogram by default. Current PlantCV version: 3.14.1 released on 2022-07-07T11:45:30-0500\n"
     ]
    },
    {
     "name": "stdout",
     "output_type": "stream",
     "text": [
      "Count is 262\n"
     ]
    },
    {
     "name": "stderr",
     "output_type": "stream",
     "text": [
      "DeprecationWarning: 'histplot' will be deprecated in a future version of PlantCV. This function creates a histogram by default. Current PlantCV version: 3.14.1 released on 2022-07-07T11:45:30-0500\n"
     ]
    },
    {
     "name": "stdout",
     "output_type": "stream",
     "text": [
      "Count is 263\n"
     ]
    },
    {
     "name": "stderr",
     "output_type": "stream",
     "text": [
      "DeprecationWarning: 'histplot' will be deprecated in a future version of PlantCV. This function creates a histogram by default. Current PlantCV version: 3.14.1 released on 2022-07-07T11:45:30-0500\n"
     ]
    },
    {
     "name": "stdout",
     "output_type": "stream",
     "text": [
      "Count is 264\n"
     ]
    },
    {
     "name": "stderr",
     "output_type": "stream",
     "text": [
      "DeprecationWarning: 'histplot' will be deprecated in a future version of PlantCV. This function creates a histogram by default. Current PlantCV version: 3.14.1 released on 2022-07-07T11:45:30-0500\n"
     ]
    },
    {
     "name": "stdout",
     "output_type": "stream",
     "text": [
      "Count is 265\n"
     ]
    },
    {
     "name": "stderr",
     "output_type": "stream",
     "text": [
      "DeprecationWarning: 'histplot' will be deprecated in a future version of PlantCV. This function creates a histogram by default. Current PlantCV version: 3.14.1 released on 2022-07-07T11:45:30-0500\n"
     ]
    },
    {
     "name": "stdout",
     "output_type": "stream",
     "text": [
      "Count is 266\n"
     ]
    },
    {
     "name": "stderr",
     "output_type": "stream",
     "text": [
      "DeprecationWarning: 'histplot' will be deprecated in a future version of PlantCV. This function creates a histogram by default. Current PlantCV version: 3.14.1 released on 2022-07-07T11:45:30-0500\n"
     ]
    },
    {
     "name": "stdout",
     "output_type": "stream",
     "text": [
      "Count is 267\n"
     ]
    },
    {
     "name": "stderr",
     "output_type": "stream",
     "text": [
      "DeprecationWarning: 'histplot' will be deprecated in a future version of PlantCV. This function creates a histogram by default. Current PlantCV version: 3.14.1 released on 2022-07-07T11:45:30-0500\n"
     ]
    },
    {
     "name": "stdout",
     "output_type": "stream",
     "text": [
      "Count is 268\n"
     ]
    },
    {
     "name": "stderr",
     "output_type": "stream",
     "text": [
      "DeprecationWarning: 'histplot' will be deprecated in a future version of PlantCV. This function creates a histogram by default. Current PlantCV version: 3.14.1 released on 2022-07-07T11:45:30-0500\n"
     ]
    },
    {
     "name": "stdout",
     "output_type": "stream",
     "text": [
      "Count is 269\n"
     ]
    },
    {
     "name": "stderr",
     "output_type": "stream",
     "text": [
      "DeprecationWarning: 'histplot' will be deprecated in a future version of PlantCV. This function creates a histogram by default. Current PlantCV version: 3.14.1 released on 2022-07-07T11:45:30-0500\n"
     ]
    },
    {
     "name": "stdout",
     "output_type": "stream",
     "text": [
      "Count is 270\n"
     ]
    },
    {
     "name": "stderr",
     "output_type": "stream",
     "text": [
      "DeprecationWarning: 'histplot' will be deprecated in a future version of PlantCV. This function creates a histogram by default. Current PlantCV version: 3.14.1 released on 2022-07-07T11:45:30-0500\n"
     ]
    },
    {
     "name": "stdout",
     "output_type": "stream",
     "text": [
      "Count is 271\n"
     ]
    },
    {
     "name": "stderr",
     "output_type": "stream",
     "text": [
      "DeprecationWarning: 'histplot' will be deprecated in a future version of PlantCV. This function creates a histogram by default. Current PlantCV version: 3.14.1 released on 2022-07-07T11:45:30-0500\n"
     ]
    },
    {
     "name": "stdout",
     "output_type": "stream",
     "text": [
      "Count is 272\n"
     ]
    },
    {
     "name": "stderr",
     "output_type": "stream",
     "text": [
      "DeprecationWarning: 'histplot' will be deprecated in a future version of PlantCV. This function creates a histogram by default. Current PlantCV version: 3.14.1 released on 2022-07-07T11:45:30-0500\n"
     ]
    },
    {
     "name": "stdout",
     "output_type": "stream",
     "text": [
      "Count is 273\n"
     ]
    },
    {
     "name": "stderr",
     "output_type": "stream",
     "text": [
      "DeprecationWarning: 'histplot' will be deprecated in a future version of PlantCV. This function creates a histogram by default. Current PlantCV version: 3.14.1 released on 2022-07-07T11:45:30-0500\n"
     ]
    },
    {
     "name": "stdout",
     "output_type": "stream",
     "text": [
      "Count is 274\n"
     ]
    },
    {
     "name": "stderr",
     "output_type": "stream",
     "text": [
      "DeprecationWarning: 'histplot' will be deprecated in a future version of PlantCV. This function creates a histogram by default. Current PlantCV version: 3.14.1 released on 2022-07-07T11:45:30-0500\n"
     ]
    },
    {
     "name": "stdout",
     "output_type": "stream",
     "text": [
      "Count is 275\n"
     ]
    },
    {
     "name": "stderr",
     "output_type": "stream",
     "text": [
      "DeprecationWarning: 'histplot' will be deprecated in a future version of PlantCV. This function creates a histogram by default. Current PlantCV version: 3.14.1 released on 2022-07-07T11:45:30-0500\n"
     ]
    },
    {
     "name": "stdout",
     "output_type": "stream",
     "text": [
      "Count is 276\n"
     ]
    },
    {
     "name": "stderr",
     "output_type": "stream",
     "text": [
      "DeprecationWarning: 'histplot' will be deprecated in a future version of PlantCV. This function creates a histogram by default. Current PlantCV version: 3.14.1 released on 2022-07-07T11:45:30-0500\n"
     ]
    },
    {
     "name": "stdout",
     "output_type": "stream",
     "text": [
      "Count is 277\n"
     ]
    },
    {
     "name": "stderr",
     "output_type": "stream",
     "text": [
      "DeprecationWarning: 'histplot' will be deprecated in a future version of PlantCV. This function creates a histogram by default. Current PlantCV version: 3.14.1 released on 2022-07-07T11:45:30-0500\n"
     ]
    },
    {
     "name": "stdout",
     "output_type": "stream",
     "text": [
      "Count is 278\n"
     ]
    },
    {
     "name": "stderr",
     "output_type": "stream",
     "text": [
      "DeprecationWarning: 'histplot' will be deprecated in a future version of PlantCV. This function creates a histogram by default. Current PlantCV version: 3.14.1 released on 2022-07-07T11:45:30-0500\n"
     ]
    },
    {
     "name": "stdout",
     "output_type": "stream",
     "text": [
      "Count is 279\n"
     ]
    },
    {
     "name": "stderr",
     "output_type": "stream",
     "text": [
      "DeprecationWarning: 'histplot' will be deprecated in a future version of PlantCV. This function creates a histogram by default. Current PlantCV version: 3.14.1 released on 2022-07-07T11:45:30-0500\n"
     ]
    },
    {
     "name": "stdout",
     "output_type": "stream",
     "text": [
      "Count is 280\n"
     ]
    },
    {
     "name": "stderr",
     "output_type": "stream",
     "text": [
      "DeprecationWarning: 'histplot' will be deprecated in a future version of PlantCV. This function creates a histogram by default. Current PlantCV version: 3.14.1 released on 2022-07-07T11:45:30-0500\n"
     ]
    },
    {
     "name": "stdout",
     "output_type": "stream",
     "text": [
      "Count is 281\n"
     ]
    },
    {
     "name": "stderr",
     "output_type": "stream",
     "text": [
      "DeprecationWarning: 'histplot' will be deprecated in a future version of PlantCV. This function creates a histogram by default. Current PlantCV version: 3.14.1 released on 2022-07-07T11:45:30-0500\n"
     ]
    },
    {
     "name": "stdout",
     "output_type": "stream",
     "text": [
      "Count is 282\n"
     ]
    },
    {
     "name": "stderr",
     "output_type": "stream",
     "text": [
      "DeprecationWarning: 'histplot' will be deprecated in a future version of PlantCV. This function creates a histogram by default. Current PlantCV version: 3.14.1 released on 2022-07-07T11:45:30-0500\n"
     ]
    },
    {
     "name": "stdout",
     "output_type": "stream",
     "text": [
      "Count is 283\n"
     ]
    },
    {
     "name": "stderr",
     "output_type": "stream",
     "text": [
      "DeprecationWarning: 'histplot' will be deprecated in a future version of PlantCV. This function creates a histogram by default. Current PlantCV version: 3.14.1 released on 2022-07-07T11:45:30-0500\n"
     ]
    },
    {
     "name": "stdout",
     "output_type": "stream",
     "text": [
      "Count is 284\n"
     ]
    },
    {
     "name": "stderr",
     "output_type": "stream",
     "text": [
      "DeprecationWarning: 'histplot' will be deprecated in a future version of PlantCV. This function creates a histogram by default. Current PlantCV version: 3.14.1 released on 2022-07-07T11:45:30-0500\n"
     ]
    },
    {
     "name": "stdout",
     "output_type": "stream",
     "text": [
      "Count is 285\n"
     ]
    },
    {
     "name": "stderr",
     "output_type": "stream",
     "text": [
      "DeprecationWarning: 'histplot' will be deprecated in a future version of PlantCV. This function creates a histogram by default. Current PlantCV version: 3.14.1 released on 2022-07-07T11:45:30-0500\n"
     ]
    },
    {
     "name": "stdout",
     "output_type": "stream",
     "text": [
      "Count is 286\n"
     ]
    },
    {
     "name": "stderr",
     "output_type": "stream",
     "text": [
      "DeprecationWarning: 'histplot' will be deprecated in a future version of PlantCV. This function creates a histogram by default. Current PlantCV version: 3.14.1 released on 2022-07-07T11:45:30-0500\n"
     ]
    },
    {
     "name": "stdout",
     "output_type": "stream",
     "text": [
      "Count is 287\n"
     ]
    },
    {
     "name": "stderr",
     "output_type": "stream",
     "text": [
      "DeprecationWarning: 'histplot' will be deprecated in a future version of PlantCV. This function creates a histogram by default. Current PlantCV version: 3.14.1 released on 2022-07-07T11:45:30-0500\n"
     ]
    },
    {
     "name": "stdout",
     "output_type": "stream",
     "text": [
      "Count is 288\n"
     ]
    },
    {
     "name": "stderr",
     "output_type": "stream",
     "text": [
      "DeprecationWarning: 'histplot' will be deprecated in a future version of PlantCV. This function creates a histogram by default. Current PlantCV version: 3.14.1 released on 2022-07-07T11:45:30-0500\n"
     ]
    },
    {
     "name": "stdout",
     "output_type": "stream",
     "text": [
      "Count is 289\n"
     ]
    },
    {
     "name": "stderr",
     "output_type": "stream",
     "text": [
      "DeprecationWarning: 'histplot' will be deprecated in a future version of PlantCV. This function creates a histogram by default. Current PlantCV version: 3.14.1 released on 2022-07-07T11:45:30-0500\n"
     ]
    },
    {
     "name": "stdout",
     "output_type": "stream",
     "text": [
      "Count is 290\n"
     ]
    },
    {
     "name": "stderr",
     "output_type": "stream",
     "text": [
      "DeprecationWarning: 'histplot' will be deprecated in a future version of PlantCV. This function creates a histogram by default. Current PlantCV version: 3.14.1 released on 2022-07-07T11:45:30-0500\n"
     ]
    },
    {
     "name": "stdout",
     "output_type": "stream",
     "text": [
      "Count is 291\n"
     ]
    },
    {
     "name": "stderr",
     "output_type": "stream",
     "text": [
      "DeprecationWarning: 'histplot' will be deprecated in a future version of PlantCV. This function creates a histogram by default. Current PlantCV version: 3.14.1 released on 2022-07-07T11:45:30-0500\n"
     ]
    },
    {
     "name": "stdout",
     "output_type": "stream",
     "text": [
      "Count is 292\n"
     ]
    },
    {
     "name": "stderr",
     "output_type": "stream",
     "text": [
      "DeprecationWarning: 'histplot' will be deprecated in a future version of PlantCV. This function creates a histogram by default. Current PlantCV version: 3.14.1 released on 2022-07-07T11:45:30-0500\n"
     ]
    },
    {
     "name": "stdout",
     "output_type": "stream",
     "text": [
      "Count is 293\n"
     ]
    },
    {
     "name": "stderr",
     "output_type": "stream",
     "text": [
      "DeprecationWarning: 'histplot' will be deprecated in a future version of PlantCV. This function creates a histogram by default. Current PlantCV version: 3.14.1 released on 2022-07-07T11:45:30-0500\n"
     ]
    },
    {
     "name": "stdout",
     "output_type": "stream",
     "text": [
      "Count is 294\n"
     ]
    },
    {
     "name": "stderr",
     "output_type": "stream",
     "text": [
      "DeprecationWarning: 'histplot' will be deprecated in a future version of PlantCV. This function creates a histogram by default. Current PlantCV version: 3.14.1 released on 2022-07-07T11:45:30-0500\n"
     ]
    },
    {
     "name": "stdout",
     "output_type": "stream",
     "text": [
      "Count is 295\n"
     ]
    },
    {
     "name": "stderr",
     "output_type": "stream",
     "text": [
      "DeprecationWarning: 'histplot' will be deprecated in a future version of PlantCV. This function creates a histogram by default. Current PlantCV version: 3.14.1 released on 2022-07-07T11:45:30-0500\n"
     ]
    },
    {
     "name": "stdout",
     "output_type": "stream",
     "text": [
      "Count is 296\n"
     ]
    },
    {
     "name": "stderr",
     "output_type": "stream",
     "text": [
      "DeprecationWarning: 'histplot' will be deprecated in a future version of PlantCV. This function creates a histogram by default. Current PlantCV version: 3.14.1 released on 2022-07-07T11:45:30-0500\n"
     ]
    },
    {
     "name": "stdout",
     "output_type": "stream",
     "text": [
      "Count is 297\n"
     ]
    },
    {
     "name": "stderr",
     "output_type": "stream",
     "text": [
      "DeprecationWarning: 'histplot' will be deprecated in a future version of PlantCV. This function creates a histogram by default. Current PlantCV version: 3.14.1 released on 2022-07-07T11:45:30-0500\n"
     ]
    },
    {
     "name": "stdout",
     "output_type": "stream",
     "text": [
      "Count is 298\n"
     ]
    },
    {
     "name": "stderr",
     "output_type": "stream",
     "text": [
      "DeprecationWarning: 'histplot' will be deprecated in a future version of PlantCV. This function creates a histogram by default. Current PlantCV version: 3.14.1 released on 2022-07-07T11:45:30-0500\n"
     ]
    },
    {
     "name": "stdout",
     "output_type": "stream",
     "text": [
      "Count is 299\n"
     ]
    },
    {
     "name": "stderr",
     "output_type": "stream",
     "text": [
      "DeprecationWarning: 'histplot' will be deprecated in a future version of PlantCV. This function creates a histogram by default. Current PlantCV version: 3.14.1 released on 2022-07-07T11:45:30-0500\n"
     ]
    },
    {
     "name": "stdout",
     "output_type": "stream",
     "text": [
      "Count is 300\n"
     ]
    },
    {
     "name": "stderr",
     "output_type": "stream",
     "text": [
      "DeprecationWarning: 'histplot' will be deprecated in a future version of PlantCV. This function creates a histogram by default. Current PlantCV version: 3.14.1 released on 2022-07-07T11:45:30-0500\n"
     ]
    },
    {
     "name": "stdout",
     "output_type": "stream",
     "text": [
      "Count is 301\n"
     ]
    },
    {
     "name": "stderr",
     "output_type": "stream",
     "text": [
      "DeprecationWarning: 'histplot' will be deprecated in a future version of PlantCV. This function creates a histogram by default. Current PlantCV version: 3.14.1 released on 2022-07-07T11:45:30-0500\n"
     ]
    },
    {
     "name": "stdout",
     "output_type": "stream",
     "text": [
      "Count is 302\n"
     ]
    },
    {
     "name": "stderr",
     "output_type": "stream",
     "text": [
      "DeprecationWarning: 'histplot' will be deprecated in a future version of PlantCV. This function creates a histogram by default. Current PlantCV version: 3.14.1 released on 2022-07-07T11:45:30-0500\n"
     ]
    },
    {
     "name": "stdout",
     "output_type": "stream",
     "text": [
      "Count is 303\n"
     ]
    },
    {
     "name": "stderr",
     "output_type": "stream",
     "text": [
      "DeprecationWarning: 'histplot' will be deprecated in a future version of PlantCV. This function creates a histogram by default. Current PlantCV version: 3.14.1 released on 2022-07-07T11:45:30-0500\n"
     ]
    },
    {
     "name": "stdout",
     "output_type": "stream",
     "text": [
      "Count is 304\n"
     ]
    },
    {
     "name": "stderr",
     "output_type": "stream",
     "text": [
      "DeprecationWarning: 'histplot' will be deprecated in a future version of PlantCV. This function creates a histogram by default. Current PlantCV version: 3.14.1 released on 2022-07-07T11:45:30-0500\n"
     ]
    },
    {
     "name": "stdout",
     "output_type": "stream",
     "text": [
      "Count is 305\n"
     ]
    },
    {
     "name": "stderr",
     "output_type": "stream",
     "text": [
      "DeprecationWarning: 'histplot' will be deprecated in a future version of PlantCV. This function creates a histogram by default. Current PlantCV version: 3.14.1 released on 2022-07-07T11:45:30-0500\n"
     ]
    },
    {
     "name": "stdout",
     "output_type": "stream",
     "text": [
      "Count is 306\n"
     ]
    },
    {
     "name": "stderr",
     "output_type": "stream",
     "text": [
      "DeprecationWarning: 'histplot' will be deprecated in a future version of PlantCV. This function creates a histogram by default. Current PlantCV version: 3.14.1 released on 2022-07-07T11:45:30-0500\n"
     ]
    },
    {
     "name": "stdout",
     "output_type": "stream",
     "text": [
      "Count is 307\n"
     ]
    },
    {
     "name": "stderr",
     "output_type": "stream",
     "text": [
      "DeprecationWarning: 'histplot' will be deprecated in a future version of PlantCV. This function creates a histogram by default. Current PlantCV version: 3.14.1 released on 2022-07-07T11:45:30-0500\n"
     ]
    },
    {
     "name": "stdout",
     "output_type": "stream",
     "text": [
      "Count is 308\n"
     ]
    },
    {
     "name": "stderr",
     "output_type": "stream",
     "text": [
      "DeprecationWarning: 'histplot' will be deprecated in a future version of PlantCV. This function creates a histogram by default. Current PlantCV version: 3.14.1 released on 2022-07-07T11:45:30-0500\n"
     ]
    },
    {
     "name": "stdout",
     "output_type": "stream",
     "text": [
      "Count is 309\n"
     ]
    },
    {
     "name": "stderr",
     "output_type": "stream",
     "text": [
      "DeprecationWarning: 'histplot' will be deprecated in a future version of PlantCV. This function creates a histogram by default. Current PlantCV version: 3.14.1 released on 2022-07-07T11:45:30-0500\n"
     ]
    },
    {
     "name": "stdout",
     "output_type": "stream",
     "text": [
      "Count is 310\n"
     ]
    },
    {
     "name": "stderr",
     "output_type": "stream",
     "text": [
      "DeprecationWarning: 'histplot' will be deprecated in a future version of PlantCV. This function creates a histogram by default. Current PlantCV version: 3.14.1 released on 2022-07-07T11:45:30-0500\n"
     ]
    },
    {
     "name": "stdout",
     "output_type": "stream",
     "text": [
      "Count is 311\n"
     ]
    },
    {
     "name": "stderr",
     "output_type": "stream",
     "text": [
      "DeprecationWarning: 'histplot' will be deprecated in a future version of PlantCV. This function creates a histogram by default. Current PlantCV version: 3.14.1 released on 2022-07-07T11:45:30-0500\n"
     ]
    },
    {
     "name": "stdout",
     "output_type": "stream",
     "text": [
      "Count is 312\n"
     ]
    },
    {
     "name": "stderr",
     "output_type": "stream",
     "text": [
      "DeprecationWarning: 'histplot' will be deprecated in a future version of PlantCV. This function creates a histogram by default. Current PlantCV version: 3.14.1 released on 2022-07-07T11:45:30-0500\n"
     ]
    },
    {
     "name": "stdout",
     "output_type": "stream",
     "text": [
      "Count is 313\n"
     ]
    },
    {
     "name": "stderr",
     "output_type": "stream",
     "text": [
      "DeprecationWarning: 'histplot' will be deprecated in a future version of PlantCV. This function creates a histogram by default. Current PlantCV version: 3.14.1 released on 2022-07-07T11:45:30-0500\n"
     ]
    },
    {
     "name": "stdout",
     "output_type": "stream",
     "text": [
      "Count is 314\n"
     ]
    },
    {
     "name": "stderr",
     "output_type": "stream",
     "text": [
      "DeprecationWarning: 'histplot' will be deprecated in a future version of PlantCV. This function creates a histogram by default. Current PlantCV version: 3.14.1 released on 2022-07-07T11:45:30-0500\n"
     ]
    },
    {
     "name": "stdout",
     "output_type": "stream",
     "text": [
      "Count is 315\n"
     ]
    },
    {
     "name": "stderr",
     "output_type": "stream",
     "text": [
      "DeprecationWarning: 'histplot' will be deprecated in a future version of PlantCV. This function creates a histogram by default. Current PlantCV version: 3.14.1 released on 2022-07-07T11:45:30-0500\n"
     ]
    },
    {
     "name": "stdout",
     "output_type": "stream",
     "text": [
      "Count is 316\n"
     ]
    },
    {
     "name": "stderr",
     "output_type": "stream",
     "text": [
      "DeprecationWarning: 'histplot' will be deprecated in a future version of PlantCV. This function creates a histogram by default. Current PlantCV version: 3.14.1 released on 2022-07-07T11:45:30-0500\n"
     ]
    },
    {
     "name": "stdout",
     "output_type": "stream",
     "text": [
      "Count is 317\n"
     ]
    },
    {
     "name": "stderr",
     "output_type": "stream",
     "text": [
      "DeprecationWarning: 'histplot' will be deprecated in a future version of PlantCV. This function creates a histogram by default. Current PlantCV version: 3.14.1 released on 2022-07-07T11:45:30-0500\n"
     ]
    },
    {
     "name": "stdout",
     "output_type": "stream",
     "text": [
      "Count is 318\n"
     ]
    },
    {
     "name": "stderr",
     "output_type": "stream",
     "text": [
      "DeprecationWarning: 'histplot' will be deprecated in a future version of PlantCV. This function creates a histogram by default. Current PlantCV version: 3.14.1 released on 2022-07-07T11:45:30-0500\n"
     ]
    },
    {
     "name": "stdout",
     "output_type": "stream",
     "text": [
      "Count is 319\n"
     ]
    },
    {
     "name": "stderr",
     "output_type": "stream",
     "text": [
      "DeprecationWarning: 'histplot' will be deprecated in a future version of PlantCV. This function creates a histogram by default. Current PlantCV version: 3.14.1 released on 2022-07-07T11:45:30-0500\n"
     ]
    },
    {
     "name": "stdout",
     "output_type": "stream",
     "text": [
      "Count is 320\n"
     ]
    },
    {
     "name": "stderr",
     "output_type": "stream",
     "text": [
      "DeprecationWarning: 'histplot' will be deprecated in a future version of PlantCV. This function creates a histogram by default. Current PlantCV version: 3.14.1 released on 2022-07-07T11:45:30-0500\n"
     ]
    },
    {
     "name": "stdout",
     "output_type": "stream",
     "text": [
      "Count is 321\n"
     ]
    },
    {
     "name": "stderr",
     "output_type": "stream",
     "text": [
      "DeprecationWarning: 'histplot' will be deprecated in a future version of PlantCV. This function creates a histogram by default. Current PlantCV version: 3.14.1 released on 2022-07-07T11:45:30-0500\n"
     ]
    },
    {
     "name": "stdout",
     "output_type": "stream",
     "text": [
      "Count is 322\n"
     ]
    },
    {
     "name": "stderr",
     "output_type": "stream",
     "text": [
      "DeprecationWarning: 'histplot' will be deprecated in a future version of PlantCV. This function creates a histogram by default. Current PlantCV version: 3.14.1 released on 2022-07-07T11:45:30-0500\n"
     ]
    },
    {
     "name": "stdout",
     "output_type": "stream",
     "text": [
      "Count is 323\n"
     ]
    },
    {
     "name": "stderr",
     "output_type": "stream",
     "text": [
      "DeprecationWarning: 'histplot' will be deprecated in a future version of PlantCV. This function creates a histogram by default. Current PlantCV version: 3.14.1 released on 2022-07-07T11:45:30-0500\n"
     ]
    },
    {
     "name": "stdout",
     "output_type": "stream",
     "text": [
      "Count is 324\n"
     ]
    },
    {
     "name": "stderr",
     "output_type": "stream",
     "text": [
      "DeprecationWarning: 'histplot' will be deprecated in a future version of PlantCV. This function creates a histogram by default. Current PlantCV version: 3.14.1 released on 2022-07-07T11:45:30-0500\n"
     ]
    },
    {
     "name": "stdout",
     "output_type": "stream",
     "text": [
      "Count is 325\n"
     ]
    },
    {
     "name": "stderr",
     "output_type": "stream",
     "text": [
      "DeprecationWarning: 'histplot' will be deprecated in a future version of PlantCV. This function creates a histogram by default. Current PlantCV version: 3.14.1 released on 2022-07-07T11:45:30-0500\n"
     ]
    },
    {
     "name": "stdout",
     "output_type": "stream",
     "text": [
      "Count is 326\n"
     ]
    },
    {
     "name": "stderr",
     "output_type": "stream",
     "text": [
      "DeprecationWarning: 'histplot' will be deprecated in a future version of PlantCV. This function creates a histogram by default. Current PlantCV version: 3.14.1 released on 2022-07-07T11:45:30-0500\n"
     ]
    },
    {
     "name": "stdout",
     "output_type": "stream",
     "text": [
      "Count is 327\n"
     ]
    },
    {
     "name": "stderr",
     "output_type": "stream",
     "text": [
      "DeprecationWarning: 'histplot' will be deprecated in a future version of PlantCV. This function creates a histogram by default. Current PlantCV version: 3.14.1 released on 2022-07-07T11:45:30-0500\n"
     ]
    },
    {
     "name": "stdout",
     "output_type": "stream",
     "text": [
      "Count is 328\n"
     ]
    },
    {
     "name": "stderr",
     "output_type": "stream",
     "text": [
      "DeprecationWarning: 'histplot' will be deprecated in a future version of PlantCV. This function creates a histogram by default. Current PlantCV version: 3.14.1 released on 2022-07-07T11:45:30-0500\n"
     ]
    },
    {
     "name": "stdout",
     "output_type": "stream",
     "text": [
      "Count is 329\n"
     ]
    },
    {
     "name": "stderr",
     "output_type": "stream",
     "text": [
      "DeprecationWarning: 'histplot' will be deprecated in a future version of PlantCV. This function creates a histogram by default. Current PlantCV version: 3.14.1 released on 2022-07-07T11:45:30-0500\n"
     ]
    },
    {
     "name": "stdout",
     "output_type": "stream",
     "text": [
      "Count is 330\n"
     ]
    },
    {
     "name": "stderr",
     "output_type": "stream",
     "text": [
      "DeprecationWarning: 'histplot' will be deprecated in a future version of PlantCV. This function creates a histogram by default. Current PlantCV version: 3.14.1 released on 2022-07-07T11:45:30-0500\n"
     ]
    },
    {
     "name": "stdout",
     "output_type": "stream",
     "text": [
      "Count is 331\n"
     ]
    },
    {
     "name": "stderr",
     "output_type": "stream",
     "text": [
      "DeprecationWarning: 'histplot' will be deprecated in a future version of PlantCV. This function creates a histogram by default. Current PlantCV version: 3.14.1 released on 2022-07-07T11:45:30-0500\n"
     ]
    },
    {
     "name": "stdout",
     "output_type": "stream",
     "text": [
      "Count is 332\n"
     ]
    },
    {
     "name": "stderr",
     "output_type": "stream",
     "text": [
      "DeprecationWarning: 'histplot' will be deprecated in a future version of PlantCV. This function creates a histogram by default. Current PlantCV version: 3.14.1 released on 2022-07-07T11:45:30-0500\n"
     ]
    },
    {
     "name": "stdout",
     "output_type": "stream",
     "text": [
      "Count is 333\n"
     ]
    },
    {
     "name": "stderr",
     "output_type": "stream",
     "text": [
      "DeprecationWarning: 'histplot' will be deprecated in a future version of PlantCV. This function creates a histogram by default. Current PlantCV version: 3.14.1 released on 2022-07-07T11:45:30-0500\n"
     ]
    },
    {
     "name": "stdout",
     "output_type": "stream",
     "text": [
      "Count is 334\n"
     ]
    },
    {
     "name": "stderr",
     "output_type": "stream",
     "text": [
      "DeprecationWarning: 'histplot' will be deprecated in a future version of PlantCV. This function creates a histogram by default. Current PlantCV version: 3.14.1 released on 2022-07-07T11:45:30-0500\n"
     ]
    },
    {
     "name": "stdout",
     "output_type": "stream",
     "text": [
      "Count is 335\n"
     ]
    },
    {
     "name": "stderr",
     "output_type": "stream",
     "text": [
      "DeprecationWarning: 'histplot' will be deprecated in a future version of PlantCV. This function creates a histogram by default. Current PlantCV version: 3.14.1 released on 2022-07-07T11:45:30-0500\n"
     ]
    },
    {
     "name": "stdout",
     "output_type": "stream",
     "text": [
      "Count is 336\n"
     ]
    },
    {
     "name": "stderr",
     "output_type": "stream",
     "text": [
      "DeprecationWarning: 'histplot' will be deprecated in a future version of PlantCV. This function creates a histogram by default. Current PlantCV version: 3.14.1 released on 2022-07-07T11:45:30-0500\n"
     ]
    },
    {
     "name": "stdout",
     "output_type": "stream",
     "text": [
      "Count is 337\n"
     ]
    },
    {
     "name": "stderr",
     "output_type": "stream",
     "text": [
      "DeprecationWarning: 'histplot' will be deprecated in a future version of PlantCV. This function creates a histogram by default. Current PlantCV version: 3.14.1 released on 2022-07-07T11:45:30-0500\n"
     ]
    },
    {
     "name": "stdout",
     "output_type": "stream",
     "text": [
      "Count is 338\n"
     ]
    },
    {
     "name": "stderr",
     "output_type": "stream",
     "text": [
      "DeprecationWarning: 'histplot' will be deprecated in a future version of PlantCV. This function creates a histogram by default. Current PlantCV version: 3.14.1 released on 2022-07-07T11:45:30-0500\n"
     ]
    },
    {
     "name": "stdout",
     "output_type": "stream",
     "text": [
      "Count is 339\n"
     ]
    },
    {
     "name": "stderr",
     "output_type": "stream",
     "text": [
      "DeprecationWarning: 'histplot' will be deprecated in a future version of PlantCV. This function creates a histogram by default. Current PlantCV version: 3.14.1 released on 2022-07-07T11:45:30-0500\n"
     ]
    },
    {
     "name": "stdout",
     "output_type": "stream",
     "text": [
      "Count is 340\n"
     ]
    },
    {
     "name": "stderr",
     "output_type": "stream",
     "text": [
      "DeprecationWarning: 'histplot' will be deprecated in a future version of PlantCV. This function creates a histogram by default. Current PlantCV version: 3.14.1 released on 2022-07-07T11:45:30-0500\n"
     ]
    },
    {
     "name": "stdout",
     "output_type": "stream",
     "text": [
      "Count is 341\n"
     ]
    },
    {
     "name": "stderr",
     "output_type": "stream",
     "text": [
      "DeprecationWarning: 'histplot' will be deprecated in a future version of PlantCV. This function creates a histogram by default. Current PlantCV version: 3.14.1 released on 2022-07-07T11:45:30-0500\n"
     ]
    },
    {
     "name": "stdout",
     "output_type": "stream",
     "text": [
      "Count is 342\n"
     ]
    },
    {
     "name": "stderr",
     "output_type": "stream",
     "text": [
      "DeprecationWarning: 'histplot' will be deprecated in a future version of PlantCV. This function creates a histogram by default. Current PlantCV version: 3.14.1 released on 2022-07-07T11:45:30-0500\n"
     ]
    },
    {
     "name": "stdout",
     "output_type": "stream",
     "text": [
      "Count is 343\n"
     ]
    },
    {
     "name": "stderr",
     "output_type": "stream",
     "text": [
      "DeprecationWarning: 'histplot' will be deprecated in a future version of PlantCV. This function creates a histogram by default. Current PlantCV version: 3.14.1 released on 2022-07-07T11:45:30-0500\n"
     ]
    },
    {
     "name": "stdout",
     "output_type": "stream",
     "text": [
      "Count is 344\n"
     ]
    },
    {
     "name": "stderr",
     "output_type": "stream",
     "text": [
      "DeprecationWarning: 'histplot' will be deprecated in a future version of PlantCV. This function creates a histogram by default. Current PlantCV version: 3.14.1 released on 2022-07-07T11:45:30-0500\n"
     ]
    },
    {
     "name": "stdout",
     "output_type": "stream",
     "text": [
      "Count is 345\n"
     ]
    },
    {
     "name": "stderr",
     "output_type": "stream",
     "text": [
      "DeprecationWarning: 'histplot' will be deprecated in a future version of PlantCV. This function creates a histogram by default. Current PlantCV version: 3.14.1 released on 2022-07-07T11:45:30-0500\n"
     ]
    },
    {
     "name": "stdout",
     "output_type": "stream",
     "text": [
      "Count is 346\n"
     ]
    },
    {
     "name": "stderr",
     "output_type": "stream",
     "text": [
      "DeprecationWarning: 'histplot' will be deprecated in a future version of PlantCV. This function creates a histogram by default. Current PlantCV version: 3.14.1 released on 2022-07-07T11:45:30-0500\n"
     ]
    },
    {
     "name": "stdout",
     "output_type": "stream",
     "text": [
      "Count is 347\n"
     ]
    },
    {
     "name": "stderr",
     "output_type": "stream",
     "text": [
      "DeprecationWarning: 'histplot' will be deprecated in a future version of PlantCV. This function creates a histogram by default. Current PlantCV version: 3.14.1 released on 2022-07-07T11:45:30-0500\n"
     ]
    },
    {
     "name": "stdout",
     "output_type": "stream",
     "text": [
      "Count is 348\n"
     ]
    },
    {
     "name": "stderr",
     "output_type": "stream",
     "text": [
      "DeprecationWarning: 'histplot' will be deprecated in a future version of PlantCV. This function creates a histogram by default. Current PlantCV version: 3.14.1 released on 2022-07-07T11:45:30-0500\n"
     ]
    },
    {
     "name": "stdout",
     "output_type": "stream",
     "text": [
      "Count is 349\n"
     ]
    },
    {
     "name": "stderr",
     "output_type": "stream",
     "text": [
      "DeprecationWarning: 'histplot' will be deprecated in a future version of PlantCV. This function creates a histogram by default. Current PlantCV version: 3.14.1 released on 2022-07-07T11:45:30-0500\n"
     ]
    },
    {
     "name": "stdout",
     "output_type": "stream",
     "text": [
      "Count is 350\n"
     ]
    },
    {
     "name": "stderr",
     "output_type": "stream",
     "text": [
      "DeprecationWarning: 'histplot' will be deprecated in a future version of PlantCV. This function creates a histogram by default. Current PlantCV version: 3.14.1 released on 2022-07-07T11:45:30-0500\n"
     ]
    },
    {
     "name": "stdout",
     "output_type": "stream",
     "text": [
      "Count is 351\n"
     ]
    },
    {
     "name": "stderr",
     "output_type": "stream",
     "text": [
      "DeprecationWarning: 'histplot' will be deprecated in a future version of PlantCV. This function creates a histogram by default. Current PlantCV version: 3.14.1 released on 2022-07-07T11:45:30-0500\n"
     ]
    },
    {
     "name": "stdout",
     "output_type": "stream",
     "text": [
      "Count is 352\n"
     ]
    },
    {
     "name": "stderr",
     "output_type": "stream",
     "text": [
      "DeprecationWarning: 'histplot' will be deprecated in a future version of PlantCV. This function creates a histogram by default. Current PlantCV version: 3.14.1 released on 2022-07-07T11:45:30-0500\n"
     ]
    },
    {
     "name": "stdout",
     "output_type": "stream",
     "text": [
      "Count is 353\n"
     ]
    },
    {
     "name": "stderr",
     "output_type": "stream",
     "text": [
      "DeprecationWarning: 'histplot' will be deprecated in a future version of PlantCV. This function creates a histogram by default. Current PlantCV version: 3.14.1 released on 2022-07-07T11:45:30-0500\n"
     ]
    },
    {
     "name": "stdout",
     "output_type": "stream",
     "text": [
      "Count is 354\n"
     ]
    },
    {
     "name": "stderr",
     "output_type": "stream",
     "text": [
      "DeprecationWarning: 'histplot' will be deprecated in a future version of PlantCV. This function creates a histogram by default. Current PlantCV version: 3.14.1 released on 2022-07-07T11:45:30-0500\n"
     ]
    },
    {
     "name": "stdout",
     "output_type": "stream",
     "text": [
      "Count is 355\n"
     ]
    },
    {
     "name": "stderr",
     "output_type": "stream",
     "text": [
      "DeprecationWarning: 'histplot' will be deprecated in a future version of PlantCV. This function creates a histogram by default. Current PlantCV version: 3.14.1 released on 2022-07-07T11:45:30-0500\n"
     ]
    },
    {
     "name": "stdout",
     "output_type": "stream",
     "text": [
      "Count is 356\n"
     ]
    },
    {
     "name": "stderr",
     "output_type": "stream",
     "text": [
      "DeprecationWarning: 'histplot' will be deprecated in a future version of PlantCV. This function creates a histogram by default. Current PlantCV version: 3.14.1 released on 2022-07-07T11:45:30-0500\n"
     ]
    },
    {
     "name": "stdout",
     "output_type": "stream",
     "text": [
      "Count is 357\n"
     ]
    },
    {
     "name": "stderr",
     "output_type": "stream",
     "text": [
      "DeprecationWarning: 'histplot' will be deprecated in a future version of PlantCV. This function creates a histogram by default. Current PlantCV version: 3.14.1 released on 2022-07-07T11:45:30-0500\n"
     ]
    },
    {
     "name": "stdout",
     "output_type": "stream",
     "text": [
      "Count is 358\n"
     ]
    },
    {
     "name": "stderr",
     "output_type": "stream",
     "text": [
      "DeprecationWarning: 'histplot' will be deprecated in a future version of PlantCV. This function creates a histogram by default. Current PlantCV version: 3.14.1 released on 2022-07-07T11:45:30-0500\n"
     ]
    },
    {
     "name": "stdout",
     "output_type": "stream",
     "text": [
      "Count is 359\n"
     ]
    },
    {
     "name": "stderr",
     "output_type": "stream",
     "text": [
      "DeprecationWarning: 'histplot' will be deprecated in a future version of PlantCV. This function creates a histogram by default. Current PlantCV version: 3.14.1 released on 2022-07-07T11:45:30-0500\n"
     ]
    },
    {
     "name": "stdout",
     "output_type": "stream",
     "text": [
      "Count is 360\n"
     ]
    },
    {
     "name": "stderr",
     "output_type": "stream",
     "text": [
      "DeprecationWarning: 'histplot' will be deprecated in a future version of PlantCV. This function creates a histogram by default. Current PlantCV version: 3.14.1 released on 2022-07-07T11:45:30-0500\n"
     ]
    },
    {
     "name": "stdout",
     "output_type": "stream",
     "text": [
      "Count is 361\n"
     ]
    },
    {
     "name": "stderr",
     "output_type": "stream",
     "text": [
      "DeprecationWarning: 'histplot' will be deprecated in a future version of PlantCV. This function creates a histogram by default. Current PlantCV version: 3.14.1 released on 2022-07-07T11:45:30-0500\n"
     ]
    },
    {
     "name": "stdout",
     "output_type": "stream",
     "text": [
      "Count is 362\n"
     ]
    },
    {
     "name": "stderr",
     "output_type": "stream",
     "text": [
      "DeprecationWarning: 'histplot' will be deprecated in a future version of PlantCV. This function creates a histogram by default. Current PlantCV version: 3.14.1 released on 2022-07-07T11:45:30-0500\n"
     ]
    },
    {
     "name": "stdout",
     "output_type": "stream",
     "text": [
      "Count is 363\n"
     ]
    },
    {
     "name": "stderr",
     "output_type": "stream",
     "text": [
      "DeprecationWarning: 'histplot' will be deprecated in a future version of PlantCV. This function creates a histogram by default. Current PlantCV version: 3.14.1 released on 2022-07-07T11:45:30-0500\n"
     ]
    },
    {
     "name": "stdout",
     "output_type": "stream",
     "text": [
      "Count is 364\n"
     ]
    },
    {
     "name": "stderr",
     "output_type": "stream",
     "text": [
      "DeprecationWarning: 'histplot' will be deprecated in a future version of PlantCV. This function creates a histogram by default. Current PlantCV version: 3.14.1 released on 2022-07-07T11:45:30-0500\n"
     ]
    },
    {
     "name": "stdout",
     "output_type": "stream",
     "text": [
      "Count is 365\n"
     ]
    },
    {
     "name": "stderr",
     "output_type": "stream",
     "text": [
      "DeprecationWarning: 'histplot' will be deprecated in a future version of PlantCV. This function creates a histogram by default. Current PlantCV version: 3.14.1 released on 2022-07-07T11:45:30-0500\n"
     ]
    },
    {
     "name": "stdout",
     "output_type": "stream",
     "text": [
      "Count is 366\n"
     ]
    },
    {
     "name": "stderr",
     "output_type": "stream",
     "text": [
      "DeprecationWarning: 'histplot' will be deprecated in a future version of PlantCV. This function creates a histogram by default. Current PlantCV version: 3.14.1 released on 2022-07-07T11:45:30-0500\n"
     ]
    },
    {
     "name": "stdout",
     "output_type": "stream",
     "text": [
      "Count is 367\n"
     ]
    },
    {
     "name": "stderr",
     "output_type": "stream",
     "text": [
      "DeprecationWarning: 'histplot' will be deprecated in a future version of PlantCV. This function creates a histogram by default. Current PlantCV version: 3.14.1 released on 2022-07-07T11:45:30-0500\n"
     ]
    },
    {
     "name": "stdout",
     "output_type": "stream",
     "text": [
      "Count is 368\n"
     ]
    },
    {
     "name": "stderr",
     "output_type": "stream",
     "text": [
      "DeprecationWarning: 'histplot' will be deprecated in a future version of PlantCV. This function creates a histogram by default. Current PlantCV version: 3.14.1 released on 2022-07-07T11:45:30-0500\n"
     ]
    },
    {
     "name": "stdout",
     "output_type": "stream",
     "text": [
      "Count is 369\n"
     ]
    },
    {
     "name": "stderr",
     "output_type": "stream",
     "text": [
      "DeprecationWarning: 'histplot' will be deprecated in a future version of PlantCV. This function creates a histogram by default. Current PlantCV version: 3.14.1 released on 2022-07-07T11:45:30-0500\n"
     ]
    },
    {
     "name": "stdout",
     "output_type": "stream",
     "text": [
      "Count is 370\n"
     ]
    },
    {
     "name": "stderr",
     "output_type": "stream",
     "text": [
      "DeprecationWarning: 'histplot' will be deprecated in a future version of PlantCV. This function creates a histogram by default. Current PlantCV version: 3.14.1 released on 2022-07-07T11:45:30-0500\n"
     ]
    },
    {
     "name": "stdout",
     "output_type": "stream",
     "text": [
      "Count is 371\n"
     ]
    },
    {
     "name": "stderr",
     "output_type": "stream",
     "text": [
      "DeprecationWarning: 'histplot' will be deprecated in a future version of PlantCV. This function creates a histogram by default. Current PlantCV version: 3.14.1 released on 2022-07-07T11:45:30-0500\n"
     ]
    },
    {
     "name": "stdout",
     "output_type": "stream",
     "text": [
      "Count is 372\n"
     ]
    },
    {
     "name": "stderr",
     "output_type": "stream",
     "text": [
      "DeprecationWarning: 'histplot' will be deprecated in a future version of PlantCV. This function creates a histogram by default. Current PlantCV version: 3.14.1 released on 2022-07-07T11:45:30-0500\n"
     ]
    },
    {
     "name": "stdout",
     "output_type": "stream",
     "text": [
      "Count is 373\n"
     ]
    },
    {
     "name": "stderr",
     "output_type": "stream",
     "text": [
      "DeprecationWarning: 'histplot' will be deprecated in a future version of PlantCV. This function creates a histogram by default. Current PlantCV version: 3.14.1 released on 2022-07-07T11:45:30-0500\n"
     ]
    },
    {
     "name": "stdout",
     "output_type": "stream",
     "text": [
      "Count is 374\n"
     ]
    },
    {
     "name": "stderr",
     "output_type": "stream",
     "text": [
      "DeprecationWarning: 'histplot' will be deprecated in a future version of PlantCV. This function creates a histogram by default. Current PlantCV version: 3.14.1 released on 2022-07-07T11:45:30-0500\n"
     ]
    },
    {
     "name": "stdout",
     "output_type": "stream",
     "text": [
      "Count is 375\n"
     ]
    },
    {
     "name": "stderr",
     "output_type": "stream",
     "text": [
      "DeprecationWarning: 'histplot' will be deprecated in a future version of PlantCV. This function creates a histogram by default. Current PlantCV version: 3.14.1 released on 2022-07-07T11:45:30-0500\n"
     ]
    },
    {
     "name": "stdout",
     "output_type": "stream",
     "text": [
      "Count is 376\n"
     ]
    },
    {
     "name": "stderr",
     "output_type": "stream",
     "text": [
      "DeprecationWarning: 'histplot' will be deprecated in a future version of PlantCV. This function creates a histogram by default. Current PlantCV version: 3.14.1 released on 2022-07-07T11:45:30-0500\n"
     ]
    },
    {
     "name": "stdout",
     "output_type": "stream",
     "text": [
      "Count is 377\n"
     ]
    },
    {
     "name": "stderr",
     "output_type": "stream",
     "text": [
      "DeprecationWarning: 'histplot' will be deprecated in a future version of PlantCV. This function creates a histogram by default. Current PlantCV version: 3.14.1 released on 2022-07-07T11:45:30-0500\n"
     ]
    },
    {
     "name": "stdout",
     "output_type": "stream",
     "text": [
      "Count is 378\n"
     ]
    },
    {
     "name": "stderr",
     "output_type": "stream",
     "text": [
      "DeprecationWarning: 'histplot' will be deprecated in a future version of PlantCV. This function creates a histogram by default. Current PlantCV version: 3.14.1 released on 2022-07-07T11:45:30-0500\n"
     ]
    },
    {
     "name": "stdout",
     "output_type": "stream",
     "text": [
      "Count is 379\n"
     ]
    },
    {
     "name": "stderr",
     "output_type": "stream",
     "text": [
      "DeprecationWarning: 'histplot' will be deprecated in a future version of PlantCV. This function creates a histogram by default. Current PlantCV version: 3.14.1 released on 2022-07-07T11:45:30-0500\n"
     ]
    },
    {
     "name": "stdout",
     "output_type": "stream",
     "text": [
      "Count is 380\n"
     ]
    },
    {
     "name": "stderr",
     "output_type": "stream",
     "text": [
      "DeprecationWarning: 'histplot' will be deprecated in a future version of PlantCV. This function creates a histogram by default. Current PlantCV version: 3.14.1 released on 2022-07-07T11:45:30-0500\n"
     ]
    },
    {
     "name": "stdout",
     "output_type": "stream",
     "text": [
      "Count is 381\n"
     ]
    },
    {
     "name": "stderr",
     "output_type": "stream",
     "text": [
      "DeprecationWarning: 'histplot' will be deprecated in a future version of PlantCV. This function creates a histogram by default. Current PlantCV version: 3.14.1 released on 2022-07-07T11:45:30-0500\n"
     ]
    },
    {
     "name": "stdout",
     "output_type": "stream",
     "text": [
      "Count is 382\n"
     ]
    },
    {
     "name": "stderr",
     "output_type": "stream",
     "text": [
      "DeprecationWarning: 'histplot' will be deprecated in a future version of PlantCV. This function creates a histogram by default. Current PlantCV version: 3.14.1 released on 2022-07-07T11:45:30-0500\n"
     ]
    },
    {
     "name": "stdout",
     "output_type": "stream",
     "text": [
      "Count is 383\n"
     ]
    },
    {
     "name": "stderr",
     "output_type": "stream",
     "text": [
      "DeprecationWarning: 'histplot' will be deprecated in a future version of PlantCV. This function creates a histogram by default. Current PlantCV version: 3.14.1 released on 2022-07-07T11:45:30-0500\n"
     ]
    },
    {
     "name": "stdout",
     "output_type": "stream",
     "text": [
      "Count is 384\n"
     ]
    },
    {
     "name": "stderr",
     "output_type": "stream",
     "text": [
      "DeprecationWarning: 'histplot' will be deprecated in a future version of PlantCV. This function creates a histogram by default. Current PlantCV version: 3.14.1 released on 2022-07-07T11:45:30-0500\n"
     ]
    },
    {
     "name": "stdout",
     "output_type": "stream",
     "text": [
      "Count is 385\n"
     ]
    },
    {
     "name": "stderr",
     "output_type": "stream",
     "text": [
      "DeprecationWarning: 'histplot' will be deprecated in a future version of PlantCV. This function creates a histogram by default. Current PlantCV version: 3.14.1 released on 2022-07-07T11:45:30-0500\n"
     ]
    },
    {
     "name": "stdout",
     "output_type": "stream",
     "text": [
      "Count is 386\n"
     ]
    },
    {
     "name": "stderr",
     "output_type": "stream",
     "text": [
      "DeprecationWarning: 'histplot' will be deprecated in a future version of PlantCV. This function creates a histogram by default. Current PlantCV version: 3.14.1 released on 2022-07-07T11:45:30-0500\n"
     ]
    },
    {
     "name": "stdout",
     "output_type": "stream",
     "text": [
      "Count is 387\n"
     ]
    },
    {
     "name": "stderr",
     "output_type": "stream",
     "text": [
      "DeprecationWarning: 'histplot' will be deprecated in a future version of PlantCV. This function creates a histogram by default. Current PlantCV version: 3.14.1 released on 2022-07-07T11:45:30-0500\n"
     ]
    },
    {
     "name": "stdout",
     "output_type": "stream",
     "text": [
      "Count is 388\n"
     ]
    },
    {
     "name": "stderr",
     "output_type": "stream",
     "text": [
      "DeprecationWarning: 'histplot' will be deprecated in a future version of PlantCV. This function creates a histogram by default. Current PlantCV version: 3.14.1 released on 2022-07-07T11:45:30-0500\n"
     ]
    },
    {
     "name": "stdout",
     "output_type": "stream",
     "text": [
      "Count is 389\n"
     ]
    },
    {
     "name": "stderr",
     "output_type": "stream",
     "text": [
      "DeprecationWarning: 'histplot' will be deprecated in a future version of PlantCV. This function creates a histogram by default. Current PlantCV version: 3.14.1 released on 2022-07-07T11:45:30-0500\n"
     ]
    },
    {
     "name": "stdout",
     "output_type": "stream",
     "text": [
      "Count is 390\n"
     ]
    },
    {
     "name": "stderr",
     "output_type": "stream",
     "text": [
      "DeprecationWarning: 'histplot' will be deprecated in a future version of PlantCV. This function creates a histogram by default. Current PlantCV version: 3.14.1 released on 2022-07-07T11:45:30-0500\n"
     ]
    },
    {
     "name": "stdout",
     "output_type": "stream",
     "text": [
      "Count is 391\n"
     ]
    },
    {
     "name": "stderr",
     "output_type": "stream",
     "text": [
      "DeprecationWarning: 'histplot' will be deprecated in a future version of PlantCV. This function creates a histogram by default. Current PlantCV version: 3.14.1 released on 2022-07-07T11:45:30-0500\n"
     ]
    },
    {
     "name": "stdout",
     "output_type": "stream",
     "text": [
      "Count is 392\n"
     ]
    },
    {
     "name": "stderr",
     "output_type": "stream",
     "text": [
      "DeprecationWarning: 'histplot' will be deprecated in a future version of PlantCV. This function creates a histogram by default. Current PlantCV version: 3.14.1 released on 2022-07-07T11:45:30-0500\n"
     ]
    },
    {
     "name": "stdout",
     "output_type": "stream",
     "text": [
      "Count is 393\n"
     ]
    },
    {
     "name": "stderr",
     "output_type": "stream",
     "text": [
      "DeprecationWarning: 'histplot' will be deprecated in a future version of PlantCV. This function creates a histogram by default. Current PlantCV version: 3.14.1 released on 2022-07-07T11:45:30-0500\n"
     ]
    },
    {
     "name": "stdout",
     "output_type": "stream",
     "text": [
      "Count is 394\n"
     ]
    },
    {
     "name": "stderr",
     "output_type": "stream",
     "text": [
      "DeprecationWarning: 'histplot' will be deprecated in a future version of PlantCV. This function creates a histogram by default. Current PlantCV version: 3.14.1 released on 2022-07-07T11:45:30-0500\n"
     ]
    },
    {
     "name": "stdout",
     "output_type": "stream",
     "text": [
      "Count is 395\n"
     ]
    },
    {
     "name": "stderr",
     "output_type": "stream",
     "text": [
      "DeprecationWarning: 'histplot' will be deprecated in a future version of PlantCV. This function creates a histogram by default. Current PlantCV version: 3.14.1 released on 2022-07-07T11:45:30-0500\n"
     ]
    },
    {
     "name": "stdout",
     "output_type": "stream",
     "text": [
      "Count is 396\n"
     ]
    },
    {
     "name": "stderr",
     "output_type": "stream",
     "text": [
      "DeprecationWarning: 'histplot' will be deprecated in a future version of PlantCV. This function creates a histogram by default. Current PlantCV version: 3.14.1 released on 2022-07-07T11:45:30-0500\n"
     ]
    },
    {
     "name": "stdout",
     "output_type": "stream",
     "text": [
      "Count is 397\n"
     ]
    },
    {
     "name": "stderr",
     "output_type": "stream",
     "text": [
      "DeprecationWarning: 'histplot' will be deprecated in a future version of PlantCV. This function creates a histogram by default. Current PlantCV version: 3.14.1 released on 2022-07-07T11:45:30-0500\n"
     ]
    },
    {
     "name": "stdout",
     "output_type": "stream",
     "text": [
      "Count is 398\n"
     ]
    },
    {
     "name": "stderr",
     "output_type": "stream",
     "text": [
      "DeprecationWarning: 'histplot' will be deprecated in a future version of PlantCV. This function creates a histogram by default. Current PlantCV version: 3.14.1 released on 2022-07-07T11:45:30-0500\n"
     ]
    },
    {
     "name": "stdout",
     "output_type": "stream",
     "text": [
      "Count is 399\n"
     ]
    },
    {
     "name": "stderr",
     "output_type": "stream",
     "text": [
      "DeprecationWarning: 'histplot' will be deprecated in a future version of PlantCV. This function creates a histogram by default. Current PlantCV version: 3.14.1 released on 2022-07-07T11:45:30-0500\n"
     ]
    },
    {
     "name": "stdout",
     "output_type": "stream",
     "text": [
      "Count is 400\n"
     ]
    },
    {
     "name": "stderr",
     "output_type": "stream",
     "text": [
      "DeprecationWarning: 'histplot' will be deprecated in a future version of PlantCV. This function creates a histogram by default. Current PlantCV version: 3.14.1 released on 2022-07-07T11:45:30-0500\n"
     ]
    },
    {
     "name": "stdout",
     "output_type": "stream",
     "text": [
      "Count is 401\n"
     ]
    },
    {
     "name": "stderr",
     "output_type": "stream",
     "text": [
      "DeprecationWarning: 'histplot' will be deprecated in a future version of PlantCV. This function creates a histogram by default. Current PlantCV version: 3.14.1 released on 2022-07-07T11:45:30-0500\n"
     ]
    },
    {
     "name": "stdout",
     "output_type": "stream",
     "text": [
      "Count is 402\n"
     ]
    },
    {
     "name": "stderr",
     "output_type": "stream",
     "text": [
      "DeprecationWarning: 'histplot' will be deprecated in a future version of PlantCV. This function creates a histogram by default. Current PlantCV version: 3.14.1 released on 2022-07-07T11:45:30-0500\n"
     ]
    },
    {
     "name": "stdout",
     "output_type": "stream",
     "text": [
      "Count is 403\n"
     ]
    },
    {
     "name": "stderr",
     "output_type": "stream",
     "text": [
      "DeprecationWarning: 'histplot' will be deprecated in a future version of PlantCV. This function creates a histogram by default. Current PlantCV version: 3.14.1 released on 2022-07-07T11:45:30-0500\n"
     ]
    },
    {
     "name": "stdout",
     "output_type": "stream",
     "text": [
      "Count is 404\n"
     ]
    },
    {
     "name": "stderr",
     "output_type": "stream",
     "text": [
      "DeprecationWarning: 'histplot' will be deprecated in a future version of PlantCV. This function creates a histogram by default. Current PlantCV version: 3.14.1 released on 2022-07-07T11:45:30-0500\n"
     ]
    },
    {
     "name": "stdout",
     "output_type": "stream",
     "text": [
      "Count is 405\n"
     ]
    },
    {
     "name": "stderr",
     "output_type": "stream",
     "text": [
      "DeprecationWarning: 'histplot' will be deprecated in a future version of PlantCV. This function creates a histogram by default. Current PlantCV version: 3.14.1 released on 2022-07-07T11:45:30-0500\n"
     ]
    },
    {
     "name": "stdout",
     "output_type": "stream",
     "text": [
      "Count is 406\n"
     ]
    },
    {
     "name": "stderr",
     "output_type": "stream",
     "text": [
      "DeprecationWarning: 'histplot' will be deprecated in a future version of PlantCV. This function creates a histogram by default. Current PlantCV version: 3.14.1 released on 2022-07-07T11:45:30-0500\n"
     ]
    },
    {
     "name": "stdout",
     "output_type": "stream",
     "text": [
      "Count is 407\n"
     ]
    },
    {
     "name": "stderr",
     "output_type": "stream",
     "text": [
      "DeprecationWarning: 'histplot' will be deprecated in a future version of PlantCV. This function creates a histogram by default. Current PlantCV version: 3.14.1 released on 2022-07-07T11:45:30-0500\n"
     ]
    },
    {
     "name": "stdout",
     "output_type": "stream",
     "text": [
      "Count is 408\n"
     ]
    },
    {
     "name": "stderr",
     "output_type": "stream",
     "text": [
      "DeprecationWarning: 'histplot' will be deprecated in a future version of PlantCV. This function creates a histogram by default. Current PlantCV version: 3.14.1 released on 2022-07-07T11:45:30-0500\n"
     ]
    },
    {
     "name": "stdout",
     "output_type": "stream",
     "text": [
      "Count is 409\n"
     ]
    },
    {
     "name": "stderr",
     "output_type": "stream",
     "text": [
      "DeprecationWarning: 'histplot' will be deprecated in a future version of PlantCV. This function creates a histogram by default. Current PlantCV version: 3.14.1 released on 2022-07-07T11:45:30-0500\n"
     ]
    },
    {
     "name": "stdout",
     "output_type": "stream",
     "text": [
      "Count is 410\n"
     ]
    },
    {
     "name": "stderr",
     "output_type": "stream",
     "text": [
      "DeprecationWarning: 'histplot' will be deprecated in a future version of PlantCV. This function creates a histogram by default. Current PlantCV version: 3.14.1 released on 2022-07-07T11:45:30-0500\n"
     ]
    },
    {
     "name": "stdout",
     "output_type": "stream",
     "text": [
      "Count is 411\n"
     ]
    },
    {
     "name": "stderr",
     "output_type": "stream",
     "text": [
      "DeprecationWarning: 'histplot' will be deprecated in a future version of PlantCV. This function creates a histogram by default. Current PlantCV version: 3.14.1 released on 2022-07-07T11:45:30-0500\n"
     ]
    },
    {
     "name": "stdout",
     "output_type": "stream",
     "text": [
      "Count is 412\n"
     ]
    },
    {
     "name": "stderr",
     "output_type": "stream",
     "text": [
      "DeprecationWarning: 'histplot' will be deprecated in a future version of PlantCV. This function creates a histogram by default. Current PlantCV version: 3.14.1 released on 2022-07-07T11:45:30-0500\n"
     ]
    },
    {
     "name": "stdout",
     "output_type": "stream",
     "text": [
      "Count is 413\n"
     ]
    },
    {
     "name": "stderr",
     "output_type": "stream",
     "text": [
      "DeprecationWarning: 'histplot' will be deprecated in a future version of PlantCV. This function creates a histogram by default. Current PlantCV version: 3.14.1 released on 2022-07-07T11:45:30-0500\n"
     ]
    },
    {
     "name": "stdout",
     "output_type": "stream",
     "text": [
      "Count is 414\n"
     ]
    },
    {
     "name": "stderr",
     "output_type": "stream",
     "text": [
      "DeprecationWarning: 'histplot' will be deprecated in a future version of PlantCV. This function creates a histogram by default. Current PlantCV version: 3.14.1 released on 2022-07-07T11:45:30-0500\n"
     ]
    },
    {
     "name": "stdout",
     "output_type": "stream",
     "text": [
      "Count is 415\n"
     ]
    },
    {
     "name": "stderr",
     "output_type": "stream",
     "text": [
      "DeprecationWarning: 'histplot' will be deprecated in a future version of PlantCV. This function creates a histogram by default. Current PlantCV version: 3.14.1 released on 2022-07-07T11:45:30-0500\n"
     ]
    },
    {
     "name": "stdout",
     "output_type": "stream",
     "text": [
      "Count is 416\n"
     ]
    },
    {
     "name": "stderr",
     "output_type": "stream",
     "text": [
      "DeprecationWarning: 'histplot' will be deprecated in a future version of PlantCV. This function creates a histogram by default. Current PlantCV version: 3.14.1 released on 2022-07-07T11:45:30-0500\n"
     ]
    },
    {
     "name": "stdout",
     "output_type": "stream",
     "text": [
      "Count is 417\n"
     ]
    },
    {
     "name": "stderr",
     "output_type": "stream",
     "text": [
      "DeprecationWarning: 'histplot' will be deprecated in a future version of PlantCV. This function creates a histogram by default. Current PlantCV version: 3.14.1 released on 2022-07-07T11:45:30-0500\n"
     ]
    },
    {
     "name": "stdout",
     "output_type": "stream",
     "text": [
      "Count is 418\n"
     ]
    },
    {
     "name": "stderr",
     "output_type": "stream",
     "text": [
      "DeprecationWarning: 'histplot' will be deprecated in a future version of PlantCV. This function creates a histogram by default. Current PlantCV version: 3.14.1 released on 2022-07-07T11:45:30-0500\n"
     ]
    },
    {
     "name": "stdout",
     "output_type": "stream",
     "text": [
      "Count is 419\n"
     ]
    },
    {
     "name": "stderr",
     "output_type": "stream",
     "text": [
      "DeprecationWarning: 'histplot' will be deprecated in a future version of PlantCV. This function creates a histogram by default. Current PlantCV version: 3.14.1 released on 2022-07-07T11:45:30-0500\n"
     ]
    },
    {
     "name": "stdout",
     "output_type": "stream",
     "text": [
      "Count is 420\n"
     ]
    },
    {
     "name": "stderr",
     "output_type": "stream",
     "text": [
      "DeprecationWarning: 'histplot' will be deprecated in a future version of PlantCV. This function creates a histogram by default. Current PlantCV version: 3.14.1 released on 2022-07-07T11:45:30-0500\n"
     ]
    },
    {
     "name": "stdout",
     "output_type": "stream",
     "text": [
      "Count is 421\n"
     ]
    },
    {
     "name": "stderr",
     "output_type": "stream",
     "text": [
      "DeprecationWarning: 'histplot' will be deprecated in a future version of PlantCV. This function creates a histogram by default. Current PlantCV version: 3.14.1 released on 2022-07-07T11:45:30-0500\n"
     ]
    },
    {
     "name": "stdout",
     "output_type": "stream",
     "text": [
      "Count is 422\n"
     ]
    },
    {
     "name": "stderr",
     "output_type": "stream",
     "text": [
      "DeprecationWarning: 'histplot' will be deprecated in a future version of PlantCV. This function creates a histogram by default. Current PlantCV version: 3.14.1 released on 2022-07-07T11:45:30-0500\n"
     ]
    },
    {
     "name": "stdout",
     "output_type": "stream",
     "text": [
      "Count is 423\n"
     ]
    },
    {
     "name": "stderr",
     "output_type": "stream",
     "text": [
      "DeprecationWarning: 'histplot' will be deprecated in a future version of PlantCV. This function creates a histogram by default. Current PlantCV version: 3.14.1 released on 2022-07-07T11:45:30-0500\n"
     ]
    },
    {
     "name": "stdout",
     "output_type": "stream",
     "text": [
      "Count is 424\n"
     ]
    },
    {
     "name": "stderr",
     "output_type": "stream",
     "text": [
      "DeprecationWarning: 'histplot' will be deprecated in a future version of PlantCV. This function creates a histogram by default. Current PlantCV version: 3.14.1 released on 2022-07-07T11:45:30-0500\n"
     ]
    },
    {
     "name": "stdout",
     "output_type": "stream",
     "text": [
      "Count is 425\n"
     ]
    },
    {
     "name": "stderr",
     "output_type": "stream",
     "text": [
      "DeprecationWarning: 'histplot' will be deprecated in a future version of PlantCV. This function creates a histogram by default. Current PlantCV version: 3.14.1 released on 2022-07-07T11:45:30-0500\n"
     ]
    },
    {
     "name": "stdout",
     "output_type": "stream",
     "text": [
      "Count is 426\n"
     ]
    },
    {
     "name": "stderr",
     "output_type": "stream",
     "text": [
      "DeprecationWarning: 'histplot' will be deprecated in a future version of PlantCV. This function creates a histogram by default. Current PlantCV version: 3.14.1 released on 2022-07-07T11:45:30-0500\n"
     ]
    },
    {
     "name": "stdout",
     "output_type": "stream",
     "text": [
      "Count is 427\n"
     ]
    },
    {
     "name": "stderr",
     "output_type": "stream",
     "text": [
      "DeprecationWarning: 'histplot' will be deprecated in a future version of PlantCV. This function creates a histogram by default. Current PlantCV version: 3.14.1 released on 2022-07-07T11:45:30-0500\n"
     ]
    },
    {
     "name": "stdout",
     "output_type": "stream",
     "text": [
      "Count is 428\n"
     ]
    },
    {
     "name": "stderr",
     "output_type": "stream",
     "text": [
      "DeprecationWarning: 'histplot' will be deprecated in a future version of PlantCV. This function creates a histogram by default. Current PlantCV version: 3.14.1 released on 2022-07-07T11:45:30-0500\n"
     ]
    },
    {
     "name": "stdout",
     "output_type": "stream",
     "text": [
      "Count is 429\n"
     ]
    },
    {
     "name": "stderr",
     "output_type": "stream",
     "text": [
      "DeprecationWarning: 'histplot' will be deprecated in a future version of PlantCV. This function creates a histogram by default. Current PlantCV version: 3.14.1 released on 2022-07-07T11:45:30-0500\n"
     ]
    },
    {
     "name": "stdout",
     "output_type": "stream",
     "text": [
      "Count is 430\n"
     ]
    },
    {
     "name": "stderr",
     "output_type": "stream",
     "text": [
      "DeprecationWarning: 'histplot' will be deprecated in a future version of PlantCV. This function creates a histogram by default. Current PlantCV version: 3.14.1 released on 2022-07-07T11:45:30-0500\n"
     ]
    },
    {
     "name": "stdout",
     "output_type": "stream",
     "text": [
      "Count is 431\n"
     ]
    },
    {
     "name": "stderr",
     "output_type": "stream",
     "text": [
      "DeprecationWarning: 'histplot' will be deprecated in a future version of PlantCV. This function creates a histogram by default. Current PlantCV version: 3.14.1 released on 2022-07-07T11:45:30-0500\n"
     ]
    },
    {
     "name": "stdout",
     "output_type": "stream",
     "text": [
      "Count is 432\n"
     ]
    },
    {
     "name": "stderr",
     "output_type": "stream",
     "text": [
      "DeprecationWarning: 'histplot' will be deprecated in a future version of PlantCV. This function creates a histogram by default. Current PlantCV version: 3.14.1 released on 2022-07-07T11:45:30-0500\n"
     ]
    },
    {
     "name": "stdout",
     "output_type": "stream",
     "text": [
      "Count is 433\n"
     ]
    },
    {
     "name": "stderr",
     "output_type": "stream",
     "text": [
      "DeprecationWarning: 'histplot' will be deprecated in a future version of PlantCV. This function creates a histogram by default. Current PlantCV version: 3.14.1 released on 2022-07-07T11:45:30-0500\n"
     ]
    },
    {
     "name": "stdout",
     "output_type": "stream",
     "text": [
      "Count is 434\n"
     ]
    },
    {
     "name": "stderr",
     "output_type": "stream",
     "text": [
      "DeprecationWarning: 'histplot' will be deprecated in a future version of PlantCV. This function creates a histogram by default. Current PlantCV version: 3.14.1 released on 2022-07-07T11:45:30-0500\n"
     ]
    },
    {
     "name": "stdout",
     "output_type": "stream",
     "text": [
      "Count is 435\n"
     ]
    },
    {
     "name": "stderr",
     "output_type": "stream",
     "text": [
      "DeprecationWarning: 'histplot' will be deprecated in a future version of PlantCV. This function creates a histogram by default. Current PlantCV version: 3.14.1 released on 2022-07-07T11:45:30-0500\n"
     ]
    },
    {
     "name": "stdout",
     "output_type": "stream",
     "text": [
      "Count is 436\n"
     ]
    },
    {
     "name": "stderr",
     "output_type": "stream",
     "text": [
      "DeprecationWarning: 'histplot' will be deprecated in a future version of PlantCV. This function creates a histogram by default. Current PlantCV version: 3.14.1 released on 2022-07-07T11:45:30-0500\n"
     ]
    },
    {
     "name": "stdout",
     "output_type": "stream",
     "text": [
      "Count is 437\n"
     ]
    },
    {
     "name": "stderr",
     "output_type": "stream",
     "text": [
      "DeprecationWarning: 'histplot' will be deprecated in a future version of PlantCV. This function creates a histogram by default. Current PlantCV version: 3.14.1 released on 2022-07-07T11:45:30-0500\n"
     ]
    },
    {
     "name": "stdout",
     "output_type": "stream",
     "text": [
      "Count is 438\n"
     ]
    },
    {
     "name": "stderr",
     "output_type": "stream",
     "text": [
      "DeprecationWarning: 'histplot' will be deprecated in a future version of PlantCV. This function creates a histogram by default. Current PlantCV version: 3.14.1 released on 2022-07-07T11:45:30-0500\n"
     ]
    },
    {
     "name": "stdout",
     "output_type": "stream",
     "text": [
      "Count is 439\n"
     ]
    },
    {
     "name": "stderr",
     "output_type": "stream",
     "text": [
      "DeprecationWarning: 'histplot' will be deprecated in a future version of PlantCV. This function creates a histogram by default. Current PlantCV version: 3.14.1 released on 2022-07-07T11:45:30-0500\n"
     ]
    },
    {
     "name": "stdout",
     "output_type": "stream",
     "text": [
      "Count is 440\n"
     ]
    },
    {
     "name": "stderr",
     "output_type": "stream",
     "text": [
      "DeprecationWarning: 'histplot' will be deprecated in a future version of PlantCV. This function creates a histogram by default. Current PlantCV version: 3.14.1 released on 2022-07-07T11:45:30-0500\n"
     ]
    },
    {
     "name": "stdout",
     "output_type": "stream",
     "text": [
      "Count is 441\n"
     ]
    },
    {
     "name": "stderr",
     "output_type": "stream",
     "text": [
      "DeprecationWarning: 'histplot' will be deprecated in a future version of PlantCV. This function creates a histogram by default. Current PlantCV version: 3.14.1 released on 2022-07-07T11:45:30-0500\n"
     ]
    },
    {
     "name": "stdout",
     "output_type": "stream",
     "text": [
      "Count is 442\n"
     ]
    },
    {
     "name": "stderr",
     "output_type": "stream",
     "text": [
      "DeprecationWarning: 'histplot' will be deprecated in a future version of PlantCV. This function creates a histogram by default. Current PlantCV version: 3.14.1 released on 2022-07-07T11:45:30-0500\n"
     ]
    },
    {
     "name": "stdout",
     "output_type": "stream",
     "text": [
      "Count is 443\n"
     ]
    },
    {
     "name": "stderr",
     "output_type": "stream",
     "text": [
      "DeprecationWarning: 'histplot' will be deprecated in a future version of PlantCV. This function creates a histogram by default. Current PlantCV version: 3.14.1 released on 2022-07-07T11:45:30-0500\n"
     ]
    },
    {
     "name": "stdout",
     "output_type": "stream",
     "text": [
      "Count is 444\n"
     ]
    },
    {
     "name": "stderr",
     "output_type": "stream",
     "text": [
      "DeprecationWarning: 'histplot' will be deprecated in a future version of PlantCV. This function creates a histogram by default. Current PlantCV version: 3.14.1 released on 2022-07-07T11:45:30-0500\n"
     ]
    },
    {
     "name": "stdout",
     "output_type": "stream",
     "text": [
      "Count is 445\n"
     ]
    },
    {
     "name": "stderr",
     "output_type": "stream",
     "text": [
      "DeprecationWarning: 'histplot' will be deprecated in a future version of PlantCV. This function creates a histogram by default. Current PlantCV version: 3.14.1 released on 2022-07-07T11:45:30-0500\n"
     ]
    },
    {
     "name": "stdout",
     "output_type": "stream",
     "text": [
      "Count is 446\n"
     ]
    },
    {
     "name": "stderr",
     "output_type": "stream",
     "text": [
      "DeprecationWarning: 'histplot' will be deprecated in a future version of PlantCV. This function creates a histogram by default. Current PlantCV version: 3.14.1 released on 2022-07-07T11:45:30-0500\n"
     ]
    },
    {
     "name": "stdout",
     "output_type": "stream",
     "text": [
      "Count is 447\n"
     ]
    },
    {
     "name": "stderr",
     "output_type": "stream",
     "text": [
      "DeprecationWarning: 'histplot' will be deprecated in a future version of PlantCV. This function creates a histogram by default. Current PlantCV version: 3.14.1 released on 2022-07-07T11:45:30-0500\n"
     ]
    },
    {
     "name": "stdout",
     "output_type": "stream",
     "text": [
      "Count is 448\n"
     ]
    },
    {
     "name": "stderr",
     "output_type": "stream",
     "text": [
      "DeprecationWarning: 'histplot' will be deprecated in a future version of PlantCV. This function creates a histogram by default. Current PlantCV version: 3.14.1 released on 2022-07-07T11:45:30-0500\n"
     ]
    },
    {
     "name": "stdout",
     "output_type": "stream",
     "text": [
      "Count is 449\n"
     ]
    },
    {
     "name": "stderr",
     "output_type": "stream",
     "text": [
      "DeprecationWarning: 'histplot' will be deprecated in a future version of PlantCV. This function creates a histogram by default. Current PlantCV version: 3.14.1 released on 2022-07-07T11:45:30-0500\n"
     ]
    },
    {
     "name": "stdout",
     "output_type": "stream",
     "text": [
      "Count is 450\n"
     ]
    },
    {
     "name": "stderr",
     "output_type": "stream",
     "text": [
      "DeprecationWarning: 'histplot' will be deprecated in a future version of PlantCV. This function creates a histogram by default. Current PlantCV version: 3.14.1 released on 2022-07-07T11:45:30-0500\n"
     ]
    },
    {
     "name": "stdout",
     "output_type": "stream",
     "text": [
      "Count is 451\n"
     ]
    },
    {
     "name": "stderr",
     "output_type": "stream",
     "text": [
      "DeprecationWarning: 'histplot' will be deprecated in a future version of PlantCV. This function creates a histogram by default. Current PlantCV version: 3.14.1 released on 2022-07-07T11:45:30-0500\n"
     ]
    },
    {
     "name": "stdout",
     "output_type": "stream",
     "text": [
      "Count is 452\n"
     ]
    },
    {
     "name": "stderr",
     "output_type": "stream",
     "text": [
      "DeprecationWarning: 'histplot' will be deprecated in a future version of PlantCV. This function creates a histogram by default. Current PlantCV version: 3.14.1 released on 2022-07-07T11:45:30-0500\n"
     ]
    },
    {
     "name": "stdout",
     "output_type": "stream",
     "text": [
      "Count is 453\n"
     ]
    },
    {
     "name": "stderr",
     "output_type": "stream",
     "text": [
      "DeprecationWarning: 'histplot' will be deprecated in a future version of PlantCV. This function creates a histogram by default. Current PlantCV version: 3.14.1 released on 2022-07-07T11:45:30-0500\n"
     ]
    },
    {
     "name": "stdout",
     "output_type": "stream",
     "text": [
      "Count is 454\n"
     ]
    },
    {
     "name": "stderr",
     "output_type": "stream",
     "text": [
      "DeprecationWarning: 'histplot' will be deprecated in a future version of PlantCV. This function creates a histogram by default. Current PlantCV version: 3.14.1 released on 2022-07-07T11:45:30-0500\n"
     ]
    },
    {
     "name": "stdout",
     "output_type": "stream",
     "text": [
      "Count is 455\n"
     ]
    },
    {
     "name": "stderr",
     "output_type": "stream",
     "text": [
      "DeprecationWarning: 'histplot' will be deprecated in a future version of PlantCV. This function creates a histogram by default. Current PlantCV version: 3.14.1 released on 2022-07-07T11:45:30-0500\n"
     ]
    },
    {
     "name": "stdout",
     "output_type": "stream",
     "text": [
      "Count is 456\n"
     ]
    },
    {
     "name": "stderr",
     "output_type": "stream",
     "text": [
      "DeprecationWarning: 'histplot' will be deprecated in a future version of PlantCV. This function creates a histogram by default. Current PlantCV version: 3.14.1 released on 2022-07-07T11:45:30-0500\n"
     ]
    },
    {
     "name": "stdout",
     "output_type": "stream",
     "text": [
      "Count is 457\n"
     ]
    },
    {
     "name": "stderr",
     "output_type": "stream",
     "text": [
      "DeprecationWarning: 'histplot' will be deprecated in a future version of PlantCV. This function creates a histogram by default. Current PlantCV version: 3.14.1 released on 2022-07-07T11:45:30-0500\n"
     ]
    },
    {
     "name": "stdout",
     "output_type": "stream",
     "text": [
      "Count is 458\n"
     ]
    },
    {
     "name": "stderr",
     "output_type": "stream",
     "text": [
      "DeprecationWarning: 'histplot' will be deprecated in a future version of PlantCV. This function creates a histogram by default. Current PlantCV version: 3.14.1 released on 2022-07-07T11:45:30-0500\n"
     ]
    },
    {
     "name": "stdout",
     "output_type": "stream",
     "text": [
      "Count is 459\n"
     ]
    },
    {
     "name": "stderr",
     "output_type": "stream",
     "text": [
      "DeprecationWarning: 'histplot' will be deprecated in a future version of PlantCV. This function creates a histogram by default. Current PlantCV version: 3.14.1 released on 2022-07-07T11:45:30-0500\n"
     ]
    },
    {
     "name": "stdout",
     "output_type": "stream",
     "text": [
      "Count is 460\n"
     ]
    },
    {
     "name": "stderr",
     "output_type": "stream",
     "text": [
      "DeprecationWarning: 'histplot' will be deprecated in a future version of PlantCV. This function creates a histogram by default. Current PlantCV version: 3.14.1 released on 2022-07-07T11:45:30-0500\n"
     ]
    },
    {
     "name": "stdout",
     "output_type": "stream",
     "text": [
      "Count is 461\n"
     ]
    },
    {
     "name": "stderr",
     "output_type": "stream",
     "text": [
      "DeprecationWarning: 'histplot' will be deprecated in a future version of PlantCV. This function creates a histogram by default. Current PlantCV version: 3.14.1 released on 2022-07-07T11:45:30-0500\n"
     ]
    },
    {
     "name": "stdout",
     "output_type": "stream",
     "text": [
      "Count is 462\n"
     ]
    },
    {
     "name": "stderr",
     "output_type": "stream",
     "text": [
      "DeprecationWarning: 'histplot' will be deprecated in a future version of PlantCV. This function creates a histogram by default. Current PlantCV version: 3.14.1 released on 2022-07-07T11:45:30-0500\n"
     ]
    },
    {
     "name": "stdout",
     "output_type": "stream",
     "text": [
      "Count is 463\n"
     ]
    },
    {
     "name": "stderr",
     "output_type": "stream",
     "text": [
      "DeprecationWarning: 'histplot' will be deprecated in a future version of PlantCV. This function creates a histogram by default. Current PlantCV version: 3.14.1 released on 2022-07-07T11:45:30-0500\n"
     ]
    },
    {
     "name": "stdout",
     "output_type": "stream",
     "text": [
      "Count is 464\n"
     ]
    },
    {
     "name": "stderr",
     "output_type": "stream",
     "text": [
      "DeprecationWarning: 'histplot' will be deprecated in a future version of PlantCV. This function creates a histogram by default. Current PlantCV version: 3.14.1 released on 2022-07-07T11:45:30-0500\n"
     ]
    },
    {
     "name": "stdout",
     "output_type": "stream",
     "text": [
      "Count is 465\n"
     ]
    },
    {
     "name": "stderr",
     "output_type": "stream",
     "text": [
      "DeprecationWarning: 'histplot' will be deprecated in a future version of PlantCV. This function creates a histogram by default. Current PlantCV version: 3.14.1 released on 2022-07-07T11:45:30-0500\n"
     ]
    },
    {
     "name": "stdout",
     "output_type": "stream",
     "text": [
      "Count is 466\n"
     ]
    },
    {
     "name": "stderr",
     "output_type": "stream",
     "text": [
      "DeprecationWarning: 'histplot' will be deprecated in a future version of PlantCV. This function creates a histogram by default. Current PlantCV version: 3.14.1 released on 2022-07-07T11:45:30-0500\n"
     ]
    },
    {
     "name": "stdout",
     "output_type": "stream",
     "text": [
      "Count is 467\n"
     ]
    },
    {
     "name": "stderr",
     "output_type": "stream",
     "text": [
      "DeprecationWarning: 'histplot' will be deprecated in a future version of PlantCV. This function creates a histogram by default. Current PlantCV version: 3.14.1 released on 2022-07-07T11:45:30-0500\n"
     ]
    },
    {
     "name": "stdout",
     "output_type": "stream",
     "text": [
      "Count is 468\n"
     ]
    },
    {
     "name": "stderr",
     "output_type": "stream",
     "text": [
      "DeprecationWarning: 'histplot' will be deprecated in a future version of PlantCV. This function creates a histogram by default. Current PlantCV version: 3.14.1 released on 2022-07-07T11:45:30-0500\n"
     ]
    },
    {
     "name": "stdout",
     "output_type": "stream",
     "text": [
      "Count is 469\n"
     ]
    },
    {
     "name": "stderr",
     "output_type": "stream",
     "text": [
      "DeprecationWarning: 'histplot' will be deprecated in a future version of PlantCV. This function creates a histogram by default. Current PlantCV version: 3.14.1 released on 2022-07-07T11:45:30-0500\n"
     ]
    },
    {
     "name": "stdout",
     "output_type": "stream",
     "text": [
      "Count is 470\n"
     ]
    },
    {
     "name": "stderr",
     "output_type": "stream",
     "text": [
      "DeprecationWarning: 'histplot' will be deprecated in a future version of PlantCV. This function creates a histogram by default. Current PlantCV version: 3.14.1 released on 2022-07-07T11:45:30-0500\n"
     ]
    },
    {
     "name": "stdout",
     "output_type": "stream",
     "text": [
      "Count is 471\n"
     ]
    },
    {
     "name": "stderr",
     "output_type": "stream",
     "text": [
      "DeprecationWarning: 'histplot' will be deprecated in a future version of PlantCV. This function creates a histogram by default. Current PlantCV version: 3.14.1 released on 2022-07-07T11:45:30-0500\n"
     ]
    },
    {
     "name": "stdout",
     "output_type": "stream",
     "text": [
      "Count is 472\n"
     ]
    },
    {
     "name": "stderr",
     "output_type": "stream",
     "text": [
      "DeprecationWarning: 'histplot' will be deprecated in a future version of PlantCV. This function creates a histogram by default. Current PlantCV version: 3.14.1 released on 2022-07-07T11:45:30-0500\n"
     ]
    },
    {
     "name": "stdout",
     "output_type": "stream",
     "text": [
      "Count is 473\n"
     ]
    },
    {
     "name": "stderr",
     "output_type": "stream",
     "text": [
      "DeprecationWarning: 'histplot' will be deprecated in a future version of PlantCV. This function creates a histogram by default. Current PlantCV version: 3.14.1 released on 2022-07-07T11:45:30-0500\n"
     ]
    },
    {
     "name": "stdout",
     "output_type": "stream",
     "text": [
      "Count is 474\n"
     ]
    },
    {
     "name": "stderr",
     "output_type": "stream",
     "text": [
      "DeprecationWarning: 'histplot' will be deprecated in a future version of PlantCV. This function creates a histogram by default. Current PlantCV version: 3.14.1 released on 2022-07-07T11:45:30-0500\n"
     ]
    },
    {
     "name": "stdout",
     "output_type": "stream",
     "text": [
      "Count is 475\n"
     ]
    },
    {
     "name": "stderr",
     "output_type": "stream",
     "text": [
      "DeprecationWarning: 'histplot' will be deprecated in a future version of PlantCV. This function creates a histogram by default. Current PlantCV version: 3.14.1 released on 2022-07-07T11:45:30-0500\n"
     ]
    },
    {
     "name": "stdout",
     "output_type": "stream",
     "text": [
      "Count is 476\n"
     ]
    },
    {
     "name": "stderr",
     "output_type": "stream",
     "text": [
      "DeprecationWarning: 'histplot' will be deprecated in a future version of PlantCV. This function creates a histogram by default. Current PlantCV version: 3.14.1 released on 2022-07-07T11:45:30-0500\n"
     ]
    },
    {
     "name": "stdout",
     "output_type": "stream",
     "text": [
      "Count is 477\n"
     ]
    },
    {
     "name": "stderr",
     "output_type": "stream",
     "text": [
      "DeprecationWarning: 'histplot' will be deprecated in a future version of PlantCV. This function creates a histogram by default. Current PlantCV version: 3.14.1 released on 2022-07-07T11:45:30-0500\n"
     ]
    },
    {
     "name": "stdout",
     "output_type": "stream",
     "text": [
      "Count is 478\n"
     ]
    },
    {
     "name": "stderr",
     "output_type": "stream",
     "text": [
      "DeprecationWarning: 'histplot' will be deprecated in a future version of PlantCV. This function creates a histogram by default. Current PlantCV version: 3.14.1 released on 2022-07-07T11:45:30-0500\n"
     ]
    },
    {
     "name": "stdout",
     "output_type": "stream",
     "text": [
      "Count is 479\n"
     ]
    },
    {
     "name": "stderr",
     "output_type": "stream",
     "text": [
      "DeprecationWarning: 'histplot' will be deprecated in a future version of PlantCV. This function creates a histogram by default. Current PlantCV version: 3.14.1 released on 2022-07-07T11:45:30-0500\n"
     ]
    },
    {
     "name": "stdout",
     "output_type": "stream",
     "text": [
      "Count is 480\n"
     ]
    },
    {
     "name": "stderr",
     "output_type": "stream",
     "text": [
      "DeprecationWarning: 'histplot' will be deprecated in a future version of PlantCV. This function creates a histogram by default. Current PlantCV version: 3.14.1 released on 2022-07-07T11:45:30-0500\n"
     ]
    },
    {
     "name": "stdout",
     "output_type": "stream",
     "text": [
      "Count is 481\n"
     ]
    },
    {
     "name": "stderr",
     "output_type": "stream",
     "text": [
      "DeprecationWarning: 'histplot' will be deprecated in a future version of PlantCV. This function creates a histogram by default. Current PlantCV version: 3.14.1 released on 2022-07-07T11:45:30-0500\n"
     ]
    },
    {
     "name": "stdout",
     "output_type": "stream",
     "text": [
      "Count is 482\n"
     ]
    },
    {
     "name": "stderr",
     "output_type": "stream",
     "text": [
      "DeprecationWarning: 'histplot' will be deprecated in a future version of PlantCV. This function creates a histogram by default. Current PlantCV version: 3.14.1 released on 2022-07-07T11:45:30-0500\n"
     ]
    },
    {
     "name": "stdout",
     "output_type": "stream",
     "text": [
      "Count is 483\n"
     ]
    },
    {
     "name": "stderr",
     "output_type": "stream",
     "text": [
      "DeprecationWarning: 'histplot' will be deprecated in a future version of PlantCV. This function creates a histogram by default. Current PlantCV version: 3.14.1 released on 2022-07-07T11:45:30-0500\n"
     ]
    },
    {
     "name": "stdout",
     "output_type": "stream",
     "text": [
      "Count is 484\n"
     ]
    },
    {
     "name": "stderr",
     "output_type": "stream",
     "text": [
      "DeprecationWarning: 'histplot' will be deprecated in a future version of PlantCV. This function creates a histogram by default. Current PlantCV version: 3.14.1 released on 2022-07-07T11:45:30-0500\n"
     ]
    },
    {
     "name": "stdout",
     "output_type": "stream",
     "text": [
      "Count is 485\n"
     ]
    },
    {
     "name": "stderr",
     "output_type": "stream",
     "text": [
      "DeprecationWarning: 'histplot' will be deprecated in a future version of PlantCV. This function creates a histogram by default. Current PlantCV version: 3.14.1 released on 2022-07-07T11:45:30-0500\n"
     ]
    },
    {
     "name": "stdout",
     "output_type": "stream",
     "text": [
      "Count is 486\n"
     ]
    },
    {
     "name": "stderr",
     "output_type": "stream",
     "text": [
      "DeprecationWarning: 'histplot' will be deprecated in a future version of PlantCV. This function creates a histogram by default. Current PlantCV version: 3.14.1 released on 2022-07-07T11:45:30-0500\n"
     ]
    },
    {
     "name": "stdout",
     "output_type": "stream",
     "text": [
      "Count is 487\n"
     ]
    },
    {
     "name": "stderr",
     "output_type": "stream",
     "text": [
      "DeprecationWarning: 'histplot' will be deprecated in a future version of PlantCV. This function creates a histogram by default. Current PlantCV version: 3.14.1 released on 2022-07-07T11:45:30-0500\n"
     ]
    },
    {
     "name": "stdout",
     "output_type": "stream",
     "text": [
      "Count is 488\n"
     ]
    },
    {
     "name": "stderr",
     "output_type": "stream",
     "text": [
      "DeprecationWarning: 'histplot' will be deprecated in a future version of PlantCV. This function creates a histogram by default. Current PlantCV version: 3.14.1 released on 2022-07-07T11:45:30-0500\n"
     ]
    },
    {
     "name": "stdout",
     "output_type": "stream",
     "text": [
      "Count is 489\n"
     ]
    },
    {
     "name": "stderr",
     "output_type": "stream",
     "text": [
      "DeprecationWarning: 'histplot' will be deprecated in a future version of PlantCV. This function creates a histogram by default. Current PlantCV version: 3.14.1 released on 2022-07-07T11:45:30-0500\n"
     ]
    },
    {
     "name": "stdout",
     "output_type": "stream",
     "text": [
      "Count is 490\n"
     ]
    },
    {
     "name": "stderr",
     "output_type": "stream",
     "text": [
      "DeprecationWarning: 'histplot' will be deprecated in a future version of PlantCV. This function creates a histogram by default. Current PlantCV version: 3.14.1 released on 2022-07-07T11:45:30-0500\n"
     ]
    },
    {
     "name": "stdout",
     "output_type": "stream",
     "text": [
      "Count is 491\n"
     ]
    },
    {
     "name": "stderr",
     "output_type": "stream",
     "text": [
      "DeprecationWarning: 'histplot' will be deprecated in a future version of PlantCV. This function creates a histogram by default. Current PlantCV version: 3.14.1 released on 2022-07-07T11:45:30-0500\n"
     ]
    },
    {
     "name": "stdout",
     "output_type": "stream",
     "text": [
      "Count is 492\n"
     ]
    },
    {
     "name": "stderr",
     "output_type": "stream",
     "text": [
      "DeprecationWarning: 'histplot' will be deprecated in a future version of PlantCV. This function creates a histogram by default. Current PlantCV version: 3.14.1 released on 2022-07-07T11:45:30-0500\n"
     ]
    },
    {
     "name": "stdout",
     "output_type": "stream",
     "text": [
      "Count is 493\n"
     ]
    },
    {
     "name": "stderr",
     "output_type": "stream",
     "text": [
      "DeprecationWarning: 'histplot' will be deprecated in a future version of PlantCV. This function creates a histogram by default. Current PlantCV version: 3.14.1 released on 2022-07-07T11:45:30-0500\n"
     ]
    },
    {
     "name": "stdout",
     "output_type": "stream",
     "text": [
      "Count is 494\n"
     ]
    },
    {
     "name": "stderr",
     "output_type": "stream",
     "text": [
      "DeprecationWarning: 'histplot' will be deprecated in a future version of PlantCV. This function creates a histogram by default. Current PlantCV version: 3.14.1 released on 2022-07-07T11:45:30-0500\n"
     ]
    },
    {
     "name": "stdout",
     "output_type": "stream",
     "text": [
      "Count is 495\n"
     ]
    },
    {
     "name": "stderr",
     "output_type": "stream",
     "text": [
      "DeprecationWarning: 'histplot' will be deprecated in a future version of PlantCV. This function creates a histogram by default. Current PlantCV version: 3.14.1 released on 2022-07-07T11:45:30-0500\n"
     ]
    },
    {
     "name": "stdout",
     "output_type": "stream",
     "text": [
      "Count is 496\n"
     ]
    },
    {
     "name": "stderr",
     "output_type": "stream",
     "text": [
      "DeprecationWarning: 'histplot' will be deprecated in a future version of PlantCV. This function creates a histogram by default. Current PlantCV version: 3.14.1 released on 2022-07-07T11:45:30-0500\n"
     ]
    },
    {
     "name": "stdout",
     "output_type": "stream",
     "text": [
      "Count is 497\n"
     ]
    },
    {
     "name": "stderr",
     "output_type": "stream",
     "text": [
      "DeprecationWarning: 'histplot' will be deprecated in a future version of PlantCV. This function creates a histogram by default. Current PlantCV version: 3.14.1 released on 2022-07-07T11:45:30-0500\n"
     ]
    },
    {
     "name": "stdout",
     "output_type": "stream",
     "text": [
      "Count is 498\n"
     ]
    },
    {
     "name": "stderr",
     "output_type": "stream",
     "text": [
      "DeprecationWarning: 'histplot' will be deprecated in a future version of PlantCV. This function creates a histogram by default. Current PlantCV version: 3.14.1 released on 2022-07-07T11:45:30-0500\n"
     ]
    },
    {
     "name": "stdout",
     "output_type": "stream",
     "text": [
      "Count is 499\n"
     ]
    },
    {
     "name": "stderr",
     "output_type": "stream",
     "text": [
      "DeprecationWarning: 'histplot' will be deprecated in a future version of PlantCV. This function creates a histogram by default. Current PlantCV version: 3.14.1 released on 2022-07-07T11:45:30-0500\n"
     ]
    },
    {
     "name": "stdout",
     "output_type": "stream",
     "text": [
      "Count is 500\n"
     ]
    },
    {
     "name": "stderr",
     "output_type": "stream",
     "text": [
      "DeprecationWarning: 'histplot' will be deprecated in a future version of PlantCV. This function creates a histogram by default. Current PlantCV version: 3.14.1 released on 2022-07-07T11:45:30-0500\n"
     ]
    },
    {
     "name": "stdout",
     "output_type": "stream",
     "text": [
      "Count is 501\n"
     ]
    },
    {
     "name": "stderr",
     "output_type": "stream",
     "text": [
      "DeprecationWarning: 'histplot' will be deprecated in a future version of PlantCV. This function creates a histogram by default. Current PlantCV version: 3.14.1 released on 2022-07-07T11:45:30-0500\n"
     ]
    },
    {
     "name": "stdout",
     "output_type": "stream",
     "text": [
      "Count is 502\n"
     ]
    },
    {
     "name": "stderr",
     "output_type": "stream",
     "text": [
      "DeprecationWarning: 'histplot' will be deprecated in a future version of PlantCV. This function creates a histogram by default. Current PlantCV version: 3.14.1 released on 2022-07-07T11:45:30-0500\n"
     ]
    },
    {
     "name": "stdout",
     "output_type": "stream",
     "text": [
      "Count is 503\n"
     ]
    },
    {
     "name": "stderr",
     "output_type": "stream",
     "text": [
      "DeprecationWarning: 'histplot' will be deprecated in a future version of PlantCV. This function creates a histogram by default. Current PlantCV version: 3.14.1 released on 2022-07-07T11:45:30-0500\n"
     ]
    },
    {
     "name": "stdout",
     "output_type": "stream",
     "text": [
      "Count is 504\n"
     ]
    },
    {
     "name": "stderr",
     "output_type": "stream",
     "text": [
      "DeprecationWarning: 'histplot' will be deprecated in a future version of PlantCV. This function creates a histogram by default. Current PlantCV version: 3.14.1 released on 2022-07-07T11:45:30-0500\n"
     ]
    },
    {
     "name": "stdout",
     "output_type": "stream",
     "text": [
      "Count is 505\n"
     ]
    },
    {
     "name": "stderr",
     "output_type": "stream",
     "text": [
      "DeprecationWarning: 'histplot' will be deprecated in a future version of PlantCV. This function creates a histogram by default. Current PlantCV version: 3.14.1 released on 2022-07-07T11:45:30-0500\n"
     ]
    },
    {
     "name": "stdout",
     "output_type": "stream",
     "text": [
      "Count is 506\n"
     ]
    },
    {
     "name": "stderr",
     "output_type": "stream",
     "text": [
      "DeprecationWarning: 'histplot' will be deprecated in a future version of PlantCV. This function creates a histogram by default. Current PlantCV version: 3.14.1 released on 2022-07-07T11:45:30-0500\n"
     ]
    },
    {
     "name": "stdout",
     "output_type": "stream",
     "text": [
      "Count is 507\n"
     ]
    },
    {
     "name": "stderr",
     "output_type": "stream",
     "text": [
      "DeprecationWarning: 'histplot' will be deprecated in a future version of PlantCV. This function creates a histogram by default. Current PlantCV version: 3.14.1 released on 2022-07-07T11:45:30-0500\n"
     ]
    },
    {
     "name": "stdout",
     "output_type": "stream",
     "text": [
      "Count is 508\n"
     ]
    },
    {
     "name": "stderr",
     "output_type": "stream",
     "text": [
      "DeprecationWarning: 'histplot' will be deprecated in a future version of PlantCV. This function creates a histogram by default. Current PlantCV version: 3.14.1 released on 2022-07-07T11:45:30-0500\n"
     ]
    },
    {
     "name": "stdout",
     "output_type": "stream",
     "text": [
      "Count is 509\n"
     ]
    },
    {
     "name": "stderr",
     "output_type": "stream",
     "text": [
      "DeprecationWarning: 'histplot' will be deprecated in a future version of PlantCV. This function creates a histogram by default. Current PlantCV version: 3.14.1 released on 2022-07-07T11:45:30-0500\n"
     ]
    },
    {
     "name": "stdout",
     "output_type": "stream",
     "text": [
      "Count is 510\n"
     ]
    },
    {
     "name": "stderr",
     "output_type": "stream",
     "text": [
      "DeprecationWarning: 'histplot' will be deprecated in a future version of PlantCV. This function creates a histogram by default. Current PlantCV version: 3.14.1 released on 2022-07-07T11:45:30-0500\n"
     ]
    },
    {
     "name": "stdout",
     "output_type": "stream",
     "text": [
      "Count is 511\n"
     ]
    },
    {
     "name": "stderr",
     "output_type": "stream",
     "text": [
      "DeprecationWarning: 'histplot' will be deprecated in a future version of PlantCV. This function creates a histogram by default. Current PlantCV version: 3.14.1 released on 2022-07-07T11:45:30-0500\n"
     ]
    },
    {
     "name": "stdout",
     "output_type": "stream",
     "text": [
      "Count is 512\n"
     ]
    },
    {
     "name": "stderr",
     "output_type": "stream",
     "text": [
      "DeprecationWarning: 'histplot' will be deprecated in a future version of PlantCV. This function creates a histogram by default. Current PlantCV version: 3.14.1 released on 2022-07-07T11:45:30-0500\n"
     ]
    },
    {
     "name": "stdout",
     "output_type": "stream",
     "text": [
      "Count is 513\n"
     ]
    },
    {
     "name": "stderr",
     "output_type": "stream",
     "text": [
      "DeprecationWarning: 'histplot' will be deprecated in a future version of PlantCV. This function creates a histogram by default. Current PlantCV version: 3.14.1 released on 2022-07-07T11:45:30-0500\n"
     ]
    },
    {
     "name": "stdout",
     "output_type": "stream",
     "text": [
      "Count is 514\n"
     ]
    },
    {
     "name": "stderr",
     "output_type": "stream",
     "text": [
      "DeprecationWarning: 'histplot' will be deprecated in a future version of PlantCV. This function creates a histogram by default. Current PlantCV version: 3.14.1 released on 2022-07-07T11:45:30-0500\n"
     ]
    },
    {
     "name": "stdout",
     "output_type": "stream",
     "text": [
      "Count is 515\n"
     ]
    },
    {
     "name": "stderr",
     "output_type": "stream",
     "text": [
      "DeprecationWarning: 'histplot' will be deprecated in a future version of PlantCV. This function creates a histogram by default. Current PlantCV version: 3.14.1 released on 2022-07-07T11:45:30-0500\n"
     ]
    },
    {
     "name": "stdout",
     "output_type": "stream",
     "text": [
      "Count is 516\n"
     ]
    },
    {
     "name": "stderr",
     "output_type": "stream",
     "text": [
      "DeprecationWarning: 'histplot' will be deprecated in a future version of PlantCV. This function creates a histogram by default. Current PlantCV version: 3.14.1 released on 2022-07-07T11:45:30-0500\n"
     ]
    },
    {
     "name": "stdout",
     "output_type": "stream",
     "text": [
      "Count is 517\n"
     ]
    },
    {
     "name": "stderr",
     "output_type": "stream",
     "text": [
      "DeprecationWarning: 'histplot' will be deprecated in a future version of PlantCV. This function creates a histogram by default. Current PlantCV version: 3.14.1 released on 2022-07-07T11:45:30-0500\n"
     ]
    },
    {
     "name": "stdout",
     "output_type": "stream",
     "text": [
      "Count is 518\n"
     ]
    },
    {
     "name": "stderr",
     "output_type": "stream",
     "text": [
      "DeprecationWarning: 'histplot' will be deprecated in a future version of PlantCV. This function creates a histogram by default. Current PlantCV version: 3.14.1 released on 2022-07-07T11:45:30-0500\n"
     ]
    },
    {
     "name": "stdout",
     "output_type": "stream",
     "text": [
      "Count is 519\n"
     ]
    },
    {
     "name": "stderr",
     "output_type": "stream",
     "text": [
      "DeprecationWarning: 'histplot' will be deprecated in a future version of PlantCV. This function creates a histogram by default. Current PlantCV version: 3.14.1 released on 2022-07-07T11:45:30-0500\n"
     ]
    },
    {
     "name": "stdout",
     "output_type": "stream",
     "text": [
      "Count is 520\n"
     ]
    },
    {
     "name": "stderr",
     "output_type": "stream",
     "text": [
      "DeprecationWarning: 'histplot' will be deprecated in a future version of PlantCV. This function creates a histogram by default. Current PlantCV version: 3.14.1 released on 2022-07-07T11:45:30-0500\n"
     ]
    },
    {
     "name": "stdout",
     "output_type": "stream",
     "text": [
      "Count is 521\n"
     ]
    },
    {
     "name": "stderr",
     "output_type": "stream",
     "text": [
      "DeprecationWarning: 'histplot' will be deprecated in a future version of PlantCV. This function creates a histogram by default. Current PlantCV version: 3.14.1 released on 2022-07-07T11:45:30-0500\n"
     ]
    },
    {
     "name": "stdout",
     "output_type": "stream",
     "text": [
      "Count is 522\n"
     ]
    },
    {
     "name": "stderr",
     "output_type": "stream",
     "text": [
      "DeprecationWarning: 'histplot' will be deprecated in a future version of PlantCV. This function creates a histogram by default. Current PlantCV version: 3.14.1 released on 2022-07-07T11:45:30-0500\n"
     ]
    },
    {
     "name": "stdout",
     "output_type": "stream",
     "text": [
      "Count is 523\n"
     ]
    },
    {
     "name": "stderr",
     "output_type": "stream",
     "text": [
      "DeprecationWarning: 'histplot' will be deprecated in a future version of PlantCV. This function creates a histogram by default. Current PlantCV version: 3.14.1 released on 2022-07-07T11:45:30-0500\n"
     ]
    },
    {
     "name": "stdout",
     "output_type": "stream",
     "text": [
      "Count is 524\n"
     ]
    },
    {
     "name": "stderr",
     "output_type": "stream",
     "text": [
      "DeprecationWarning: 'histplot' will be deprecated in a future version of PlantCV. This function creates a histogram by default. Current PlantCV version: 3.14.1 released on 2022-07-07T11:45:30-0500\n"
     ]
    },
    {
     "name": "stdout",
     "output_type": "stream",
     "text": [
      "Count is 525\n"
     ]
    },
    {
     "name": "stderr",
     "output_type": "stream",
     "text": [
      "DeprecationWarning: 'histplot' will be deprecated in a future version of PlantCV. This function creates a histogram by default. Current PlantCV version: 3.14.1 released on 2022-07-07T11:45:30-0500\n"
     ]
    },
    {
     "name": "stdout",
     "output_type": "stream",
     "text": [
      "Count is 526\n"
     ]
    },
    {
     "name": "stderr",
     "output_type": "stream",
     "text": [
      "DeprecationWarning: 'histplot' will be deprecated in a future version of PlantCV. This function creates a histogram by default. Current PlantCV version: 3.14.1 released on 2022-07-07T11:45:30-0500\n"
     ]
    },
    {
     "name": "stdout",
     "output_type": "stream",
     "text": [
      "Count is 527\n"
     ]
    },
    {
     "name": "stderr",
     "output_type": "stream",
     "text": [
      "DeprecationWarning: 'histplot' will be deprecated in a future version of PlantCV. This function creates a histogram by default. Current PlantCV version: 3.14.1 released on 2022-07-07T11:45:30-0500\n"
     ]
    },
    {
     "name": "stdout",
     "output_type": "stream",
     "text": [
      "Count is 528\n"
     ]
    },
    {
     "name": "stderr",
     "output_type": "stream",
     "text": [
      "DeprecationWarning: 'histplot' will be deprecated in a future version of PlantCV. This function creates a histogram by default. Current PlantCV version: 3.14.1 released on 2022-07-07T11:45:30-0500\n"
     ]
    },
    {
     "name": "stdout",
     "output_type": "stream",
     "text": [
      "Count is 529\n"
     ]
    },
    {
     "name": "stderr",
     "output_type": "stream",
     "text": [
      "DeprecationWarning: 'histplot' will be deprecated in a future version of PlantCV. This function creates a histogram by default. Current PlantCV version: 3.14.1 released on 2022-07-07T11:45:30-0500\n"
     ]
    },
    {
     "name": "stdout",
     "output_type": "stream",
     "text": [
      "Count is 530\n"
     ]
    },
    {
     "name": "stderr",
     "output_type": "stream",
     "text": [
      "DeprecationWarning: 'histplot' will be deprecated in a future version of PlantCV. This function creates a histogram by default. Current PlantCV version: 3.14.1 released on 2022-07-07T11:45:30-0500\n"
     ]
    },
    {
     "name": "stdout",
     "output_type": "stream",
     "text": [
      "Count is 531\n"
     ]
    },
    {
     "name": "stderr",
     "output_type": "stream",
     "text": [
      "DeprecationWarning: 'histplot' will be deprecated in a future version of PlantCV. This function creates a histogram by default. Current PlantCV version: 3.14.1 released on 2022-07-07T11:45:30-0500\n"
     ]
    },
    {
     "name": "stdout",
     "output_type": "stream",
     "text": [
      "Count is 532\n"
     ]
    },
    {
     "name": "stderr",
     "output_type": "stream",
     "text": [
      "DeprecationWarning: 'histplot' will be deprecated in a future version of PlantCV. This function creates a histogram by default. Current PlantCV version: 3.14.1 released on 2022-07-07T11:45:30-0500\n"
     ]
    },
    {
     "name": "stdout",
     "output_type": "stream",
     "text": [
      "Count is 533\n"
     ]
    },
    {
     "name": "stderr",
     "output_type": "stream",
     "text": [
      "DeprecationWarning: 'histplot' will be deprecated in a future version of PlantCV. This function creates a histogram by default. Current PlantCV version: 3.14.1 released on 2022-07-07T11:45:30-0500\n"
     ]
    },
    {
     "name": "stdout",
     "output_type": "stream",
     "text": [
      "Count is 534\n"
     ]
    },
    {
     "name": "stderr",
     "output_type": "stream",
     "text": [
      "DeprecationWarning: 'histplot' will be deprecated in a future version of PlantCV. This function creates a histogram by default. Current PlantCV version: 3.14.1 released on 2022-07-07T11:45:30-0500\n"
     ]
    },
    {
     "name": "stdout",
     "output_type": "stream",
     "text": [
      "Count is 535\n"
     ]
    },
    {
     "name": "stderr",
     "output_type": "stream",
     "text": [
      "DeprecationWarning: 'histplot' will be deprecated in a future version of PlantCV. This function creates a histogram by default. Current PlantCV version: 3.14.1 released on 2022-07-07T11:45:30-0500\n"
     ]
    },
    {
     "name": "stdout",
     "output_type": "stream",
     "text": [
      "Count is 536\n"
     ]
    },
    {
     "name": "stderr",
     "output_type": "stream",
     "text": [
      "DeprecationWarning: 'histplot' will be deprecated in a future version of PlantCV. This function creates a histogram by default. Current PlantCV version: 3.14.1 released on 2022-07-07T11:45:30-0500\n"
     ]
    },
    {
     "name": "stdout",
     "output_type": "stream",
     "text": [
      "Count is 537\n"
     ]
    },
    {
     "name": "stderr",
     "output_type": "stream",
     "text": [
      "DeprecationWarning: 'histplot' will be deprecated in a future version of PlantCV. This function creates a histogram by default. Current PlantCV version: 3.14.1 released on 2022-07-07T11:45:30-0500\n"
     ]
    },
    {
     "name": "stdout",
     "output_type": "stream",
     "text": [
      "Count is 538\n"
     ]
    },
    {
     "name": "stderr",
     "output_type": "stream",
     "text": [
      "DeprecationWarning: 'histplot' will be deprecated in a future version of PlantCV. This function creates a histogram by default. Current PlantCV version: 3.14.1 released on 2022-07-07T11:45:30-0500\n"
     ]
    },
    {
     "name": "stdout",
     "output_type": "stream",
     "text": [
      "Count is 539\n"
     ]
    },
    {
     "name": "stderr",
     "output_type": "stream",
     "text": [
      "DeprecationWarning: 'histplot' will be deprecated in a future version of PlantCV. This function creates a histogram by default. Current PlantCV version: 3.14.1 released on 2022-07-07T11:45:30-0500\n"
     ]
    },
    {
     "name": "stdout",
     "output_type": "stream",
     "text": [
      "Count is 540\n"
     ]
    },
    {
     "name": "stderr",
     "output_type": "stream",
     "text": [
      "DeprecationWarning: 'histplot' will be deprecated in a future version of PlantCV. This function creates a histogram by default. Current PlantCV version: 3.14.1 released on 2022-07-07T11:45:30-0500\n"
     ]
    },
    {
     "name": "stdout",
     "output_type": "stream",
     "text": [
      "Count is 541\n"
     ]
    },
    {
     "name": "stderr",
     "output_type": "stream",
     "text": [
      "DeprecationWarning: 'histplot' will be deprecated in a future version of PlantCV. This function creates a histogram by default. Current PlantCV version: 3.14.1 released on 2022-07-07T11:45:30-0500\n"
     ]
    },
    {
     "name": "stdout",
     "output_type": "stream",
     "text": [
      "Count is 542\n"
     ]
    },
    {
     "name": "stderr",
     "output_type": "stream",
     "text": [
      "DeprecationWarning: 'histplot' will be deprecated in a future version of PlantCV. This function creates a histogram by default. Current PlantCV version: 3.14.1 released on 2022-07-07T11:45:30-0500\n"
     ]
    },
    {
     "name": "stdout",
     "output_type": "stream",
     "text": [
      "Count is 543\n"
     ]
    },
    {
     "name": "stderr",
     "output_type": "stream",
     "text": [
      "DeprecationWarning: 'histplot' will be deprecated in a future version of PlantCV. This function creates a histogram by default. Current PlantCV version: 3.14.1 released on 2022-07-07T11:45:30-0500\n"
     ]
    },
    {
     "name": "stdout",
     "output_type": "stream",
     "text": [
      "Count is 544\n"
     ]
    },
    {
     "name": "stderr",
     "output_type": "stream",
     "text": [
      "DeprecationWarning: 'histplot' will be deprecated in a future version of PlantCV. This function creates a histogram by default. Current PlantCV version: 3.14.1 released on 2022-07-07T11:45:30-0500\n"
     ]
    },
    {
     "name": "stdout",
     "output_type": "stream",
     "text": [
      "Count is 545\n"
     ]
    },
    {
     "name": "stderr",
     "output_type": "stream",
     "text": [
      "DeprecationWarning: 'histplot' will be deprecated in a future version of PlantCV. This function creates a histogram by default. Current PlantCV version: 3.14.1 released on 2022-07-07T11:45:30-0500\n"
     ]
    },
    {
     "name": "stdout",
     "output_type": "stream",
     "text": [
      "Count is 546\n"
     ]
    },
    {
     "name": "stderr",
     "output_type": "stream",
     "text": [
      "DeprecationWarning: 'histplot' will be deprecated in a future version of PlantCV. This function creates a histogram by default. Current PlantCV version: 3.14.1 released on 2022-07-07T11:45:30-0500\n"
     ]
    },
    {
     "name": "stdout",
     "output_type": "stream",
     "text": [
      "Count is 547\n"
     ]
    },
    {
     "name": "stderr",
     "output_type": "stream",
     "text": [
      "DeprecationWarning: 'histplot' will be deprecated in a future version of PlantCV. This function creates a histogram by default. Current PlantCV version: 3.14.1 released on 2022-07-07T11:45:30-0500\n"
     ]
    },
    {
     "name": "stdout",
     "output_type": "stream",
     "text": [
      "Count is 548\n"
     ]
    },
    {
     "name": "stderr",
     "output_type": "stream",
     "text": [
      "DeprecationWarning: 'histplot' will be deprecated in a future version of PlantCV. This function creates a histogram by default. Current PlantCV version: 3.14.1 released on 2022-07-07T11:45:30-0500\n"
     ]
    },
    {
     "name": "stdout",
     "output_type": "stream",
     "text": [
      "Count is 549\n"
     ]
    },
    {
     "name": "stderr",
     "output_type": "stream",
     "text": [
      "DeprecationWarning: 'histplot' will be deprecated in a future version of PlantCV. This function creates a histogram by default. Current PlantCV version: 3.14.1 released on 2022-07-07T11:45:30-0500\n"
     ]
    },
    {
     "name": "stdout",
     "output_type": "stream",
     "text": [
      "Count is 550\n"
     ]
    },
    {
     "name": "stderr",
     "output_type": "stream",
     "text": [
      "DeprecationWarning: 'histplot' will be deprecated in a future version of PlantCV. This function creates a histogram by default. Current PlantCV version: 3.14.1 released on 2022-07-07T11:45:30-0500\n"
     ]
    },
    {
     "name": "stdout",
     "output_type": "stream",
     "text": [
      "Count is 551\n"
     ]
    },
    {
     "name": "stderr",
     "output_type": "stream",
     "text": [
      "DeprecationWarning: 'histplot' will be deprecated in a future version of PlantCV. This function creates a histogram by default. Current PlantCV version: 3.14.1 released on 2022-07-07T11:45:30-0500\n"
     ]
    },
    {
     "name": "stdout",
     "output_type": "stream",
     "text": [
      "Count is 552\n"
     ]
    },
    {
     "name": "stderr",
     "output_type": "stream",
     "text": [
      "DeprecationWarning: 'histplot' will be deprecated in a future version of PlantCV. This function creates a histogram by default. Current PlantCV version: 3.14.1 released on 2022-07-07T11:45:30-0500\n"
     ]
    },
    {
     "name": "stdout",
     "output_type": "stream",
     "text": [
      "Count is 553\n"
     ]
    },
    {
     "name": "stderr",
     "output_type": "stream",
     "text": [
      "DeprecationWarning: 'histplot' will be deprecated in a future version of PlantCV. This function creates a histogram by default. Current PlantCV version: 3.14.1 released on 2022-07-07T11:45:30-0500\n"
     ]
    },
    {
     "name": "stdout",
     "output_type": "stream",
     "text": [
      "Count is 554\n"
     ]
    },
    {
     "name": "stderr",
     "output_type": "stream",
     "text": [
      "DeprecationWarning: 'histplot' will be deprecated in a future version of PlantCV. This function creates a histogram by default. Current PlantCV version: 3.14.1 released on 2022-07-07T11:45:30-0500\n"
     ]
    },
    {
     "name": "stdout",
     "output_type": "stream",
     "text": [
      "Count is 555\n"
     ]
    },
    {
     "name": "stderr",
     "output_type": "stream",
     "text": [
      "DeprecationWarning: 'histplot' will be deprecated in a future version of PlantCV. This function creates a histogram by default. Current PlantCV version: 3.14.1 released on 2022-07-07T11:45:30-0500\n"
     ]
    },
    {
     "name": "stdout",
     "output_type": "stream",
     "text": [
      "Count is 556\n"
     ]
    },
    {
     "name": "stderr",
     "output_type": "stream",
     "text": [
      "DeprecationWarning: 'histplot' will be deprecated in a future version of PlantCV. This function creates a histogram by default. Current PlantCV version: 3.14.1 released on 2022-07-07T11:45:30-0500\n"
     ]
    },
    {
     "name": "stdout",
     "output_type": "stream",
     "text": [
      "Count is 557\n"
     ]
    },
    {
     "name": "stderr",
     "output_type": "stream",
     "text": [
      "DeprecationWarning: 'histplot' will be deprecated in a future version of PlantCV. This function creates a histogram by default. Current PlantCV version: 3.14.1 released on 2022-07-07T11:45:30-0500\n"
     ]
    },
    {
     "name": "stdout",
     "output_type": "stream",
     "text": [
      "Count is 558\n"
     ]
    },
    {
     "name": "stderr",
     "output_type": "stream",
     "text": [
      "DeprecationWarning: 'histplot' will be deprecated in a future version of PlantCV. This function creates a histogram by default. Current PlantCV version: 3.14.1 released on 2022-07-07T11:45:30-0500\n"
     ]
    },
    {
     "name": "stdout",
     "output_type": "stream",
     "text": [
      "Count is 559\n"
     ]
    },
    {
     "name": "stderr",
     "output_type": "stream",
     "text": [
      "DeprecationWarning: 'histplot' will be deprecated in a future version of PlantCV. This function creates a histogram by default. Current PlantCV version: 3.14.1 released on 2022-07-07T11:45:30-0500\n"
     ]
    },
    {
     "name": "stdout",
     "output_type": "stream",
     "text": [
      "Count is 560\n"
     ]
    },
    {
     "name": "stderr",
     "output_type": "stream",
     "text": [
      "DeprecationWarning: 'histplot' will be deprecated in a future version of PlantCV. This function creates a histogram by default. Current PlantCV version: 3.14.1 released on 2022-07-07T11:45:30-0500\n"
     ]
    },
    {
     "name": "stdout",
     "output_type": "stream",
     "text": [
      "Count is 561\n"
     ]
    },
    {
     "name": "stderr",
     "output_type": "stream",
     "text": [
      "DeprecationWarning: 'histplot' will be deprecated in a future version of PlantCV. This function creates a histogram by default. Current PlantCV version: 3.14.1 released on 2022-07-07T11:45:30-0500\n"
     ]
    },
    {
     "name": "stdout",
     "output_type": "stream",
     "text": [
      "Count is 562\n"
     ]
    },
    {
     "name": "stderr",
     "output_type": "stream",
     "text": [
      "DeprecationWarning: 'histplot' will be deprecated in a future version of PlantCV. This function creates a histogram by default. Current PlantCV version: 3.14.1 released on 2022-07-07T11:45:30-0500\n"
     ]
    },
    {
     "name": "stdout",
     "output_type": "stream",
     "text": [
      "Count is 563\n"
     ]
    },
    {
     "name": "stderr",
     "output_type": "stream",
     "text": [
      "DeprecationWarning: 'histplot' will be deprecated in a future version of PlantCV. This function creates a histogram by default. Current PlantCV version: 3.14.1 released on 2022-07-07T11:45:30-0500\n"
     ]
    },
    {
     "name": "stdout",
     "output_type": "stream",
     "text": [
      "Count is 564\n"
     ]
    },
    {
     "name": "stderr",
     "output_type": "stream",
     "text": [
      "DeprecationWarning: 'histplot' will be deprecated in a future version of PlantCV. This function creates a histogram by default. Current PlantCV version: 3.14.1 released on 2022-07-07T11:45:30-0500\n"
     ]
    },
    {
     "name": "stdout",
     "output_type": "stream",
     "text": [
      "Count is 565\n"
     ]
    },
    {
     "name": "stderr",
     "output_type": "stream",
     "text": [
      "DeprecationWarning: 'histplot' will be deprecated in a future version of PlantCV. This function creates a histogram by default. Current PlantCV version: 3.14.1 released on 2022-07-07T11:45:30-0500\n"
     ]
    },
    {
     "name": "stdout",
     "output_type": "stream",
     "text": [
      "Count is 566\n"
     ]
    },
    {
     "name": "stderr",
     "output_type": "stream",
     "text": [
      "DeprecationWarning: 'histplot' will be deprecated in a future version of PlantCV. This function creates a histogram by default. Current PlantCV version: 3.14.1 released on 2022-07-07T11:45:30-0500\n"
     ]
    },
    {
     "name": "stdout",
     "output_type": "stream",
     "text": [
      "Count is 567\n"
     ]
    },
    {
     "name": "stderr",
     "output_type": "stream",
     "text": [
      "DeprecationWarning: 'histplot' will be deprecated in a future version of PlantCV. This function creates a histogram by default. Current PlantCV version: 3.14.1 released on 2022-07-07T11:45:30-0500\n"
     ]
    },
    {
     "name": "stdout",
     "output_type": "stream",
     "text": [
      "Count is 568\n"
     ]
    },
    {
     "name": "stderr",
     "output_type": "stream",
     "text": [
      "DeprecationWarning: 'histplot' will be deprecated in a future version of PlantCV. This function creates a histogram by default. Current PlantCV version: 3.14.1 released on 2022-07-07T11:45:30-0500\n"
     ]
    },
    {
     "name": "stdout",
     "output_type": "stream",
     "text": [
      "Count is 569\n"
     ]
    },
    {
     "name": "stderr",
     "output_type": "stream",
     "text": [
      "DeprecationWarning: 'histplot' will be deprecated in a future version of PlantCV. This function creates a histogram by default. Current PlantCV version: 3.14.1 released on 2022-07-07T11:45:30-0500\n"
     ]
    },
    {
     "name": "stdout",
     "output_type": "stream",
     "text": [
      "Count is 570\n"
     ]
    },
    {
     "name": "stderr",
     "output_type": "stream",
     "text": [
      "DeprecationWarning: 'histplot' will be deprecated in a future version of PlantCV. This function creates a histogram by default. Current PlantCV version: 3.14.1 released on 2022-07-07T11:45:30-0500\n"
     ]
    },
    {
     "name": "stdout",
     "output_type": "stream",
     "text": [
      "Count is 571\n"
     ]
    },
    {
     "name": "stderr",
     "output_type": "stream",
     "text": [
      "DeprecationWarning: 'histplot' will be deprecated in a future version of PlantCV. This function creates a histogram by default. Current PlantCV version: 3.14.1 released on 2022-07-07T11:45:30-0500\n"
     ]
    },
    {
     "name": "stdout",
     "output_type": "stream",
     "text": [
      "Count is 572\n"
     ]
    },
    {
     "name": "stderr",
     "output_type": "stream",
     "text": [
      "DeprecationWarning: 'histplot' will be deprecated in a future version of PlantCV. This function creates a histogram by default. Current PlantCV version: 3.14.1 released on 2022-07-07T11:45:30-0500\n"
     ]
    },
    {
     "name": "stdout",
     "output_type": "stream",
     "text": [
      "Count is 573\n"
     ]
    },
    {
     "name": "stderr",
     "output_type": "stream",
     "text": [
      "DeprecationWarning: 'histplot' will be deprecated in a future version of PlantCV. This function creates a histogram by default. Current PlantCV version: 3.14.1 released on 2022-07-07T11:45:30-0500\n"
     ]
    },
    {
     "name": "stdout",
     "output_type": "stream",
     "text": [
      "Count is 574\n"
     ]
    },
    {
     "name": "stderr",
     "output_type": "stream",
     "text": [
      "DeprecationWarning: 'histplot' will be deprecated in a future version of PlantCV. This function creates a histogram by default. Current PlantCV version: 3.14.1 released on 2022-07-07T11:45:30-0500\n"
     ]
    },
    {
     "name": "stdout",
     "output_type": "stream",
     "text": [
      "Count is 575\n"
     ]
    },
    {
     "name": "stderr",
     "output_type": "stream",
     "text": [
      "DeprecationWarning: 'histplot' will be deprecated in a future version of PlantCV. This function creates a histogram by default. Current PlantCV version: 3.14.1 released on 2022-07-07T11:45:30-0500\n"
     ]
    },
    {
     "name": "stdout",
     "output_type": "stream",
     "text": [
      "Count is 576\n"
     ]
    },
    {
     "name": "stderr",
     "output_type": "stream",
     "text": [
      "DeprecationWarning: 'histplot' will be deprecated in a future version of PlantCV. This function creates a histogram by default. Current PlantCV version: 3.14.1 released on 2022-07-07T11:45:30-0500\n"
     ]
    },
    {
     "name": "stdout",
     "output_type": "stream",
     "text": [
      "Count is 577\n"
     ]
    },
    {
     "name": "stderr",
     "output_type": "stream",
     "text": [
      "DeprecationWarning: 'histplot' will be deprecated in a future version of PlantCV. This function creates a histogram by default. Current PlantCV version: 3.14.1 released on 2022-07-07T11:45:30-0500\n"
     ]
    },
    {
     "name": "stdout",
     "output_type": "stream",
     "text": [
      "Count is 578\n"
     ]
    },
    {
     "name": "stderr",
     "output_type": "stream",
     "text": [
      "DeprecationWarning: 'histplot' will be deprecated in a future version of PlantCV. This function creates a histogram by default. Current PlantCV version: 3.14.1 released on 2022-07-07T11:45:30-0500\n"
     ]
    },
    {
     "name": "stdout",
     "output_type": "stream",
     "text": [
      "Count is 579\n"
     ]
    },
    {
     "name": "stderr",
     "output_type": "stream",
     "text": [
      "DeprecationWarning: 'histplot' will be deprecated in a future version of PlantCV. This function creates a histogram by default. Current PlantCV version: 3.14.1 released on 2022-07-07T11:45:30-0500\n"
     ]
    },
    {
     "name": "stdout",
     "output_type": "stream",
     "text": [
      "Count is 580\n"
     ]
    },
    {
     "name": "stderr",
     "output_type": "stream",
     "text": [
      "DeprecationWarning: 'histplot' will be deprecated in a future version of PlantCV. This function creates a histogram by default. Current PlantCV version: 3.14.1 released on 2022-07-07T11:45:30-0500\n"
     ]
    },
    {
     "name": "stdout",
     "output_type": "stream",
     "text": [
      "Count is 581\n"
     ]
    },
    {
     "name": "stderr",
     "output_type": "stream",
     "text": [
      "DeprecationWarning: 'histplot' will be deprecated in a future version of PlantCV. This function creates a histogram by default. Current PlantCV version: 3.14.1 released on 2022-07-07T11:45:30-0500\n"
     ]
    },
    {
     "name": "stdout",
     "output_type": "stream",
     "text": [
      "Count is 582\n"
     ]
    },
    {
     "name": "stderr",
     "output_type": "stream",
     "text": [
      "DeprecationWarning: 'histplot' will be deprecated in a future version of PlantCV. This function creates a histogram by default. Current PlantCV version: 3.14.1 released on 2022-07-07T11:45:30-0500\n"
     ]
    },
    {
     "name": "stdout",
     "output_type": "stream",
     "text": [
      "Count is 583\n"
     ]
    },
    {
     "name": "stderr",
     "output_type": "stream",
     "text": [
      "DeprecationWarning: 'histplot' will be deprecated in a future version of PlantCV. This function creates a histogram by default. Current PlantCV version: 3.14.1 released on 2022-07-07T11:45:30-0500\n"
     ]
    },
    {
     "name": "stdout",
     "output_type": "stream",
     "text": [
      "Count is 584\n"
     ]
    },
    {
     "name": "stderr",
     "output_type": "stream",
     "text": [
      "DeprecationWarning: 'histplot' will be deprecated in a future version of PlantCV. This function creates a histogram by default. Current PlantCV version: 3.14.1 released on 2022-07-07T11:45:30-0500\n"
     ]
    },
    {
     "name": "stdout",
     "output_type": "stream",
     "text": [
      "Count is 585\n"
     ]
    },
    {
     "name": "stderr",
     "output_type": "stream",
     "text": [
      "DeprecationWarning: 'histplot' will be deprecated in a future version of PlantCV. This function creates a histogram by default. Current PlantCV version: 3.14.1 released on 2022-07-07T11:45:30-0500\n"
     ]
    },
    {
     "name": "stdout",
     "output_type": "stream",
     "text": [
      "Count is 586\n"
     ]
    },
    {
     "name": "stderr",
     "output_type": "stream",
     "text": [
      "DeprecationWarning: 'histplot' will be deprecated in a future version of PlantCV. This function creates a histogram by default. Current PlantCV version: 3.14.1 released on 2022-07-07T11:45:30-0500\n"
     ]
    },
    {
     "name": "stdout",
     "output_type": "stream",
     "text": [
      "Count is 587\n"
     ]
    },
    {
     "name": "stderr",
     "output_type": "stream",
     "text": [
      "DeprecationWarning: 'histplot' will be deprecated in a future version of PlantCV. This function creates a histogram by default. Current PlantCV version: 3.14.1 released on 2022-07-07T11:45:30-0500\n"
     ]
    },
    {
     "name": "stdout",
     "output_type": "stream",
     "text": [
      "Count is 588\n"
     ]
    },
    {
     "name": "stderr",
     "output_type": "stream",
     "text": [
      "DeprecationWarning: 'histplot' will be deprecated in a future version of PlantCV. This function creates a histogram by default. Current PlantCV version: 3.14.1 released on 2022-07-07T11:45:30-0500\n"
     ]
    },
    {
     "name": "stdout",
     "output_type": "stream",
     "text": [
      "Count is 589\n"
     ]
    },
    {
     "name": "stderr",
     "output_type": "stream",
     "text": [
      "DeprecationWarning: 'histplot' will be deprecated in a future version of PlantCV. This function creates a histogram by default. Current PlantCV version: 3.14.1 released on 2022-07-07T11:45:30-0500\n"
     ]
    },
    {
     "name": "stdout",
     "output_type": "stream",
     "text": [
      "Count is 590\n"
     ]
    },
    {
     "name": "stderr",
     "output_type": "stream",
     "text": [
      "DeprecationWarning: 'histplot' will be deprecated in a future version of PlantCV. This function creates a histogram by default. Current PlantCV version: 3.14.1 released on 2022-07-07T11:45:30-0500\n"
     ]
    },
    {
     "name": "stdout",
     "output_type": "stream",
     "text": [
      "Count is 591\n"
     ]
    },
    {
     "name": "stderr",
     "output_type": "stream",
     "text": [
      "DeprecationWarning: 'histplot' will be deprecated in a future version of PlantCV. This function creates a histogram by default. Current PlantCV version: 3.14.1 released on 2022-07-07T11:45:30-0500\n"
     ]
    },
    {
     "name": "stdout",
     "output_type": "stream",
     "text": [
      "Count is 592\n"
     ]
    },
    {
     "name": "stderr",
     "output_type": "stream",
     "text": [
      "DeprecationWarning: 'histplot' will be deprecated in a future version of PlantCV. This function creates a histogram by default. Current PlantCV version: 3.14.1 released on 2022-07-07T11:45:30-0500\n"
     ]
    },
    {
     "name": "stdout",
     "output_type": "stream",
     "text": [
      "Count is 593\n"
     ]
    },
    {
     "name": "stderr",
     "output_type": "stream",
     "text": [
      "DeprecationWarning: 'histplot' will be deprecated in a future version of PlantCV. This function creates a histogram by default. Current PlantCV version: 3.14.1 released on 2022-07-07T11:45:30-0500\n"
     ]
    },
    {
     "name": "stdout",
     "output_type": "stream",
     "text": [
      "Count is 594\n"
     ]
    },
    {
     "name": "stderr",
     "output_type": "stream",
     "text": [
      "DeprecationWarning: 'histplot' will be deprecated in a future version of PlantCV. This function creates a histogram by default. Current PlantCV version: 3.14.1 released on 2022-07-07T11:45:30-0500\n"
     ]
    },
    {
     "name": "stdout",
     "output_type": "stream",
     "text": [
      "Count is 595\n"
     ]
    },
    {
     "name": "stderr",
     "output_type": "stream",
     "text": [
      "DeprecationWarning: 'histplot' will be deprecated in a future version of PlantCV. This function creates a histogram by default. Current PlantCV version: 3.14.1 released on 2022-07-07T11:45:30-0500\n"
     ]
    },
    {
     "name": "stdout",
     "output_type": "stream",
     "text": [
      "Count is 596\n"
     ]
    },
    {
     "name": "stderr",
     "output_type": "stream",
     "text": [
      "DeprecationWarning: 'histplot' will be deprecated in a future version of PlantCV. This function creates a histogram by default. Current PlantCV version: 3.14.1 released on 2022-07-07T11:45:30-0500\n"
     ]
    },
    {
     "name": "stdout",
     "output_type": "stream",
     "text": [
      "Count is 597\n"
     ]
    },
    {
     "name": "stderr",
     "output_type": "stream",
     "text": [
      "DeprecationWarning: 'histplot' will be deprecated in a future version of PlantCV. This function creates a histogram by default. Current PlantCV version: 3.14.1 released on 2022-07-07T11:45:30-0500\n"
     ]
    },
    {
     "name": "stdout",
     "output_type": "stream",
     "text": [
      "Count is 598\n"
     ]
    },
    {
     "name": "stderr",
     "output_type": "stream",
     "text": [
      "DeprecationWarning: 'histplot' will be deprecated in a future version of PlantCV. This function creates a histogram by default. Current PlantCV version: 3.14.1 released on 2022-07-07T11:45:30-0500\n"
     ]
    },
    {
     "name": "stdout",
     "output_type": "stream",
     "text": [
      "Count is 599\n"
     ]
    },
    {
     "name": "stderr",
     "output_type": "stream",
     "text": [
      "DeprecationWarning: 'histplot' will be deprecated in a future version of PlantCV. This function creates a histogram by default. Current PlantCV version: 3.14.1 released on 2022-07-07T11:45:30-0500\n"
     ]
    },
    {
     "name": "stdout",
     "output_type": "stream",
     "text": [
      "Count is 600\n"
     ]
    },
    {
     "name": "stderr",
     "output_type": "stream",
     "text": [
      "DeprecationWarning: 'histplot' will be deprecated in a future version of PlantCV. This function creates a histogram by default. Current PlantCV version: 3.14.1 released on 2022-07-07T11:45:30-0500\n"
     ]
    },
    {
     "name": "stdout",
     "output_type": "stream",
     "text": [
      "Count is 601\n"
     ]
    },
    {
     "name": "stderr",
     "output_type": "stream",
     "text": [
      "DeprecationWarning: 'histplot' will be deprecated in a future version of PlantCV. This function creates a histogram by default. Current PlantCV version: 3.14.1 released on 2022-07-07T11:45:30-0500\n"
     ]
    },
    {
     "name": "stdout",
     "output_type": "stream",
     "text": [
      "Count is 602\n"
     ]
    },
    {
     "name": "stderr",
     "output_type": "stream",
     "text": [
      "DeprecationWarning: 'histplot' will be deprecated in a future version of PlantCV. This function creates a histogram by default. Current PlantCV version: 3.14.1 released on 2022-07-07T11:45:30-0500\n"
     ]
    },
    {
     "name": "stdout",
     "output_type": "stream",
     "text": [
      "Count is 603\n"
     ]
    },
    {
     "name": "stderr",
     "output_type": "stream",
     "text": [
      "DeprecationWarning: 'histplot' will be deprecated in a future version of PlantCV. This function creates a histogram by default. Current PlantCV version: 3.14.1 released on 2022-07-07T11:45:30-0500\n"
     ]
    },
    {
     "name": "stdout",
     "output_type": "stream",
     "text": [
      "Count is 604\n"
     ]
    },
    {
     "name": "stderr",
     "output_type": "stream",
     "text": [
      "DeprecationWarning: 'histplot' will be deprecated in a future version of PlantCV. This function creates a histogram by default. Current PlantCV version: 3.14.1 released on 2022-07-07T11:45:30-0500\n"
     ]
    },
    {
     "name": "stdout",
     "output_type": "stream",
     "text": [
      "Count is 605\n"
     ]
    },
    {
     "name": "stderr",
     "output_type": "stream",
     "text": [
      "DeprecationWarning: 'histplot' will be deprecated in a future version of PlantCV. This function creates a histogram by default. Current PlantCV version: 3.14.1 released on 2022-07-07T11:45:30-0500\n"
     ]
    },
    {
     "name": "stdout",
     "output_type": "stream",
     "text": [
      "Count is 606\n"
     ]
    },
    {
     "name": "stderr",
     "output_type": "stream",
     "text": [
      "DeprecationWarning: 'histplot' will be deprecated in a future version of PlantCV. This function creates a histogram by default. Current PlantCV version: 3.14.1 released on 2022-07-07T11:45:30-0500\n"
     ]
    },
    {
     "name": "stdout",
     "output_type": "stream",
     "text": [
      "Count is 607\n"
     ]
    },
    {
     "name": "stderr",
     "output_type": "stream",
     "text": [
      "DeprecationWarning: 'histplot' will be deprecated in a future version of PlantCV. This function creates a histogram by default. Current PlantCV version: 3.14.1 released on 2022-07-07T11:45:30-0500\n"
     ]
    },
    {
     "name": "stdout",
     "output_type": "stream",
     "text": [
      "Count is 608\n"
     ]
    },
    {
     "name": "stderr",
     "output_type": "stream",
     "text": [
      "DeprecationWarning: 'histplot' will be deprecated in a future version of PlantCV. This function creates a histogram by default. Current PlantCV version: 3.14.1 released on 2022-07-07T11:45:30-0500\n"
     ]
    },
    {
     "name": "stdout",
     "output_type": "stream",
     "text": [
      "Count is 609\n"
     ]
    },
    {
     "name": "stderr",
     "output_type": "stream",
     "text": [
      "DeprecationWarning: 'histplot' will be deprecated in a future version of PlantCV. This function creates a histogram by default. Current PlantCV version: 3.14.1 released on 2022-07-07T11:45:30-0500\n"
     ]
    },
    {
     "name": "stdout",
     "output_type": "stream",
     "text": [
      "Count is 610\n"
     ]
    },
    {
     "name": "stderr",
     "output_type": "stream",
     "text": [
      "DeprecationWarning: 'histplot' will be deprecated in a future version of PlantCV. This function creates a histogram by default. Current PlantCV version: 3.14.1 released on 2022-07-07T11:45:30-0500\n"
     ]
    },
    {
     "name": "stdout",
     "output_type": "stream",
     "text": [
      "Count is 611\n"
     ]
    },
    {
     "name": "stderr",
     "output_type": "stream",
     "text": [
      "DeprecationWarning: 'histplot' will be deprecated in a future version of PlantCV. This function creates a histogram by default. Current PlantCV version: 3.14.1 released on 2022-07-07T11:45:30-0500\n"
     ]
    },
    {
     "name": "stdout",
     "output_type": "stream",
     "text": [
      "Count is 612\n"
     ]
    },
    {
     "name": "stderr",
     "output_type": "stream",
     "text": [
      "DeprecationWarning: 'histplot' will be deprecated in a future version of PlantCV. This function creates a histogram by default. Current PlantCV version: 3.14.1 released on 2022-07-07T11:45:30-0500\n"
     ]
    },
    {
     "name": "stdout",
     "output_type": "stream",
     "text": [
      "Count is 613\n"
     ]
    },
    {
     "name": "stderr",
     "output_type": "stream",
     "text": [
      "DeprecationWarning: 'histplot' will be deprecated in a future version of PlantCV. This function creates a histogram by default. Current PlantCV version: 3.14.1 released on 2022-07-07T11:45:30-0500\n"
     ]
    },
    {
     "name": "stdout",
     "output_type": "stream",
     "text": [
      "Count is 614\n"
     ]
    },
    {
     "name": "stderr",
     "output_type": "stream",
     "text": [
      "DeprecationWarning: 'histplot' will be deprecated in a future version of PlantCV. This function creates a histogram by default. Current PlantCV version: 3.14.1 released on 2022-07-07T11:45:30-0500\n"
     ]
    },
    {
     "name": "stdout",
     "output_type": "stream",
     "text": [
      "Count is 615\n"
     ]
    },
    {
     "name": "stderr",
     "output_type": "stream",
     "text": [
      "DeprecationWarning: 'histplot' will be deprecated in a future version of PlantCV. This function creates a histogram by default. Current PlantCV version: 3.14.1 released on 2022-07-07T11:45:30-0500\n"
     ]
    },
    {
     "name": "stdout",
     "output_type": "stream",
     "text": [
      "Count is 616\n"
     ]
    },
    {
     "name": "stderr",
     "output_type": "stream",
     "text": [
      "DeprecationWarning: 'histplot' will be deprecated in a future version of PlantCV. This function creates a histogram by default. Current PlantCV version: 3.14.1 released on 2022-07-07T11:45:30-0500\n"
     ]
    },
    {
     "name": "stdout",
     "output_type": "stream",
     "text": [
      "Count is 617\n"
     ]
    },
    {
     "name": "stderr",
     "output_type": "stream",
     "text": [
      "DeprecationWarning: 'histplot' will be deprecated in a future version of PlantCV. This function creates a histogram by default. Current PlantCV version: 3.14.1 released on 2022-07-07T11:45:30-0500\n"
     ]
    },
    {
     "name": "stdout",
     "output_type": "stream",
     "text": [
      "Count is 618\n"
     ]
    },
    {
     "name": "stderr",
     "output_type": "stream",
     "text": [
      "DeprecationWarning: 'histplot' will be deprecated in a future version of PlantCV. This function creates a histogram by default. Current PlantCV version: 3.14.1 released on 2022-07-07T11:45:30-0500\n"
     ]
    },
    {
     "name": "stdout",
     "output_type": "stream",
     "text": [
      "Count is 619\n"
     ]
    },
    {
     "name": "stderr",
     "output_type": "stream",
     "text": [
      "DeprecationWarning: 'histplot' will be deprecated in a future version of PlantCV. This function creates a histogram by default. Current PlantCV version: 3.14.1 released on 2022-07-07T11:45:30-0500\n"
     ]
    },
    {
     "name": "stdout",
     "output_type": "stream",
     "text": [
      "Count is 620\n"
     ]
    },
    {
     "name": "stderr",
     "output_type": "stream",
     "text": [
      "DeprecationWarning: 'histplot' will be deprecated in a future version of PlantCV. This function creates a histogram by default. Current PlantCV version: 3.14.1 released on 2022-07-07T11:45:30-0500\n"
     ]
    },
    {
     "name": "stdout",
     "output_type": "stream",
     "text": [
      "Count is 621\n"
     ]
    },
    {
     "name": "stderr",
     "output_type": "stream",
     "text": [
      "DeprecationWarning: 'histplot' will be deprecated in a future version of PlantCV. This function creates a histogram by default. Current PlantCV version: 3.14.1 released on 2022-07-07T11:45:30-0500\n"
     ]
    },
    {
     "name": "stdout",
     "output_type": "stream",
     "text": [
      "Count is 622\n"
     ]
    },
    {
     "name": "stderr",
     "output_type": "stream",
     "text": [
      "DeprecationWarning: 'histplot' will be deprecated in a future version of PlantCV. This function creates a histogram by default. Current PlantCV version: 3.14.1 released on 2022-07-07T11:45:30-0500\n"
     ]
    },
    {
     "name": "stdout",
     "output_type": "stream",
     "text": [
      "Count is 623\n"
     ]
    },
    {
     "name": "stderr",
     "output_type": "stream",
     "text": [
      "DeprecationWarning: 'histplot' will be deprecated in a future version of PlantCV. This function creates a histogram by default. Current PlantCV version: 3.14.1 released on 2022-07-07T11:45:30-0500\n"
     ]
    },
    {
     "name": "stdout",
     "output_type": "stream",
     "text": [
      "Count is 624\n"
     ]
    },
    {
     "name": "stderr",
     "output_type": "stream",
     "text": [
      "DeprecationWarning: 'histplot' will be deprecated in a future version of PlantCV. This function creates a histogram by default. Current PlantCV version: 3.14.1 released on 2022-07-07T11:45:30-0500\n"
     ]
    },
    {
     "name": "stdout",
     "output_type": "stream",
     "text": [
      "Count is 625\n"
     ]
    },
    {
     "name": "stderr",
     "output_type": "stream",
     "text": [
      "DeprecationWarning: 'histplot' will be deprecated in a future version of PlantCV. This function creates a histogram by default. Current PlantCV version: 3.14.1 released on 2022-07-07T11:45:30-0500\n"
     ]
    },
    {
     "name": "stdout",
     "output_type": "stream",
     "text": [
      "Count is 626\n"
     ]
    },
    {
     "name": "stderr",
     "output_type": "stream",
     "text": [
      "DeprecationWarning: 'histplot' will be deprecated in a future version of PlantCV. This function creates a histogram by default. Current PlantCV version: 3.14.1 released on 2022-07-07T11:45:30-0500\n"
     ]
    },
    {
     "name": "stdout",
     "output_type": "stream",
     "text": [
      "Count is 627\n"
     ]
    },
    {
     "name": "stderr",
     "output_type": "stream",
     "text": [
      "DeprecationWarning: 'histplot' will be deprecated in a future version of PlantCV. This function creates a histogram by default. Current PlantCV version: 3.14.1 released on 2022-07-07T11:45:30-0500\n"
     ]
    },
    {
     "name": "stdout",
     "output_type": "stream",
     "text": [
      "Count is 628\n"
     ]
    },
    {
     "name": "stderr",
     "output_type": "stream",
     "text": [
      "DeprecationWarning: 'histplot' will be deprecated in a future version of PlantCV. This function creates a histogram by default. Current PlantCV version: 3.14.1 released on 2022-07-07T11:45:30-0500\n"
     ]
    },
    {
     "name": "stdout",
     "output_type": "stream",
     "text": [
      "Count is 629\n"
     ]
    },
    {
     "name": "stderr",
     "output_type": "stream",
     "text": [
      "DeprecationWarning: 'histplot' will be deprecated in a future version of PlantCV. This function creates a histogram by default. Current PlantCV version: 3.14.1 released on 2022-07-07T11:45:30-0500\n"
     ]
    },
    {
     "name": "stdout",
     "output_type": "stream",
     "text": [
      "Count is 630\n"
     ]
    },
    {
     "name": "stderr",
     "output_type": "stream",
     "text": [
      "DeprecationWarning: 'histplot' will be deprecated in a future version of PlantCV. This function creates a histogram by default. Current PlantCV version: 3.14.1 released on 2022-07-07T11:45:30-0500\n"
     ]
    },
    {
     "name": "stdout",
     "output_type": "stream",
     "text": [
      "Count is 631\n"
     ]
    },
    {
     "name": "stderr",
     "output_type": "stream",
     "text": [
      "DeprecationWarning: 'histplot' will be deprecated in a future version of PlantCV. This function creates a histogram by default. Current PlantCV version: 3.14.1 released on 2022-07-07T11:45:30-0500\n"
     ]
    },
    {
     "name": "stdout",
     "output_type": "stream",
     "text": [
      "Count is 632\n"
     ]
    },
    {
     "name": "stderr",
     "output_type": "stream",
     "text": [
      "DeprecationWarning: 'histplot' will be deprecated in a future version of PlantCV. This function creates a histogram by default. Current PlantCV version: 3.14.1 released on 2022-07-07T11:45:30-0500\n"
     ]
    },
    {
     "name": "stdout",
     "output_type": "stream",
     "text": [
      "Count is 633\n"
     ]
    },
    {
     "name": "stderr",
     "output_type": "stream",
     "text": [
      "DeprecationWarning: 'histplot' will be deprecated in a future version of PlantCV. This function creates a histogram by default. Current PlantCV version: 3.14.1 released on 2022-07-07T11:45:30-0500\n"
     ]
    },
    {
     "name": "stdout",
     "output_type": "stream",
     "text": [
      "Count is 634\n"
     ]
    },
    {
     "name": "stderr",
     "output_type": "stream",
     "text": [
      "DeprecationWarning: 'histplot' will be deprecated in a future version of PlantCV. This function creates a histogram by default. Current PlantCV version: 3.14.1 released on 2022-07-07T11:45:30-0500\n"
     ]
    },
    {
     "name": "stdout",
     "output_type": "stream",
     "text": [
      "Count is 635\n"
     ]
    },
    {
     "name": "stderr",
     "output_type": "stream",
     "text": [
      "DeprecationWarning: 'histplot' will be deprecated in a future version of PlantCV. This function creates a histogram by default. Current PlantCV version: 3.14.1 released on 2022-07-07T11:45:30-0500\n"
     ]
    },
    {
     "name": "stdout",
     "output_type": "stream",
     "text": [
      "Count is 636\n"
     ]
    },
    {
     "name": "stderr",
     "output_type": "stream",
     "text": [
      "DeprecationWarning: 'histplot' will be deprecated in a future version of PlantCV. This function creates a histogram by default. Current PlantCV version: 3.14.1 released on 2022-07-07T11:45:30-0500\n"
     ]
    },
    {
     "name": "stdout",
     "output_type": "stream",
     "text": [
      "Count is 637\n"
     ]
    },
    {
     "name": "stderr",
     "output_type": "stream",
     "text": [
      "DeprecationWarning: 'histplot' will be deprecated in a future version of PlantCV. This function creates a histogram by default. Current PlantCV version: 3.14.1 released on 2022-07-07T11:45:30-0500\n"
     ]
    },
    {
     "name": "stdout",
     "output_type": "stream",
     "text": [
      "Count is 638\n"
     ]
    },
    {
     "name": "stderr",
     "output_type": "stream",
     "text": [
      "DeprecationWarning: 'histplot' will be deprecated in a future version of PlantCV. This function creates a histogram by default. Current PlantCV version: 3.14.1 released on 2022-07-07T11:45:30-0500\n"
     ]
    },
    {
     "name": "stdout",
     "output_type": "stream",
     "text": [
      "Count is 639\n"
     ]
    },
    {
     "name": "stderr",
     "output_type": "stream",
     "text": [
      "DeprecationWarning: 'histplot' will be deprecated in a future version of PlantCV. This function creates a histogram by default. Current PlantCV version: 3.14.1 released on 2022-07-07T11:45:30-0500\n"
     ]
    },
    {
     "name": "stdout",
     "output_type": "stream",
     "text": [
      "Count is 640\n"
     ]
    },
    {
     "name": "stderr",
     "output_type": "stream",
     "text": [
      "DeprecationWarning: 'histplot' will be deprecated in a future version of PlantCV. This function creates a histogram by default. Current PlantCV version: 3.14.1 released on 2022-07-07T11:45:30-0500\n"
     ]
    },
    {
     "name": "stdout",
     "output_type": "stream",
     "text": [
      "Count is 641\n"
     ]
    },
    {
     "name": "stderr",
     "output_type": "stream",
     "text": [
      "DeprecationWarning: 'histplot' will be deprecated in a future version of PlantCV. This function creates a histogram by default. Current PlantCV version: 3.14.1 released on 2022-07-07T11:45:30-0500\n"
     ]
    },
    {
     "name": "stdout",
     "output_type": "stream",
     "text": [
      "Count is 642\n"
     ]
    },
    {
     "name": "stderr",
     "output_type": "stream",
     "text": [
      "DeprecationWarning: 'histplot' will be deprecated in a future version of PlantCV. This function creates a histogram by default. Current PlantCV version: 3.14.1 released on 2022-07-07T11:45:30-0500\n"
     ]
    },
    {
     "name": "stdout",
     "output_type": "stream",
     "text": [
      "Count is 643\n"
     ]
    },
    {
     "name": "stderr",
     "output_type": "stream",
     "text": [
      "DeprecationWarning: 'histplot' will be deprecated in a future version of PlantCV. This function creates a histogram by default. Current PlantCV version: 3.14.1 released on 2022-07-07T11:45:30-0500\n"
     ]
    },
    {
     "name": "stdout",
     "output_type": "stream",
     "text": [
      "Count is 644\n"
     ]
    },
    {
     "name": "stderr",
     "output_type": "stream",
     "text": [
      "DeprecationWarning: 'histplot' will be deprecated in a future version of PlantCV. This function creates a histogram by default. Current PlantCV version: 3.14.1 released on 2022-07-07T11:45:30-0500\n"
     ]
    },
    {
     "name": "stdout",
     "output_type": "stream",
     "text": [
      "Count is 645\n"
     ]
    },
    {
     "name": "stderr",
     "output_type": "stream",
     "text": [
      "DeprecationWarning: 'histplot' will be deprecated in a future version of PlantCV. This function creates a histogram by default. Current PlantCV version: 3.14.1 released on 2022-07-07T11:45:30-0500\n"
     ]
    },
    {
     "name": "stdout",
     "output_type": "stream",
     "text": [
      "Count is 646\n"
     ]
    },
    {
     "name": "stderr",
     "output_type": "stream",
     "text": [
      "DeprecationWarning: 'histplot' will be deprecated in a future version of PlantCV. This function creates a histogram by default. Current PlantCV version: 3.14.1 released on 2022-07-07T11:45:30-0500\n"
     ]
    },
    {
     "name": "stdout",
     "output_type": "stream",
     "text": [
      "Count is 647\n"
     ]
    },
    {
     "name": "stderr",
     "output_type": "stream",
     "text": [
      "DeprecationWarning: 'histplot' will be deprecated in a future version of PlantCV. This function creates a histogram by default. Current PlantCV version: 3.14.1 released on 2022-07-07T11:45:30-0500\n"
     ]
    },
    {
     "name": "stdout",
     "output_type": "stream",
     "text": [
      "Count is 648\n"
     ]
    },
    {
     "name": "stderr",
     "output_type": "stream",
     "text": [
      "DeprecationWarning: 'histplot' will be deprecated in a future version of PlantCV. This function creates a histogram by default. Current PlantCV version: 3.14.1 released on 2022-07-07T11:45:30-0500\n"
     ]
    },
    {
     "name": "stdout",
     "output_type": "stream",
     "text": [
      "Count is 649\n"
     ]
    },
    {
     "name": "stderr",
     "output_type": "stream",
     "text": [
      "DeprecationWarning: 'histplot' will be deprecated in a future version of PlantCV. This function creates a histogram by default. Current PlantCV version: 3.14.1 released on 2022-07-07T11:45:30-0500\n"
     ]
    },
    {
     "name": "stdout",
     "output_type": "stream",
     "text": [
      "Count is 650\n"
     ]
    },
    {
     "name": "stderr",
     "output_type": "stream",
     "text": [
      "DeprecationWarning: 'histplot' will be deprecated in a future version of PlantCV. This function creates a histogram by default. Current PlantCV version: 3.14.1 released on 2022-07-07T11:45:30-0500\n"
     ]
    },
    {
     "name": "stdout",
     "output_type": "stream",
     "text": [
      "Count is 651\n"
     ]
    },
    {
     "name": "stderr",
     "output_type": "stream",
     "text": [
      "DeprecationWarning: 'histplot' will be deprecated in a future version of PlantCV. This function creates a histogram by default. Current PlantCV version: 3.14.1 released on 2022-07-07T11:45:30-0500\n"
     ]
    },
    {
     "name": "stdout",
     "output_type": "stream",
     "text": [
      "Count is 652\n"
     ]
    },
    {
     "name": "stderr",
     "output_type": "stream",
     "text": [
      "DeprecationWarning: 'histplot' will be deprecated in a future version of PlantCV. This function creates a histogram by default. Current PlantCV version: 3.14.1 released on 2022-07-07T11:45:30-0500\n"
     ]
    },
    {
     "name": "stdout",
     "output_type": "stream",
     "text": [
      "Count is 653\n"
     ]
    },
    {
     "name": "stderr",
     "output_type": "stream",
     "text": [
      "DeprecationWarning: 'histplot' will be deprecated in a future version of PlantCV. This function creates a histogram by default. Current PlantCV version: 3.14.1 released on 2022-07-07T11:45:30-0500\n"
     ]
    },
    {
     "name": "stdout",
     "output_type": "stream",
     "text": [
      "Count is 654\n"
     ]
    },
    {
     "name": "stderr",
     "output_type": "stream",
     "text": [
      "DeprecationWarning: 'histplot' will be deprecated in a future version of PlantCV. This function creates a histogram by default. Current PlantCV version: 3.14.1 released on 2022-07-07T11:45:30-0500\n"
     ]
    },
    {
     "name": "stdout",
     "output_type": "stream",
     "text": [
      "Count is 655\n"
     ]
    },
    {
     "name": "stderr",
     "output_type": "stream",
     "text": [
      "DeprecationWarning: 'histplot' will be deprecated in a future version of PlantCV. This function creates a histogram by default. Current PlantCV version: 3.14.1 released on 2022-07-07T11:45:30-0500\n"
     ]
    },
    {
     "name": "stdout",
     "output_type": "stream",
     "text": [
      "Count is 656\n"
     ]
    },
    {
     "name": "stderr",
     "output_type": "stream",
     "text": [
      "DeprecationWarning: 'histplot' will be deprecated in a future version of PlantCV. This function creates a histogram by default. Current PlantCV version: 3.14.1 released on 2022-07-07T11:45:30-0500\n"
     ]
    },
    {
     "name": "stdout",
     "output_type": "stream",
     "text": [
      "Count is 657\n"
     ]
    },
    {
     "name": "stderr",
     "output_type": "stream",
     "text": [
      "DeprecationWarning: 'histplot' will be deprecated in a future version of PlantCV. This function creates a histogram by default. Current PlantCV version: 3.14.1 released on 2022-07-07T11:45:30-0500\n"
     ]
    },
    {
     "name": "stdout",
     "output_type": "stream",
     "text": [
      "Count is 658\n"
     ]
    },
    {
     "name": "stderr",
     "output_type": "stream",
     "text": [
      "DeprecationWarning: 'histplot' will be deprecated in a future version of PlantCV. This function creates a histogram by default. Current PlantCV version: 3.14.1 released on 2022-07-07T11:45:30-0500\n"
     ]
    },
    {
     "name": "stdout",
     "output_type": "stream",
     "text": [
      "Count is 659\n"
     ]
    },
    {
     "name": "stderr",
     "output_type": "stream",
     "text": [
      "DeprecationWarning: 'histplot' will be deprecated in a future version of PlantCV. This function creates a histogram by default. Current PlantCV version: 3.14.1 released on 2022-07-07T11:45:30-0500\n"
     ]
    },
    {
     "name": "stdout",
     "output_type": "stream",
     "text": [
      "Count is 660\n"
     ]
    },
    {
     "name": "stderr",
     "output_type": "stream",
     "text": [
      "DeprecationWarning: 'histplot' will be deprecated in a future version of PlantCV. This function creates a histogram by default. Current PlantCV version: 3.14.1 released on 2022-07-07T11:45:30-0500\n"
     ]
    },
    {
     "name": "stdout",
     "output_type": "stream",
     "text": [
      "Count is 661\n"
     ]
    },
    {
     "name": "stderr",
     "output_type": "stream",
     "text": [
      "DeprecationWarning: 'histplot' will be deprecated in a future version of PlantCV. This function creates a histogram by default. Current PlantCV version: 3.14.1 released on 2022-07-07T11:45:30-0500\n"
     ]
    },
    {
     "name": "stdout",
     "output_type": "stream",
     "text": [
      "Count is 662\n"
     ]
    },
    {
     "name": "stderr",
     "output_type": "stream",
     "text": [
      "DeprecationWarning: 'histplot' will be deprecated in a future version of PlantCV. This function creates a histogram by default. Current PlantCV version: 3.14.1 released on 2022-07-07T11:45:30-0500\n"
     ]
    },
    {
     "name": "stdout",
     "output_type": "stream",
     "text": [
      "Count is 663\n"
     ]
    },
    {
     "name": "stderr",
     "output_type": "stream",
     "text": [
      "DeprecationWarning: 'histplot' will be deprecated in a future version of PlantCV. This function creates a histogram by default. Current PlantCV version: 3.14.1 released on 2022-07-07T11:45:30-0500\n"
     ]
    },
    {
     "name": "stdout",
     "output_type": "stream",
     "text": [
      "Count is 664\n"
     ]
    },
    {
     "name": "stderr",
     "output_type": "stream",
     "text": [
      "DeprecationWarning: 'histplot' will be deprecated in a future version of PlantCV. This function creates a histogram by default. Current PlantCV version: 3.14.1 released on 2022-07-07T11:45:30-0500\n"
     ]
    },
    {
     "name": "stdout",
     "output_type": "stream",
     "text": [
      "Count is 665\n"
     ]
    },
    {
     "name": "stderr",
     "output_type": "stream",
     "text": [
      "DeprecationWarning: 'histplot' will be deprecated in a future version of PlantCV. This function creates a histogram by default. Current PlantCV version: 3.14.1 released on 2022-07-07T11:45:30-0500\n"
     ]
    },
    {
     "name": "stdout",
     "output_type": "stream",
     "text": [
      "Count is 666\n"
     ]
    },
    {
     "name": "stderr",
     "output_type": "stream",
     "text": [
      "DeprecationWarning: 'histplot' will be deprecated in a future version of PlantCV. This function creates a histogram by default. Current PlantCV version: 3.14.1 released on 2022-07-07T11:45:30-0500\n"
     ]
    },
    {
     "name": "stdout",
     "output_type": "stream",
     "text": [
      "Count is 667\n"
     ]
    },
    {
     "name": "stderr",
     "output_type": "stream",
     "text": [
      "DeprecationWarning: 'histplot' will be deprecated in a future version of PlantCV. This function creates a histogram by default. Current PlantCV version: 3.14.1 released on 2022-07-07T11:45:30-0500\n"
     ]
    },
    {
     "name": "stdout",
     "output_type": "stream",
     "text": [
      "Count is 668\n"
     ]
    },
    {
     "name": "stderr",
     "output_type": "stream",
     "text": [
      "DeprecationWarning: 'histplot' will be deprecated in a future version of PlantCV. This function creates a histogram by default. Current PlantCV version: 3.14.1 released on 2022-07-07T11:45:30-0500\n"
     ]
    },
    {
     "name": "stdout",
     "output_type": "stream",
     "text": [
      "Count is 669\n"
     ]
    },
    {
     "name": "stderr",
     "output_type": "stream",
     "text": [
      "DeprecationWarning: 'histplot' will be deprecated in a future version of PlantCV. This function creates a histogram by default. Current PlantCV version: 3.14.1 released on 2022-07-07T11:45:30-0500\n"
     ]
    },
    {
     "name": "stdout",
     "output_type": "stream",
     "text": [
      "Count is 670\n"
     ]
    },
    {
     "name": "stderr",
     "output_type": "stream",
     "text": [
      "DeprecationWarning: 'histplot' will be deprecated in a future version of PlantCV. This function creates a histogram by default. Current PlantCV version: 3.14.1 released on 2022-07-07T11:45:30-0500\n"
     ]
    },
    {
     "name": "stdout",
     "output_type": "stream",
     "text": [
      "Count is 671\n"
     ]
    },
    {
     "name": "stderr",
     "output_type": "stream",
     "text": [
      "DeprecationWarning: 'histplot' will be deprecated in a future version of PlantCV. This function creates a histogram by default. Current PlantCV version: 3.14.1 released on 2022-07-07T11:45:30-0500\n"
     ]
    },
    {
     "name": "stdout",
     "output_type": "stream",
     "text": [
      "Count is 672\n"
     ]
    },
    {
     "name": "stderr",
     "output_type": "stream",
     "text": [
      "DeprecationWarning: 'histplot' will be deprecated in a future version of PlantCV. This function creates a histogram by default. Current PlantCV version: 3.14.1 released on 2022-07-07T11:45:30-0500\n"
     ]
    },
    {
     "name": "stdout",
     "output_type": "stream",
     "text": [
      "Count is 673\n"
     ]
    },
    {
     "name": "stderr",
     "output_type": "stream",
     "text": [
      "DeprecationWarning: 'histplot' will be deprecated in a future version of PlantCV. This function creates a histogram by default. Current PlantCV version: 3.14.1 released on 2022-07-07T11:45:30-0500\n"
     ]
    },
    {
     "name": "stdout",
     "output_type": "stream",
     "text": [
      "Count is 674\n"
     ]
    },
    {
     "name": "stderr",
     "output_type": "stream",
     "text": [
      "DeprecationWarning: 'histplot' will be deprecated in a future version of PlantCV. This function creates a histogram by default. Current PlantCV version: 3.14.1 released on 2022-07-07T11:45:30-0500\n"
     ]
    },
    {
     "name": "stdout",
     "output_type": "stream",
     "text": [
      "Count is 675\n"
     ]
    },
    {
     "name": "stderr",
     "output_type": "stream",
     "text": [
      "DeprecationWarning: 'histplot' will be deprecated in a future version of PlantCV. This function creates a histogram by default. Current PlantCV version: 3.14.1 released on 2022-07-07T11:45:30-0500\n"
     ]
    },
    {
     "name": "stdout",
     "output_type": "stream",
     "text": [
      "Count is 676\n"
     ]
    },
    {
     "name": "stderr",
     "output_type": "stream",
     "text": [
      "DeprecationWarning: 'histplot' will be deprecated in a future version of PlantCV. This function creates a histogram by default. Current PlantCV version: 3.14.1 released on 2022-07-07T11:45:30-0500\n"
     ]
    },
    {
     "name": "stdout",
     "output_type": "stream",
     "text": [
      "Count is 677\n"
     ]
    },
    {
     "name": "stderr",
     "output_type": "stream",
     "text": [
      "DeprecationWarning: 'histplot' will be deprecated in a future version of PlantCV. This function creates a histogram by default. Current PlantCV version: 3.14.1 released on 2022-07-07T11:45:30-0500\n"
     ]
    },
    {
     "name": "stdout",
     "output_type": "stream",
     "text": [
      "Count is 678\n"
     ]
    },
    {
     "name": "stderr",
     "output_type": "stream",
     "text": [
      "DeprecationWarning: 'histplot' will be deprecated in a future version of PlantCV. This function creates a histogram by default. Current PlantCV version: 3.14.1 released on 2022-07-07T11:45:30-0500\n"
     ]
    },
    {
     "name": "stdout",
     "output_type": "stream",
     "text": [
      "Count is 679\n"
     ]
    },
    {
     "name": "stderr",
     "output_type": "stream",
     "text": [
      "DeprecationWarning: 'histplot' will be deprecated in a future version of PlantCV. This function creates a histogram by default. Current PlantCV version: 3.14.1 released on 2022-07-07T11:45:30-0500\n"
     ]
    },
    {
     "name": "stdout",
     "output_type": "stream",
     "text": [
      "Count is 680\n"
     ]
    },
    {
     "name": "stderr",
     "output_type": "stream",
     "text": [
      "DeprecationWarning: 'histplot' will be deprecated in a future version of PlantCV. This function creates a histogram by default. Current PlantCV version: 3.14.1 released on 2022-07-07T11:45:30-0500\n"
     ]
    },
    {
     "name": "stdout",
     "output_type": "stream",
     "text": [
      "Count is 681\n"
     ]
    },
    {
     "name": "stderr",
     "output_type": "stream",
     "text": [
      "DeprecationWarning: 'histplot' will be deprecated in a future version of PlantCV. This function creates a histogram by default. Current PlantCV version: 3.14.1 released on 2022-07-07T11:45:30-0500\n"
     ]
    },
    {
     "name": "stdout",
     "output_type": "stream",
     "text": [
      "Count is 682\n"
     ]
    },
    {
     "name": "stderr",
     "output_type": "stream",
     "text": [
      "DeprecationWarning: 'histplot' will be deprecated in a future version of PlantCV. This function creates a histogram by default. Current PlantCV version: 3.14.1 released on 2022-07-07T11:45:30-0500\n"
     ]
    },
    {
     "name": "stdout",
     "output_type": "stream",
     "text": [
      "Count is 683\n"
     ]
    },
    {
     "name": "stderr",
     "output_type": "stream",
     "text": [
      "DeprecationWarning: 'histplot' will be deprecated in a future version of PlantCV. This function creates a histogram by default. Current PlantCV version: 3.14.1 released on 2022-07-07T11:45:30-0500\n"
     ]
    },
    {
     "name": "stdout",
     "output_type": "stream",
     "text": [
      "Count is 684\n"
     ]
    },
    {
     "name": "stderr",
     "output_type": "stream",
     "text": [
      "DeprecationWarning: 'histplot' will be deprecated in a future version of PlantCV. This function creates a histogram by default. Current PlantCV version: 3.14.1 released on 2022-07-07T11:45:30-0500\n"
     ]
    },
    {
     "name": "stdout",
     "output_type": "stream",
     "text": [
      "Count is 685\n"
     ]
    },
    {
     "name": "stderr",
     "output_type": "stream",
     "text": [
      "DeprecationWarning: 'histplot' will be deprecated in a future version of PlantCV. This function creates a histogram by default. Current PlantCV version: 3.14.1 released on 2022-07-07T11:45:30-0500\n"
     ]
    },
    {
     "name": "stdout",
     "output_type": "stream",
     "text": [
      "Count is 686\n"
     ]
    },
    {
     "name": "stderr",
     "output_type": "stream",
     "text": [
      "DeprecationWarning: 'histplot' will be deprecated in a future version of PlantCV. This function creates a histogram by default. Current PlantCV version: 3.14.1 released on 2022-07-07T11:45:30-0500\n"
     ]
    },
    {
     "name": "stdout",
     "output_type": "stream",
     "text": [
      "Count is 687\n"
     ]
    },
    {
     "name": "stderr",
     "output_type": "stream",
     "text": [
      "DeprecationWarning: 'histplot' will be deprecated in a future version of PlantCV. This function creates a histogram by default. Current PlantCV version: 3.14.1 released on 2022-07-07T11:45:30-0500\n"
     ]
    },
    {
     "name": "stdout",
     "output_type": "stream",
     "text": [
      "Count is 688\n"
     ]
    },
    {
     "name": "stderr",
     "output_type": "stream",
     "text": [
      "DeprecationWarning: 'histplot' will be deprecated in a future version of PlantCV. This function creates a histogram by default. Current PlantCV version: 3.14.1 released on 2022-07-07T11:45:30-0500\n"
     ]
    },
    {
     "name": "stdout",
     "output_type": "stream",
     "text": [
      "Count is 689\n"
     ]
    },
    {
     "name": "stderr",
     "output_type": "stream",
     "text": [
      "DeprecationWarning: 'histplot' will be deprecated in a future version of PlantCV. This function creates a histogram by default. Current PlantCV version: 3.14.1 released on 2022-07-07T11:45:30-0500\n"
     ]
    },
    {
     "name": "stdout",
     "output_type": "stream",
     "text": [
      "Count is 690\n"
     ]
    },
    {
     "name": "stderr",
     "output_type": "stream",
     "text": [
      "DeprecationWarning: 'histplot' will be deprecated in a future version of PlantCV. This function creates a histogram by default. Current PlantCV version: 3.14.1 released on 2022-07-07T11:45:30-0500\n"
     ]
    },
    {
     "name": "stdout",
     "output_type": "stream",
     "text": [
      "Count is 691\n"
     ]
    },
    {
     "name": "stderr",
     "output_type": "stream",
     "text": [
      "DeprecationWarning: 'histplot' will be deprecated in a future version of PlantCV. This function creates a histogram by default. Current PlantCV version: 3.14.1 released on 2022-07-07T11:45:30-0500\n"
     ]
    },
    {
     "name": "stdout",
     "output_type": "stream",
     "text": [
      "Count is 692\n"
     ]
    },
    {
     "name": "stderr",
     "output_type": "stream",
     "text": [
      "DeprecationWarning: 'histplot' will be deprecated in a future version of PlantCV. This function creates a histogram by default. Current PlantCV version: 3.14.1 released on 2022-07-07T11:45:30-0500\n"
     ]
    },
    {
     "name": "stdout",
     "output_type": "stream",
     "text": [
      "Count is 693\n"
     ]
    },
    {
     "name": "stderr",
     "output_type": "stream",
     "text": [
      "DeprecationWarning: 'histplot' will be deprecated in a future version of PlantCV. This function creates a histogram by default. Current PlantCV version: 3.14.1 released on 2022-07-07T11:45:30-0500\n"
     ]
    },
    {
     "name": "stdout",
     "output_type": "stream",
     "text": [
      "Count is 694\n"
     ]
    },
    {
     "name": "stderr",
     "output_type": "stream",
     "text": [
      "DeprecationWarning: 'histplot' will be deprecated in a future version of PlantCV. This function creates a histogram by default. Current PlantCV version: 3.14.1 released on 2022-07-07T11:45:30-0500\n"
     ]
    },
    {
     "name": "stdout",
     "output_type": "stream",
     "text": [
      "Count is 695\n"
     ]
    },
    {
     "name": "stderr",
     "output_type": "stream",
     "text": [
      "DeprecationWarning: 'histplot' will be deprecated in a future version of PlantCV. This function creates a histogram by default. Current PlantCV version: 3.14.1 released on 2022-07-07T11:45:30-0500\n"
     ]
    },
    {
     "name": "stdout",
     "output_type": "stream",
     "text": [
      "Count is 696\n"
     ]
    },
    {
     "name": "stderr",
     "output_type": "stream",
     "text": [
      "DeprecationWarning: 'histplot' will be deprecated in a future version of PlantCV. This function creates a histogram by default. Current PlantCV version: 3.14.1 released on 2022-07-07T11:45:30-0500\n"
     ]
    },
    {
     "name": "stdout",
     "output_type": "stream",
     "text": [
      "Count is 697\n"
     ]
    },
    {
     "name": "stderr",
     "output_type": "stream",
     "text": [
      "DeprecationWarning: 'histplot' will be deprecated in a future version of PlantCV. This function creates a histogram by default. Current PlantCV version: 3.14.1 released on 2022-07-07T11:45:30-0500\n"
     ]
    },
    {
     "name": "stdout",
     "output_type": "stream",
     "text": [
      "Count is 698\n"
     ]
    },
    {
     "name": "stderr",
     "output_type": "stream",
     "text": [
      "DeprecationWarning: 'histplot' will be deprecated in a future version of PlantCV. This function creates a histogram by default. Current PlantCV version: 3.14.1 released on 2022-07-07T11:45:30-0500\n"
     ]
    },
    {
     "name": "stdout",
     "output_type": "stream",
     "text": [
      "Count is 699\n"
     ]
    },
    {
     "name": "stderr",
     "output_type": "stream",
     "text": [
      "DeprecationWarning: 'histplot' will be deprecated in a future version of PlantCV. This function creates a histogram by default. Current PlantCV version: 3.14.1 released on 2022-07-07T11:45:30-0500\n"
     ]
    },
    {
     "name": "stdout",
     "output_type": "stream",
     "text": [
      "Count is 700\n"
     ]
    },
    {
     "name": "stderr",
     "output_type": "stream",
     "text": [
      "DeprecationWarning: 'histplot' will be deprecated in a future version of PlantCV. This function creates a histogram by default. Current PlantCV version: 3.14.1 released on 2022-07-07T11:45:30-0500\n"
     ]
    },
    {
     "name": "stdout",
     "output_type": "stream",
     "text": [
      "Count is 701\n"
     ]
    },
    {
     "name": "stderr",
     "output_type": "stream",
     "text": [
      "DeprecationWarning: 'histplot' will be deprecated in a future version of PlantCV. This function creates a histogram by default. Current PlantCV version: 3.14.1 released on 2022-07-07T11:45:30-0500\n"
     ]
    },
    {
     "name": "stdout",
     "output_type": "stream",
     "text": [
      "Count is 702\n"
     ]
    },
    {
     "name": "stderr",
     "output_type": "stream",
     "text": [
      "DeprecationWarning: 'histplot' will be deprecated in a future version of PlantCV. This function creates a histogram by default. Current PlantCV version: 3.14.1 released on 2022-07-07T11:45:30-0500\n"
     ]
    },
    {
     "name": "stdout",
     "output_type": "stream",
     "text": [
      "Count is 703\n"
     ]
    },
    {
     "name": "stderr",
     "output_type": "stream",
     "text": [
      "DeprecationWarning: 'histplot' will be deprecated in a future version of PlantCV. This function creates a histogram by default. Current PlantCV version: 3.14.1 released on 2022-07-07T11:45:30-0500\n"
     ]
    },
    {
     "name": "stdout",
     "output_type": "stream",
     "text": [
      "Count is 704\n"
     ]
    },
    {
     "name": "stderr",
     "output_type": "stream",
     "text": [
      "DeprecationWarning: 'histplot' will be deprecated in a future version of PlantCV. This function creates a histogram by default. Current PlantCV version: 3.14.1 released on 2022-07-07T11:45:30-0500\n"
     ]
    },
    {
     "name": "stdout",
     "output_type": "stream",
     "text": [
      "Count is 705\n"
     ]
    },
    {
     "name": "stderr",
     "output_type": "stream",
     "text": [
      "DeprecationWarning: 'histplot' will be deprecated in a future version of PlantCV. This function creates a histogram by default. Current PlantCV version: 3.14.1 released on 2022-07-07T11:45:30-0500\n"
     ]
    },
    {
     "name": "stdout",
     "output_type": "stream",
     "text": [
      "Count is 706\n"
     ]
    },
    {
     "name": "stderr",
     "output_type": "stream",
     "text": [
      "DeprecationWarning: 'histplot' will be deprecated in a future version of PlantCV. This function creates a histogram by default. Current PlantCV version: 3.14.1 released on 2022-07-07T11:45:30-0500\n"
     ]
    },
    {
     "name": "stdout",
     "output_type": "stream",
     "text": [
      "Count is 707\n"
     ]
    },
    {
     "name": "stderr",
     "output_type": "stream",
     "text": [
      "DeprecationWarning: 'histplot' will be deprecated in a future version of PlantCV. This function creates a histogram by default. Current PlantCV version: 3.14.1 released on 2022-07-07T11:45:30-0500\n"
     ]
    },
    {
     "name": "stdout",
     "output_type": "stream",
     "text": [
      "Count is 708\n"
     ]
    },
    {
     "name": "stderr",
     "output_type": "stream",
     "text": [
      "DeprecationWarning: 'histplot' will be deprecated in a future version of PlantCV. This function creates a histogram by default. Current PlantCV version: 3.14.1 released on 2022-07-07T11:45:30-0500\n"
     ]
    },
    {
     "name": "stdout",
     "output_type": "stream",
     "text": [
      "Count is 709\n"
     ]
    },
    {
     "name": "stderr",
     "output_type": "stream",
     "text": [
      "DeprecationWarning: 'histplot' will be deprecated in a future version of PlantCV. This function creates a histogram by default. Current PlantCV version: 3.14.1 released on 2022-07-07T11:45:30-0500\n"
     ]
    },
    {
     "name": "stdout",
     "output_type": "stream",
     "text": [
      "Count is 710\n"
     ]
    },
    {
     "name": "stderr",
     "output_type": "stream",
     "text": [
      "DeprecationWarning: 'histplot' will be deprecated in a future version of PlantCV. This function creates a histogram by default. Current PlantCV version: 3.14.1 released on 2022-07-07T11:45:30-0500\n"
     ]
    },
    {
     "name": "stdout",
     "output_type": "stream",
     "text": [
      "Count is 711\n"
     ]
    },
    {
     "name": "stderr",
     "output_type": "stream",
     "text": [
      "DeprecationWarning: 'histplot' will be deprecated in a future version of PlantCV. This function creates a histogram by default. Current PlantCV version: 3.14.1 released on 2022-07-07T11:45:30-0500\n"
     ]
    },
    {
     "name": "stdout",
     "output_type": "stream",
     "text": [
      "Count is 712\n"
     ]
    },
    {
     "name": "stderr",
     "output_type": "stream",
     "text": [
      "DeprecationWarning: 'histplot' will be deprecated in a future version of PlantCV. This function creates a histogram by default. Current PlantCV version: 3.14.1 released on 2022-07-07T11:45:30-0500\n"
     ]
    },
    {
     "name": "stdout",
     "output_type": "stream",
     "text": [
      "Count is 713\n"
     ]
    },
    {
     "name": "stderr",
     "output_type": "stream",
     "text": [
      "DeprecationWarning: 'histplot' will be deprecated in a future version of PlantCV. This function creates a histogram by default. Current PlantCV version: 3.14.1 released on 2022-07-07T11:45:30-0500\n"
     ]
    },
    {
     "name": "stdout",
     "output_type": "stream",
     "text": [
      "Count is 714\n"
     ]
    },
    {
     "name": "stderr",
     "output_type": "stream",
     "text": [
      "DeprecationWarning: 'histplot' will be deprecated in a future version of PlantCV. This function creates a histogram by default. Current PlantCV version: 3.14.1 released on 2022-07-07T11:45:30-0500\n"
     ]
    },
    {
     "name": "stdout",
     "output_type": "stream",
     "text": [
      "Count is 715\n"
     ]
    },
    {
     "name": "stderr",
     "output_type": "stream",
     "text": [
      "DeprecationWarning: 'histplot' will be deprecated in a future version of PlantCV. This function creates a histogram by default. Current PlantCV version: 3.14.1 released on 2022-07-07T11:45:30-0500\n"
     ]
    },
    {
     "name": "stdout",
     "output_type": "stream",
     "text": [
      "Count is 716\n"
     ]
    },
    {
     "name": "stderr",
     "output_type": "stream",
     "text": [
      "DeprecationWarning: 'histplot' will be deprecated in a future version of PlantCV. This function creates a histogram by default. Current PlantCV version: 3.14.1 released on 2022-07-07T11:45:30-0500\n"
     ]
    },
    {
     "name": "stdout",
     "output_type": "stream",
     "text": [
      "Count is 717\n"
     ]
    },
    {
     "name": "stderr",
     "output_type": "stream",
     "text": [
      "DeprecationWarning: 'histplot' will be deprecated in a future version of PlantCV. This function creates a histogram by default. Current PlantCV version: 3.14.1 released on 2022-07-07T11:45:30-0500\n"
     ]
    },
    {
     "name": "stdout",
     "output_type": "stream",
     "text": [
      "Count is 718\n"
     ]
    },
    {
     "name": "stderr",
     "output_type": "stream",
     "text": [
      "DeprecationWarning: 'histplot' will be deprecated in a future version of PlantCV. This function creates a histogram by default. Current PlantCV version: 3.14.1 released on 2022-07-07T11:45:30-0500\n"
     ]
    },
    {
     "name": "stdout",
     "output_type": "stream",
     "text": [
      "Count is 719\n"
     ]
    },
    {
     "name": "stderr",
     "output_type": "stream",
     "text": [
      "DeprecationWarning: 'histplot' will be deprecated in a future version of PlantCV. This function creates a histogram by default. Current PlantCV version: 3.14.1 released on 2022-07-07T11:45:30-0500\n"
     ]
    },
    {
     "name": "stdout",
     "output_type": "stream",
     "text": [
      "Count is 720\n"
     ]
    },
    {
     "name": "stderr",
     "output_type": "stream",
     "text": [
      "DeprecationWarning: 'histplot' will be deprecated in a future version of PlantCV. This function creates a histogram by default. Current PlantCV version: 3.14.1 released on 2022-07-07T11:45:30-0500\n"
     ]
    },
    {
     "name": "stdout",
     "output_type": "stream",
     "text": [
      "Count is 721\n"
     ]
    },
    {
     "name": "stderr",
     "output_type": "stream",
     "text": [
      "DeprecationWarning: 'histplot' will be deprecated in a future version of PlantCV. This function creates a histogram by default. Current PlantCV version: 3.14.1 released on 2022-07-07T11:45:30-0500\n"
     ]
    },
    {
     "name": "stdout",
     "output_type": "stream",
     "text": [
      "Count is 722\n"
     ]
    },
    {
     "name": "stderr",
     "output_type": "stream",
     "text": [
      "DeprecationWarning: 'histplot' will be deprecated in a future version of PlantCV. This function creates a histogram by default. Current PlantCV version: 3.14.1 released on 2022-07-07T11:45:30-0500\n"
     ]
    },
    {
     "name": "stdout",
     "output_type": "stream",
     "text": [
      "Count is 723\n"
     ]
    },
    {
     "name": "stderr",
     "output_type": "stream",
     "text": [
      "DeprecationWarning: 'histplot' will be deprecated in a future version of PlantCV. This function creates a histogram by default. Current PlantCV version: 3.14.1 released on 2022-07-07T11:45:30-0500\n"
     ]
    },
    {
     "name": "stdout",
     "output_type": "stream",
     "text": [
      "Count is 724\n"
     ]
    },
    {
     "name": "stderr",
     "output_type": "stream",
     "text": [
      "DeprecationWarning: 'histplot' will be deprecated in a future version of PlantCV. This function creates a histogram by default. Current PlantCV version: 3.14.1 released on 2022-07-07T11:45:30-0500\n"
     ]
    },
    {
     "name": "stdout",
     "output_type": "stream",
     "text": [
      "Count is 725\n"
     ]
    },
    {
     "name": "stderr",
     "output_type": "stream",
     "text": [
      "DeprecationWarning: 'histplot' will be deprecated in a future version of PlantCV. This function creates a histogram by default. Current PlantCV version: 3.14.1 released on 2022-07-07T11:45:30-0500\n"
     ]
    },
    {
     "name": "stdout",
     "output_type": "stream",
     "text": [
      "Count is 726\n"
     ]
    },
    {
     "name": "stderr",
     "output_type": "stream",
     "text": [
      "DeprecationWarning: 'histplot' will be deprecated in a future version of PlantCV. This function creates a histogram by default. Current PlantCV version: 3.14.1 released on 2022-07-07T11:45:30-0500\n"
     ]
    },
    {
     "name": "stdout",
     "output_type": "stream",
     "text": [
      "Count is 727\n"
     ]
    },
    {
     "name": "stderr",
     "output_type": "stream",
     "text": [
      "DeprecationWarning: 'histplot' will be deprecated in a future version of PlantCV. This function creates a histogram by default. Current PlantCV version: 3.14.1 released on 2022-07-07T11:45:30-0500\n"
     ]
    },
    {
     "name": "stdout",
     "output_type": "stream",
     "text": [
      "Count is 728\n"
     ]
    },
    {
     "name": "stderr",
     "output_type": "stream",
     "text": [
      "DeprecationWarning: 'histplot' will be deprecated in a future version of PlantCV. This function creates a histogram by default. Current PlantCV version: 3.14.1 released on 2022-07-07T11:45:30-0500\n"
     ]
    },
    {
     "name": "stdout",
     "output_type": "stream",
     "text": [
      "Count is 729\n"
     ]
    },
    {
     "name": "stderr",
     "output_type": "stream",
     "text": [
      "DeprecationWarning: 'histplot' will be deprecated in a future version of PlantCV. This function creates a histogram by default. Current PlantCV version: 3.14.1 released on 2022-07-07T11:45:30-0500\n"
     ]
    },
    {
     "name": "stdout",
     "output_type": "stream",
     "text": [
      "Count is 730\n"
     ]
    },
    {
     "name": "stderr",
     "output_type": "stream",
     "text": [
      "DeprecationWarning: 'histplot' will be deprecated in a future version of PlantCV. This function creates a histogram by default. Current PlantCV version: 3.14.1 released on 2022-07-07T11:45:30-0500\n"
     ]
    },
    {
     "name": "stdout",
     "output_type": "stream",
     "text": [
      "Count is 731\n"
     ]
    },
    {
     "name": "stderr",
     "output_type": "stream",
     "text": [
      "DeprecationWarning: 'histplot' will be deprecated in a future version of PlantCV. This function creates a histogram by default. Current PlantCV version: 3.14.1 released on 2022-07-07T11:45:30-0500\n"
     ]
    },
    {
     "name": "stdout",
     "output_type": "stream",
     "text": [
      "Count is 732\n"
     ]
    },
    {
     "name": "stderr",
     "output_type": "stream",
     "text": [
      "DeprecationWarning: 'histplot' will be deprecated in a future version of PlantCV. This function creates a histogram by default. Current PlantCV version: 3.14.1 released on 2022-07-07T11:45:30-0500\n"
     ]
    },
    {
     "name": "stdout",
     "output_type": "stream",
     "text": [
      "Count is 733\n"
     ]
    },
    {
     "name": "stderr",
     "output_type": "stream",
     "text": [
      "DeprecationWarning: 'histplot' will be deprecated in a future version of PlantCV. This function creates a histogram by default. Current PlantCV version: 3.14.1 released on 2022-07-07T11:45:30-0500\n"
     ]
    },
    {
     "name": "stdout",
     "output_type": "stream",
     "text": [
      "Count is 734\n"
     ]
    },
    {
     "name": "stderr",
     "output_type": "stream",
     "text": [
      "DeprecationWarning: 'histplot' will be deprecated in a future version of PlantCV. This function creates a histogram by default. Current PlantCV version: 3.14.1 released on 2022-07-07T11:45:30-0500\n"
     ]
    },
    {
     "name": "stdout",
     "output_type": "stream",
     "text": [
      "Count is 735\n"
     ]
    },
    {
     "name": "stderr",
     "output_type": "stream",
     "text": [
      "DeprecationWarning: 'histplot' will be deprecated in a future version of PlantCV. This function creates a histogram by default. Current PlantCV version: 3.14.1 released on 2022-07-07T11:45:30-0500\n"
     ]
    },
    {
     "name": "stdout",
     "output_type": "stream",
     "text": [
      "Count is 736\n"
     ]
    },
    {
     "name": "stderr",
     "output_type": "stream",
     "text": [
      "DeprecationWarning: 'histplot' will be deprecated in a future version of PlantCV. This function creates a histogram by default. Current PlantCV version: 3.14.1 released on 2022-07-07T11:45:30-0500\n"
     ]
    },
    {
     "name": "stdout",
     "output_type": "stream",
     "text": [
      "Count is 737\n"
     ]
    },
    {
     "name": "stderr",
     "output_type": "stream",
     "text": [
      "DeprecationWarning: 'histplot' will be deprecated in a future version of PlantCV. This function creates a histogram by default. Current PlantCV version: 3.14.1 released on 2022-07-07T11:45:30-0500\n"
     ]
    },
    {
     "name": "stdout",
     "output_type": "stream",
     "text": [
      "Count is 738\n"
     ]
    },
    {
     "name": "stderr",
     "output_type": "stream",
     "text": [
      "DeprecationWarning: 'histplot' will be deprecated in a future version of PlantCV. This function creates a histogram by default. Current PlantCV version: 3.14.1 released on 2022-07-07T11:45:30-0500\n"
     ]
    },
    {
     "name": "stdout",
     "output_type": "stream",
     "text": [
      "Count is 739\n"
     ]
    },
    {
     "name": "stderr",
     "output_type": "stream",
     "text": [
      "DeprecationWarning: 'histplot' will be deprecated in a future version of PlantCV. This function creates a histogram by default. Current PlantCV version: 3.14.1 released on 2022-07-07T11:45:30-0500\n"
     ]
    },
    {
     "name": "stdout",
     "output_type": "stream",
     "text": [
      "Count is 740\n"
     ]
    },
    {
     "name": "stderr",
     "output_type": "stream",
     "text": [
      "DeprecationWarning: 'histplot' will be deprecated in a future version of PlantCV. This function creates a histogram by default. Current PlantCV version: 3.14.1 released on 2022-07-07T11:45:30-0500\n"
     ]
    },
    {
     "name": "stdout",
     "output_type": "stream",
     "text": [
      "Count is 741\n"
     ]
    },
    {
     "name": "stderr",
     "output_type": "stream",
     "text": [
      "DeprecationWarning: 'histplot' will be deprecated in a future version of PlantCV. This function creates a histogram by default. Current PlantCV version: 3.14.1 released on 2022-07-07T11:45:30-0500\n"
     ]
    },
    {
     "name": "stdout",
     "output_type": "stream",
     "text": [
      "Count is 742\n"
     ]
    },
    {
     "name": "stderr",
     "output_type": "stream",
     "text": [
      "DeprecationWarning: 'histplot' will be deprecated in a future version of PlantCV. This function creates a histogram by default. Current PlantCV version: 3.14.1 released on 2022-07-07T11:45:30-0500\n"
     ]
    },
    {
     "name": "stdout",
     "output_type": "stream",
     "text": [
      "Count is 743\n"
     ]
    },
    {
     "name": "stderr",
     "output_type": "stream",
     "text": [
      "DeprecationWarning: 'histplot' will be deprecated in a future version of PlantCV. This function creates a histogram by default. Current PlantCV version: 3.14.1 released on 2022-07-07T11:45:30-0500\n"
     ]
    },
    {
     "name": "stdout",
     "output_type": "stream",
     "text": [
      "Count is 744\n"
     ]
    },
    {
     "name": "stderr",
     "output_type": "stream",
     "text": [
      "DeprecationWarning: 'histplot' will be deprecated in a future version of PlantCV. This function creates a histogram by default. Current PlantCV version: 3.14.1 released on 2022-07-07T11:45:30-0500\n"
     ]
    },
    {
     "name": "stdout",
     "output_type": "stream",
     "text": [
      "Count is 745\n"
     ]
    },
    {
     "name": "stderr",
     "output_type": "stream",
     "text": [
      "DeprecationWarning: 'histplot' will be deprecated in a future version of PlantCV. This function creates a histogram by default. Current PlantCV version: 3.14.1 released on 2022-07-07T11:45:30-0500\n"
     ]
    },
    {
     "name": "stdout",
     "output_type": "stream",
     "text": [
      "Count is 746\n"
     ]
    },
    {
     "name": "stderr",
     "output_type": "stream",
     "text": [
      "DeprecationWarning: 'histplot' will be deprecated in a future version of PlantCV. This function creates a histogram by default. Current PlantCV version: 3.14.1 released on 2022-07-07T11:45:30-0500\n"
     ]
    },
    {
     "name": "stdout",
     "output_type": "stream",
     "text": [
      "Count is 747\n"
     ]
    },
    {
     "name": "stderr",
     "output_type": "stream",
     "text": [
      "DeprecationWarning: 'histplot' will be deprecated in a future version of PlantCV. This function creates a histogram by default. Current PlantCV version: 3.14.1 released on 2022-07-07T11:45:30-0500\n"
     ]
    },
    {
     "name": "stdout",
     "output_type": "stream",
     "text": [
      "Count is 748\n"
     ]
    },
    {
     "name": "stderr",
     "output_type": "stream",
     "text": [
      "DeprecationWarning: 'histplot' will be deprecated in a future version of PlantCV. This function creates a histogram by default. Current PlantCV version: 3.14.1 released on 2022-07-07T11:45:30-0500\n"
     ]
    },
    {
     "name": "stdout",
     "output_type": "stream",
     "text": [
      "Count is 749\n"
     ]
    },
    {
     "name": "stderr",
     "output_type": "stream",
     "text": [
      "DeprecationWarning: 'histplot' will be deprecated in a future version of PlantCV. This function creates a histogram by default. Current PlantCV version: 3.14.1 released on 2022-07-07T11:45:30-0500\n"
     ]
    },
    {
     "name": "stdout",
     "output_type": "stream",
     "text": [
      "Count is 750\n"
     ]
    },
    {
     "name": "stderr",
     "output_type": "stream",
     "text": [
      "DeprecationWarning: 'histplot' will be deprecated in a future version of PlantCV. This function creates a histogram by default. Current PlantCV version: 3.14.1 released on 2022-07-07T11:45:30-0500\n"
     ]
    },
    {
     "name": "stdout",
     "output_type": "stream",
     "text": [
      "Count is 751\n"
     ]
    },
    {
     "name": "stderr",
     "output_type": "stream",
     "text": [
      "DeprecationWarning: 'histplot' will be deprecated in a future version of PlantCV. This function creates a histogram by default. Current PlantCV version: 3.14.1 released on 2022-07-07T11:45:30-0500\n"
     ]
    },
    {
     "name": "stdout",
     "output_type": "stream",
     "text": [
      "Count is 752\n"
     ]
    },
    {
     "name": "stderr",
     "output_type": "stream",
     "text": [
      "DeprecationWarning: 'histplot' will be deprecated in a future version of PlantCV. This function creates a histogram by default. Current PlantCV version: 3.14.1 released on 2022-07-07T11:45:30-0500\n"
     ]
    },
    {
     "name": "stdout",
     "output_type": "stream",
     "text": [
      "Count is 753\n"
     ]
    },
    {
     "name": "stderr",
     "output_type": "stream",
     "text": [
      "DeprecationWarning: 'histplot' will be deprecated in a future version of PlantCV. This function creates a histogram by default. Current PlantCV version: 3.14.1 released on 2022-07-07T11:45:30-0500\n"
     ]
    },
    {
     "name": "stdout",
     "output_type": "stream",
     "text": [
      "Count is 754\n"
     ]
    },
    {
     "name": "stderr",
     "output_type": "stream",
     "text": [
      "DeprecationWarning: 'histplot' will be deprecated in a future version of PlantCV. This function creates a histogram by default. Current PlantCV version: 3.14.1 released on 2022-07-07T11:45:30-0500\n"
     ]
    },
    {
     "name": "stdout",
     "output_type": "stream",
     "text": [
      "Count is 755\n"
     ]
    },
    {
     "name": "stderr",
     "output_type": "stream",
     "text": [
      "DeprecationWarning: 'histplot' will be deprecated in a future version of PlantCV. This function creates a histogram by default. Current PlantCV version: 3.14.1 released on 2022-07-07T11:45:30-0500\n"
     ]
    },
    {
     "name": "stdout",
     "output_type": "stream",
     "text": [
      "Count is 756\n"
     ]
    },
    {
     "name": "stderr",
     "output_type": "stream",
     "text": [
      "DeprecationWarning: 'histplot' will be deprecated in a future version of PlantCV. This function creates a histogram by default. Current PlantCV version: 3.14.1 released on 2022-07-07T11:45:30-0500\n"
     ]
    },
    {
     "name": "stdout",
     "output_type": "stream",
     "text": [
      "Count is 757\n"
     ]
    },
    {
     "name": "stderr",
     "output_type": "stream",
     "text": [
      "DeprecationWarning: 'histplot' will be deprecated in a future version of PlantCV. This function creates a histogram by default. Current PlantCV version: 3.14.1 released on 2022-07-07T11:45:30-0500\n"
     ]
    },
    {
     "name": "stdout",
     "output_type": "stream",
     "text": [
      "Count is 758\n"
     ]
    },
    {
     "name": "stderr",
     "output_type": "stream",
     "text": [
      "DeprecationWarning: 'histplot' will be deprecated in a future version of PlantCV. This function creates a histogram by default. Current PlantCV version: 3.14.1 released on 2022-07-07T11:45:30-0500\n"
     ]
    },
    {
     "name": "stdout",
     "output_type": "stream",
     "text": [
      "Count is 759\n"
     ]
    },
    {
     "name": "stderr",
     "output_type": "stream",
     "text": [
      "DeprecationWarning: 'histplot' will be deprecated in a future version of PlantCV. This function creates a histogram by default. Current PlantCV version: 3.14.1 released on 2022-07-07T11:45:30-0500\n"
     ]
    },
    {
     "name": "stdout",
     "output_type": "stream",
     "text": [
      "Count is 760\n"
     ]
    },
    {
     "name": "stderr",
     "output_type": "stream",
     "text": [
      "DeprecationWarning: 'histplot' will be deprecated in a future version of PlantCV. This function creates a histogram by default. Current PlantCV version: 3.14.1 released on 2022-07-07T11:45:30-0500\n"
     ]
    },
    {
     "name": "stdout",
     "output_type": "stream",
     "text": [
      "Count is 761\n"
     ]
    },
    {
     "name": "stderr",
     "output_type": "stream",
     "text": [
      "DeprecationWarning: 'histplot' will be deprecated in a future version of PlantCV. This function creates a histogram by default. Current PlantCV version: 3.14.1 released on 2022-07-07T11:45:30-0500\n"
     ]
    },
    {
     "name": "stdout",
     "output_type": "stream",
     "text": [
      "Count is 762\n"
     ]
    },
    {
     "name": "stderr",
     "output_type": "stream",
     "text": [
      "DeprecationWarning: 'histplot' will be deprecated in a future version of PlantCV. This function creates a histogram by default. Current PlantCV version: 3.14.1 released on 2022-07-07T11:45:30-0500\n"
     ]
    },
    {
     "name": "stdout",
     "output_type": "stream",
     "text": [
      "Count is 763\n"
     ]
    },
    {
     "name": "stderr",
     "output_type": "stream",
     "text": [
      "DeprecationWarning: 'histplot' will be deprecated in a future version of PlantCV. This function creates a histogram by default. Current PlantCV version: 3.14.1 released on 2022-07-07T11:45:30-0500\n"
     ]
    },
    {
     "name": "stdout",
     "output_type": "stream",
     "text": [
      "Count is 764\n"
     ]
    },
    {
     "name": "stderr",
     "output_type": "stream",
     "text": [
      "DeprecationWarning: 'histplot' will be deprecated in a future version of PlantCV. This function creates a histogram by default. Current PlantCV version: 3.14.1 released on 2022-07-07T11:45:30-0500\n"
     ]
    },
    {
     "name": "stdout",
     "output_type": "stream",
     "text": [
      "Count is 765\n"
     ]
    },
    {
     "name": "stderr",
     "output_type": "stream",
     "text": [
      "DeprecationWarning: 'histplot' will be deprecated in a future version of PlantCV. This function creates a histogram by default. Current PlantCV version: 3.14.1 released on 2022-07-07T11:45:30-0500\n"
     ]
    },
    {
     "name": "stdout",
     "output_type": "stream",
     "text": [
      "Count is 766\n"
     ]
    },
    {
     "name": "stderr",
     "output_type": "stream",
     "text": [
      "DeprecationWarning: 'histplot' will be deprecated in a future version of PlantCV. This function creates a histogram by default. Current PlantCV version: 3.14.1 released on 2022-07-07T11:45:30-0500\n"
     ]
    },
    {
     "name": "stdout",
     "output_type": "stream",
     "text": [
      "Count is 767\n"
     ]
    },
    {
     "name": "stderr",
     "output_type": "stream",
     "text": [
      "DeprecationWarning: 'histplot' will be deprecated in a future version of PlantCV. This function creates a histogram by default. Current PlantCV version: 3.14.1 released on 2022-07-07T11:45:30-0500\n"
     ]
    },
    {
     "name": "stdout",
     "output_type": "stream",
     "text": [
      "Count is 768\n"
     ]
    },
    {
     "name": "stderr",
     "output_type": "stream",
     "text": [
      "DeprecationWarning: 'histplot' will be deprecated in a future version of PlantCV. This function creates a histogram by default. Current PlantCV version: 3.14.1 released on 2022-07-07T11:45:30-0500\n"
     ]
    },
    {
     "name": "stdout",
     "output_type": "stream",
     "text": [
      "Count is 769\n"
     ]
    },
    {
     "name": "stderr",
     "output_type": "stream",
     "text": [
      "DeprecationWarning: 'histplot' will be deprecated in a future version of PlantCV. This function creates a histogram by default. Current PlantCV version: 3.14.1 released on 2022-07-07T11:45:30-0500\n"
     ]
    },
    {
     "name": "stdout",
     "output_type": "stream",
     "text": [
      "Count is 770\n"
     ]
    },
    {
     "name": "stderr",
     "output_type": "stream",
     "text": [
      "DeprecationWarning: 'histplot' will be deprecated in a future version of PlantCV. This function creates a histogram by default. Current PlantCV version: 3.14.1 released on 2022-07-07T11:45:30-0500\n"
     ]
    },
    {
     "name": "stdout",
     "output_type": "stream",
     "text": [
      "Count is 771\n"
     ]
    },
    {
     "name": "stderr",
     "output_type": "stream",
     "text": [
      "DeprecationWarning: 'histplot' will be deprecated in a future version of PlantCV. This function creates a histogram by default. Current PlantCV version: 3.14.1 released on 2022-07-07T11:45:30-0500\n"
     ]
    },
    {
     "name": "stdout",
     "output_type": "stream",
     "text": [
      "Count is 772\n"
     ]
    },
    {
     "name": "stderr",
     "output_type": "stream",
     "text": [
      "DeprecationWarning: 'histplot' will be deprecated in a future version of PlantCV. This function creates a histogram by default. Current PlantCV version: 3.14.1 released on 2022-07-07T11:45:30-0500\n"
     ]
    },
    {
     "name": "stdout",
     "output_type": "stream",
     "text": [
      "Count is 773\n"
     ]
    },
    {
     "name": "stderr",
     "output_type": "stream",
     "text": [
      "DeprecationWarning: 'histplot' will be deprecated in a future version of PlantCV. This function creates a histogram by default. Current PlantCV version: 3.14.1 released on 2022-07-07T11:45:30-0500\n"
     ]
    },
    {
     "name": "stdout",
     "output_type": "stream",
     "text": [
      "Count is 774\n"
     ]
    },
    {
     "name": "stderr",
     "output_type": "stream",
     "text": [
      "DeprecationWarning: 'histplot' will be deprecated in a future version of PlantCV. This function creates a histogram by default. Current PlantCV version: 3.14.1 released on 2022-07-07T11:45:30-0500\n"
     ]
    },
    {
     "name": "stdout",
     "output_type": "stream",
     "text": [
      "Count is 775\n"
     ]
    },
    {
     "name": "stderr",
     "output_type": "stream",
     "text": [
      "DeprecationWarning: 'histplot' will be deprecated in a future version of PlantCV. This function creates a histogram by default. Current PlantCV version: 3.14.1 released on 2022-07-07T11:45:30-0500\n"
     ]
    },
    {
     "name": "stdout",
     "output_type": "stream",
     "text": [
      "Count is 776\n"
     ]
    },
    {
     "name": "stderr",
     "output_type": "stream",
     "text": [
      "DeprecationWarning: 'histplot' will be deprecated in a future version of PlantCV. This function creates a histogram by default. Current PlantCV version: 3.14.1 released on 2022-07-07T11:45:30-0500\n"
     ]
    },
    {
     "name": "stdout",
     "output_type": "stream",
     "text": [
      "Count is 777\n"
     ]
    },
    {
     "name": "stderr",
     "output_type": "stream",
     "text": [
      "DeprecationWarning: 'histplot' will be deprecated in a future version of PlantCV. This function creates a histogram by default. Current PlantCV version: 3.14.1 released on 2022-07-07T11:45:30-0500\n"
     ]
    },
    {
     "name": "stdout",
     "output_type": "stream",
     "text": [
      "Count is 778\n"
     ]
    },
    {
     "name": "stderr",
     "output_type": "stream",
     "text": [
      "DeprecationWarning: 'histplot' will be deprecated in a future version of PlantCV. This function creates a histogram by default. Current PlantCV version: 3.14.1 released on 2022-07-07T11:45:30-0500\n"
     ]
    },
    {
     "name": "stdout",
     "output_type": "stream",
     "text": [
      "Count is 779\n"
     ]
    },
    {
     "name": "stderr",
     "output_type": "stream",
     "text": [
      "DeprecationWarning: 'histplot' will be deprecated in a future version of PlantCV. This function creates a histogram by default. Current PlantCV version: 3.14.1 released on 2022-07-07T11:45:30-0500\n"
     ]
    },
    {
     "name": "stdout",
     "output_type": "stream",
     "text": [
      "Count is 780\n"
     ]
    },
    {
     "name": "stderr",
     "output_type": "stream",
     "text": [
      "DeprecationWarning: 'histplot' will be deprecated in a future version of PlantCV. This function creates a histogram by default. Current PlantCV version: 3.14.1 released on 2022-07-07T11:45:30-0500\n"
     ]
    },
    {
     "name": "stdout",
     "output_type": "stream",
     "text": [
      "Count is 781\n"
     ]
    },
    {
     "name": "stderr",
     "output_type": "stream",
     "text": [
      "DeprecationWarning: 'histplot' will be deprecated in a future version of PlantCV. This function creates a histogram by default. Current PlantCV version: 3.14.1 released on 2022-07-07T11:45:30-0500\n"
     ]
    },
    {
     "name": "stdout",
     "output_type": "stream",
     "text": [
      "Count is 782\n"
     ]
    },
    {
     "name": "stderr",
     "output_type": "stream",
     "text": [
      "DeprecationWarning: 'histplot' will be deprecated in a future version of PlantCV. This function creates a histogram by default. Current PlantCV version: 3.14.1 released on 2022-07-07T11:45:30-0500\n"
     ]
    },
    {
     "name": "stdout",
     "output_type": "stream",
     "text": [
      "Count is 783\n"
     ]
    },
    {
     "name": "stderr",
     "output_type": "stream",
     "text": [
      "DeprecationWarning: 'histplot' will be deprecated in a future version of PlantCV. This function creates a histogram by default. Current PlantCV version: 3.14.1 released on 2022-07-07T11:45:30-0500\n"
     ]
    },
    {
     "name": "stdout",
     "output_type": "stream",
     "text": [
      "Count is 784\n"
     ]
    },
    {
     "name": "stderr",
     "output_type": "stream",
     "text": [
      "DeprecationWarning: 'histplot' will be deprecated in a future version of PlantCV. This function creates a histogram by default. Current PlantCV version: 3.14.1 released on 2022-07-07T11:45:30-0500\n"
     ]
    },
    {
     "name": "stdout",
     "output_type": "stream",
     "text": [
      "Count is 785\n"
     ]
    },
    {
     "name": "stderr",
     "output_type": "stream",
     "text": [
      "DeprecationWarning: 'histplot' will be deprecated in a future version of PlantCV. This function creates a histogram by default. Current PlantCV version: 3.14.1 released on 2022-07-07T11:45:30-0500\n"
     ]
    },
    {
     "name": "stdout",
     "output_type": "stream",
     "text": [
      "Count is 786\n"
     ]
    },
    {
     "name": "stderr",
     "output_type": "stream",
     "text": [
      "DeprecationWarning: 'histplot' will be deprecated in a future version of PlantCV. This function creates a histogram by default. Current PlantCV version: 3.14.1 released on 2022-07-07T11:45:30-0500\n"
     ]
    },
    {
     "name": "stdout",
     "output_type": "stream",
     "text": [
      "Count is 787\n"
     ]
    },
    {
     "name": "stderr",
     "output_type": "stream",
     "text": [
      "DeprecationWarning: 'histplot' will be deprecated in a future version of PlantCV. This function creates a histogram by default. Current PlantCV version: 3.14.1 released on 2022-07-07T11:45:30-0500\n"
     ]
    },
    {
     "name": "stdout",
     "output_type": "stream",
     "text": [
      "Count is 788\n"
     ]
    },
    {
     "name": "stderr",
     "output_type": "stream",
     "text": [
      "DeprecationWarning: 'histplot' will be deprecated in a future version of PlantCV. This function creates a histogram by default. Current PlantCV version: 3.14.1 released on 2022-07-07T11:45:30-0500\n"
     ]
    },
    {
     "name": "stdout",
     "output_type": "stream",
     "text": [
      "Count is 789\n"
     ]
    },
    {
     "name": "stderr",
     "output_type": "stream",
     "text": [
      "DeprecationWarning: 'histplot' will be deprecated in a future version of PlantCV. This function creates a histogram by default. Current PlantCV version: 3.14.1 released on 2022-07-07T11:45:30-0500\n"
     ]
    },
    {
     "name": "stdout",
     "output_type": "stream",
     "text": [
      "Count is 790\n"
     ]
    },
    {
     "name": "stderr",
     "output_type": "stream",
     "text": [
      "DeprecationWarning: 'histplot' will be deprecated in a future version of PlantCV. This function creates a histogram by default. Current PlantCV version: 3.14.1 released on 2022-07-07T11:45:30-0500\n"
     ]
    },
    {
     "name": "stdout",
     "output_type": "stream",
     "text": [
      "Count is 791\n"
     ]
    },
    {
     "name": "stderr",
     "output_type": "stream",
     "text": [
      "DeprecationWarning: 'histplot' will be deprecated in a future version of PlantCV. This function creates a histogram by default. Current PlantCV version: 3.14.1 released on 2022-07-07T11:45:30-0500\n"
     ]
    },
    {
     "name": "stdout",
     "output_type": "stream",
     "text": [
      "Count is 792\n"
     ]
    },
    {
     "name": "stderr",
     "output_type": "stream",
     "text": [
      "DeprecationWarning: 'histplot' will be deprecated in a future version of PlantCV. This function creates a histogram by default. Current PlantCV version: 3.14.1 released on 2022-07-07T11:45:30-0500\n"
     ]
    },
    {
     "name": "stdout",
     "output_type": "stream",
     "text": [
      "Count is 793\n"
     ]
    },
    {
     "name": "stderr",
     "output_type": "stream",
     "text": [
      "DeprecationWarning: 'histplot' will be deprecated in a future version of PlantCV. This function creates a histogram by default. Current PlantCV version: 3.14.1 released on 2022-07-07T11:45:30-0500\n"
     ]
    },
    {
     "name": "stdout",
     "output_type": "stream",
     "text": [
      "Count is 794\n"
     ]
    },
    {
     "name": "stderr",
     "output_type": "stream",
     "text": [
      "DeprecationWarning: 'histplot' will be deprecated in a future version of PlantCV. This function creates a histogram by default. Current PlantCV version: 3.14.1 released on 2022-07-07T11:45:30-0500\n"
     ]
    },
    {
     "name": "stdout",
     "output_type": "stream",
     "text": [
      "Count is 795\n"
     ]
    },
    {
     "name": "stderr",
     "output_type": "stream",
     "text": [
      "DeprecationWarning: 'histplot' will be deprecated in a future version of PlantCV. This function creates a histogram by default. Current PlantCV version: 3.14.1 released on 2022-07-07T11:45:30-0500\n"
     ]
    },
    {
     "name": "stdout",
     "output_type": "stream",
     "text": [
      "Count is 796\n"
     ]
    },
    {
     "name": "stderr",
     "output_type": "stream",
     "text": [
      "DeprecationWarning: 'histplot' will be deprecated in a future version of PlantCV. This function creates a histogram by default. Current PlantCV version: 3.14.1 released on 2022-07-07T11:45:30-0500\n"
     ]
    },
    {
     "name": "stdout",
     "output_type": "stream",
     "text": [
      "Count is 797\n"
     ]
    },
    {
     "name": "stderr",
     "output_type": "stream",
     "text": [
      "DeprecationWarning: 'histplot' will be deprecated in a future version of PlantCV. This function creates a histogram by default. Current PlantCV version: 3.14.1 released on 2022-07-07T11:45:30-0500\n"
     ]
    },
    {
     "name": "stdout",
     "output_type": "stream",
     "text": [
      "Count is 798\n"
     ]
    },
    {
     "name": "stderr",
     "output_type": "stream",
     "text": [
      "DeprecationWarning: 'histplot' will be deprecated in a future version of PlantCV. This function creates a histogram by default. Current PlantCV version: 3.14.1 released on 2022-07-07T11:45:30-0500\n"
     ]
    },
    {
     "name": "stdout",
     "output_type": "stream",
     "text": [
      "Count is 799\n"
     ]
    },
    {
     "name": "stderr",
     "output_type": "stream",
     "text": [
      "DeprecationWarning: 'histplot' will be deprecated in a future version of PlantCV. This function creates a histogram by default. Current PlantCV version: 3.14.1 released on 2022-07-07T11:45:30-0500\n"
     ]
    },
    {
     "name": "stdout",
     "output_type": "stream",
     "text": [
      "Count is 800\n"
     ]
    },
    {
     "name": "stderr",
     "output_type": "stream",
     "text": [
      "DeprecationWarning: 'histplot' will be deprecated in a future version of PlantCV. This function creates a histogram by default. Current PlantCV version: 3.14.1 released on 2022-07-07T11:45:30-0500\n"
     ]
    },
    {
     "name": "stdout",
     "output_type": "stream",
     "text": [
      "Count is 801\n"
     ]
    },
    {
     "name": "stderr",
     "output_type": "stream",
     "text": [
      "DeprecationWarning: 'histplot' will be deprecated in a future version of PlantCV. This function creates a histogram by default. Current PlantCV version: 3.14.1 released on 2022-07-07T11:45:30-0500\n"
     ]
    },
    {
     "name": "stdout",
     "output_type": "stream",
     "text": [
      "Count is 802\n"
     ]
    },
    {
     "name": "stderr",
     "output_type": "stream",
     "text": [
      "DeprecationWarning: 'histplot' will be deprecated in a future version of PlantCV. This function creates a histogram by default. Current PlantCV version: 3.14.1 released on 2022-07-07T11:45:30-0500\n"
     ]
    },
    {
     "name": "stdout",
     "output_type": "stream",
     "text": [
      "Count is 803\n"
     ]
    },
    {
     "name": "stderr",
     "output_type": "stream",
     "text": [
      "DeprecationWarning: 'histplot' will be deprecated in a future version of PlantCV. This function creates a histogram by default. Current PlantCV version: 3.14.1 released on 2022-07-07T11:45:30-0500\n"
     ]
    },
    {
     "name": "stdout",
     "output_type": "stream",
     "text": [
      "Count is 804\n"
     ]
    },
    {
     "name": "stderr",
     "output_type": "stream",
     "text": [
      "DeprecationWarning: 'histplot' will be deprecated in a future version of PlantCV. This function creates a histogram by default. Current PlantCV version: 3.14.1 released on 2022-07-07T11:45:30-0500\n"
     ]
    },
    {
     "name": "stdout",
     "output_type": "stream",
     "text": [
      "Count is 805\n"
     ]
    },
    {
     "name": "stderr",
     "output_type": "stream",
     "text": [
      "DeprecationWarning: 'histplot' will be deprecated in a future version of PlantCV. This function creates a histogram by default. Current PlantCV version: 3.14.1 released on 2022-07-07T11:45:30-0500\n"
     ]
    },
    {
     "name": "stdout",
     "output_type": "stream",
     "text": [
      "Count is 806\n"
     ]
    },
    {
     "name": "stderr",
     "output_type": "stream",
     "text": [
      "DeprecationWarning: 'histplot' will be deprecated in a future version of PlantCV. This function creates a histogram by default. Current PlantCV version: 3.14.1 released on 2022-07-07T11:45:30-0500\n"
     ]
    },
    {
     "name": "stdout",
     "output_type": "stream",
     "text": [
      "Count is 807\n"
     ]
    },
    {
     "name": "stderr",
     "output_type": "stream",
     "text": [
      "DeprecationWarning: 'histplot' will be deprecated in a future version of PlantCV. This function creates a histogram by default. Current PlantCV version: 3.14.1 released on 2022-07-07T11:45:30-0500\n"
     ]
    },
    {
     "name": "stdout",
     "output_type": "stream",
     "text": [
      "Count is 808\n"
     ]
    },
    {
     "name": "stderr",
     "output_type": "stream",
     "text": [
      "DeprecationWarning: 'histplot' will be deprecated in a future version of PlantCV. This function creates a histogram by default. Current PlantCV version: 3.14.1 released on 2022-07-07T11:45:30-0500\n"
     ]
    },
    {
     "name": "stdout",
     "output_type": "stream",
     "text": [
      "Count is 809\n"
     ]
    },
    {
     "name": "stderr",
     "output_type": "stream",
     "text": [
      "DeprecationWarning: 'histplot' will be deprecated in a future version of PlantCV. This function creates a histogram by default. Current PlantCV version: 3.14.1 released on 2022-07-07T11:45:30-0500\n"
     ]
    },
    {
     "name": "stdout",
     "output_type": "stream",
     "text": [
      "Count is 810\n"
     ]
    },
    {
     "name": "stderr",
     "output_type": "stream",
     "text": [
      "DeprecationWarning: 'histplot' will be deprecated in a future version of PlantCV. This function creates a histogram by default. Current PlantCV version: 3.14.1 released on 2022-07-07T11:45:30-0500\n"
     ]
    },
    {
     "name": "stdout",
     "output_type": "stream",
     "text": [
      "Count is 811\n"
     ]
    },
    {
     "name": "stderr",
     "output_type": "stream",
     "text": [
      "DeprecationWarning: 'histplot' will be deprecated in a future version of PlantCV. This function creates a histogram by default. Current PlantCV version: 3.14.1 released on 2022-07-07T11:45:30-0500\n"
     ]
    },
    {
     "name": "stdout",
     "output_type": "stream",
     "text": [
      "Count is 812\n"
     ]
    },
    {
     "name": "stderr",
     "output_type": "stream",
     "text": [
      "DeprecationWarning: 'histplot' will be deprecated in a future version of PlantCV. This function creates a histogram by default. Current PlantCV version: 3.14.1 released on 2022-07-07T11:45:30-0500\n"
     ]
    },
    {
     "name": "stdout",
     "output_type": "stream",
     "text": [
      "Count is 813\n"
     ]
    },
    {
     "name": "stderr",
     "output_type": "stream",
     "text": [
      "DeprecationWarning: 'histplot' will be deprecated in a future version of PlantCV. This function creates a histogram by default. Current PlantCV version: 3.14.1 released on 2022-07-07T11:45:30-0500\n"
     ]
    },
    {
     "name": "stdout",
     "output_type": "stream",
     "text": [
      "Count is 814\n"
     ]
    },
    {
     "name": "stderr",
     "output_type": "stream",
     "text": [
      "DeprecationWarning: 'histplot' will be deprecated in a future version of PlantCV. This function creates a histogram by default. Current PlantCV version: 3.14.1 released on 2022-07-07T11:45:30-0500\n"
     ]
    },
    {
     "name": "stdout",
     "output_type": "stream",
     "text": [
      "Count is 815\n"
     ]
    },
    {
     "name": "stderr",
     "output_type": "stream",
     "text": [
      "DeprecationWarning: 'histplot' will be deprecated in a future version of PlantCV. This function creates a histogram by default. Current PlantCV version: 3.14.1 released on 2022-07-07T11:45:30-0500\n"
     ]
    },
    {
     "name": "stdout",
     "output_type": "stream",
     "text": [
      "Count is 816\n"
     ]
    },
    {
     "name": "stderr",
     "output_type": "stream",
     "text": [
      "DeprecationWarning: 'histplot' will be deprecated in a future version of PlantCV. This function creates a histogram by default. Current PlantCV version: 3.14.1 released on 2022-07-07T11:45:30-0500\n"
     ]
    },
    {
     "name": "stdout",
     "output_type": "stream",
     "text": [
      "Count is 817\n"
     ]
    },
    {
     "name": "stderr",
     "output_type": "stream",
     "text": [
      "DeprecationWarning: 'histplot' will be deprecated in a future version of PlantCV. This function creates a histogram by default. Current PlantCV version: 3.14.1 released on 2022-07-07T11:45:30-0500\n"
     ]
    },
    {
     "name": "stdout",
     "output_type": "stream",
     "text": [
      "Count is 818\n"
     ]
    },
    {
     "name": "stderr",
     "output_type": "stream",
     "text": [
      "DeprecationWarning: 'histplot' will be deprecated in a future version of PlantCV. This function creates a histogram by default. Current PlantCV version: 3.14.1 released on 2022-07-07T11:45:30-0500\n"
     ]
    },
    {
     "name": "stdout",
     "output_type": "stream",
     "text": [
      "Count is 819\n"
     ]
    },
    {
     "name": "stderr",
     "output_type": "stream",
     "text": [
      "DeprecationWarning: 'histplot' will be deprecated in a future version of PlantCV. This function creates a histogram by default. Current PlantCV version: 3.14.1 released on 2022-07-07T11:45:30-0500\n"
     ]
    },
    {
     "name": "stdout",
     "output_type": "stream",
     "text": [
      "Count is 820\n"
     ]
    },
    {
     "name": "stderr",
     "output_type": "stream",
     "text": [
      "DeprecationWarning: 'histplot' will be deprecated in a future version of PlantCV. This function creates a histogram by default. Current PlantCV version: 3.14.1 released on 2022-07-07T11:45:30-0500\n"
     ]
    },
    {
     "name": "stdout",
     "output_type": "stream",
     "text": [
      "Count is 821\n"
     ]
    },
    {
     "name": "stderr",
     "output_type": "stream",
     "text": [
      "DeprecationWarning: 'histplot' will be deprecated in a future version of PlantCV. This function creates a histogram by default. Current PlantCV version: 3.14.1 released on 2022-07-07T11:45:30-0500\n"
     ]
    },
    {
     "name": "stdout",
     "output_type": "stream",
     "text": [
      "Count is 822\n"
     ]
    },
    {
     "name": "stderr",
     "output_type": "stream",
     "text": [
      "DeprecationWarning: 'histplot' will be deprecated in a future version of PlantCV. This function creates a histogram by default. Current PlantCV version: 3.14.1 released on 2022-07-07T11:45:30-0500\n"
     ]
    },
    {
     "name": "stdout",
     "output_type": "stream",
     "text": [
      "Count is 823\n"
     ]
    },
    {
     "name": "stderr",
     "output_type": "stream",
     "text": [
      "DeprecationWarning: 'histplot' will be deprecated in a future version of PlantCV. This function creates a histogram by default. Current PlantCV version: 3.14.1 released on 2022-07-07T11:45:30-0500\n"
     ]
    },
    {
     "name": "stdout",
     "output_type": "stream",
     "text": [
      "Count is 824\n"
     ]
    },
    {
     "name": "stderr",
     "output_type": "stream",
     "text": [
      "DeprecationWarning: 'histplot' will be deprecated in a future version of PlantCV. This function creates a histogram by default. Current PlantCV version: 3.14.1 released on 2022-07-07T11:45:30-0500\n"
     ]
    },
    {
     "name": "stdout",
     "output_type": "stream",
     "text": [
      "Count is 825\n"
     ]
    },
    {
     "name": "stderr",
     "output_type": "stream",
     "text": [
      "DeprecationWarning: 'histplot' will be deprecated in a future version of PlantCV. This function creates a histogram by default. Current PlantCV version: 3.14.1 released on 2022-07-07T11:45:30-0500\n"
     ]
    },
    {
     "name": "stdout",
     "output_type": "stream",
     "text": [
      "Count is 826\n"
     ]
    },
    {
     "name": "stderr",
     "output_type": "stream",
     "text": [
      "DeprecationWarning: 'histplot' will be deprecated in a future version of PlantCV. This function creates a histogram by default. Current PlantCV version: 3.14.1 released on 2022-07-07T11:45:30-0500\n"
     ]
    },
    {
     "name": "stdout",
     "output_type": "stream",
     "text": [
      "Count is 827\n"
     ]
    },
    {
     "name": "stderr",
     "output_type": "stream",
     "text": [
      "DeprecationWarning: 'histplot' will be deprecated in a future version of PlantCV. This function creates a histogram by default. Current PlantCV version: 3.14.1 released on 2022-07-07T11:45:30-0500\n"
     ]
    },
    {
     "name": "stdout",
     "output_type": "stream",
     "text": [
      "Count is 828\n"
     ]
    },
    {
     "name": "stderr",
     "output_type": "stream",
     "text": [
      "DeprecationWarning: 'histplot' will be deprecated in a future version of PlantCV. This function creates a histogram by default. Current PlantCV version: 3.14.1 released on 2022-07-07T11:45:30-0500\n"
     ]
    },
    {
     "name": "stdout",
     "output_type": "stream",
     "text": [
      "Count is 829\n"
     ]
    },
    {
     "name": "stderr",
     "output_type": "stream",
     "text": [
      "DeprecationWarning: 'histplot' will be deprecated in a future version of PlantCV. This function creates a histogram by default. Current PlantCV version: 3.14.1 released on 2022-07-07T11:45:30-0500\n"
     ]
    },
    {
     "name": "stdout",
     "output_type": "stream",
     "text": [
      "Count is 830\n"
     ]
    },
    {
     "name": "stderr",
     "output_type": "stream",
     "text": [
      "DeprecationWarning: 'histplot' will be deprecated in a future version of PlantCV. This function creates a histogram by default. Current PlantCV version: 3.14.1 released on 2022-07-07T11:45:30-0500\n"
     ]
    },
    {
     "name": "stdout",
     "output_type": "stream",
     "text": [
      "Count is 831\n"
     ]
    },
    {
     "name": "stderr",
     "output_type": "stream",
     "text": [
      "DeprecationWarning: 'histplot' will be deprecated in a future version of PlantCV. This function creates a histogram by default. Current PlantCV version: 3.14.1 released on 2022-07-07T11:45:30-0500\n"
     ]
    },
    {
     "name": "stdout",
     "output_type": "stream",
     "text": [
      "Count is 832\n"
     ]
    },
    {
     "name": "stderr",
     "output_type": "stream",
     "text": [
      "DeprecationWarning: 'histplot' will be deprecated in a future version of PlantCV. This function creates a histogram by default. Current PlantCV version: 3.14.1 released on 2022-07-07T11:45:30-0500\n"
     ]
    },
    {
     "name": "stdout",
     "output_type": "stream",
     "text": [
      "Count is 833\n"
     ]
    },
    {
     "name": "stderr",
     "output_type": "stream",
     "text": [
      "DeprecationWarning: 'histplot' will be deprecated in a future version of PlantCV. This function creates a histogram by default. Current PlantCV version: 3.14.1 released on 2022-07-07T11:45:30-0500\n"
     ]
    },
    {
     "name": "stdout",
     "output_type": "stream",
     "text": [
      "Count is 834\n"
     ]
    },
    {
     "name": "stderr",
     "output_type": "stream",
     "text": [
      "DeprecationWarning: 'histplot' will be deprecated in a future version of PlantCV. This function creates a histogram by default. Current PlantCV version: 3.14.1 released on 2022-07-07T11:45:30-0500\n"
     ]
    },
    {
     "name": "stdout",
     "output_type": "stream",
     "text": [
      "Count is 835\n"
     ]
    },
    {
     "name": "stderr",
     "output_type": "stream",
     "text": [
      "DeprecationWarning: 'histplot' will be deprecated in a future version of PlantCV. This function creates a histogram by default. Current PlantCV version: 3.14.1 released on 2022-07-07T11:45:30-0500\n"
     ]
    },
    {
     "name": "stdout",
     "output_type": "stream",
     "text": [
      "Count is 836\n"
     ]
    },
    {
     "name": "stderr",
     "output_type": "stream",
     "text": [
      "DeprecationWarning: 'histplot' will be deprecated in a future version of PlantCV. This function creates a histogram by default. Current PlantCV version: 3.14.1 released on 2022-07-07T11:45:30-0500\n"
     ]
    },
    {
     "name": "stdout",
     "output_type": "stream",
     "text": [
      "Count is 837\n"
     ]
    },
    {
     "name": "stderr",
     "output_type": "stream",
     "text": [
      "DeprecationWarning: 'histplot' will be deprecated in a future version of PlantCV. This function creates a histogram by default. Current PlantCV version: 3.14.1 released on 2022-07-07T11:45:30-0500\n"
     ]
    },
    {
     "name": "stdout",
     "output_type": "stream",
     "text": [
      "Count is 838\n"
     ]
    },
    {
     "name": "stderr",
     "output_type": "stream",
     "text": [
      "DeprecationWarning: 'histplot' will be deprecated in a future version of PlantCV. This function creates a histogram by default. Current PlantCV version: 3.14.1 released on 2022-07-07T11:45:30-0500\n"
     ]
    },
    {
     "name": "stdout",
     "output_type": "stream",
     "text": [
      "Count is 839\n"
     ]
    },
    {
     "name": "stderr",
     "output_type": "stream",
     "text": [
      "DeprecationWarning: 'histplot' will be deprecated in a future version of PlantCV. This function creates a histogram by default. Current PlantCV version: 3.14.1 released on 2022-07-07T11:45:30-0500\n"
     ]
    },
    {
     "name": "stdout",
     "output_type": "stream",
     "text": [
      "Count is 840\n"
     ]
    },
    {
     "name": "stderr",
     "output_type": "stream",
     "text": [
      "DeprecationWarning: 'histplot' will be deprecated in a future version of PlantCV. This function creates a histogram by default. Current PlantCV version: 3.14.1 released on 2022-07-07T11:45:30-0500\n"
     ]
    },
    {
     "name": "stdout",
     "output_type": "stream",
     "text": [
      "Count is 841\n"
     ]
    },
    {
     "name": "stderr",
     "output_type": "stream",
     "text": [
      "DeprecationWarning: 'histplot' will be deprecated in a future version of PlantCV. This function creates a histogram by default. Current PlantCV version: 3.14.1 released on 2022-07-07T11:45:30-0500\n"
     ]
    },
    {
     "name": "stdout",
     "output_type": "stream",
     "text": [
      "Count is 842\n"
     ]
    },
    {
     "name": "stderr",
     "output_type": "stream",
     "text": [
      "DeprecationWarning: 'histplot' will be deprecated in a future version of PlantCV. This function creates a histogram by default. Current PlantCV version: 3.14.1 released on 2022-07-07T11:45:30-0500\n"
     ]
    },
    {
     "name": "stdout",
     "output_type": "stream",
     "text": [
      "Count is 843\n"
     ]
    },
    {
     "name": "stderr",
     "output_type": "stream",
     "text": [
      "DeprecationWarning: 'histplot' will be deprecated in a future version of PlantCV. This function creates a histogram by default. Current PlantCV version: 3.14.1 released on 2022-07-07T11:45:30-0500\n"
     ]
    },
    {
     "name": "stdout",
     "output_type": "stream",
     "text": [
      "Count is 844\n"
     ]
    },
    {
     "name": "stderr",
     "output_type": "stream",
     "text": [
      "DeprecationWarning: 'histplot' will be deprecated in a future version of PlantCV. This function creates a histogram by default. Current PlantCV version: 3.14.1 released on 2022-07-07T11:45:30-0500\n"
     ]
    },
    {
     "name": "stdout",
     "output_type": "stream",
     "text": [
      "Count is 845\n"
     ]
    },
    {
     "name": "stderr",
     "output_type": "stream",
     "text": [
      "DeprecationWarning: 'histplot' will be deprecated in a future version of PlantCV. This function creates a histogram by default. Current PlantCV version: 3.14.1 released on 2022-07-07T11:45:30-0500\n"
     ]
    },
    {
     "name": "stdout",
     "output_type": "stream",
     "text": [
      "Count is 846\n"
     ]
    },
    {
     "name": "stderr",
     "output_type": "stream",
     "text": [
      "DeprecationWarning: 'histplot' will be deprecated in a future version of PlantCV. This function creates a histogram by default. Current PlantCV version: 3.14.1 released on 2022-07-07T11:45:30-0500\n"
     ]
    },
    {
     "name": "stdout",
     "output_type": "stream",
     "text": [
      "Count is 847\n"
     ]
    },
    {
     "name": "stderr",
     "output_type": "stream",
     "text": [
      "DeprecationWarning: 'histplot' will be deprecated in a future version of PlantCV. This function creates a histogram by default. Current PlantCV version: 3.14.1 released on 2022-07-07T11:45:30-0500\n"
     ]
    },
    {
     "name": "stdout",
     "output_type": "stream",
     "text": [
      "Count is 848\n"
     ]
    },
    {
     "name": "stderr",
     "output_type": "stream",
     "text": [
      "DeprecationWarning: 'histplot' will be deprecated in a future version of PlantCV. This function creates a histogram by default. Current PlantCV version: 3.14.1 released on 2022-07-07T11:45:30-0500\n"
     ]
    },
    {
     "name": "stdout",
     "output_type": "stream",
     "text": [
      "Count is 849\n"
     ]
    },
    {
     "name": "stderr",
     "output_type": "stream",
     "text": [
      "DeprecationWarning: 'histplot' will be deprecated in a future version of PlantCV. This function creates a histogram by default. Current PlantCV version: 3.14.1 released on 2022-07-07T11:45:30-0500\n"
     ]
    },
    {
     "name": "stdout",
     "output_type": "stream",
     "text": [
      "Count is 850\n"
     ]
    },
    {
     "name": "stderr",
     "output_type": "stream",
     "text": [
      "DeprecationWarning: 'histplot' will be deprecated in a future version of PlantCV. This function creates a histogram by default. Current PlantCV version: 3.14.1 released on 2022-07-07T11:45:30-0500\n"
     ]
    },
    {
     "name": "stdout",
     "output_type": "stream",
     "text": [
      "Count is 851\n"
     ]
    },
    {
     "name": "stderr",
     "output_type": "stream",
     "text": [
      "DeprecationWarning: 'histplot' will be deprecated in a future version of PlantCV. This function creates a histogram by default. Current PlantCV version: 3.14.1 released on 2022-07-07T11:45:30-0500\n"
     ]
    },
    {
     "name": "stdout",
     "output_type": "stream",
     "text": [
      "Count is 852\n"
     ]
    },
    {
     "name": "stderr",
     "output_type": "stream",
     "text": [
      "DeprecationWarning: 'histplot' will be deprecated in a future version of PlantCV. This function creates a histogram by default. Current PlantCV version: 3.14.1 released on 2022-07-07T11:45:30-0500\n"
     ]
    },
    {
     "name": "stdout",
     "output_type": "stream",
     "text": [
      "Count is 853\n"
     ]
    },
    {
     "name": "stderr",
     "output_type": "stream",
     "text": [
      "DeprecationWarning: 'histplot' will be deprecated in a future version of PlantCV. This function creates a histogram by default. Current PlantCV version: 3.14.1 released on 2022-07-07T11:45:30-0500\n"
     ]
    },
    {
     "name": "stdout",
     "output_type": "stream",
     "text": [
      "Count is 854\n"
     ]
    },
    {
     "name": "stderr",
     "output_type": "stream",
     "text": [
      "DeprecationWarning: 'histplot' will be deprecated in a future version of PlantCV. This function creates a histogram by default. Current PlantCV version: 3.14.1 released on 2022-07-07T11:45:30-0500\n"
     ]
    },
    {
     "name": "stdout",
     "output_type": "stream",
     "text": [
      "Count is 855\n"
     ]
    },
    {
     "name": "stderr",
     "output_type": "stream",
     "text": [
      "DeprecationWarning: 'histplot' will be deprecated in a future version of PlantCV. This function creates a histogram by default. Current PlantCV version: 3.14.1 released on 2022-07-07T11:45:30-0500\n"
     ]
    },
    {
     "name": "stdout",
     "output_type": "stream",
     "text": [
      "Count is 856\n"
     ]
    },
    {
     "name": "stderr",
     "output_type": "stream",
     "text": [
      "DeprecationWarning: 'histplot' will be deprecated in a future version of PlantCV. This function creates a histogram by default. Current PlantCV version: 3.14.1 released on 2022-07-07T11:45:30-0500\n"
     ]
    },
    {
     "name": "stdout",
     "output_type": "stream",
     "text": [
      "Count is 857\n"
     ]
    },
    {
     "name": "stderr",
     "output_type": "stream",
     "text": [
      "DeprecationWarning: 'histplot' will be deprecated in a future version of PlantCV. This function creates a histogram by default. Current PlantCV version: 3.14.1 released on 2022-07-07T11:45:30-0500\n"
     ]
    },
    {
     "name": "stdout",
     "output_type": "stream",
     "text": [
      "Count is 858\n"
     ]
    },
    {
     "name": "stderr",
     "output_type": "stream",
     "text": [
      "DeprecationWarning: 'histplot' will be deprecated in a future version of PlantCV. This function creates a histogram by default. Current PlantCV version: 3.14.1 released on 2022-07-07T11:45:30-0500\n"
     ]
    },
    {
     "name": "stdout",
     "output_type": "stream",
     "text": [
      "Count is 859\n"
     ]
    },
    {
     "name": "stderr",
     "output_type": "stream",
     "text": [
      "DeprecationWarning: 'histplot' will be deprecated in a future version of PlantCV. This function creates a histogram by default. Current PlantCV version: 3.14.1 released on 2022-07-07T11:45:30-0500\n"
     ]
    },
    {
     "name": "stdout",
     "output_type": "stream",
     "text": [
      "Count is 860\n"
     ]
    },
    {
     "name": "stderr",
     "output_type": "stream",
     "text": [
      "DeprecationWarning: 'histplot' will be deprecated in a future version of PlantCV. This function creates a histogram by default. Current PlantCV version: 3.14.1 released on 2022-07-07T11:45:30-0500\n"
     ]
    },
    {
     "name": "stdout",
     "output_type": "stream",
     "text": [
      "Count is 861\n"
     ]
    },
    {
     "name": "stderr",
     "output_type": "stream",
     "text": [
      "DeprecationWarning: 'histplot' will be deprecated in a future version of PlantCV. This function creates a histogram by default. Current PlantCV version: 3.14.1 released on 2022-07-07T11:45:30-0500\n"
     ]
    },
    {
     "name": "stdout",
     "output_type": "stream",
     "text": [
      "Count is 862\n"
     ]
    },
    {
     "name": "stderr",
     "output_type": "stream",
     "text": [
      "DeprecationWarning: 'histplot' will be deprecated in a future version of PlantCV. This function creates a histogram by default. Current PlantCV version: 3.14.1 released on 2022-07-07T11:45:30-0500\n"
     ]
    },
    {
     "name": "stdout",
     "output_type": "stream",
     "text": [
      "Count is 863\n"
     ]
    },
    {
     "name": "stderr",
     "output_type": "stream",
     "text": [
      "DeprecationWarning: 'histplot' will be deprecated in a future version of PlantCV. This function creates a histogram by default. Current PlantCV version: 3.14.1 released on 2022-07-07T11:45:30-0500\n"
     ]
    },
    {
     "name": "stdout",
     "output_type": "stream",
     "text": [
      "Count is 864\n"
     ]
    },
    {
     "name": "stderr",
     "output_type": "stream",
     "text": [
      "DeprecationWarning: 'histplot' will be deprecated in a future version of PlantCV. This function creates a histogram by default. Current PlantCV version: 3.14.1 released on 2022-07-07T11:45:30-0500\n"
     ]
    },
    {
     "name": "stdout",
     "output_type": "stream",
     "text": [
      "Count is 865\n"
     ]
    },
    {
     "name": "stderr",
     "output_type": "stream",
     "text": [
      "DeprecationWarning: 'histplot' will be deprecated in a future version of PlantCV. This function creates a histogram by default. Current PlantCV version: 3.14.1 released on 2022-07-07T11:45:30-0500\n"
     ]
    },
    {
     "name": "stdout",
     "output_type": "stream",
     "text": [
      "Count is 866\n"
     ]
    },
    {
     "name": "stderr",
     "output_type": "stream",
     "text": [
      "DeprecationWarning: 'histplot' will be deprecated in a future version of PlantCV. This function creates a histogram by default. Current PlantCV version: 3.14.1 released on 2022-07-07T11:45:30-0500\n"
     ]
    },
    {
     "name": "stdout",
     "output_type": "stream",
     "text": [
      "Count is 867\n"
     ]
    },
    {
     "name": "stderr",
     "output_type": "stream",
     "text": [
      "DeprecationWarning: 'histplot' will be deprecated in a future version of PlantCV. This function creates a histogram by default. Current PlantCV version: 3.14.1 released on 2022-07-07T11:45:30-0500\n"
     ]
    },
    {
     "name": "stdout",
     "output_type": "stream",
     "text": [
      "Count is 868\n"
     ]
    },
    {
     "name": "stderr",
     "output_type": "stream",
     "text": [
      "DeprecationWarning: 'histplot' will be deprecated in a future version of PlantCV. This function creates a histogram by default. Current PlantCV version: 3.14.1 released on 2022-07-07T11:45:30-0500\n"
     ]
    },
    {
     "name": "stdout",
     "output_type": "stream",
     "text": [
      "Count is 869\n"
     ]
    },
    {
     "name": "stderr",
     "output_type": "stream",
     "text": [
      "DeprecationWarning: 'histplot' will be deprecated in a future version of PlantCV. This function creates a histogram by default. Current PlantCV version: 3.14.1 released on 2022-07-07T11:45:30-0500\n"
     ]
    },
    {
     "name": "stdout",
     "output_type": "stream",
     "text": [
      "Count is 870\n"
     ]
    },
    {
     "name": "stderr",
     "output_type": "stream",
     "text": [
      "DeprecationWarning: 'histplot' will be deprecated in a future version of PlantCV. This function creates a histogram by default. Current PlantCV version: 3.14.1 released on 2022-07-07T11:45:30-0500\n"
     ]
    },
    {
     "name": "stdout",
     "output_type": "stream",
     "text": [
      "Count is 871\n"
     ]
    },
    {
     "name": "stderr",
     "output_type": "stream",
     "text": [
      "DeprecationWarning: 'histplot' will be deprecated in a future version of PlantCV. This function creates a histogram by default. Current PlantCV version: 3.14.1 released on 2022-07-07T11:45:30-0500\n"
     ]
    },
    {
     "name": "stdout",
     "output_type": "stream",
     "text": [
      "Count is 872\n"
     ]
    },
    {
     "name": "stderr",
     "output_type": "stream",
     "text": [
      "DeprecationWarning: 'histplot' will be deprecated in a future version of PlantCV. This function creates a histogram by default. Current PlantCV version: 3.14.1 released on 2022-07-07T11:45:30-0500\n"
     ]
    },
    {
     "name": "stdout",
     "output_type": "stream",
     "text": [
      "Count is 873\n"
     ]
    },
    {
     "name": "stderr",
     "output_type": "stream",
     "text": [
      "DeprecationWarning: 'histplot' will be deprecated in a future version of PlantCV. This function creates a histogram by default. Current PlantCV version: 3.14.1 released on 2022-07-07T11:45:30-0500\n"
     ]
    },
    {
     "name": "stdout",
     "output_type": "stream",
     "text": [
      "Count is 874\n"
     ]
    },
    {
     "name": "stderr",
     "output_type": "stream",
     "text": [
      "DeprecationWarning: 'histplot' will be deprecated in a future version of PlantCV. This function creates a histogram by default. Current PlantCV version: 3.14.1 released on 2022-07-07T11:45:30-0500\n"
     ]
    },
    {
     "name": "stdout",
     "output_type": "stream",
     "text": [
      "Count is 875\n"
     ]
    },
    {
     "name": "stderr",
     "output_type": "stream",
     "text": [
      "DeprecationWarning: 'histplot' will be deprecated in a future version of PlantCV. This function creates a histogram by default. Current PlantCV version: 3.14.1 released on 2022-07-07T11:45:30-0500\n"
     ]
    },
    {
     "name": "stdout",
     "output_type": "stream",
     "text": [
      "Count is 876\n"
     ]
    },
    {
     "name": "stderr",
     "output_type": "stream",
     "text": [
      "DeprecationWarning: 'histplot' will be deprecated in a future version of PlantCV. This function creates a histogram by default. Current PlantCV version: 3.14.1 released on 2022-07-07T11:45:30-0500\n"
     ]
    },
    {
     "name": "stdout",
     "output_type": "stream",
     "text": [
      "Count is 877\n"
     ]
    },
    {
     "name": "stderr",
     "output_type": "stream",
     "text": [
      "DeprecationWarning: 'histplot' will be deprecated in a future version of PlantCV. This function creates a histogram by default. Current PlantCV version: 3.14.1 released on 2022-07-07T11:45:30-0500\n"
     ]
    },
    {
     "name": "stdout",
     "output_type": "stream",
     "text": [
      "Count is 878\n"
     ]
    },
    {
     "name": "stderr",
     "output_type": "stream",
     "text": [
      "DeprecationWarning: 'histplot' will be deprecated in a future version of PlantCV. This function creates a histogram by default. Current PlantCV version: 3.14.1 released on 2022-07-07T11:45:30-0500\n"
     ]
    },
    {
     "name": "stdout",
     "output_type": "stream",
     "text": [
      "Count is 879\n"
     ]
    },
    {
     "name": "stderr",
     "output_type": "stream",
     "text": [
      "DeprecationWarning: 'histplot' will be deprecated in a future version of PlantCV. This function creates a histogram by default. Current PlantCV version: 3.14.1 released on 2022-07-07T11:45:30-0500\n"
     ]
    },
    {
     "name": "stdout",
     "output_type": "stream",
     "text": [
      "Count is 880\n"
     ]
    },
    {
     "name": "stderr",
     "output_type": "stream",
     "text": [
      "DeprecationWarning: 'histplot' will be deprecated in a future version of PlantCV. This function creates a histogram by default. Current PlantCV version: 3.14.1 released on 2022-07-07T11:45:30-0500\n"
     ]
    },
    {
     "name": "stdout",
     "output_type": "stream",
     "text": [
      "Count is 881\n"
     ]
    },
    {
     "name": "stderr",
     "output_type": "stream",
     "text": [
      "DeprecationWarning: 'histplot' will be deprecated in a future version of PlantCV. This function creates a histogram by default. Current PlantCV version: 3.14.1 released on 2022-07-07T11:45:30-0500\n"
     ]
    },
    {
     "name": "stdout",
     "output_type": "stream",
     "text": [
      "Count is 882\n"
     ]
    },
    {
     "name": "stderr",
     "output_type": "stream",
     "text": [
      "DeprecationWarning: 'histplot' will be deprecated in a future version of PlantCV. This function creates a histogram by default. Current PlantCV version: 3.14.1 released on 2022-07-07T11:45:30-0500\n"
     ]
    },
    {
     "name": "stdout",
     "output_type": "stream",
     "text": [
      "Count is 883\n"
     ]
    },
    {
     "name": "stderr",
     "output_type": "stream",
     "text": [
      "DeprecationWarning: 'histplot' will be deprecated in a future version of PlantCV. This function creates a histogram by default. Current PlantCV version: 3.14.1 released on 2022-07-07T11:45:30-0500\n"
     ]
    },
    {
     "name": "stdout",
     "output_type": "stream",
     "text": [
      "Count is 884\n"
     ]
    },
    {
     "name": "stderr",
     "output_type": "stream",
     "text": [
      "DeprecationWarning: 'histplot' will be deprecated in a future version of PlantCV. This function creates a histogram by default. Current PlantCV version: 3.14.1 released on 2022-07-07T11:45:30-0500\n"
     ]
    },
    {
     "name": "stdout",
     "output_type": "stream",
     "text": [
      "Count is 885\n"
     ]
    },
    {
     "name": "stderr",
     "output_type": "stream",
     "text": [
      "DeprecationWarning: 'histplot' will be deprecated in a future version of PlantCV. This function creates a histogram by default. Current PlantCV version: 3.14.1 released on 2022-07-07T11:45:30-0500\n"
     ]
    },
    {
     "name": "stdout",
     "output_type": "stream",
     "text": [
      "Count is 886\n"
     ]
    },
    {
     "name": "stderr",
     "output_type": "stream",
     "text": [
      "DeprecationWarning: 'histplot' will be deprecated in a future version of PlantCV. This function creates a histogram by default. Current PlantCV version: 3.14.1 released on 2022-07-07T11:45:30-0500\n"
     ]
    },
    {
     "name": "stdout",
     "output_type": "stream",
     "text": [
      "Count is 887\n"
     ]
    },
    {
     "name": "stderr",
     "output_type": "stream",
     "text": [
      "DeprecationWarning: 'histplot' will be deprecated in a future version of PlantCV. This function creates a histogram by default. Current PlantCV version: 3.14.1 released on 2022-07-07T11:45:30-0500\n"
     ]
    },
    {
     "name": "stdout",
     "output_type": "stream",
     "text": [
      "Count is 888\n"
     ]
    },
    {
     "name": "stderr",
     "output_type": "stream",
     "text": [
      "DeprecationWarning: 'histplot' will be deprecated in a future version of PlantCV. This function creates a histogram by default. Current PlantCV version: 3.14.1 released on 2022-07-07T11:45:30-0500\n"
     ]
    },
    {
     "name": "stdout",
     "output_type": "stream",
     "text": [
      "Count is 889\n"
     ]
    },
    {
     "name": "stderr",
     "output_type": "stream",
     "text": [
      "DeprecationWarning: 'histplot' will be deprecated in a future version of PlantCV. This function creates a histogram by default. Current PlantCV version: 3.14.1 released on 2022-07-07T11:45:30-0500\n"
     ]
    },
    {
     "name": "stdout",
     "output_type": "stream",
     "text": [
      "Count is 890\n"
     ]
    },
    {
     "name": "stderr",
     "output_type": "stream",
     "text": [
      "DeprecationWarning: 'histplot' will be deprecated in a future version of PlantCV. This function creates a histogram by default. Current PlantCV version: 3.14.1 released on 2022-07-07T11:45:30-0500\n"
     ]
    },
    {
     "name": "stdout",
     "output_type": "stream",
     "text": [
      "Count is 891\n"
     ]
    },
    {
     "name": "stderr",
     "output_type": "stream",
     "text": [
      "DeprecationWarning: 'histplot' will be deprecated in a future version of PlantCV. This function creates a histogram by default. Current PlantCV version: 3.14.1 released on 2022-07-07T11:45:30-0500\n"
     ]
    },
    {
     "name": "stdout",
     "output_type": "stream",
     "text": [
      "Count is 892\n"
     ]
    },
    {
     "name": "stderr",
     "output_type": "stream",
     "text": [
      "DeprecationWarning: 'histplot' will be deprecated in a future version of PlantCV. This function creates a histogram by default. Current PlantCV version: 3.14.1 released on 2022-07-07T11:45:30-0500\n"
     ]
    },
    {
     "name": "stdout",
     "output_type": "stream",
     "text": [
      "Count is 893\n"
     ]
    },
    {
     "name": "stderr",
     "output_type": "stream",
     "text": [
      "DeprecationWarning: 'histplot' will be deprecated in a future version of PlantCV. This function creates a histogram by default. Current PlantCV version: 3.14.1 released on 2022-07-07T11:45:30-0500\n"
     ]
    },
    {
     "name": "stdout",
     "output_type": "stream",
     "text": [
      "Count is 894\n"
     ]
    },
    {
     "name": "stderr",
     "output_type": "stream",
     "text": [
      "DeprecationWarning: 'histplot' will be deprecated in a future version of PlantCV. This function creates a histogram by default. Current PlantCV version: 3.14.1 released on 2022-07-07T11:45:30-0500\n"
     ]
    },
    {
     "name": "stdout",
     "output_type": "stream",
     "text": [
      "Count is 895\n"
     ]
    },
    {
     "name": "stderr",
     "output_type": "stream",
     "text": [
      "DeprecationWarning: 'histplot' will be deprecated in a future version of PlantCV. This function creates a histogram by default. Current PlantCV version: 3.14.1 released on 2022-07-07T11:45:30-0500\n"
     ]
    },
    {
     "name": "stdout",
     "output_type": "stream",
     "text": [
      "Count is 896\n"
     ]
    },
    {
     "name": "stderr",
     "output_type": "stream",
     "text": [
      "DeprecationWarning: 'histplot' will be deprecated in a future version of PlantCV. This function creates a histogram by default. Current PlantCV version: 3.14.1 released on 2022-07-07T11:45:30-0500\n"
     ]
    },
    {
     "name": "stdout",
     "output_type": "stream",
     "text": [
      "Count is 897\n"
     ]
    },
    {
     "name": "stderr",
     "output_type": "stream",
     "text": [
      "DeprecationWarning: 'histplot' will be deprecated in a future version of PlantCV. This function creates a histogram by default. Current PlantCV version: 3.14.1 released on 2022-07-07T11:45:30-0500\n"
     ]
    },
    {
     "name": "stdout",
     "output_type": "stream",
     "text": [
      "Count is 898\n"
     ]
    },
    {
     "name": "stderr",
     "output_type": "stream",
     "text": [
      "DeprecationWarning: 'histplot' will be deprecated in a future version of PlantCV. This function creates a histogram by default. Current PlantCV version: 3.14.1 released on 2022-07-07T11:45:30-0500\n"
     ]
    },
    {
     "name": "stdout",
     "output_type": "stream",
     "text": [
      "Count is 899\n"
     ]
    },
    {
     "name": "stderr",
     "output_type": "stream",
     "text": [
      "DeprecationWarning: 'histplot' will be deprecated in a future version of PlantCV. This function creates a histogram by default. Current PlantCV version: 3.14.1 released on 2022-07-07T11:45:30-0500\n"
     ]
    },
    {
     "name": "stdout",
     "output_type": "stream",
     "text": [
      "Count is 900\n"
     ]
    },
    {
     "name": "stderr",
     "output_type": "stream",
     "text": [
      "DeprecationWarning: 'histplot' will be deprecated in a future version of PlantCV. This function creates a histogram by default. Current PlantCV version: 3.14.1 released on 2022-07-07T11:45:30-0500\n"
     ]
    },
    {
     "name": "stdout",
     "output_type": "stream",
     "text": [
      "Count is 901\n"
     ]
    },
    {
     "name": "stderr",
     "output_type": "stream",
     "text": [
      "DeprecationWarning: 'histplot' will be deprecated in a future version of PlantCV. This function creates a histogram by default. Current PlantCV version: 3.14.1 released on 2022-07-07T11:45:30-0500\n"
     ]
    },
    {
     "name": "stdout",
     "output_type": "stream",
     "text": [
      "Count is 902\n"
     ]
    },
    {
     "name": "stderr",
     "output_type": "stream",
     "text": [
      "DeprecationWarning: 'histplot' will be deprecated in a future version of PlantCV. This function creates a histogram by default. Current PlantCV version: 3.14.1 released on 2022-07-07T11:45:30-0500\n"
     ]
    },
    {
     "name": "stdout",
     "output_type": "stream",
     "text": [
      "Count is 903\n"
     ]
    },
    {
     "name": "stderr",
     "output_type": "stream",
     "text": [
      "DeprecationWarning: 'histplot' will be deprecated in a future version of PlantCV. This function creates a histogram by default. Current PlantCV version: 3.14.1 released on 2022-07-07T11:45:30-0500\n"
     ]
    },
    {
     "name": "stdout",
     "output_type": "stream",
     "text": [
      "Count is 904\n"
     ]
    },
    {
     "name": "stderr",
     "output_type": "stream",
     "text": [
      "DeprecationWarning: 'histplot' will be deprecated in a future version of PlantCV. This function creates a histogram by default. Current PlantCV version: 3.14.1 released on 2022-07-07T11:45:30-0500\n"
     ]
    },
    {
     "name": "stdout",
     "output_type": "stream",
     "text": [
      "Count is 905\n"
     ]
    },
    {
     "name": "stderr",
     "output_type": "stream",
     "text": [
      "DeprecationWarning: 'histplot' will be deprecated in a future version of PlantCV. This function creates a histogram by default. Current PlantCV version: 3.14.1 released on 2022-07-07T11:45:30-0500\n"
     ]
    },
    {
     "name": "stdout",
     "output_type": "stream",
     "text": [
      "Count is 906\n"
     ]
    },
    {
     "name": "stderr",
     "output_type": "stream",
     "text": [
      "DeprecationWarning: 'histplot' will be deprecated in a future version of PlantCV. This function creates a histogram by default. Current PlantCV version: 3.14.1 released on 2022-07-07T11:45:30-0500\n"
     ]
    },
    {
     "name": "stdout",
     "output_type": "stream",
     "text": [
      "Count is 907\n"
     ]
    },
    {
     "name": "stderr",
     "output_type": "stream",
     "text": [
      "DeprecationWarning: 'histplot' will be deprecated in a future version of PlantCV. This function creates a histogram by default. Current PlantCV version: 3.14.1 released on 2022-07-07T11:45:30-0500\n"
     ]
    },
    {
     "name": "stdout",
     "output_type": "stream",
     "text": [
      "Count is 908\n"
     ]
    },
    {
     "name": "stderr",
     "output_type": "stream",
     "text": [
      "DeprecationWarning: 'histplot' will be deprecated in a future version of PlantCV. This function creates a histogram by default. Current PlantCV version: 3.14.1 released on 2022-07-07T11:45:30-0500\n"
     ]
    },
    {
     "name": "stdout",
     "output_type": "stream",
     "text": [
      "Count is 909\n"
     ]
    },
    {
     "name": "stderr",
     "output_type": "stream",
     "text": [
      "DeprecationWarning: 'histplot' will be deprecated in a future version of PlantCV. This function creates a histogram by default. Current PlantCV version: 3.14.1 released on 2022-07-07T11:45:30-0500\n"
     ]
    },
    {
     "name": "stdout",
     "output_type": "stream",
     "text": [
      "Count is 910\n"
     ]
    },
    {
     "name": "stderr",
     "output_type": "stream",
     "text": [
      "DeprecationWarning: 'histplot' will be deprecated in a future version of PlantCV. This function creates a histogram by default. Current PlantCV version: 3.14.1 released on 2022-07-07T11:45:30-0500\n"
     ]
    },
    {
     "name": "stdout",
     "output_type": "stream",
     "text": [
      "Count is 911\n"
     ]
    },
    {
     "name": "stderr",
     "output_type": "stream",
     "text": [
      "DeprecationWarning: 'histplot' will be deprecated in a future version of PlantCV. This function creates a histogram by default. Current PlantCV version: 3.14.1 released on 2022-07-07T11:45:30-0500\n"
     ]
    },
    {
     "name": "stdout",
     "output_type": "stream",
     "text": [
      "Count is 912\n"
     ]
    },
    {
     "name": "stderr",
     "output_type": "stream",
     "text": [
      "DeprecationWarning: 'histplot' will be deprecated in a future version of PlantCV. This function creates a histogram by default. Current PlantCV version: 3.14.1 released on 2022-07-07T11:45:30-0500\n"
     ]
    },
    {
     "name": "stdout",
     "output_type": "stream",
     "text": [
      "Count is 913\n"
     ]
    },
    {
     "name": "stderr",
     "output_type": "stream",
     "text": [
      "DeprecationWarning: 'histplot' will be deprecated in a future version of PlantCV. This function creates a histogram by default. Current PlantCV version: 3.14.1 released on 2022-07-07T11:45:30-0500\n"
     ]
    },
    {
     "name": "stdout",
     "output_type": "stream",
     "text": [
      "Count is 914\n"
     ]
    },
    {
     "name": "stderr",
     "output_type": "stream",
     "text": [
      "DeprecationWarning: 'histplot' will be deprecated in a future version of PlantCV. This function creates a histogram by default. Current PlantCV version: 3.14.1 released on 2022-07-07T11:45:30-0500\n"
     ]
    },
    {
     "name": "stdout",
     "output_type": "stream",
     "text": [
      "Count is 915\n"
     ]
    },
    {
     "name": "stderr",
     "output_type": "stream",
     "text": [
      "DeprecationWarning: 'histplot' will be deprecated in a future version of PlantCV. This function creates a histogram by default. Current PlantCV version: 3.14.1 released on 2022-07-07T11:45:30-0500\n"
     ]
    },
    {
     "name": "stdout",
     "output_type": "stream",
     "text": [
      "Count is 916\n"
     ]
    },
    {
     "name": "stderr",
     "output_type": "stream",
     "text": [
      "DeprecationWarning: 'histplot' will be deprecated in a future version of PlantCV. This function creates a histogram by default. Current PlantCV version: 3.14.1 released on 2022-07-07T11:45:30-0500\n"
     ]
    },
    {
     "name": "stdout",
     "output_type": "stream",
     "text": [
      "Count is 917\n"
     ]
    },
    {
     "name": "stderr",
     "output_type": "stream",
     "text": [
      "DeprecationWarning: 'histplot' will be deprecated in a future version of PlantCV. This function creates a histogram by default. Current PlantCV version: 3.14.1 released on 2022-07-07T11:45:30-0500\n"
     ]
    },
    {
     "name": "stdout",
     "output_type": "stream",
     "text": [
      "Count is 918\n"
     ]
    },
    {
     "name": "stderr",
     "output_type": "stream",
     "text": [
      "DeprecationWarning: 'histplot' will be deprecated in a future version of PlantCV. This function creates a histogram by default. Current PlantCV version: 3.14.1 released on 2022-07-07T11:45:30-0500\n"
     ]
    },
    {
     "name": "stdout",
     "output_type": "stream",
     "text": [
      "Count is 919\n"
     ]
    },
    {
     "name": "stderr",
     "output_type": "stream",
     "text": [
      "DeprecationWarning: 'histplot' will be deprecated in a future version of PlantCV. This function creates a histogram by default. Current PlantCV version: 3.14.1 released on 2022-07-07T11:45:30-0500\n"
     ]
    },
    {
     "name": "stdout",
     "output_type": "stream",
     "text": [
      "Count is 920\n"
     ]
    },
    {
     "name": "stderr",
     "output_type": "stream",
     "text": [
      "DeprecationWarning: 'histplot' will be deprecated in a future version of PlantCV. This function creates a histogram by default. Current PlantCV version: 3.14.1 released on 2022-07-07T11:45:30-0500\n"
     ]
    },
    {
     "name": "stdout",
     "output_type": "stream",
     "text": [
      "Count is 921\n"
     ]
    },
    {
     "name": "stderr",
     "output_type": "stream",
     "text": [
      "DeprecationWarning: 'histplot' will be deprecated in a future version of PlantCV. This function creates a histogram by default. Current PlantCV version: 3.14.1 released on 2022-07-07T11:45:30-0500\n"
     ]
    },
    {
     "name": "stdout",
     "output_type": "stream",
     "text": [
      "Count is 922\n"
     ]
    },
    {
     "name": "stderr",
     "output_type": "stream",
     "text": [
      "DeprecationWarning: 'histplot' will be deprecated in a future version of PlantCV. This function creates a histogram by default. Current PlantCV version: 3.14.1 released on 2022-07-07T11:45:30-0500\n"
     ]
    },
    {
     "name": "stdout",
     "output_type": "stream",
     "text": [
      "Count is 923\n"
     ]
    },
    {
     "name": "stderr",
     "output_type": "stream",
     "text": [
      "DeprecationWarning: 'histplot' will be deprecated in a future version of PlantCV. This function creates a histogram by default. Current PlantCV version: 3.14.1 released on 2022-07-07T11:45:30-0500\n"
     ]
    },
    {
     "name": "stdout",
     "output_type": "stream",
     "text": [
      "Count is 924\n"
     ]
    },
    {
     "name": "stderr",
     "output_type": "stream",
     "text": [
      "DeprecationWarning: 'histplot' will be deprecated in a future version of PlantCV. This function creates a histogram by default. Current PlantCV version: 3.14.1 released on 2022-07-07T11:45:30-0500\n"
     ]
    },
    {
     "name": "stdout",
     "output_type": "stream",
     "text": [
      "Count is 925\n"
     ]
    },
    {
     "name": "stderr",
     "output_type": "stream",
     "text": [
      "DeprecationWarning: 'histplot' will be deprecated in a future version of PlantCV. This function creates a histogram by default. Current PlantCV version: 3.14.1 released on 2022-07-07T11:45:30-0500\n"
     ]
    },
    {
     "name": "stdout",
     "output_type": "stream",
     "text": [
      "Count is 926\n"
     ]
    },
    {
     "name": "stderr",
     "output_type": "stream",
     "text": [
      "DeprecationWarning: 'histplot' will be deprecated in a future version of PlantCV. This function creates a histogram by default. Current PlantCV version: 3.14.1 released on 2022-07-07T11:45:30-0500\n"
     ]
    },
    {
     "name": "stdout",
     "output_type": "stream",
     "text": [
      "Count is 927\n"
     ]
    },
    {
     "name": "stderr",
     "output_type": "stream",
     "text": [
      "DeprecationWarning: 'histplot' will be deprecated in a future version of PlantCV. This function creates a histogram by default. Current PlantCV version: 3.14.1 released on 2022-07-07T11:45:30-0500\n"
     ]
    },
    {
     "name": "stdout",
     "output_type": "stream",
     "text": [
      "Count is 928\n"
     ]
    },
    {
     "name": "stderr",
     "output_type": "stream",
     "text": [
      "DeprecationWarning: 'histplot' will be deprecated in a future version of PlantCV. This function creates a histogram by default. Current PlantCV version: 3.14.1 released on 2022-07-07T11:45:30-0500\n"
     ]
    },
    {
     "name": "stdout",
     "output_type": "stream",
     "text": [
      "Count is 929\n"
     ]
    },
    {
     "name": "stderr",
     "output_type": "stream",
     "text": [
      "DeprecationWarning: 'histplot' will be deprecated in a future version of PlantCV. This function creates a histogram by default. Current PlantCV version: 3.14.1 released on 2022-07-07T11:45:30-0500\n"
     ]
    },
    {
     "name": "stdout",
     "output_type": "stream",
     "text": [
      "Count is 930\n"
     ]
    },
    {
     "name": "stderr",
     "output_type": "stream",
     "text": [
      "DeprecationWarning: 'histplot' will be deprecated in a future version of PlantCV. This function creates a histogram by default. Current PlantCV version: 3.14.1 released on 2022-07-07T11:45:30-0500\n"
     ]
    },
    {
     "name": "stdout",
     "output_type": "stream",
     "text": [
      "Count is 931\n"
     ]
    },
    {
     "name": "stderr",
     "output_type": "stream",
     "text": [
      "DeprecationWarning: 'histplot' will be deprecated in a future version of PlantCV. This function creates a histogram by default. Current PlantCV version: 3.14.1 released on 2022-07-07T11:45:30-0500\n"
     ]
    },
    {
     "name": "stdout",
     "output_type": "stream",
     "text": [
      "Count is 932\n"
     ]
    },
    {
     "name": "stderr",
     "output_type": "stream",
     "text": [
      "DeprecationWarning: 'histplot' will be deprecated in a future version of PlantCV. This function creates a histogram by default. Current PlantCV version: 3.14.1 released on 2022-07-07T11:45:30-0500\n"
     ]
    },
    {
     "name": "stdout",
     "output_type": "stream",
     "text": [
      "Count is 933\n"
     ]
    },
    {
     "name": "stderr",
     "output_type": "stream",
     "text": [
      "DeprecationWarning: 'histplot' will be deprecated in a future version of PlantCV. This function creates a histogram by default. Current PlantCV version: 3.14.1 released on 2022-07-07T11:45:30-0500\n"
     ]
    },
    {
     "name": "stdout",
     "output_type": "stream",
     "text": [
      "Count is 934\n"
     ]
    },
    {
     "name": "stderr",
     "output_type": "stream",
     "text": [
      "DeprecationWarning: 'histplot' will be deprecated in a future version of PlantCV. This function creates a histogram by default. Current PlantCV version: 3.14.1 released on 2022-07-07T11:45:30-0500\n"
     ]
    },
    {
     "name": "stdout",
     "output_type": "stream",
     "text": [
      "Count is 935\n"
     ]
    },
    {
     "name": "stderr",
     "output_type": "stream",
     "text": [
      "DeprecationWarning: 'histplot' will be deprecated in a future version of PlantCV. This function creates a histogram by default. Current PlantCV version: 3.14.1 released on 2022-07-07T11:45:30-0500\n"
     ]
    },
    {
     "name": "stdout",
     "output_type": "stream",
     "text": [
      "Count is 936\n"
     ]
    },
    {
     "name": "stderr",
     "output_type": "stream",
     "text": [
      "DeprecationWarning: 'histplot' will be deprecated in a future version of PlantCV. This function creates a histogram by default. Current PlantCV version: 3.14.1 released on 2022-07-07T11:45:30-0500\n"
     ]
    },
    {
     "name": "stdout",
     "output_type": "stream",
     "text": [
      "Count is 937\n"
     ]
    },
    {
     "name": "stderr",
     "output_type": "stream",
     "text": [
      "DeprecationWarning: 'histplot' will be deprecated in a future version of PlantCV. This function creates a histogram by default. Current PlantCV version: 3.14.1 released on 2022-07-07T11:45:30-0500\n"
     ]
    },
    {
     "name": "stdout",
     "output_type": "stream",
     "text": [
      "Count is 938\n"
     ]
    },
    {
     "name": "stderr",
     "output_type": "stream",
     "text": [
      "DeprecationWarning: 'histplot' will be deprecated in a future version of PlantCV. This function creates a histogram by default. Current PlantCV version: 3.14.1 released on 2022-07-07T11:45:30-0500\n"
     ]
    },
    {
     "name": "stdout",
     "output_type": "stream",
     "text": [
      "Count is 939\n"
     ]
    },
    {
     "name": "stderr",
     "output_type": "stream",
     "text": [
      "DeprecationWarning: 'histplot' will be deprecated in a future version of PlantCV. This function creates a histogram by default. Current PlantCV version: 3.14.1 released on 2022-07-07T11:45:30-0500\n"
     ]
    },
    {
     "name": "stdout",
     "output_type": "stream",
     "text": [
      "Count is 940\n"
     ]
    },
    {
     "name": "stderr",
     "output_type": "stream",
     "text": [
      "DeprecationWarning: 'histplot' will be deprecated in a future version of PlantCV. This function creates a histogram by default. Current PlantCV version: 3.14.1 released on 2022-07-07T11:45:30-0500\n"
     ]
    },
    {
     "name": "stdout",
     "output_type": "stream",
     "text": [
      "Count is 941\n"
     ]
    },
    {
     "name": "stderr",
     "output_type": "stream",
     "text": [
      "DeprecationWarning: 'histplot' will be deprecated in a future version of PlantCV. This function creates a histogram by default. Current PlantCV version: 3.14.1 released on 2022-07-07T11:45:30-0500\n"
     ]
    },
    {
     "name": "stdout",
     "output_type": "stream",
     "text": [
      "Count is 942\n"
     ]
    },
    {
     "name": "stderr",
     "output_type": "stream",
     "text": [
      "DeprecationWarning: 'histplot' will be deprecated in a future version of PlantCV. This function creates a histogram by default. Current PlantCV version: 3.14.1 released on 2022-07-07T11:45:30-0500\n"
     ]
    },
    {
     "name": "stdout",
     "output_type": "stream",
     "text": [
      "Count is 943\n"
     ]
    },
    {
     "name": "stderr",
     "output_type": "stream",
     "text": [
      "DeprecationWarning: 'histplot' will be deprecated in a future version of PlantCV. This function creates a histogram by default. Current PlantCV version: 3.14.1 released on 2022-07-07T11:45:30-0500\n"
     ]
    },
    {
     "name": "stdout",
     "output_type": "stream",
     "text": [
      "Count is 944\n"
     ]
    },
    {
     "name": "stderr",
     "output_type": "stream",
     "text": [
      "DeprecationWarning: 'histplot' will be deprecated in a future version of PlantCV. This function creates a histogram by default. Current PlantCV version: 3.14.1 released on 2022-07-07T11:45:30-0500\n"
     ]
    },
    {
     "name": "stdout",
     "output_type": "stream",
     "text": [
      "Count is 945\n"
     ]
    },
    {
     "name": "stderr",
     "output_type": "stream",
     "text": [
      "DeprecationWarning: 'histplot' will be deprecated in a future version of PlantCV. This function creates a histogram by default. Current PlantCV version: 3.14.1 released on 2022-07-07T11:45:30-0500\n"
     ]
    },
    {
     "name": "stdout",
     "output_type": "stream",
     "text": [
      "Count is 946\n"
     ]
    },
    {
     "name": "stderr",
     "output_type": "stream",
     "text": [
      "DeprecationWarning: 'histplot' will be deprecated in a future version of PlantCV. This function creates a histogram by default. Current PlantCV version: 3.14.1 released on 2022-07-07T11:45:30-0500\n"
     ]
    },
    {
     "name": "stdout",
     "output_type": "stream",
     "text": [
      "Count is 947\n"
     ]
    },
    {
     "name": "stderr",
     "output_type": "stream",
     "text": [
      "DeprecationWarning: 'histplot' will be deprecated in a future version of PlantCV. This function creates a histogram by default. Current PlantCV version: 3.14.1 released on 2022-07-07T11:45:30-0500\n"
     ]
    },
    {
     "name": "stdout",
     "output_type": "stream",
     "text": [
      "Count is 948\n"
     ]
    },
    {
     "name": "stderr",
     "output_type": "stream",
     "text": [
      "DeprecationWarning: 'histplot' will be deprecated in a future version of PlantCV. This function creates a histogram by default. Current PlantCV version: 3.14.1 released on 2022-07-07T11:45:30-0500\n"
     ]
    },
    {
     "name": "stdout",
     "output_type": "stream",
     "text": [
      "Count is 949\n"
     ]
    },
    {
     "name": "stderr",
     "output_type": "stream",
     "text": [
      "DeprecationWarning: 'histplot' will be deprecated in a future version of PlantCV. This function creates a histogram by default. Current PlantCV version: 3.14.1 released on 2022-07-07T11:45:30-0500\n"
     ]
    },
    {
     "name": "stdout",
     "output_type": "stream",
     "text": [
      "Count is 950\n"
     ]
    },
    {
     "name": "stderr",
     "output_type": "stream",
     "text": [
      "DeprecationWarning: 'histplot' will be deprecated in a future version of PlantCV. This function creates a histogram by default. Current PlantCV version: 3.14.1 released on 2022-07-07T11:45:30-0500\n"
     ]
    },
    {
     "name": "stdout",
     "output_type": "stream",
     "text": [
      "Count is 951\n"
     ]
    },
    {
     "name": "stderr",
     "output_type": "stream",
     "text": [
      "DeprecationWarning: 'histplot' will be deprecated in a future version of PlantCV. This function creates a histogram by default. Current PlantCV version: 3.14.1 released on 2022-07-07T11:45:30-0500\n"
     ]
    },
    {
     "name": "stdout",
     "output_type": "stream",
     "text": [
      "Count is 952\n"
     ]
    },
    {
     "name": "stderr",
     "output_type": "stream",
     "text": [
      "DeprecationWarning: 'histplot' will be deprecated in a future version of PlantCV. This function creates a histogram by default. Current PlantCV version: 3.14.1 released on 2022-07-07T11:45:30-0500\n"
     ]
    },
    {
     "name": "stdout",
     "output_type": "stream",
     "text": [
      "Count is 953\n"
     ]
    },
    {
     "name": "stderr",
     "output_type": "stream",
     "text": [
      "DeprecationWarning: 'histplot' will be deprecated in a future version of PlantCV. This function creates a histogram by default. Current PlantCV version: 3.14.1 released on 2022-07-07T11:45:30-0500\n"
     ]
    },
    {
     "name": "stdout",
     "output_type": "stream",
     "text": [
      "Count is 954\n"
     ]
    },
    {
     "name": "stderr",
     "output_type": "stream",
     "text": [
      "DeprecationWarning: 'histplot' will be deprecated in a future version of PlantCV. This function creates a histogram by default. Current PlantCV version: 3.14.1 released on 2022-07-07T11:45:30-0500\n"
     ]
    },
    {
     "name": "stdout",
     "output_type": "stream",
     "text": [
      "Count is 955\n"
     ]
    },
    {
     "name": "stderr",
     "output_type": "stream",
     "text": [
      "DeprecationWarning: 'histplot' will be deprecated in a future version of PlantCV. This function creates a histogram by default. Current PlantCV version: 3.14.1 released on 2022-07-07T11:45:30-0500\n"
     ]
    },
    {
     "name": "stdout",
     "output_type": "stream",
     "text": [
      "Count is 956\n"
     ]
    },
    {
     "name": "stderr",
     "output_type": "stream",
     "text": [
      "DeprecationWarning: 'histplot' will be deprecated in a future version of PlantCV. This function creates a histogram by default. Current PlantCV version: 3.14.1 released on 2022-07-07T11:45:30-0500\n"
     ]
    },
    {
     "name": "stdout",
     "output_type": "stream",
     "text": [
      "Count is 957\n"
     ]
    },
    {
     "name": "stderr",
     "output_type": "stream",
     "text": [
      "DeprecationWarning: 'histplot' will be deprecated in a future version of PlantCV. This function creates a histogram by default. Current PlantCV version: 3.14.1 released on 2022-07-07T11:45:30-0500\n"
     ]
    },
    {
     "name": "stdout",
     "output_type": "stream",
     "text": [
      "Count is 958\n"
     ]
    },
    {
     "name": "stderr",
     "output_type": "stream",
     "text": [
      "DeprecationWarning: 'histplot' will be deprecated in a future version of PlantCV. This function creates a histogram by default. Current PlantCV version: 3.14.1 released on 2022-07-07T11:45:30-0500\n"
     ]
    },
    {
     "name": "stdout",
     "output_type": "stream",
     "text": [
      "Count is 959\n"
     ]
    },
    {
     "name": "stderr",
     "output_type": "stream",
     "text": [
      "DeprecationWarning: 'histplot' will be deprecated in a future version of PlantCV. This function creates a histogram by default. Current PlantCV version: 3.14.1 released on 2022-07-07T11:45:30-0500\n"
     ]
    },
    {
     "name": "stdout",
     "output_type": "stream",
     "text": [
      "Count is 960\n"
     ]
    },
    {
     "name": "stderr",
     "output_type": "stream",
     "text": [
      "DeprecationWarning: 'histplot' will be deprecated in a future version of PlantCV. This function creates a histogram by default. Current PlantCV version: 3.14.1 released on 2022-07-07T11:45:30-0500\n"
     ]
    },
    {
     "name": "stdout",
     "output_type": "stream",
     "text": [
      "Count is 961\n"
     ]
    },
    {
     "name": "stderr",
     "output_type": "stream",
     "text": [
      "DeprecationWarning: 'histplot' will be deprecated in a future version of PlantCV. This function creates a histogram by default. Current PlantCV version: 3.14.1 released on 2022-07-07T11:45:30-0500\n"
     ]
    },
    {
     "name": "stdout",
     "output_type": "stream",
     "text": [
      "Count is 962\n"
     ]
    },
    {
     "name": "stderr",
     "output_type": "stream",
     "text": [
      "DeprecationWarning: 'histplot' will be deprecated in a future version of PlantCV. This function creates a histogram by default. Current PlantCV version: 3.14.1 released on 2022-07-07T11:45:30-0500\n"
     ]
    },
    {
     "name": "stdout",
     "output_type": "stream",
     "text": [
      "Count is 963\n"
     ]
    },
    {
     "name": "stderr",
     "output_type": "stream",
     "text": [
      "DeprecationWarning: 'histplot' will be deprecated in a future version of PlantCV. This function creates a histogram by default. Current PlantCV version: 3.14.1 released on 2022-07-07T11:45:30-0500\n"
     ]
    },
    {
     "name": "stdout",
     "output_type": "stream",
     "text": [
      "Count is 964\n"
     ]
    },
    {
     "name": "stderr",
     "output_type": "stream",
     "text": [
      "DeprecationWarning: 'histplot' will be deprecated in a future version of PlantCV. This function creates a histogram by default. Current PlantCV version: 3.14.1 released on 2022-07-07T11:45:30-0500\n"
     ]
    },
    {
     "name": "stdout",
     "output_type": "stream",
     "text": [
      "Count is 965\n"
     ]
    },
    {
     "name": "stderr",
     "output_type": "stream",
     "text": [
      "DeprecationWarning: 'histplot' will be deprecated in a future version of PlantCV. This function creates a histogram by default. Current PlantCV version: 3.14.1 released on 2022-07-07T11:45:30-0500\n"
     ]
    },
    {
     "name": "stdout",
     "output_type": "stream",
     "text": [
      "Count is 966\n"
     ]
    },
    {
     "name": "stderr",
     "output_type": "stream",
     "text": [
      "DeprecationWarning: 'histplot' will be deprecated in a future version of PlantCV. This function creates a histogram by default. Current PlantCV version: 3.14.1 released on 2022-07-07T11:45:30-0500\n"
     ]
    },
    {
     "name": "stdout",
     "output_type": "stream",
     "text": [
      "Count is 967\n"
     ]
    },
    {
     "name": "stderr",
     "output_type": "stream",
     "text": [
      "DeprecationWarning: 'histplot' will be deprecated in a future version of PlantCV. This function creates a histogram by default. Current PlantCV version: 3.14.1 released on 2022-07-07T11:45:30-0500\n"
     ]
    },
    {
     "name": "stdout",
     "output_type": "stream",
     "text": [
      "Count is 968\n"
     ]
    },
    {
     "name": "stderr",
     "output_type": "stream",
     "text": [
      "DeprecationWarning: 'histplot' will be deprecated in a future version of PlantCV. This function creates a histogram by default. Current PlantCV version: 3.14.1 released on 2022-07-07T11:45:30-0500\n"
     ]
    },
    {
     "name": "stdout",
     "output_type": "stream",
     "text": [
      "Count is 969\n"
     ]
    },
    {
     "name": "stderr",
     "output_type": "stream",
     "text": [
      "DeprecationWarning: 'histplot' will be deprecated in a future version of PlantCV. This function creates a histogram by default. Current PlantCV version: 3.14.1 released on 2022-07-07T11:45:30-0500\n"
     ]
    },
    {
     "name": "stdout",
     "output_type": "stream",
     "text": [
      "Count is 970\n"
     ]
    },
    {
     "name": "stderr",
     "output_type": "stream",
     "text": [
      "DeprecationWarning: 'histplot' will be deprecated in a future version of PlantCV. This function creates a histogram by default. Current PlantCV version: 3.14.1 released on 2022-07-07T11:45:30-0500\n"
     ]
    },
    {
     "name": "stdout",
     "output_type": "stream",
     "text": [
      "Count is 971\n"
     ]
    },
    {
     "name": "stderr",
     "output_type": "stream",
     "text": [
      "DeprecationWarning: 'histplot' will be deprecated in a future version of PlantCV. This function creates a histogram by default. Current PlantCV version: 3.14.1 released on 2022-07-07T11:45:30-0500\n"
     ]
    },
    {
     "name": "stdout",
     "output_type": "stream",
     "text": [
      "Count is 972\n"
     ]
    },
    {
     "name": "stderr",
     "output_type": "stream",
     "text": [
      "DeprecationWarning: 'histplot' will be deprecated in a future version of PlantCV. This function creates a histogram by default. Current PlantCV version: 3.14.1 released on 2022-07-07T11:45:30-0500\n"
     ]
    },
    {
     "name": "stdout",
     "output_type": "stream",
     "text": [
      "Count is 973\n"
     ]
    },
    {
     "name": "stderr",
     "output_type": "stream",
     "text": [
      "DeprecationWarning: 'histplot' will be deprecated in a future version of PlantCV. This function creates a histogram by default. Current PlantCV version: 3.14.1 released on 2022-07-07T11:45:30-0500\n"
     ]
    },
    {
     "name": "stdout",
     "output_type": "stream",
     "text": [
      "Count is 974\n"
     ]
    },
    {
     "name": "stderr",
     "output_type": "stream",
     "text": [
      "DeprecationWarning: 'histplot' will be deprecated in a future version of PlantCV. This function creates a histogram by default. Current PlantCV version: 3.14.1 released on 2022-07-07T11:45:30-0500\n"
     ]
    },
    {
     "name": "stdout",
     "output_type": "stream",
     "text": [
      "Count is 975\n"
     ]
    },
    {
     "name": "stderr",
     "output_type": "stream",
     "text": [
      "DeprecationWarning: 'histplot' will be deprecated in a future version of PlantCV. This function creates a histogram by default. Current PlantCV version: 3.14.1 released on 2022-07-07T11:45:30-0500\n"
     ]
    },
    {
     "name": "stdout",
     "output_type": "stream",
     "text": [
      "Count is 976\n"
     ]
    },
    {
     "name": "stderr",
     "output_type": "stream",
     "text": [
      "DeprecationWarning: 'histplot' will be deprecated in a future version of PlantCV. This function creates a histogram by default. Current PlantCV version: 3.14.1 released on 2022-07-07T11:45:30-0500\n"
     ]
    },
    {
     "name": "stdout",
     "output_type": "stream",
     "text": [
      "Count is 977\n"
     ]
    },
    {
     "name": "stderr",
     "output_type": "stream",
     "text": [
      "DeprecationWarning: 'histplot' will be deprecated in a future version of PlantCV. This function creates a histogram by default. Current PlantCV version: 3.14.1 released on 2022-07-07T11:45:30-0500\n"
     ]
    },
    {
     "name": "stdout",
     "output_type": "stream",
     "text": [
      "Count is 978\n"
     ]
    },
    {
     "name": "stderr",
     "output_type": "stream",
     "text": [
      "DeprecationWarning: 'histplot' will be deprecated in a future version of PlantCV. This function creates a histogram by default. Current PlantCV version: 3.14.1 released on 2022-07-07T11:45:30-0500\n"
     ]
    },
    {
     "name": "stdout",
     "output_type": "stream",
     "text": [
      "Count is 979\n"
     ]
    },
    {
     "name": "stderr",
     "output_type": "stream",
     "text": [
      "DeprecationWarning: 'histplot' will be deprecated in a future version of PlantCV. This function creates a histogram by default. Current PlantCV version: 3.14.1 released on 2022-07-07T11:45:30-0500\n"
     ]
    },
    {
     "name": "stdout",
     "output_type": "stream",
     "text": [
      "Count is 980\n"
     ]
    },
    {
     "name": "stderr",
     "output_type": "stream",
     "text": [
      "DeprecationWarning: 'histplot' will be deprecated in a future version of PlantCV. This function creates a histogram by default. Current PlantCV version: 3.14.1 released on 2022-07-07T11:45:30-0500\n"
     ]
    },
    {
     "name": "stdout",
     "output_type": "stream",
     "text": [
      "Count is 981\n"
     ]
    },
    {
     "name": "stderr",
     "output_type": "stream",
     "text": [
      "DeprecationWarning: 'histplot' will be deprecated in a future version of PlantCV. This function creates a histogram by default. Current PlantCV version: 3.14.1 released on 2022-07-07T11:45:30-0500\n"
     ]
    },
    {
     "name": "stdout",
     "output_type": "stream",
     "text": [
      "Count is 982\n"
     ]
    },
    {
     "name": "stderr",
     "output_type": "stream",
     "text": [
      "DeprecationWarning: 'histplot' will be deprecated in a future version of PlantCV. This function creates a histogram by default. Current PlantCV version: 3.14.1 released on 2022-07-07T11:45:30-0500\n"
     ]
    },
    {
     "name": "stdout",
     "output_type": "stream",
     "text": [
      "Count is 983\n"
     ]
    },
    {
     "name": "stderr",
     "output_type": "stream",
     "text": [
      "DeprecationWarning: 'histplot' will be deprecated in a future version of PlantCV. This function creates a histogram by default. Current PlantCV version: 3.14.1 released on 2022-07-07T11:45:30-0500\n"
     ]
    },
    {
     "name": "stdout",
     "output_type": "stream",
     "text": [
      "Count is 984\n"
     ]
    },
    {
     "name": "stderr",
     "output_type": "stream",
     "text": [
      "DeprecationWarning: 'histplot' will be deprecated in a future version of PlantCV. This function creates a histogram by default. Current PlantCV version: 3.14.1 released on 2022-07-07T11:45:30-0500\n"
     ]
    },
    {
     "name": "stdout",
     "output_type": "stream",
     "text": [
      "Count is 985\n"
     ]
    },
    {
     "name": "stderr",
     "output_type": "stream",
     "text": [
      "DeprecationWarning: 'histplot' will be deprecated in a future version of PlantCV. This function creates a histogram by default. Current PlantCV version: 3.14.1 released on 2022-07-07T11:45:30-0500\n"
     ]
    },
    {
     "name": "stdout",
     "output_type": "stream",
     "text": [
      "Count is 986\n"
     ]
    },
    {
     "name": "stderr",
     "output_type": "stream",
     "text": [
      "DeprecationWarning: 'histplot' will be deprecated in a future version of PlantCV. This function creates a histogram by default. Current PlantCV version: 3.14.1 released on 2022-07-07T11:45:30-0500\n"
     ]
    },
    {
     "name": "stdout",
     "output_type": "stream",
     "text": [
      "Count is 987\n"
     ]
    },
    {
     "name": "stderr",
     "output_type": "stream",
     "text": [
      "DeprecationWarning: 'histplot' will be deprecated in a future version of PlantCV. This function creates a histogram by default. Current PlantCV version: 3.14.1 released on 2022-07-07T11:45:30-0500\n"
     ]
    },
    {
     "name": "stdout",
     "output_type": "stream",
     "text": [
      "Count is 988\n"
     ]
    },
    {
     "name": "stderr",
     "output_type": "stream",
     "text": [
      "DeprecationWarning: 'histplot' will be deprecated in a future version of PlantCV. This function creates a histogram by default. Current PlantCV version: 3.14.1 released on 2022-07-07T11:45:30-0500\n"
     ]
    },
    {
     "name": "stdout",
     "output_type": "stream",
     "text": [
      "Count is 989\n"
     ]
    },
    {
     "name": "stderr",
     "output_type": "stream",
     "text": [
      "DeprecationWarning: 'histplot' will be deprecated in a future version of PlantCV. This function creates a histogram by default. Current PlantCV version: 3.14.1 released on 2022-07-07T11:45:30-0500\n"
     ]
    },
    {
     "name": "stdout",
     "output_type": "stream",
     "text": [
      "Count is 990\n"
     ]
    },
    {
     "name": "stderr",
     "output_type": "stream",
     "text": [
      "DeprecationWarning: 'histplot' will be deprecated in a future version of PlantCV. This function creates a histogram by default. Current PlantCV version: 3.14.1 released on 2022-07-07T11:45:30-0500\n"
     ]
    },
    {
     "name": "stdout",
     "output_type": "stream",
     "text": [
      "Count is 991\n"
     ]
    },
    {
     "name": "stderr",
     "output_type": "stream",
     "text": [
      "DeprecationWarning: 'histplot' will be deprecated in a future version of PlantCV. This function creates a histogram by default. Current PlantCV version: 3.14.1 released on 2022-07-07T11:45:30-0500\n"
     ]
    },
    {
     "name": "stdout",
     "output_type": "stream",
     "text": [
      "Count is 992\n"
     ]
    },
    {
     "name": "stderr",
     "output_type": "stream",
     "text": [
      "DeprecationWarning: 'histplot' will be deprecated in a future version of PlantCV. This function creates a histogram by default. Current PlantCV version: 3.14.1 released on 2022-07-07T11:45:30-0500\n"
     ]
    },
    {
     "name": "stdout",
     "output_type": "stream",
     "text": [
      "Count is 993\n"
     ]
    }
   ],
   "source": [
    "total_df = pd.DataFrame()\n",
    "\n",
    "count = 0\n",
    "\n",
    "for path in df[\"side_cam_path\"]:\n",
    "    class options:\n",
    "        def __init__(self):\n",
    "            self.image = path\n",
    "            self.background = df[\"side_cam_path\"][0]\n",
    "            #self.debug = \"print\"\n",
    "            self.writeimg= False\n",
    "            self.result = \"NIR_test_results.json\"\n",
    "            self.outdir = \".\" # Store the output to the folder inside the current working directory\n",
    "    # Get options\n",
    "    args = options()\n",
    "\n",
    "    # Set debug to the global parameter \n",
    "    #pcv.params.debug = args.debug\n",
    "\n",
    "    # Read image\n",
    "    img, path, filename = pcv.readimage(filename=args.image)\n",
    "\n",
    "    # Read in the background image \n",
    "    img_bkgrd, bkgrd_path, bkgrd_filename = pcv.readimage(filename=df['side_cam_path'][0])\n",
    "\n",
    "    # We keep the alternative way of subtracting the background, a background subtraction function that creates a binary \n",
    "    # image from performing background subtraction on the foreground\n",
    "    bkg_sub_img = pcv.background_subtraction(foreground_image=img, background_image=img_bkgrd)\n",
    "\n",
    "    # Threshold the image of interest using the two-sided thresholding function (keep what is between 25-250) \n",
    "    bkg_sub_thres_img, masked_img = pcv.threshold.custom_range(img=bkg_sub_img, lower_thresh=[25], \n",
    "                                                           upper_thresh=[250], channel='gray')\n",
    "\n",
    "    # Laplace filtering (identify edges based on 2nd derivative)\n",
    "    lp_img = pcv.laplace_filter(gray_img=img, ksize=1, scale=1)\n",
    "\n",
    "    # Lapacian image sharpening\n",
    "    lp_shrp_img = pcv.image_subtract(gray_img1=img, gray_img2=lp_img)\n",
    "\n",
    "    # Sobel filtering\n",
    "    # 1st derivative sobel filtering along horizontal axis, ksize = 1\n",
    "    sbx_img = pcv.sobel_filter(gray_img=img, dx=1, dy=0, ksize=1)\n",
    "\n",
    "    # 1st derivative sobel filtering along vertical axis, ksize = 1\n",
    "    sby_img = pcv.sobel_filter(gray_img=img, dx=0, dy=1, ksize=1)\n",
    "\n",
    "    # Combine the effects of both x and y filters through matrix addition\n",
    "    sb_img = pcv.image_add(gray_img1=sbx_img, gray_img2=sby_img)\n",
    "\n",
    "    # Use a lowpass (blurring) filter to smooth sobel image\n",
    "    mblur_img = pcv.median_blur(gray_img=sb_img, ksize=1)\n",
    "    \n",
    "    # Invert the image  \n",
    "    mblur_invert_img = pcv.invert(gray_img=mblur_img)\n",
    "\n",
    "    # Combine the smoothed sobel image with the laplacian sharpened image\n",
    "    edge_shrp_img = pcv.image_add(gray_img1=mblur_invert_img, gray_img2=lp_shrp_img)\n",
    "\n",
    "    # Perform thresholding to generate a binary image\n",
    "    tr_es_img = pcv.threshold.binary(gray_img=edge_shrp_img, threshold=130, \n",
    "                                 max_value=255, object_type='dark')\n",
    "\n",
    "    # Use the fill function to get rid of small salt & pepper noise in the image \n",
    "    f_img = pcv.fill(bin_img=tr_es_img, size=5)\n",
    "\n",
    "    # Bring the two object identification approaches together.\n",
    "    # Using a logical OR combine object identified by background subtraction and the object identified by derivative filter.\n",
    "    comb_img = pcv.logical_or(bin_img1=f_img, bin_img2=bkg_sub_thres_img)\n",
    "    \n",
    "    #further reduce the noise \n",
    "    filtered_img = pcv.closing(gray_img=comb_img)\n",
    "    \n",
    "    # Perform erosion filtering\n",
    "    # Results in removal of isolated pixels or boundary of object removal\n",
    "    er_img = pcv.erode(gray_img=filtered_img, ksize=3, i=1)\n",
    "\n",
    "    # Get masked image, Essentially identify pixels corresponding to plant and keep those.\n",
    "    masked_erd = pcv.apply_mask(img=img, mask=er_img, mask_color='black')\n",
    "\n",
    "    # Need to remove the edges of the image, we did that by generating a set of rectangles to mask the edges\n",
    "    # img is (960 x 1280)\n",
    "    # Mask for the bottom of the image\n",
    "    masked1, box1_img, rect_contour1, hierarchy1 = pcv.rectangle_mask(img=img, p1=(540,730), p2=(835,960))\n",
    "\n",
    "    # Mask for the left side of the image\n",
    "    masked2, box2_img, rect_contour2, hierarchy2 = pcv.rectangle_mask(img=img, p1=(1,1), p2=(350,958))\n",
    "\n",
    "    # Mask for the right side of the image\n",
    "    masked3, box3_img, rect_contour3, hierarchy3 = pcv.rectangle_mask(img=img, p1=(1100,1), p2=(1280,960))\n",
    "\n",
    "    # Mask the bottom edge\n",
    "    masked4, box4_img, rect_contour4, hierarchy4 = pcv.rectangle_mask(img=img, p1=(0,950), p2=(1280,960))\n",
    "\n",
    "    # Combine boxes to filter the edges and car out of the photo\n",
    "    bx12_img = pcv.logical_and(bin_img1=box1_img, bin_img2=box2_img)\n",
    "    bx123_img = pcv.logical_and(bin_img1=bx12_img, bin_img2=box3_img)\n",
    "    bx1234_img = pcv.logical_and(bin_img1=bx123_img, bin_img2=box4_img)\n",
    "    edge_masked_img = pcv.apply_mask(img=masked_erd, mask=bx1234_img, mask_color='black')\n",
    "\n",
    "    # Identify objects\n",
    "    id_objects, obj_hierarchy = pcv.find_objects(img=img, mask=edge_masked_img)\n",
    "\n",
    "    # Define ROI\n",
    "    roi1, roi_hierarchy= pcv.roi.rectangle(img=edge_masked_img,  x=400, y=200, h=600, w=700)\n",
    "\n",
    "    # Decide which objects to keep\n",
    "    roi_objects, hierarchy5, kept_mask, obj_area = pcv.roi_objects(img=edge_masked_img, roi_contour=roi1, \n",
    "                                                               roi_hierarchy=roi_hierarchy, object_contour=id_objects, \n",
    "                                                               obj_hierarchy=obj_hierarchy, roi_type='partial')\n",
    "\n",
    "    # We can perform a distance transformation on a binary image \n",
    "    # that can assist with object segmentation \n",
    "    dist_img = pcv.distance_transform(bin_img=kept_mask, distance_type=1, mask_size=3)\n",
    "\n",
    "    # Use the object_composition function to outline the plant \n",
    "    grp_object, img_mask = pcv.object_composition(img=img, contours=roi_objects, \n",
    "                                              hierarchy=hierarchy5)\n",
    "    \n",
    "    \n",
    "    # Perform NIR signal analysis \n",
    "    nir_hist_img = pcv.analyze_nir_intensity(gray_img=img, mask=kept_mask, \n",
    "                                         bins=256, histplot=True)\n",
    "\n",
    "    # Pseudocolor the NIR grayscale image \n",
    "    pseudocolored_img = pcv.visualize.pseudocolor(gray_img=img, obj=None, mask=kept_mask, cmap='viridis')\n",
    "\n",
    "    # Plot with the option background='image'\n",
    "    simple_pseudo_img = pcv.visualize.pseudocolor(gray_img=img, obj=None, mask=kept_mask, background=\"image\", \n",
    "                                              axes=False, colorbar=False, cmap='viridis')\n",
    "\n",
    "    # Perform shape analysis\n",
    "    shape_imgs = pcv.analyze_object(img=img, obj=grp_object, mask=img_mask)\n",
    "\n",
    "    # The save results function will take the measurements stored when running any PlantCV analysis functions, format, \n",
    "    # and print an output text file for data analysis.\n",
    "    pcv.outputs.save_results(filename=args.result)\n",
    "    results_json = pd.read_json(args.result)['observations'][0]\n",
    "    df_results = pd.DataFrame(results_json)\n",
    "\n",
    "    # Keep the values of the features as well as the column names\n",
    "    feature_values = df_results.iloc[[4]]\n",
    "\n",
    "    # Turn the lists into individual columns \n",
    "    for i in range(len(feature_values.iloc[0])):\n",
    "        if isinstance(feature_values.iloc[0][i],list):\n",
    "            column_names = [feature_values.columns.values[i]+'{}'.format(x) for x in range(len(feature_values.iloc[0][i]))]\n",
    "            new_df = pd.DataFrame([feature_values.iloc[0][i]],columns = column_names )\n",
    "            feature_values = pd.concat([feature_values.drop(feature_values.columns.values[i], axis=1), new_df.set_axis(feature_values.index)], axis=1)\n",
    "\n",
    "    total_df = total_df.append(feature_values,ignore_index = True)\n",
    "    print(\"Count is \"+ str(count))\n",
    "    count +=1\n",
    "\n",
    "    "
   ]
  },
  {
   "cell_type": "code",
   "execution_count": 9,
   "metadata": {
    "ExecuteTime": {
     "end_time": "2023-03-23T10:07:29.650380Z",
     "start_time": "2023-03-23T10:07:29.635878Z"
    }
   },
   "outputs": [],
   "source": [
    "# total runtime 8 min "
   ]
  },
  {
   "cell_type": "code",
   "execution_count": 7,
   "metadata": {
    "ExecuteTime": {
     "end_time": "2023-03-23T09:54:33.219170Z",
     "start_time": "2023-03-23T09:54:33.181167Z"
    }
   },
   "outputs": [
    {
     "data": {
      "text/html": [
       "<div>\n",
       "<style scoped>\n",
       "    .dataframe tbody tr th:only-of-type {\n",
       "        vertical-align: middle;\n",
       "    }\n",
       "\n",
       "    .dataframe tbody tr th {\n",
       "        vertical-align: top;\n",
       "    }\n",
       "\n",
       "    .dataframe thead th {\n",
       "        text-align: right;\n",
       "    }\n",
       "</style>\n",
       "<table border=\"1\" class=\"dataframe\">\n",
       "  <thead>\n",
       "    <tr style=\"text-align: right;\">\n",
       "      <th></th>\n",
       "      <th>nir_mean</th>\n",
       "      <th>nir_median</th>\n",
       "      <th>nir_stdev</th>\n",
       "      <th>in_bounds</th>\n",
       "      <th>area</th>\n",
       "      <th>convex_hull_area</th>\n",
       "      <th>solidity</th>\n",
       "      <th>perimeter</th>\n",
       "      <th>width</th>\n",
       "      <th>height</th>\n",
       "      <th>...</th>\n",
       "      <th>nir_frequencies250</th>\n",
       "      <th>nir_frequencies251</th>\n",
       "      <th>nir_frequencies252</th>\n",
       "      <th>nir_frequencies253</th>\n",
       "      <th>nir_frequencies254</th>\n",
       "      <th>nir_frequencies255</th>\n",
       "      <th>center_of_mass0</th>\n",
       "      <th>center_of_mass1</th>\n",
       "      <th>ellipse_center0</th>\n",
       "      <th>ellipse_center1</th>\n",
       "    </tr>\n",
       "  </thead>\n",
       "  <tbody>\n",
       "    <tr>\n",
       "      <th>0</th>\n",
       "      <td>37.5547</td>\n",
       "      <td>34</td>\n",
       "      <td>13.459</td>\n",
       "      <td>True</td>\n",
       "      <td>3191</td>\n",
       "      <td>4068</td>\n",
       "      <td>0.784415</td>\n",
       "      <td>634.674</td>\n",
       "      <td>174</td>\n",
       "      <td>37</td>\n",
       "      <td>...</td>\n",
       "      <td>0</td>\n",
       "      <td>0</td>\n",
       "      <td>0</td>\n",
       "      <td>0</td>\n",
       "      <td>0</td>\n",
       "      <td>0</td>\n",
       "      <td>661.206518</td>\n",
       "      <td>716.185208</td>\n",
       "      <td>672.862244</td>\n",
       "      <td>714.586426</td>\n",
       "    </tr>\n",
       "    <tr>\n",
       "      <th>1</th>\n",
       "      <td>60.3275</td>\n",
       "      <td>46</td>\n",
       "      <td>36.8014</td>\n",
       "      <td>True</td>\n",
       "      <td>45052</td>\n",
       "      <td>178591</td>\n",
       "      <td>0.252264</td>\n",
       "      <td>3044.37</td>\n",
       "      <td>611</td>\n",
       "      <td>431</td>\n",
       "      <td>...</td>\n",
       "      <td>0</td>\n",
       "      <td>0</td>\n",
       "      <td>0</td>\n",
       "      <td>0</td>\n",
       "      <td>0</td>\n",
       "      <td>0</td>\n",
       "      <td>707.989257</td>\n",
       "      <td>478.745161</td>\n",
       "      <td>714.550110</td>\n",
       "      <td>528.597351</td>\n",
       "    </tr>\n",
       "    <tr>\n",
       "      <th>2</th>\n",
       "      <td>58.8138</td>\n",
       "      <td>44</td>\n",
       "      <td>37.958</td>\n",
       "      <td>True</td>\n",
       "      <td>47715</td>\n",
       "      <td>148611</td>\n",
       "      <td>0.321073</td>\n",
       "      <td>2471.1</td>\n",
       "      <td>411</td>\n",
       "      <td>477</td>\n",
       "      <td>...</td>\n",
       "      <td>0</td>\n",
       "      <td>0</td>\n",
       "      <td>0</td>\n",
       "      <td>0</td>\n",
       "      <td>0</td>\n",
       "      <td>0</td>\n",
       "      <td>658.262161</td>\n",
       "      <td>444.421042</td>\n",
       "      <td>576.378296</td>\n",
       "      <td>500.127045</td>\n",
       "    </tr>\n",
       "    <tr>\n",
       "      <th>3</th>\n",
       "      <td>84.5512</td>\n",
       "      <td>46</td>\n",
       "      <td>68.811</td>\n",
       "      <td>True</td>\n",
       "      <td>5303</td>\n",
       "      <td>5899.5</td>\n",
       "      <td>0.89889</td>\n",
       "      <td>508.066</td>\n",
       "      <td>219</td>\n",
       "      <td>38</td>\n",
       "      <td>...</td>\n",
       "      <td>0</td>\n",
       "      <td>0</td>\n",
       "      <td>0</td>\n",
       "      <td>0</td>\n",
       "      <td>0</td>\n",
       "      <td>0</td>\n",
       "      <td>684.715067</td>\n",
       "      <td>715.408637</td>\n",
       "      <td>682.368225</td>\n",
       "      <td>714.712585</td>\n",
       "    </tr>\n",
       "    <tr>\n",
       "      <th>4</th>\n",
       "      <td>62.047</td>\n",
       "      <td>45</td>\n",
       "      <td>42.3041</td>\n",
       "      <td>True</td>\n",
       "      <td>62094</td>\n",
       "      <td>203417</td>\n",
       "      <td>0.305255</td>\n",
       "      <td>4020.97</td>\n",
       "      <td>577</td>\n",
       "      <td>515</td>\n",
       "      <td>...</td>\n",
       "      <td>0</td>\n",
       "      <td>0</td>\n",
       "      <td>0</td>\n",
       "      <td>0</td>\n",
       "      <td>0</td>\n",
       "      <td>0</td>\n",
       "      <td>820.912020</td>\n",
       "      <td>431.798499</td>\n",
       "      <td>815.368896</td>\n",
       "      <td>505.041443</td>\n",
       "    </tr>\n",
       "    <tr>\n",
       "      <th>...</th>\n",
       "      <td>...</td>\n",
       "      <td>...</td>\n",
       "      <td>...</td>\n",
       "      <td>...</td>\n",
       "      <td>...</td>\n",
       "      <td>...</td>\n",
       "      <td>...</td>\n",
       "      <td>...</td>\n",
       "      <td>...</td>\n",
       "      <td>...</td>\n",
       "      <td>...</td>\n",
       "      <td>...</td>\n",
       "      <td>...</td>\n",
       "      <td>...</td>\n",
       "      <td>...</td>\n",
       "      <td>...</td>\n",
       "      <td>...</td>\n",
       "      <td>...</td>\n",
       "      <td>...</td>\n",
       "      <td>...</td>\n",
       "      <td>...</td>\n",
       "    </tr>\n",
       "    <tr>\n",
       "      <th>989</th>\n",
       "      <td>60.9085</td>\n",
       "      <td>37</td>\n",
       "      <td>49.1177</td>\n",
       "      <td>True</td>\n",
       "      <td>95538</td>\n",
       "      <td>245156</td>\n",
       "      <td>0.389702</td>\n",
       "      <td>5324.43</td>\n",
       "      <td>506</td>\n",
       "      <td>589</td>\n",
       "      <td>...</td>\n",
       "      <td>0</td>\n",
       "      <td>0</td>\n",
       "      <td>0</td>\n",
       "      <td>0</td>\n",
       "      <td>0</td>\n",
       "      <td>0</td>\n",
       "      <td>917.996043</td>\n",
       "      <td>424.606649</td>\n",
       "      <td>854.520020</td>\n",
       "      <td>449.581421</td>\n",
       "    </tr>\n",
       "    <tr>\n",
       "      <th>990</th>\n",
       "      <td>65.3896</td>\n",
       "      <td>44</td>\n",
       "      <td>47.9923</td>\n",
       "      <td>True</td>\n",
       "      <td>80217</td>\n",
       "      <td>206082</td>\n",
       "      <td>0.389249</td>\n",
       "      <td>4974</td>\n",
       "      <td>507</td>\n",
       "      <td>657</td>\n",
       "      <td>...</td>\n",
       "      <td>0</td>\n",
       "      <td>0</td>\n",
       "      <td>0</td>\n",
       "      <td>0</td>\n",
       "      <td>0</td>\n",
       "      <td>0</td>\n",
       "      <td>878.042958</td>\n",
       "      <td>358.853310</td>\n",
       "      <td>848.194763</td>\n",
       "      <td>429.562134</td>\n",
       "    </tr>\n",
       "    <tr>\n",
       "      <th>991</th>\n",
       "      <td>68.4919</td>\n",
       "      <td>43</td>\n",
       "      <td>51.9609</td>\n",
       "      <td>True</td>\n",
       "      <td>75767</td>\n",
       "      <td>139274</td>\n",
       "      <td>0.544012</td>\n",
       "      <td>5135.42</td>\n",
       "      <td>383</td>\n",
       "      <td>526</td>\n",
       "      <td>...</td>\n",
       "      <td>0</td>\n",
       "      <td>0</td>\n",
       "      <td>0</td>\n",
       "      <td>0</td>\n",
       "      <td>0</td>\n",
       "      <td>0</td>\n",
       "      <td>710.262291</td>\n",
       "      <td>451.283791</td>\n",
       "      <td>719.425110</td>\n",
       "      <td>465.478058</td>\n",
       "    </tr>\n",
       "    <tr>\n",
       "      <th>992</th>\n",
       "      <td>73.719</td>\n",
       "      <td>47</td>\n",
       "      <td>52.9506</td>\n",
       "      <td>True</td>\n",
       "      <td>31620</td>\n",
       "      <td>77629.5</td>\n",
       "      <td>0.407319</td>\n",
       "      <td>3019.46</td>\n",
       "      <td>281</td>\n",
       "      <td>403</td>\n",
       "      <td>...</td>\n",
       "      <td>0</td>\n",
       "      <td>0</td>\n",
       "      <td>0</td>\n",
       "      <td>0</td>\n",
       "      <td>0</td>\n",
       "      <td>0</td>\n",
       "      <td>741.120936</td>\n",
       "      <td>529.499273</td>\n",
       "      <td>724.179016</td>\n",
       "      <td>539.669312</td>\n",
       "    </tr>\n",
       "    <tr>\n",
       "      <th>993</th>\n",
       "      <td>64.5199</td>\n",
       "      <td>45</td>\n",
       "      <td>45.2327</td>\n",
       "      <td>True</td>\n",
       "      <td>19878</td>\n",
       "      <td>57668</td>\n",
       "      <td>0.344697</td>\n",
       "      <td>1732.06</td>\n",
       "      <td>389</td>\n",
       "      <td>262</td>\n",
       "      <td>...</td>\n",
       "      <td>0</td>\n",
       "      <td>0</td>\n",
       "      <td>0</td>\n",
       "      <td>0</td>\n",
       "      <td>0</td>\n",
       "      <td>0</td>\n",
       "      <td>776.597394</td>\n",
       "      <td>597.696800</td>\n",
       "      <td>773.558167</td>\n",
       "      <td>609.145569</td>\n",
       "    </tr>\n",
       "  </tbody>\n",
       "</table>\n",
       "<p>994 rows × 277 columns</p>\n",
       "</div>"
      ],
      "text/plain": [
       "    nir_mean nir_median nir_stdev in_bounds   area convex_hull_area  solidity  \\\n",
       "0    37.5547         34    13.459      True   3191             4068  0.784415   \n",
       "1    60.3275         46   36.8014      True  45052           178591  0.252264   \n",
       "2    58.8138         44    37.958      True  47715           148611  0.321073   \n",
       "3    84.5512         46    68.811      True   5303           5899.5   0.89889   \n",
       "4     62.047         45   42.3041      True  62094           203417  0.305255   \n",
       "..       ...        ...       ...       ...    ...              ...       ...   \n",
       "989  60.9085         37   49.1177      True  95538           245156  0.389702   \n",
       "990  65.3896         44   47.9923      True  80217           206082  0.389249   \n",
       "991  68.4919         43   51.9609      True  75767           139274  0.544012   \n",
       "992   73.719         47   52.9506      True  31620          77629.5  0.407319   \n",
       "993  64.5199         45   45.2327      True  19878            57668  0.344697   \n",
       "\n",
       "    perimeter width height  ... nir_frequencies250 nir_frequencies251  \\\n",
       "0     634.674   174     37  ...                  0                  0   \n",
       "1     3044.37   611    431  ...                  0                  0   \n",
       "2      2471.1   411    477  ...                  0                  0   \n",
       "3     508.066   219     38  ...                  0                  0   \n",
       "4     4020.97   577    515  ...                  0                  0   \n",
       "..        ...   ...    ...  ...                ...                ...   \n",
       "989   5324.43   506    589  ...                  0                  0   \n",
       "990      4974   507    657  ...                  0                  0   \n",
       "991   5135.42   383    526  ...                  0                  0   \n",
       "992   3019.46   281    403  ...                  0                  0   \n",
       "993   1732.06   389    262  ...                  0                  0   \n",
       "\n",
       "    nir_frequencies252 nir_frequencies253 nir_frequencies254  \\\n",
       "0                    0                  0                  0   \n",
       "1                    0                  0                  0   \n",
       "2                    0                  0                  0   \n",
       "3                    0                  0                  0   \n",
       "4                    0                  0                  0   \n",
       "..                 ...                ...                ...   \n",
       "989                  0                  0                  0   \n",
       "990                  0                  0                  0   \n",
       "991                  0                  0                  0   \n",
       "992                  0                  0                  0   \n",
       "993                  0                  0                  0   \n",
       "\n",
       "    nir_frequencies255 center_of_mass0  center_of_mass1  ellipse_center0  \\\n",
       "0                    0      661.206518       716.185208       672.862244   \n",
       "1                    0      707.989257       478.745161       714.550110   \n",
       "2                    0      658.262161       444.421042       576.378296   \n",
       "3                    0      684.715067       715.408637       682.368225   \n",
       "4                    0      820.912020       431.798499       815.368896   \n",
       "..                 ...             ...              ...              ...   \n",
       "989                  0      917.996043       424.606649       854.520020   \n",
       "990                  0      878.042958       358.853310       848.194763   \n",
       "991                  0      710.262291       451.283791       719.425110   \n",
       "992                  0      741.120936       529.499273       724.179016   \n",
       "993                  0      776.597394       597.696800       773.558167   \n",
       "\n",
       "     ellipse_center1  \n",
       "0         714.586426  \n",
       "1         528.597351  \n",
       "2         500.127045  \n",
       "3         714.712585  \n",
       "4         505.041443  \n",
       "..               ...  \n",
       "989       449.581421  \n",
       "990       429.562134  \n",
       "991       465.478058  \n",
       "992       539.669312  \n",
       "993       609.145569  \n",
       "\n",
       "[994 rows x 277 columns]"
      ]
     },
     "execution_count": 7,
     "metadata": {},
     "output_type": "execute_result"
    }
   ],
   "source": [
    "total_df"
   ]
  },
  {
   "cell_type": "code",
   "execution_count": 8,
   "metadata": {
    "ExecuteTime": {
     "end_time": "2023-03-23T10:06:39.907703Z",
     "start_time": "2023-03-23T10:06:39.824189Z"
    }
   },
   "outputs": [],
   "source": [
    "total_df.to_csv('Grayscale_features.csv') \n"
   ]
  }
 ],
 "metadata": {
  "kernelspec": {
   "display_name": "Python 3",
   "language": "python",
   "name": "python3"
  },
  "language_info": {
   "codemirror_mode": {
    "name": "ipython",
    "version": 3
   },
   "file_extension": ".py",
   "mimetype": "text/x-python",
   "name": "python",
   "nbconvert_exporter": "python",
   "pygments_lexer": "ipython3",
   "version": "3.8.5"
  },
  "toc": {
   "base_numbering": 1,
   "nav_menu": {},
   "number_sections": true,
   "sideBar": true,
   "skip_h1_title": false,
   "title_cell": "Table of Contents",
   "title_sidebar": "Contents",
   "toc_cell": false,
   "toc_position": {},
   "toc_section_display": true,
   "toc_window_display": false
  },
  "varInspector": {
   "cols": {
    "lenName": 16,
    "lenType": 16,
    "lenVar": 40
   },
   "kernels_config": {
    "python": {
     "delete_cmd_postfix": "",
     "delete_cmd_prefix": "del ",
     "library": "var_list.py",
     "varRefreshCmd": "print(var_dic_list())"
    },
    "r": {
     "delete_cmd_postfix": ") ",
     "delete_cmd_prefix": "rm(",
     "library": "var_list.r",
     "varRefreshCmd": "cat(var_dic_list()) "
    }
   },
   "types_to_exclude": [
    "module",
    "function",
    "builtin_function_or_method",
    "instance",
    "_Feature"
   ],
   "window_display": false
  }
 },
 "nbformat": 4,
 "nbformat_minor": 4
}
