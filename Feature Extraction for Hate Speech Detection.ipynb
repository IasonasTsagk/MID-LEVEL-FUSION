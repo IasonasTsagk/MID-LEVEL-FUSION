{
 "cells": [
  {
   "cell_type": "markdown",
   "id": "296067c7",
   "metadata": {},
   "source": [
    "# Feature Extraction from Forum Posts for Hate Speech Detection\n",
    "\n",
    "\n",
    "In this exercise, we work with a dataset derived from Stormfront, a white supremacist forum. This dataset includes forum posts segmented into sentences, each manually labeled as either containing hate speech ('1') or not ('0') based on specific guidelines. Learn more about the dataset [here](https://github.com/Vicomtech/hate-speech-dataset).\n",
    "\n",
    "For textual data, we need to perform feature extraction in order to train a supervised machine learning model. In this lab, our  goal is to explore the different **feature extraction methods**, and not to optimise the performance of the model."
   ]
  },
  {
   "cell_type": "code",
   "execution_count": 1,
   "id": "cdf5915f",
   "metadata": {},
   "outputs": [],
   "source": [
    "#Loading Libraries\n",
    "\n",
    "from textblob import TextBlob\n",
    "import nltk\n",
    "#nltk.downloader.download('vader_lexicon')\n",
    "from nltk.sentiment.vader import SentimentIntensityAnalyzer\n",
    "\n",
    "\n",
    "#text analysis\n",
    "import re \n",
    "import nltk \n",
    "import string\n",
    "\n",
    "#data processing\n",
    "import pandas as pd\n",
    "import numpy as np\n",
    "\n",
    "#visualisation\n",
    "import matplotlib.pyplot as plt \n",
    "import seaborn as sns\n",
    "\n",
    "\n",
    "\n",
    "%matplotlib inline"
   ]
  },
  {
   "cell_type": "code",
   "execution_count": 2,
   "id": "d71b598a",
   "metadata": {},
   "outputs": [],
   "source": [
    "pd.set_option(\"display.max_colwidth\", 300)\n",
    "#This helps us see the dataframes in a more visually pleasing manne"
   ]
  },
  {
   "cell_type": "code",
   "execution_count": 3,
   "id": "2a22f709",
   "metadata": {},
   "outputs": [
    {
     "data": {
      "text/html": [
       "<div>\n",
       "<style scoped>\n",
       "    .dataframe tbody tr th:only-of-type {\n",
       "        vertical-align: middle;\n",
       "    }\n",
       "\n",
       "    .dataframe tbody tr th {\n",
       "        vertical-align: top;\n",
       "    }\n",
       "\n",
       "    .dataframe thead th {\n",
       "        text-align: right;\n",
       "    }\n",
       "</style>\n",
       "<table border=\"1\" class=\"dataframe\">\n",
       "  <thead>\n",
       "    <tr style=\"text-align: right;\">\n",
       "      <th></th>\n",
       "      <th>file_id</th>\n",
       "      <th>user_id</th>\n",
       "      <th>subforum_id</th>\n",
       "      <th>num_contexts</th>\n",
       "      <th>label</th>\n",
       "      <th>comment</th>\n",
       "    </tr>\n",
       "  </thead>\n",
       "  <tbody>\n",
       "    <tr>\n",
       "      <th>0</th>\n",
       "      <td>12834217_2</td>\n",
       "      <td>572066</td>\n",
       "      <td>1346</td>\n",
       "      <td>0</td>\n",
       "      <td>0</td>\n",
       "      <td>In order to help increase the booklets downloads , it would be great if all Stormfronters who had YouTube accounts , could display the following text in the description boxes of their uploaded YouTube videos .</td>\n",
       "    </tr>\n",
       "    <tr>\n",
       "      <th>1</th>\n",
       "      <td>12834217_4</td>\n",
       "      <td>572066</td>\n",
       "      <td>1346</td>\n",
       "      <td>0</td>\n",
       "      <td>1</td>\n",
       "      <td>Click below for a FREE download of a colorfully illustrated 132 page e-book on the Zionist-engineered INTENTIONAL destruction of Western civilization .</td>\n",
       "    </tr>\n",
       "    <tr>\n",
       "      <th>2</th>\n",
       "      <td>12834493_1</td>\n",
       "      <td>572058</td>\n",
       "      <td>1396</td>\n",
       "      <td>0</td>\n",
       "      <td>1</td>\n",
       "      <td>She may or may not be a Jew but she 's certainly stupid , she seems to think the Blacks wo n't kill her alongside every other White they can get their dirty hands on , what a muppet !</td>\n",
       "    </tr>\n",
       "    <tr>\n",
       "      <th>3</th>\n",
       "      <td>12849464_2</td>\n",
       "      <td>575975</td>\n",
       "      <td>1346</td>\n",
       "      <td>0</td>\n",
       "      <td>0</td>\n",
       "      <td>I think you should write a book as well .</td>\n",
       "    </tr>\n",
       "    <tr>\n",
       "      <th>4</th>\n",
       "      <td>12849464_5</td>\n",
       "      <td>575975</td>\n",
       "      <td>1346</td>\n",
       "      <td>1</td>\n",
       "      <td>0</td>\n",
       "      <td>I guess I 'll just stick to homeschooling my kids , when and if I have them ...</td>\n",
       "    </tr>\n",
       "  </tbody>\n",
       "</table>\n",
       "</div>"
      ],
      "text/plain": [
       "      file_id  user_id  subforum_id  num_contexts  label  \\\n",
       "0  12834217_2   572066         1346             0      0   \n",
       "1  12834217_4   572066         1346             0      1   \n",
       "2  12834493_1   572058         1396             0      1   \n",
       "3  12849464_2   575975         1346             0      0   \n",
       "4  12849464_5   575975         1346             1      0   \n",
       "\n",
       "                                                                                                                                                                                                             comment  \n",
       "0  In order to help increase the booklets downloads , it would be great if all Stormfronters who had YouTube accounts , could display the following text in the description boxes of their uploaded YouTube videos .  \n",
       "1                                                            Click below for a FREE download of a colorfully illustrated 132 page e-book on the Zionist-engineered INTENTIONAL destruction of Western civilization .  \n",
       "2                            She may or may not be a Jew but she 's certainly stupid , she seems to think the Blacks wo n't kill her alongside every other White they can get their dirty hands on , what a muppet !  \n",
       "3                                                                                                                                                                          I think you should write a book as well .  \n",
       "4                                                                                                                                    I guess I 'll just stick to homeschooling my kids , when and if I have them ...  "
      ]
     },
     "execution_count": 3,
     "metadata": {},
     "output_type": "execute_result"
    }
   ],
   "source": [
    "train=pd.read_csv(\"train.csv\")\n",
    "test=pd.read_csv(\"test.csv\")\n",
    "train.head()"
   ]
  },
  {
   "cell_type": "code",
   "execution_count": 4,
   "id": "3779fba6",
   "metadata": {},
   "outputs": [
    {
     "data": {
      "text/html": [
       "<div>\n",
       "<style scoped>\n",
       "    .dataframe tbody tr th:only-of-type {\n",
       "        vertical-align: middle;\n",
       "    }\n",
       "\n",
       "    .dataframe tbody tr th {\n",
       "        vertical-align: top;\n",
       "    }\n",
       "\n",
       "    .dataframe thead th {\n",
       "        text-align: right;\n",
       "    }\n",
       "</style>\n",
       "<table border=\"1\" class=\"dataframe\">\n",
       "  <thead>\n",
       "    <tr style=\"text-align: right;\">\n",
       "      <th></th>\n",
       "      <th>file_id</th>\n",
       "      <th>user_id</th>\n",
       "      <th>subforum_id</th>\n",
       "      <th>num_contexts</th>\n",
       "      <th>label</th>\n",
       "      <th>comment</th>\n",
       "    </tr>\n",
       "  </thead>\n",
       "  <tbody>\n",
       "    <tr>\n",
       "      <th>0</th>\n",
       "      <td>12834217_2</td>\n",
       "      <td>572066</td>\n",
       "      <td>1346</td>\n",
       "      <td>0</td>\n",
       "      <td>0</td>\n",
       "      <td>In order to help increase the booklets downloads , it would be great if all Stormfronters who had YouTube accounts , could display the following text in the description boxes of their uploaded YouTube videos .</td>\n",
       "    </tr>\n",
       "    <tr>\n",
       "      <th>3</th>\n",
       "      <td>12849464_2</td>\n",
       "      <td>575975</td>\n",
       "      <td>1346</td>\n",
       "      <td>0</td>\n",
       "      <td>0</td>\n",
       "      <td>I think you should write a book as well .</td>\n",
       "    </tr>\n",
       "    <tr>\n",
       "      <th>4</th>\n",
       "      <td>12849464_5</td>\n",
       "      <td>575975</td>\n",
       "      <td>1346</td>\n",
       "      <td>1</td>\n",
       "      <td>0</td>\n",
       "      <td>I guess I 'll just stick to homeschooling my kids , when and if I have them ...</td>\n",
       "    </tr>\n",
       "    <tr>\n",
       "      <th>8</th>\n",
       "      <td>12870229_3</td>\n",
       "      <td>572066</td>\n",
       "      <td>1346</td>\n",
       "      <td>0</td>\n",
       "      <td>0</td>\n",
       "      <td>com/watch ? v = kBD6Gm6VoDM Then watch 8 min. Obama at AIPAC @ youtube .</td>\n",
       "    </tr>\n",
       "    <tr>\n",
       "      <th>10</th>\n",
       "      <td>12883101_2</td>\n",
       "      <td>577823</td>\n",
       "      <td>1345</td>\n",
       "      <td>4</td>\n",
       "      <td>0</td>\n",
       "      <td>Welcome to the front lines ...</td>\n",
       "    </tr>\n",
       "  </tbody>\n",
       "</table>\n",
       "</div>"
      ],
      "text/plain": [
       "       file_id  user_id  subforum_id  num_contexts  label  \\\n",
       "0   12834217_2   572066         1346             0      0   \n",
       "3   12849464_2   575975         1346             0      0   \n",
       "4   12849464_5   575975         1346             1      0   \n",
       "8   12870229_3   572066         1346             0      0   \n",
       "10  12883101_2   577823         1345             4      0   \n",
       "\n",
       "                                                                                                                                                                                                              comment  \n",
       "0   In order to help increase the booklets downloads , it would be great if all Stormfronters who had YouTube accounts , could display the following text in the description boxes of their uploaded YouTube videos .  \n",
       "3                                                                                                                                                                           I think you should write a book as well .  \n",
       "4                                                                                                                                     I guess I 'll just stick to homeschooling my kids , when and if I have them ...  \n",
       "8                                                                                                                                            com/watch ? v = kBD6Gm6VoDM Then watch 8 min. Obama at AIPAC @ youtube .  \n",
       "10                                                                                                                                                                                     Welcome to the front lines ...  "
      ]
     },
     "execution_count": 4,
     "metadata": {},
     "output_type": "execute_result"
    }
   ],
   "source": [
    "#Typical comments considered not hate speech\n",
    "train[train['label'] == 0].head()"
   ]
  },
  {
   "cell_type": "code",
   "execution_count": 5,
   "id": "10df1e1a",
   "metadata": {},
   "outputs": [
    {
     "data": {
      "text/html": [
       "<div>\n",
       "<style scoped>\n",
       "    .dataframe tbody tr th:only-of-type {\n",
       "        vertical-align: middle;\n",
       "    }\n",
       "\n",
       "    .dataframe tbody tr th {\n",
       "        vertical-align: top;\n",
       "    }\n",
       "\n",
       "    .dataframe thead th {\n",
       "        text-align: right;\n",
       "    }\n",
       "</style>\n",
       "<table border=\"1\" class=\"dataframe\">\n",
       "  <thead>\n",
       "    <tr style=\"text-align: right;\">\n",
       "      <th></th>\n",
       "      <th>file_id</th>\n",
       "      <th>user_id</th>\n",
       "      <th>subforum_id</th>\n",
       "      <th>num_contexts</th>\n",
       "      <th>label</th>\n",
       "      <th>comment</th>\n",
       "    </tr>\n",
       "  </thead>\n",
       "  <tbody>\n",
       "    <tr>\n",
       "      <th>1</th>\n",
       "      <td>12834217_4</td>\n",
       "      <td>572066</td>\n",
       "      <td>1346</td>\n",
       "      <td>0</td>\n",
       "      <td>1</td>\n",
       "      <td>Click below for a FREE download of a colorfully illustrated 132 page e-book on the Zionist-engineered INTENTIONAL destruction of Western civilization .</td>\n",
       "    </tr>\n",
       "    <tr>\n",
       "      <th>2</th>\n",
       "      <td>12834493_1</td>\n",
       "      <td>572058</td>\n",
       "      <td>1396</td>\n",
       "      <td>0</td>\n",
       "      <td>1</td>\n",
       "      <td>She may or may not be a Jew but she 's certainly stupid , she seems to think the Blacks wo n't kill her alongside every other White they can get their dirty hands on , what a muppet !</td>\n",
       "    </tr>\n",
       "    <tr>\n",
       "      <th>5</th>\n",
       "      <td>12855154_1</td>\n",
       "      <td>576372</td>\n",
       "      <td>1346</td>\n",
       "      <td>0</td>\n",
       "      <td>1</td>\n",
       "      <td>Their gods often had pale skin and blue eyes but I suppose literacy is n't valued highly by their cultural intelligencia .</td>\n",
       "    </tr>\n",
       "    <tr>\n",
       "      <th>6</th>\n",
       "      <td>12860820_1</td>\n",
       "      <td>573375</td>\n",
       "      <td>1346</td>\n",
       "      <td>0</td>\n",
       "      <td>1</td>\n",
       "      <td>Greece need a man like Adolf Hitler and now is the perfect time to start a national political movement to free Your country from the zionist bankers</td>\n",
       "    </tr>\n",
       "    <tr>\n",
       "      <th>7</th>\n",
       "      <td>12869018_3</td>\n",
       "      <td>575841</td>\n",
       "      <td>1346</td>\n",
       "      <td>1</td>\n",
       "      <td>1</td>\n",
       "      <td>He is a pathetic little chimp .</td>\n",
       "    </tr>\n",
       "  </tbody>\n",
       "</table>\n",
       "</div>"
      ],
      "text/plain": [
       "      file_id  user_id  subforum_id  num_contexts  label  \\\n",
       "1  12834217_4   572066         1346             0      1   \n",
       "2  12834493_1   572058         1396             0      1   \n",
       "5  12855154_1   576372         1346             0      1   \n",
       "6  12860820_1   573375         1346             0      1   \n",
       "7  12869018_3   575841         1346             1      1   \n",
       "\n",
       "                                                                                                                                                                                   comment  \n",
       "1                                  Click below for a FREE download of a colorfully illustrated 132 page e-book on the Zionist-engineered INTENTIONAL destruction of Western civilization .  \n",
       "2  She may or may not be a Jew but she 's certainly stupid , she seems to think the Blacks wo n't kill her alongside every other White they can get their dirty hands on , what a muppet !  \n",
       "5                                                               Their gods often had pale skin and blue eyes but I suppose literacy is n't valued highly by their cultural intelligencia .  \n",
       "6                                     Greece need a man like Adolf Hitler and now is the perfect time to start a national political movement to free Your country from the zionist bankers  \n",
       "7                                                                                                                                                          He is a pathetic little chimp .  "
      ]
     },
     "execution_count": 5,
     "metadata": {},
     "output_type": "execute_result"
    }
   ],
   "source": [
    "#Typical comments considered hate speech\n",
    "train[train['label'] == 1].head()"
   ]
  },
  {
   "cell_type": "code",
   "execution_count": 6,
   "id": "65851159",
   "metadata": {},
   "outputs": [
    {
     "data": {
      "image/png": "[encoded data removed]",
      "text/plain": [
       "<Figure size 432x288 with 1 Axes>"
      ]
     },
     "metadata": {},
     "output_type": "display_data"
    }
   ],
   "source": [
    "#Visualising\n",
    "%matplotlib inline\n",
    "\n",
    "labels=['Hate', 'noHate']\n",
    "colors = ['mistyrose','lightcyan']\n",
    "sizes=[train['label'].value_counts()[1],\n",
    "     train['label'].value_counts()[0]]\n",
    "fig1, ax1 = plt.subplots()\n",
    "ax1.pie(sizes, labels=labels, colors=colors,autopct='%1.0f%%')\n",
    "ax1.axis('equal')\n",
    "plt.show()"
   ]
  },
  {
   "cell_type": "markdown",
   "id": "722778a0",
   "metadata": {},
   "source": [
    "# Preprocessing and Cleaning the Data\n",
    "For cleaning the data, we will do the following:\n",
    "\n",
    "1. Combine both test and training set so we can preprocess both together\n",
    "2. Clean the comments\n",
    "3. Tokenise the cleaned comments\n",
    "4. Normalize comments"
   ]
  },
  {
   "cell_type": "code",
   "execution_count": 7,
   "id": "e0ebf2fd",
   "metadata": {},
   "outputs": [],
   "source": [
    "#combine test and train set\n",
    "combine= train.append(test,ignore_index=True, sort=True)"
   ]
  },
  {
   "cell_type": "code",
   "execution_count": 8,
   "id": "112aa7da",
   "metadata": {},
   "outputs": [],
   "source": [
    "def clean_comment(text):\n",
    "    \"\"\"\n",
    "    Function to clean the text in the 'comment' column.\n",
    "    \"\"\"\n",
    "    # Convert text to lowercase\n",
    "    text = text.lower()\n",
    "    \n",
    "    # Remove URLs\n",
    "    text = re.sub(r'http\\S+', '', text)\n",
    "    \n",
    "    # Remove user tags\n",
    "    text = re.sub(r'@\\w+', '', text)\n",
    "    \n",
    "    # Remove punctuation\n",
    "    text = text.translate(str.maketrans('', '', string.punctuation))\n",
    "    \n",
    "    # Remove numbers\n",
    "    text = re.sub(r'\\d+', '', text)\n",
    "    \n",
    "    # Remove extra whitespaces\n",
    "    text = text.strip()\n",
    "    \n",
    "    #Remove special characters\n",
    "    text = re.sub(\"[^a-zA-Z#]\", \" \", text)\n",
    "    \n",
    "    #remove short words\n",
    "    text = ' '.join(word for word in text.split() if len(word) >= 3)\n",
    "    \n",
    "    return text"
   ]
  },
  {
   "cell_type": "code",
   "execution_count": 9,
   "id": "bb4ec90e",
   "metadata": {},
   "outputs": [],
   "source": [
    "#create a new column \"tidy_comment\" which has our processed, tidy text\n"
   ]
  },
  {
   "cell_type": "code",
   "execution_count": 10,
   "id": "82180417",
   "metadata": {},
   "outputs": [],
   "source": [
    "#combine.head()"
   ]
  },
  {
   "cell_type": "markdown",
   "id": "3e62acbd",
   "metadata": {},
   "source": [
    "**Tokenize the Comments**"
   ]
  },
  {
   "cell_type": "code",
   "execution_count": 11,
   "id": "422bb693",
   "metadata": {},
   "outputs": [],
   "source": [
    "#Write Code Here"
   ]
  },
  {
   "cell_type": "markdown",
   "id": "8f772037",
   "metadata": {},
   "source": [
    "**Normalize the Comment**\n",
    "\n",
    "Examples: Stemming or Lemmatization, Handling Stopwords, Handling Negations, Synonym Consolidation, Expand Contractions, Spell Correction, Handling of Emojis and Emoticonsetc."
   ]
  },
  {
   "cell_type": "code",
   "execution_count": 12,
   "id": "12a3f6c3",
   "metadata": {},
   "outputs": [],
   "source": [
    "#Write Code Here"
   ]
  },
  {
   "cell_type": "markdown",
   "id": "a56b1b55",
   "metadata": {},
   "source": [
    "**Data Analysis and Visualization**\n",
    "\n",
    "Wordcloud: Most used words (have bigger fonts), for no hate and hate comments. [Reference](https://amueller.github.io/word_cloud/)."
   ]
  },
  {
   "cell_type": "code",
   "execution_count": 13,
   "id": "683b57b5",
   "metadata": {},
   "outputs": [],
   "source": [
    "#wordcloud generation for all comments\n",
    "#wordcloud for no hate comments\n",
    "#wordcloud for hate comments\n",
    "\n",
    "#Write Code Here"
   ]
  },
  {
   "cell_type": "markdown",
   "id": "fecc5380",
   "metadata": {},
   "source": [
    "# Feature Extraction\n",
    "\n",
    "**Extracting Features from Text**\n",
    "\n",
    "1. **Bag Of Words Features:** creates a matrix of the unique tokens (in all documents in a corpus) and their respective frequencies. This will not see the context of the words, merely the presence of the word. [Reference](https://machinelearningmastery.com/gentle-introduction-bag-words-model/)\n",
    "\n",
    "2. **TF-IDF Features:** like BOW, but gives more weight to rare words. That is, words that occur frequently in only a few tweets are given more importance than words that occur in all tweets. [Reference](https://medium.com/acing-ai/what-is-tf-idf-in-feature-engineering-7f1ba81982bd)\n",
    "\n",
    "3. **Word Embeddings (Word2Vec):** these are representations of texts that preserve the semantics (in a way). Here, words with similar meaning will be mapped to a similar representation. Word2Vec gives a numerical representation of a word,that preserve the relationship between words (such as synonyms or antonyms). [Reference](https://towardsdatascience.com/introduction-to-word-embedding-and-word2vec-652d0c2060fa)"
   ]
  },
  {
   "cell_type": "markdown",
   "id": "784c1895",
   "metadata": {},
   "source": [
    "**Bag of word features**"
   ]
  },
  {
   "cell_type": "code",
   "execution_count": 14,
   "id": "abace354",
   "metadata": {},
   "outputs": [],
   "source": [
    "from sklearn.feature_extraction.text import CountVectorizer\n",
    "#Write Code Here"
   ]
  },
  {
   "cell_type": "markdown",
   "id": "2a47abc1",
   "metadata": {},
   "source": [
    "**TF-IDF Features**"
   ]
  },
  {
   "cell_type": "code",
   "execution_count": 15,
   "id": "e48abae9",
   "metadata": {},
   "outputs": [],
   "source": [
    "from sklearn.feature_extraction.text import TfidfVectorizer\n",
    "#Write Code Here"
   ]
  },
  {
   "cell_type": "markdown",
   "id": "8fb0c46c",
   "metadata": {},
   "source": [
    "**Word2Vec Embeddings**"
   ]
  },
  {
   "cell_type": "code",
   "execution_count": 16,
   "id": "b831649f",
   "metadata": {},
   "outputs": [],
   "source": [
    "#Write Code Here"
   ]
  },
  {
   "cell_type": "markdown",
   "id": "3b38f115",
   "metadata": {},
   "source": [
    "# Building the Model\n",
    "\n",
    "Each of the three feature extraction methods would provide a different feature set.\n",
    "\n",
    "Build a Logistic Regression model to test the performance using the three different feature sets.\n"
   ]
  },
  {
   "cell_type": "code",
   "execution_count": 17,
   "id": "b7d1f8f4",
   "metadata": {},
   "outputs": [],
   "source": [
    "from sklearn.linear_model import LogisticRegression\n",
    "from sklearn.model_selection import train_test_split\n",
    "from sklearn.metrics import f1_score"
   ]
  },
  {
   "cell_type": "code",
   "execution_count": 18,
   "id": "bd8a4d97",
   "metadata": {},
   "outputs": [],
   "source": [
    "#Report the Results\n",
    "#Write Code Here"
   ]
  }
 ],
 "metadata": {
  "kernelspec": {
   "display_name": "Python 3 (ipykernel)",
   "language": "python",
   "name": "python3"
  },
  "language_info": {
   "codemirror_mode": {
    "name": "ipython",
    "version": 3
   },
   "file_extension": ".py",
   "mimetype": "text/x-python",
   "name": "python",
   "nbconvert_exporter": "python",
   "pygments_lexer": "ipython3",
   "version": "3.9.7"
  }
 },
 "nbformat": 4,
 "nbformat_minor": 5
}
